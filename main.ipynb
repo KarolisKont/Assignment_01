{
 "cells": [
  {
   "cell_type": "markdown",
   "metadata": {},
   "source": [
    "# Import/install libraries"
   ]
  },
  {
   "cell_type": "code",
   "execution_count": 1,
   "metadata": {},
   "outputs": [],
   "source": [
    "import os\n",
    "import pandas as pd\n",
    "import seaborn as sns\n",
    "import matplotlib.pyplot as plt"
   ]
  },
  {
   "cell_type": "code",
   "execution_count": 2,
   "metadata": {},
   "outputs": [],
   "source": [
    "pd.options.display.max_colwidth = 1000"
   ]
  },
  {
   "cell_type": "markdown",
   "metadata": {},
   "source": [
    "# Load data"
   ]
  },
  {
   "cell_type": "code",
   "execution_count": 3,
   "metadata": {},
   "outputs": [],
   "source": [
    "data_root = os.path.join(\"/workspace/academy/assignment1\", \"data\")"
   ]
  },
  {
   "cell_type": "code",
   "execution_count": 4,
   "metadata": {},
   "outputs": [],
   "source": [
    "df_train = pd.read_parquet(os.path.join(data_root, \"train.parquet\"))"
   ]
  },
  {
   "cell_type": "code",
   "execution_count": 5,
   "metadata": {},
   "outputs": [],
   "source": [
    "df_test = pd.read_parquet(os.path.join(data_root, \"test.parquet\"))"
   ]
  },
  {
   "cell_type": "code",
   "execution_count": 6,
   "metadata": {},
   "outputs": [],
   "source": [
    "df_example = pd.read_parquet(os.path.join(data_root, \"example_predictions.parquet\"))"
   ]
  },
  {
   "cell_type": "markdown",
   "metadata": {},
   "source": [
    "# EDA"
   ]
  },
  {
   "cell_type": "markdown",
   "metadata": {},
   "source": [
    "## Looking at loaded data"
   ]
  },
  {
   "cell_type": "code",
   "execution_count": 7,
   "metadata": {},
   "outputs": [],
   "source": [
    "pd.options.display.max_colwidth = 1000"
   ]
  },
  {
   "cell_type": "code",
   "execution_count": 8,
   "metadata": {},
   "outputs": [
    {
     "data": {
      "text/plain": [
       "(3861, 8)"
      ]
     },
     "execution_count": 8,
     "metadata": {},
     "output_type": "execute_result"
    }
   ],
   "source": [
    "df_train.shape"
   ]
  },
  {
   "cell_type": "code",
   "execution_count": 9,
   "metadata": {},
   "outputs": [
    {
     "data": {
      "text/plain": [
       "(946, 4)"
      ]
     },
     "execution_count": 9,
     "metadata": {},
     "output_type": "execute_result"
    }
   ],
   "source": [
    "df_test.shape"
   ]
  },
  {
   "cell_type": "code",
   "execution_count": 10,
   "metadata": {},
   "outputs": [
    {
     "data": {
      "text/plain": [
       "(5, 8)"
      ]
     },
     "execution_count": 10,
     "metadata": {},
     "output_type": "execute_result"
    }
   ],
   "source": [
    "df_example.shape"
   ]
  },
  {
   "cell_type": "code",
   "execution_count": 11,
   "metadata": {},
   "outputs": [
    {
     "data": {
      "text/html": [
       "<div>\n",
       "<style scoped>\n",
       "    .dataframe tbody tr th:only-of-type {\n",
       "        vertical-align: middle;\n",
       "    }\n",
       "\n",
       "    .dataframe tbody tr th {\n",
       "        vertical-align: top;\n",
       "    }\n",
       "\n",
       "    .dataframe thead th {\n",
       "        text-align: right;\n",
       "    }\n",
       "</style>\n",
       "<table border=\"1\" class=\"dataframe\">\n",
       "  <thead>\n",
       "    <tr style=\"text-align: right;\">\n",
       "      <th></th>\n",
       "      <th>uuid</th>\n",
       "      <th>description</th>\n",
       "      <th>color</th>\n",
       "      <th>price</th>\n",
       "      <th>cc3</th>\n",
       "      <th>sparkling</th>\n",
       "      <th>floral</th>\n",
       "      <th>striped</th>\n",
       "    </tr>\n",
       "  </thead>\n",
       "  <tbody>\n",
       "    <tr>\n",
       "      <th>0</th>\n",
       "      <td>00_06db4_f7PKCScjE7iz9RccgKoYU8BG</td>\n",
       "      <td>beautiful summer dress by zara only worn once.\\n\\n#zara #zarawoman #zaradress #summerdress #dress</td>\n",
       "      <td>VARIOUS</td>\n",
       "      <td>8.40</td>\n",
       "      <td>DRESSES</td>\n",
       "      <td>False</td>\n",
       "      <td>True</td>\n",
       "      <td>False</td>\n",
       "    </tr>\n",
       "    <tr>\n",
       "      <th>1</th>\n",
       "      <td>00_074fe_d1wi5P39YxXsM3aYJWdToH2p</td>\n",
       "      <td>Maroon denim colored high rise jean shorts from Charlotte Russe size 2. Fits sizes 25-26 and goes up to right under belly button on a 5”7 tall person. Shorts are in good condition but there is slight wear as pictured in the back</td>\n",
       "      <td>BROWN</td>\n",
       "      <td>3.80</td>\n",
       "      <td>SHORTS_CAPRIS</td>\n",
       "      <td>False</td>\n",
       "      <td>False</td>\n",
       "      <td>False</td>\n",
       "    </tr>\n",
       "    <tr>\n",
       "      <th>2</th>\n",
       "      <td>0746f_viq17Xw4gBvYbmB1qKD5z6Z8</td>\n",
       "      <td>brand-new without tags x</td>\n",
       "      <td>VARIOUS</td>\n",
       "      <td>7.20</td>\n",
       "      <td>SHORTS_CAPRIS</td>\n",
       "      <td>False</td>\n",
       "      <td>True</td>\n",
       "      <td>False</td>\n",
       "    </tr>\n",
       "    <tr>\n",
       "      <th>3</th>\n",
       "      <td>00_069a4_PN8t6dcbp8PopRPnsBTp2MWv</td>\n",
       "      <td>Vasariška trumpa lengva medvilninė suknytė, be defektų.\\nIlgis 83cm, plotis tarp pažastų 37cm.\\n#terranova #suknele #geleta</td>\n",
       "      <td>VARIOUS</td>\n",
       "      <td>2.00</td>\n",
       "      <td>DRESSES</td>\n",
       "      <td>False</td>\n",
       "      <td>True</td>\n",
       "      <td>False</td>\n",
       "    </tr>\n",
       "    <tr>\n",
       "      <th>4</th>\n",
       "      <td>00_05337_c3Lr3d3VjSyg6SXZALzZXkpd</td>\n",
       "      <td>size small, worn; distressed look. one has a pain stain, see pics \\nWILL THROW IN FREE W ANY BUNDLE IF ASKED \\n#jsfcloset</td>\n",
       "      <td>RED</td>\n",
       "      <td>0.76</td>\n",
       "      <td>SHORTS_CAPRIS</td>\n",
       "      <td>False</td>\n",
       "      <td>False</td>\n",
       "      <td>False</td>\n",
       "    </tr>\n",
       "  </tbody>\n",
       "</table>\n",
       "</div>"
      ],
      "text/plain": [
       "                                uuid  \\\n",
       "0  00_06db4_f7PKCScjE7iz9RccgKoYU8BG   \n",
       "1  00_074fe_d1wi5P39YxXsM3aYJWdToH2p   \n",
       "2     0746f_viq17Xw4gBvYbmB1qKD5z6Z8   \n",
       "3  00_069a4_PN8t6dcbp8PopRPnsBTp2MWv   \n",
       "4  00_05337_c3Lr3d3VjSyg6SXZALzZXkpd   \n",
       "\n",
       "                                                                                                                                                                                                                            description  \\\n",
       "0                                                                                                                                    beautiful summer dress by zara only worn once.\\n\\n#zara #zarawoman #zaradress #summerdress #dress    \n",
       "1  Maroon denim colored high rise jean shorts from Charlotte Russe size 2. Fits sizes 25-26 and goes up to right under belly button on a 5”7 tall person. Shorts are in good condition but there is slight wear as pictured in the back   \n",
       "2                                                                                                                                                                                                              brand-new without tags x   \n",
       "3                                                                                                          Vasariška trumpa lengva medvilninė suknytė, be defektų.\\nIlgis 83cm, plotis tarp pažastų 37cm.\\n#terranova #suknele #geleta    \n",
       "4                                                                                                            size small, worn; distressed look. one has a pain stain, see pics \\nWILL THROW IN FREE W ANY BUNDLE IF ASKED \\n#jsfcloset    \n",
       "\n",
       "     color  price            cc3  sparkling  floral  striped  \n",
       "0  VARIOUS   8.40        DRESSES      False    True    False  \n",
       "1    BROWN   3.80  SHORTS_CAPRIS      False   False    False  \n",
       "2  VARIOUS   7.20  SHORTS_CAPRIS      False    True    False  \n",
       "3  VARIOUS   2.00        DRESSES      False    True    False  \n",
       "4      RED   0.76  SHORTS_CAPRIS      False   False    False  "
      ]
     },
     "execution_count": 11,
     "metadata": {},
     "output_type": "execute_result"
    }
   ],
   "source": [
    "df_train.head()"
   ]
  },
  {
   "cell_type": "code",
   "execution_count": 12,
   "metadata": {},
   "outputs": [
    {
     "data": {
      "text/html": [
       "<div>\n",
       "<style scoped>\n",
       "    .dataframe tbody tr th:only-of-type {\n",
       "        vertical-align: middle;\n",
       "    }\n",
       "\n",
       "    .dataframe tbody tr th {\n",
       "        vertical-align: top;\n",
       "    }\n",
       "\n",
       "    .dataframe thead th {\n",
       "        text-align: right;\n",
       "    }\n",
       "</style>\n",
       "<table border=\"1\" class=\"dataframe\">\n",
       "  <thead>\n",
       "    <tr style=\"text-align: right;\">\n",
       "      <th></th>\n",
       "      <th>uuid</th>\n",
       "      <th>description</th>\n",
       "      <th>color</th>\n",
       "      <th>price</th>\n",
       "    </tr>\n",
       "  </thead>\n",
       "  <tbody>\n",
       "    <tr>\n",
       "      <th>0</th>\n",
       "      <td>00_04fec_bcBubyJW2q8o6JPFntUn4Q9W</td>\n",
       "      <td>In great condition! No holes, stains or pilling.  \\n\\nSize 26.  \\n\\nStyle is Skinny Toothpick.  \\n\\nMade of 99% cotton, 1% spandex.  \\n\\nSmoke free home.  All sales are final.\\n\\n#jcrew\\n#corduroy\\n#skinnyjeans</td>\n",
       "      <td>GREY</td>\n",
       "      <td>11.400</td>\n",
       "    </tr>\n",
       "    <tr>\n",
       "      <th>1</th>\n",
       "      <td>00_050a7_o9o8NLTcXJ7Hqs2t31xEGoG4</td>\n",
       "      <td>šiek tiek praires užtrauktukas ,reiktų šiek tiek\\nsuimt su siūlu . ne auksteniai nei 170cm \\nPrašau neprašykite išmatavimų nuo pažasties iki klyno ir pan. Visi dydžiai yra standartiniai ,jei neparašyta kitaip. Nemainau.</td>\n",
       "      <td>WHITE</td>\n",
       "      <td>5.000</td>\n",
       "    </tr>\n",
       "    <tr>\n",
       "      <th>2</th>\n",
       "      <td>00_060f0_zLp2b8moCnfWX614ZAu8HfsS</td>\n",
       "      <td>This square neckline dress is so beautiful! It’s sheer and  printed. It’s a pretty turquoise blue color. The back ties. It’s asymmetrical and ruched at one side. The brand is Cabi. Size small.</td>\n",
       "      <td>BLUE</td>\n",
       "      <td>26.600</td>\n",
       "    </tr>\n",
       "    <tr>\n",
       "      <th>3</th>\n",
       "      <td>00_05d49_74iqVSd8yami4Szoy5tBjkGF</td>\n",
       "      <td>Maxi sukně ze zajímavého materiálu, tak trošku mění barvu na světle. Vysoký pas. Super objem, skoro princeznovská:)\\n\\n#dlouhasukne #maxisukne #sukne #zajímavý #zajímavá #zajimavabarva #material #lesklý  #lesklá #extravagantni</td>\n",
       "      <td>PINK</td>\n",
       "      <td>4.668</td>\n",
       "    </tr>\n",
       "    <tr>\n",
       "      <th>4</th>\n",
       "      <td>00_06301_twfaovSeAmiJoFPWgAE9b99G</td>\n",
       "      <td>Labai graži suknelė, yra maža dėmelė,kuri tikrak išsiplaus</td>\n",
       "      <td>BLACK</td>\n",
       "      <td>5.000</td>\n",
       "    </tr>\n",
       "  </tbody>\n",
       "</table>\n",
       "</div>"
      ],
      "text/plain": [
       "                                uuid  \\\n",
       "0  00_04fec_bcBubyJW2q8o6JPFntUn4Q9W   \n",
       "1  00_050a7_o9o8NLTcXJ7Hqs2t31xEGoG4   \n",
       "2  00_060f0_zLp2b8moCnfWX614ZAu8HfsS   \n",
       "3  00_05d49_74iqVSd8yami4Szoy5tBjkGF   \n",
       "4  00_06301_twfaovSeAmiJoFPWgAE9b99G   \n",
       "\n",
       "                                                                                                                                                                                                                           description  \\\n",
       "0                   In great condition! No holes, stains or pilling.  \\n\\nSize 26.  \\n\\nStyle is Skinny Toothpick.  \\n\\nMade of 99% cotton, 1% spandex.  \\n\\nSmoke free home.  All sales are final.\\n\\n#jcrew\\n#corduroy\\n#skinnyjeans   \n",
       "1         šiek tiek praires užtrauktukas ,reiktų šiek tiek\\nsuimt su siūlu . ne auksteniai nei 170cm \\nPrašau neprašykite išmatavimų nuo pažasties iki klyno ir pan. Visi dydžiai yra standartiniai ,jei neparašyta kitaip. Nemainau.    \n",
       "2                                    This square neckline dress is so beautiful! It’s sheer and  printed. It’s a pretty turquoise blue color. The back ties. It’s asymmetrical and ruched at one side. The brand is Cabi. Size small.    \n",
       "3  Maxi sukně ze zajímavého materiálu, tak trošku mění barvu na světle. Vysoký pas. Super objem, skoro princeznovská:)\\n\\n#dlouhasukne #maxisukne #sukne #zajímavý #zajímavá #zajimavabarva #material #lesklý  #lesklá #extravagantni    \n",
       "4                                                                                                                                                                           Labai graži suknelė, yra maža dėmelė,kuri tikrak išsiplaus   \n",
       "\n",
       "   color   price  \n",
       "0   GREY  11.400  \n",
       "1  WHITE   5.000  \n",
       "2   BLUE  26.600  \n",
       "3   PINK   4.668  \n",
       "4  BLACK   5.000  "
      ]
     },
     "execution_count": 12,
     "metadata": {},
     "output_type": "execute_result"
    }
   ],
   "source": [
    "df_test.head()"
   ]
  },
  {
   "cell_type": "code",
   "execution_count": 13,
   "metadata": {},
   "outputs": [
    {
     "data": {
      "text/html": [
       "<div>\n",
       "<style scoped>\n",
       "    .dataframe tbody tr th:only-of-type {\n",
       "        vertical-align: middle;\n",
       "    }\n",
       "\n",
       "    .dataframe tbody tr th {\n",
       "        vertical-align: top;\n",
       "    }\n",
       "\n",
       "    .dataframe thead th {\n",
       "        text-align: right;\n",
       "    }\n",
       "</style>\n",
       "<table border=\"1\" class=\"dataframe\">\n",
       "  <thead>\n",
       "    <tr style=\"text-align: right;\">\n",
       "      <th></th>\n",
       "      <th>uuid</th>\n",
       "      <th>description</th>\n",
       "      <th>color</th>\n",
       "      <th>price</th>\n",
       "      <th>cc3</th>\n",
       "      <th>sparkling</th>\n",
       "      <th>floral</th>\n",
       "      <th>striped</th>\n",
       "    </tr>\n",
       "  </thead>\n",
       "  <tbody>\n",
       "    <tr>\n",
       "      <th>0</th>\n",
       "      <td>00_06db4_f7PKCScjE7iz9RccgKoYU8BG</td>\n",
       "      <td>beautiful summer dress by zara only worn once.\\n\\n#zara #zarawoman #zaradress #summerdress #dress</td>\n",
       "      <td>VARIOUS</td>\n",
       "      <td>8.40</td>\n",
       "      <td>DRESSES</td>\n",
       "      <td>False</td>\n",
       "      <td>True</td>\n",
       "      <td>False</td>\n",
       "    </tr>\n",
       "    <tr>\n",
       "      <th>1</th>\n",
       "      <td>00_074fe_d1wi5P39YxXsM3aYJWdToH2p</td>\n",
       "      <td>Maroon denim colored high rise jean shorts from Charlotte Russe size 2. Fits sizes 25-26 and goes up to right under belly button on a 5”7 tall person. Shorts are in good condition but there is slight wear as pictured in the back</td>\n",
       "      <td>BROWN</td>\n",
       "      <td>3.80</td>\n",
       "      <td>SHORTS_CAPRIS</td>\n",
       "      <td>False</td>\n",
       "      <td>False</td>\n",
       "      <td>False</td>\n",
       "    </tr>\n",
       "    <tr>\n",
       "      <th>2</th>\n",
       "      <td>0746f_viq17Xw4gBvYbmB1qKD5z6Z8</td>\n",
       "      <td>brand-new without tags x</td>\n",
       "      <td>VARIOUS</td>\n",
       "      <td>7.20</td>\n",
       "      <td>SHORTS_CAPRIS</td>\n",
       "      <td>False</td>\n",
       "      <td>True</td>\n",
       "      <td>False</td>\n",
       "    </tr>\n",
       "    <tr>\n",
       "      <th>3</th>\n",
       "      <td>00_069a4_PN8t6dcbp8PopRPnsBTp2MWv</td>\n",
       "      <td>Vasariška trumpa lengva medvilninė suknytė, be defektų.\\nIlgis 83cm, plotis tarp pažastų 37cm.\\n#terranova #suknele #geleta</td>\n",
       "      <td>VARIOUS</td>\n",
       "      <td>2.00</td>\n",
       "      <td>DRESSES</td>\n",
       "      <td>False</td>\n",
       "      <td>True</td>\n",
       "      <td>False</td>\n",
       "    </tr>\n",
       "    <tr>\n",
       "      <th>4</th>\n",
       "      <td>00_05337_c3Lr3d3VjSyg6SXZALzZXkpd</td>\n",
       "      <td>size small, worn; distressed look. one has a pain stain, see pics \\nWILL THROW IN FREE W ANY BUNDLE IF ASKED \\n#jsfcloset</td>\n",
       "      <td>RED</td>\n",
       "      <td>0.76</td>\n",
       "      <td>SHORTS_CAPRIS</td>\n",
       "      <td>False</td>\n",
       "      <td>False</td>\n",
       "      <td>False</td>\n",
       "    </tr>\n",
       "  </tbody>\n",
       "</table>\n",
       "</div>"
      ],
      "text/plain": [
       "                                uuid  \\\n",
       "0  00_06db4_f7PKCScjE7iz9RccgKoYU8BG   \n",
       "1  00_074fe_d1wi5P39YxXsM3aYJWdToH2p   \n",
       "2     0746f_viq17Xw4gBvYbmB1qKD5z6Z8   \n",
       "3  00_069a4_PN8t6dcbp8PopRPnsBTp2MWv   \n",
       "4  00_05337_c3Lr3d3VjSyg6SXZALzZXkpd   \n",
       "\n",
       "                                                                                                                                                                                                                            description  \\\n",
       "0                                                                                                                                    beautiful summer dress by zara only worn once.\\n\\n#zara #zarawoman #zaradress #summerdress #dress    \n",
       "1  Maroon denim colored high rise jean shorts from Charlotte Russe size 2. Fits sizes 25-26 and goes up to right under belly button on a 5”7 tall person. Shorts are in good condition but there is slight wear as pictured in the back   \n",
       "2                                                                                                                                                                                                              brand-new without tags x   \n",
       "3                                                                                                          Vasariška trumpa lengva medvilninė suknytė, be defektų.\\nIlgis 83cm, plotis tarp pažastų 37cm.\\n#terranova #suknele #geleta    \n",
       "4                                                                                                            size small, worn; distressed look. one has a pain stain, see pics \\nWILL THROW IN FREE W ANY BUNDLE IF ASKED \\n#jsfcloset    \n",
       "\n",
       "     color  price            cc3  sparkling  floral  striped  \n",
       "0  VARIOUS   8.40        DRESSES      False    True    False  \n",
       "1    BROWN   3.80  SHORTS_CAPRIS      False   False    False  \n",
       "2  VARIOUS   7.20  SHORTS_CAPRIS      False    True    False  \n",
       "3  VARIOUS   2.00        DRESSES      False    True    False  \n",
       "4      RED   0.76  SHORTS_CAPRIS      False   False    False  "
      ]
     },
     "execution_count": 13,
     "metadata": {},
     "output_type": "execute_result"
    }
   ],
   "source": [
    "df_example.head()"
   ]
  },
  {
   "cell_type": "markdown",
   "metadata": {},
   "source": [
    "## Training df"
   ]
  },
  {
   "cell_type": "markdown",
   "metadata": {},
   "source": [
    "### All df in general"
   ]
  },
  {
   "cell_type": "markdown",
   "metadata": {},
   "source": [
    "#### Duplicate rows"
   ]
  },
  {
   "cell_type": "code",
   "execution_count": 14,
   "metadata": {},
   "outputs": [
    {
     "data": {
      "text/plain": [
       "66"
      ]
     },
     "execution_count": 14,
     "metadata": {},
     "output_type": "execute_result"
    }
   ],
   "source": [
    "df_train.duplicated().sum()"
   ]
  },
  {
   "cell_type": "code",
   "execution_count": 15,
   "metadata": {},
   "outputs": [
    {
     "data": {
      "text/html": [
       "<div>\n",
       "<style scoped>\n",
       "    .dataframe tbody tr th:only-of-type {\n",
       "        vertical-align: middle;\n",
       "    }\n",
       "\n",
       "    .dataframe tbody tr th {\n",
       "        vertical-align: top;\n",
       "    }\n",
       "\n",
       "    .dataframe thead th {\n",
       "        text-align: right;\n",
       "    }\n",
       "</style>\n",
       "<table border=\"1\" class=\"dataframe\">\n",
       "  <thead>\n",
       "    <tr style=\"text-align: right;\">\n",
       "      <th></th>\n",
       "      <th>description</th>\n",
       "      <th>color</th>\n",
       "      <th>price</th>\n",
       "      <th>cc3</th>\n",
       "      <th>sparkling</th>\n",
       "      <th>floral</th>\n",
       "      <th>striped</th>\n",
       "    </tr>\n",
       "    <tr>\n",
       "      <th>uuid</th>\n",
       "      <th></th>\n",
       "      <th></th>\n",
       "      <th></th>\n",
       "      <th></th>\n",
       "      <th></th>\n",
       "      <th></th>\n",
       "      <th></th>\n",
       "    </tr>\n",
       "  </thead>\n",
       "  <tbody>\n",
       "    <tr>\n",
       "      <th>00_04e32_uA8Gveq8Cr43y9A8p6FNWjeR</th>\n",
       "      <td>&gt;&gt; až 15% sleva na sety &lt;&lt;\\n\\nProužkované lesklé šatky s háčkovaným horním okrajem a ramínky, mají spodničku, dobře vypadají s nějakým páskem. Materiál 95% viskoza, 5% kovová vlákna, podšívka polyester.\\nVelikost S odpovídá. Délka 114 cm.\\n\\n&gt;&gt; více info v profilu &lt;&lt;\\n\\n#boho #hippie #mididress # #shimmer #crochet #mustard #spring #summer #autumn #viscose #zara</td>\n",
       "      <td>RED</td>\n",
       "      <td>11.6700</td>\n",
       "      <td>DRESSES</td>\n",
       "      <td>True</td>\n",
       "      <td>False</td>\n",
       "      <td>True</td>\n",
       "    </tr>\n",
       "    <tr>\n",
       "      <th>00_04e32_uA8Gveq8Cr43y9A8p6FNWjeR</th>\n",
       "      <td>&gt;&gt; až 15% sleva na sety &lt;&lt;\\n\\nProužkované lesklé šatky s háčkovaným horním okrajem a ramínky, mají spodničku, dobře vypadají s nějakým páskem. Materiál 95% viskoza, 5% kovová vlákna, podšívka polyester.\\nVelikost S odpovídá. Délka 114 cm.\\n\\n&gt;&gt; více info v profilu &lt;&lt;\\n\\n#boho #hippie #mididress # #shimmer #crochet #mustard #spring #summer #autumn #viscose #zara</td>\n",
       "      <td>RED</td>\n",
       "      <td>11.6700</td>\n",
       "      <td>DRESSES</td>\n",
       "      <td>True</td>\n",
       "      <td>False</td>\n",
       "      <td>True</td>\n",
       "    </tr>\n",
       "    <tr>\n",
       "      <th>00_04ef6_pn2b1ydpsrw2TQLriG1uLm5q</th>\n",
       "      <td>nové:) Da se použit i jako Tunika :) \\n</td>\n",
       "      <td>BLUE</td>\n",
       "      <td>15.5211</td>\n",
       "      <td>DRESSES</td>\n",
       "      <td>False</td>\n",
       "      <td>False</td>\n",
       "      <td>True</td>\n",
       "    </tr>\n",
       "    <tr>\n",
       "      <th>00_04ef6_pn2b1ydpsrw2TQLriG1uLm5q</th>\n",
       "      <td>nové:) Da se použit i jako Tunika :) \\n</td>\n",
       "      <td>BLUE</td>\n",
       "      <td>15.5211</td>\n",
       "      <td>DRESSES</td>\n",
       "      <td>False</td>\n",
       "      <td>False</td>\n",
       "      <td>True</td>\n",
       "    </tr>\n",
       "  </tbody>\n",
       "</table>\n",
       "</div>"
      ],
      "text/plain": [
       "                                                                                                                                                                                                                                                                                                                                                                                                   description  \\\n",
       "uuid                                                                                                                                                                                                                                                                                                                                                                                                             \n",
       "00_04e32_uA8Gveq8Cr43y9A8p6FNWjeR  >> až 15% sleva na sety <<\\n\\nProužkované lesklé šatky s háčkovaným horním okrajem a ramínky, mají spodničku, dobře vypadají s nějakým páskem. Materiál 95% viskoza, 5% kovová vlákna, podšívka polyester.\\nVelikost S odpovídá. Délka 114 cm.\\n\\n>> více info v profilu <<\\n\\n#boho #hippie #mididress # #shimmer #crochet #mustard #spring #summer #autumn #viscose #zara   \n",
       "00_04e32_uA8Gveq8Cr43y9A8p6FNWjeR  >> až 15% sleva na sety <<\\n\\nProužkované lesklé šatky s háčkovaným horním okrajem a ramínky, mají spodničku, dobře vypadají s nějakým páskem. Materiál 95% viskoza, 5% kovová vlákna, podšívka polyester.\\nVelikost S odpovídá. Délka 114 cm.\\n\\n>> více info v profilu <<\\n\\n#boho #hippie #mididress # #shimmer #crochet #mustard #spring #summer #autumn #viscose #zara   \n",
       "00_04ef6_pn2b1ydpsrw2TQLriG1uLm5q                                                                                                                                                                                                                                                                                                                                      nové:) Da se použit i jako Tunika :) \\n   \n",
       "00_04ef6_pn2b1ydpsrw2TQLriG1uLm5q                                                                                                                                                                                                                                                                                                                                      nové:) Da se použit i jako Tunika :) \\n   \n",
       "\n",
       "                                  color    price      cc3  sparkling  floral  \\\n",
       "uuid                                                                           \n",
       "00_04e32_uA8Gveq8Cr43y9A8p6FNWjeR   RED  11.6700  DRESSES       True   False   \n",
       "00_04e32_uA8Gveq8Cr43y9A8p6FNWjeR   RED  11.6700  DRESSES       True   False   \n",
       "00_04ef6_pn2b1ydpsrw2TQLriG1uLm5q  BLUE  15.5211  DRESSES      False   False   \n",
       "00_04ef6_pn2b1ydpsrw2TQLriG1uLm5q  BLUE  15.5211  DRESSES      False   False   \n",
       "\n",
       "                                   striped  \n",
       "uuid                                        \n",
       "00_04e32_uA8Gveq8Cr43y9A8p6FNWjeR     True  \n",
       "00_04e32_uA8Gveq8Cr43y9A8p6FNWjeR     True  \n",
       "00_04ef6_pn2b1ydpsrw2TQLriG1uLm5q     True  \n",
       "00_04ef6_pn2b1ydpsrw2TQLriG1uLm5q     True  "
      ]
     },
     "execution_count": 15,
     "metadata": {},
     "output_type": "execute_result"
    }
   ],
   "source": [
    "df_train[df_train.duplicated(keep=False).values].set_index(\"uuid\").sort_index().head(4)"
   ]
  },
  {
   "cell_type": "markdown",
   "metadata": {},
   "source": [
    "#### Delete dublication"
   ]
  },
  {
   "cell_type": "code",
   "execution_count": 16,
   "metadata": {},
   "outputs": [],
   "source": [
    "df_train = df_train[~df_train.duplicated()]"
   ]
  },
  {
   "cell_type": "markdown",
   "metadata": {},
   "source": [
    "#### Info"
   ]
  },
  {
   "cell_type": "code",
   "execution_count": 17,
   "metadata": {},
   "outputs": [
    {
     "name": "stdout",
     "output_type": "stream",
     "text": [
      "<class 'pandas.core.frame.DataFrame'>\n",
      "Int64Index: 3795 entries, 0 to 3277\n",
      "Data columns (total 8 columns):\n",
      " #   Column       Non-Null Count  Dtype  \n",
      "---  ------       --------------  -----  \n",
      " 0   uuid         3795 non-null   object \n",
      " 1   description  3795 non-null   object \n",
      " 2   color        3795 non-null   object \n",
      " 3   price        3795 non-null   float64\n",
      " 4   cc3          3422 non-null   object \n",
      " 5   sparkling    3795 non-null   bool   \n",
      " 6   floral       3795 non-null   bool   \n",
      " 7   striped      3795 non-null   bool   \n",
      "dtypes: bool(3), float64(1), object(4)\n",
      "memory usage: 189.0+ KB\n"
     ]
    }
   ],
   "source": [
    "df_train.info()"
   ]
  },
  {
   "cell_type": "code",
   "execution_count": 18,
   "metadata": {},
   "outputs": [
    {
     "data": {
      "text/plain": [
       "uuid             0\n",
       "description      0\n",
       "color            0\n",
       "price            0\n",
       "cc3            373\n",
       "sparkling        0\n",
       "floral           0\n",
       "striped          0\n",
       "dtype: int64"
      ]
     },
     "execution_count": 18,
     "metadata": {},
     "output_type": "execute_result"
    }
   ],
   "source": [
    "df_train.isna().sum()"
   ]
  },
  {
   "cell_type": "markdown",
   "metadata": {},
   "source": [
    "### Column \"uuid\""
   ]
  },
  {
   "cell_type": "markdown",
   "metadata": {},
   "source": [
    "#### This colum should be unique in all data column"
   ]
  },
  {
   "cell_type": "code",
   "execution_count": 19,
   "metadata": {},
   "outputs": [
    {
     "data": {
      "text/plain": [
       "10"
      ]
     },
     "execution_count": 19,
     "metadata": {},
     "output_type": "execute_result"
    }
   ],
   "source": [
    "df_train[\"uuid\"].value_counts().ge(2).sum()"
   ]
  },
  {
   "cell_type": "markdown",
   "metadata": {},
   "source": [
    "#### Have 10 dublicated rows, lets look how they look, becouse they weren't deleted as full row dublicates"
   ]
  },
  {
   "cell_type": "code",
   "execution_count": 20,
   "metadata": {},
   "outputs": [
    {
     "data": {
      "text/html": [
       "<div>\n",
       "<style scoped>\n",
       "    .dataframe tbody tr th:only-of-type {\n",
       "        vertical-align: middle;\n",
       "    }\n",
       "\n",
       "    .dataframe tbody tr th {\n",
       "        vertical-align: top;\n",
       "    }\n",
       "\n",
       "    .dataframe thead th {\n",
       "        text-align: right;\n",
       "    }\n",
       "</style>\n",
       "<table border=\"1\" class=\"dataframe\">\n",
       "  <thead>\n",
       "    <tr style=\"text-align: right;\">\n",
       "      <th></th>\n",
       "      <th>uuid</th>\n",
       "      <th>description</th>\n",
       "      <th>color</th>\n",
       "      <th>price</th>\n",
       "      <th>cc3</th>\n",
       "      <th>sparkling</th>\n",
       "      <th>floral</th>\n",
       "      <th>striped</th>\n",
       "    </tr>\n",
       "  </thead>\n",
       "  <tbody>\n",
       "    <tr>\n",
       "      <th>3007</th>\n",
       "      <td>00_04eaf_TVbYdLiveQeR7NruNvDBNF2Z</td>\n",
       "      <td>prsa 38cm, délka 55cm, pružný</td>\n",
       "      <td>BROWN</td>\n",
       "      <td>3.89</td>\n",
       "      <td>None</td>\n",
       "      <td>False</td>\n",
       "      <td>False</td>\n",
       "      <td>True</td>\n",
       "    </tr>\n",
       "    <tr>\n",
       "      <th>3007</th>\n",
       "      <td>00_04eaf_TVbYdLiveQeR7NruNvDBNF2Z</td>\n",
       "      <td>prsa 38cm, délka 55cm, pružný</td>\n",
       "      <td>BROWN</td>\n",
       "      <td>3.89</td>\n",
       "      <td>PULLOVERS_SWEATERS</td>\n",
       "      <td>False</td>\n",
       "      <td>False</td>\n",
       "      <td>True</td>\n",
       "    </tr>\n",
       "    <tr>\n",
       "      <th>1222</th>\n",
       "      <td>00_05414_gxmt8KnGmNoc2ngfV8goMSwf</td>\n",
       "      <td>-  only worn a few times\\n- destress at leg holes \\n- some distress rips\\nAny questions? Just contact me!</td>\n",
       "      <td>LIGHT-BLUE</td>\n",
       "      <td>5.32</td>\n",
       "      <td>SHORTS_CAPRIS</td>\n",
       "      <td>False</td>\n",
       "      <td>False</td>\n",
       "      <td>False</td>\n",
       "    </tr>\n",
       "    <tr>\n",
       "      <th>1222</th>\n",
       "      <td>00_05414_gxmt8KnGmNoc2ngfV8goMSwf</td>\n",
       "      <td>-  only worn a few times\\n- destress at leg holes \\n- some distress rips\\nAny questions? Just contact me!</td>\n",
       "      <td>LIGHT-BLUE</td>\n",
       "      <td>5.32</td>\n",
       "      <td>None</td>\n",
       "      <td>False</td>\n",
       "      <td>False</td>\n",
       "      <td>False</td>\n",
       "    </tr>\n",
       "    <tr>\n",
       "      <th>3277</th>\n",
       "      <td>00_0544f_pzMGTc8daECPZinQkkB1EP6w</td>\n",
       "      <td>Never worn,  A-line tie waist dress. Tags not attached.</td>\n",
       "      <td>BODY</td>\n",
       "      <td>7.60</td>\n",
       "      <td>None</td>\n",
       "      <td>False</td>\n",
       "      <td>True</td>\n",
       "      <td>False</td>\n",
       "    </tr>\n",
       "    <tr>\n",
       "      <th>3277</th>\n",
       "      <td>00_0544f_pzMGTc8daECPZinQkkB1EP6w</td>\n",
       "      <td>Never worn,  A-line tie waist dress. Tags not attached.</td>\n",
       "      <td>BODY</td>\n",
       "      <td>7.60</td>\n",
       "      <td>DRESSES</td>\n",
       "      <td>False</td>\n",
       "      <td>True</td>\n",
       "      <td>False</td>\n",
       "    </tr>\n",
       "    <tr>\n",
       "      <th>1719</th>\n",
       "      <td>00_05b4e_usebeyzYnoyRwH4MbvarXGyd</td>\n",
       "      <td>Uzsideta viena karta per naujuju metu svente. Labai tampri medziaga rausva su blizgeliu.  Tarp pazastu laisvumo busenoje 100 cm ir tempiasi gal iki 140 cm,  ilgis nuo peties iki apacios 85 cm.  Medziagele persisviecia, bet maloni prie kuno.  Jei reikia galiu siusti per pastomata.</td>\n",
       "      <td>ROSE</td>\n",
       "      <td>8.00</td>\n",
       "      <td>None</td>\n",
       "      <td>True</td>\n",
       "      <td>False</td>\n",
       "      <td>False</td>\n",
       "    </tr>\n",
       "    <tr>\n",
       "      <th>1719</th>\n",
       "      <td>00_05b4e_usebeyzYnoyRwH4MbvarXGyd</td>\n",
       "      <td>Uzsideta viena karta per naujuju metu svente. Labai tampri medziaga rausva su blizgeliu.  Tarp pazastu laisvumo busenoje 100 cm ir tempiasi gal iki 140 cm,  ilgis nuo peties iki apacios 85 cm.  Medziagele persisviecia, bet maloni prie kuno.  Jei reikia galiu siusti per pastomata.</td>\n",
       "      <td>ROSE</td>\n",
       "      <td>8.00</td>\n",
       "      <td>DRESSES</td>\n",
       "      <td>True</td>\n",
       "      <td>False</td>\n",
       "      <td>False</td>\n",
       "    </tr>\n",
       "    <tr>\n",
       "      <th>3769</th>\n",
       "      <td>00_05cb8_CUufbE6EiSvET1F9aQq51Rbo</td>\n",
       "      <td>Great condition\\nSize medium\\nZippers on side</td>\n",
       "      <td>BLACK</td>\n",
       "      <td>11.40</td>\n",
       "      <td>None</td>\n",
       "      <td>False</td>\n",
       "      <td>False</td>\n",
       "      <td>True</td>\n",
       "    </tr>\n",
       "    <tr>\n",
       "      <th>3769</th>\n",
       "      <td>00_05cb8_CUufbE6EiSvET1F9aQq51Rbo</td>\n",
       "      <td>Great condition\\nSize medium\\nZippers on side</td>\n",
       "      <td>BLACK</td>\n",
       "      <td>11.40</td>\n",
       "      <td>DRESSES</td>\n",
       "      <td>False</td>\n",
       "      <td>False</td>\n",
       "      <td>True</td>\n",
       "    </tr>\n",
       "    <tr>\n",
       "      <th>1332</th>\n",
       "      <td>00_071e5_nEfwQcByNSYTN4QyimBVXUpE</td>\n",
       "      <td>mid rise\\nonly worn a few times</td>\n",
       "      <td>BLACK</td>\n",
       "      <td>4.20</td>\n",
       "      <td>None</td>\n",
       "      <td>False</td>\n",
       "      <td>False</td>\n",
       "      <td>True</td>\n",
       "    </tr>\n",
       "    <tr>\n",
       "      <th>1332</th>\n",
       "      <td>00_071e5_nEfwQcByNSYTN4QyimBVXUpE</td>\n",
       "      <td>mid rise\\nonly worn a few times</td>\n",
       "      <td>BLACK</td>\n",
       "      <td>4.20</td>\n",
       "      <td>TROUSERS</td>\n",
       "      <td>False</td>\n",
       "      <td>False</td>\n",
       "      <td>True</td>\n",
       "    </tr>\n",
       "    <tr>\n",
       "      <th>1567</th>\n",
       "      <td>00_07251_8KrrUcZ2x5Zb9m8jMXvh2XN7</td>\n",
       "      <td>Brand new</td>\n",
       "      <td>BROWN</td>\n",
       "      <td>7.20</td>\n",
       "      <td>None</td>\n",
       "      <td>False</td>\n",
       "      <td>True</td>\n",
       "      <td>False</td>\n",
       "    </tr>\n",
       "    <tr>\n",
       "      <th>1567</th>\n",
       "      <td>00_07251_8KrrUcZ2x5Zb9m8jMXvh2XN7</td>\n",
       "      <td>Brand new</td>\n",
       "      <td>BROWN</td>\n",
       "      <td>7.20</td>\n",
       "      <td>TROUSERS</td>\n",
       "      <td>False</td>\n",
       "      <td>True</td>\n",
       "      <td>False</td>\n",
       "    </tr>\n",
       "    <tr>\n",
       "      <th>3584</th>\n",
       "      <td>00_073b6_ZxMQavtiXC1H2mBNqsSXuWQ7</td>\n",
       "      <td>Size 16 Summer Dress\\nPink  \\ncrossover bodice\\nTU\\nBelow knee length</td>\n",
       "      <td>PINK</td>\n",
       "      <td>7.20</td>\n",
       "      <td>None</td>\n",
       "      <td>False</td>\n",
       "      <td>True</td>\n",
       "      <td>False</td>\n",
       "    </tr>\n",
       "    <tr>\n",
       "      <th>3584</th>\n",
       "      <td>00_073b6_ZxMQavtiXC1H2mBNqsSXuWQ7</td>\n",
       "      <td>Size 16 Summer Dress\\nPink  \\ncrossover bodice\\nTU\\nBelow knee length</td>\n",
       "      <td>PINK</td>\n",
       "      <td>7.20</td>\n",
       "      <td>DRESSES</td>\n",
       "      <td>False</td>\n",
       "      <td>True</td>\n",
       "      <td>False</td>\n",
       "    </tr>\n",
       "    <tr>\n",
       "      <th>1300</th>\n",
       "      <td>00_074f8_AAD8zeGs674DRyhgx5HGFafU</td>\n",
       "      <td>Size Small\\n\\nNever worn before\\n</td>\n",
       "      <td>VARIOUS</td>\n",
       "      <td>6.00</td>\n",
       "      <td>SKIRTS</td>\n",
       "      <td>False</td>\n",
       "      <td>True</td>\n",
       "      <td>False</td>\n",
       "    </tr>\n",
       "    <tr>\n",
       "      <th>1300</th>\n",
       "      <td>00_074f8_AAD8zeGs674DRyhgx5HGFafU</td>\n",
       "      <td>Size Small\\n\\nNever worn before\\n</td>\n",
       "      <td>VARIOUS</td>\n",
       "      <td>6.00</td>\n",
       "      <td>None</td>\n",
       "      <td>False</td>\n",
       "      <td>True</td>\n",
       "      <td>False</td>\n",
       "    </tr>\n",
       "    <tr>\n",
       "      <th>2046</th>\n",
       "      <td>070db_u7ELGKLzm6KFpoKedteEssfF</td>\n",
       "      <td>only wore once.\\ntrue to size.\\nprefect for spring.\\none of my favourite but too small for me now.</td>\n",
       "      <td>WHITE</td>\n",
       "      <td>10.80</td>\n",
       "      <td>DRESSES</td>\n",
       "      <td>False</td>\n",
       "      <td>True</td>\n",
       "      <td>False</td>\n",
       "    </tr>\n",
       "    <tr>\n",
       "      <th>2046</th>\n",
       "      <td>070db_u7ELGKLzm6KFpoKedteEssfF</td>\n",
       "      <td>only wore once.\\ntrue to size.\\nprefect for spring.\\none of my favourite but too small for me now.</td>\n",
       "      <td>WHITE</td>\n",
       "      <td>10.80</td>\n",
       "      <td>None</td>\n",
       "      <td>False</td>\n",
       "      <td>True</td>\n",
       "      <td>False</td>\n",
       "    </tr>\n",
       "  </tbody>\n",
       "</table>\n",
       "</div>"
      ],
      "text/plain": [
       "                                   uuid  \\\n",
       "3007  00_04eaf_TVbYdLiveQeR7NruNvDBNF2Z   \n",
       "3007  00_04eaf_TVbYdLiveQeR7NruNvDBNF2Z   \n",
       "1222  00_05414_gxmt8KnGmNoc2ngfV8goMSwf   \n",
       "1222  00_05414_gxmt8KnGmNoc2ngfV8goMSwf   \n",
       "3277  00_0544f_pzMGTc8daECPZinQkkB1EP6w   \n",
       "3277  00_0544f_pzMGTc8daECPZinQkkB1EP6w   \n",
       "1719  00_05b4e_usebeyzYnoyRwH4MbvarXGyd   \n",
       "1719  00_05b4e_usebeyzYnoyRwH4MbvarXGyd   \n",
       "3769  00_05cb8_CUufbE6EiSvET1F9aQq51Rbo   \n",
       "3769  00_05cb8_CUufbE6EiSvET1F9aQq51Rbo   \n",
       "1332  00_071e5_nEfwQcByNSYTN4QyimBVXUpE   \n",
       "1332  00_071e5_nEfwQcByNSYTN4QyimBVXUpE   \n",
       "1567  00_07251_8KrrUcZ2x5Zb9m8jMXvh2XN7   \n",
       "1567  00_07251_8KrrUcZ2x5Zb9m8jMXvh2XN7   \n",
       "3584  00_073b6_ZxMQavtiXC1H2mBNqsSXuWQ7   \n",
       "3584  00_073b6_ZxMQavtiXC1H2mBNqsSXuWQ7   \n",
       "1300  00_074f8_AAD8zeGs674DRyhgx5HGFafU   \n",
       "1300  00_074f8_AAD8zeGs674DRyhgx5HGFafU   \n",
       "2046     070db_u7ELGKLzm6KFpoKedteEssfF   \n",
       "2046     070db_u7ELGKLzm6KFpoKedteEssfF   \n",
       "\n",
       "                                                                                                                                                                                                                                                                                   description  \\\n",
       "3007                                                                                                                                                                                                                                                             prsa 38cm, délka 55cm, pružný   \n",
       "3007                                                                                                                                                                                                                                                             prsa 38cm, délka 55cm, pružný   \n",
       "1222                                                                                                                                                                                 -  only worn a few times\\n- destress at leg holes \\n- some distress rips\\nAny questions? Just contact me!   \n",
       "1222                                                                                                                                                                                 -  only worn a few times\\n- destress at leg holes \\n- some distress rips\\nAny questions? Just contact me!   \n",
       "3277                                                                                                                                                                                                                                  Never worn,  A-line tie waist dress. Tags not attached.    \n",
       "3277                                                                                                                                                                                                                                  Never worn,  A-line tie waist dress. Tags not attached.    \n",
       "1719  Uzsideta viena karta per naujuju metu svente. Labai tampri medziaga rausva su blizgeliu.  Tarp pazastu laisvumo busenoje 100 cm ir tempiasi gal iki 140 cm,  ilgis nuo peties iki apacios 85 cm.  Medziagele persisviecia, bet maloni prie kuno.  Jei reikia galiu siusti per pastomata.   \n",
       "1719  Uzsideta viena karta per naujuju metu svente. Labai tampri medziaga rausva su blizgeliu.  Tarp pazastu laisvumo busenoje 100 cm ir tempiasi gal iki 140 cm,  ilgis nuo peties iki apacios 85 cm.  Medziagele persisviecia, bet maloni prie kuno.  Jei reikia galiu siusti per pastomata.   \n",
       "3769                                                                                                                                                                                                                                             Great condition\\nSize medium\\nZippers on side   \n",
       "3769                                                                                                                                                                                                                                             Great condition\\nSize medium\\nZippers on side   \n",
       "1332                                                                                                                                                                                                                                                           mid rise\\nonly worn a few times   \n",
       "1332                                                                                                                                                                                                                                                           mid rise\\nonly worn a few times   \n",
       "1567                                                                                                                                                                                                                                                                                Brand new    \n",
       "1567                                                                                                                                                                                                                                                                                Brand new    \n",
       "3584                                                                                                                                                                                                                     Size 16 Summer Dress\\nPink  \\ncrossover bodice\\nTU\\nBelow knee length   \n",
       "3584                                                                                                                                                                                                                     Size 16 Summer Dress\\nPink  \\ncrossover bodice\\nTU\\nBelow knee length   \n",
       "1300                                                                                                                                                                                                                                                         Size Small\\n\\nNever worn before\\n   \n",
       "1300                                                                                                                                                                                                                                                         Size Small\\n\\nNever worn before\\n   \n",
       "2046                                                                                                                                                                                        only wore once.\\ntrue to size.\\nprefect for spring.\\none of my favourite but too small for me now.   \n",
       "2046                                                                                                                                                                                        only wore once.\\ntrue to size.\\nprefect for spring.\\none of my favourite but too small for me now.   \n",
       "\n",
       "           color  price                 cc3  sparkling  floral  striped  \n",
       "3007       BROWN   3.89                None      False   False     True  \n",
       "3007       BROWN   3.89  PULLOVERS_SWEATERS      False   False     True  \n",
       "1222  LIGHT-BLUE   5.32       SHORTS_CAPRIS      False   False    False  \n",
       "1222  LIGHT-BLUE   5.32                None      False   False    False  \n",
       "3277        BODY   7.60                None      False    True    False  \n",
       "3277        BODY   7.60             DRESSES      False    True    False  \n",
       "1719        ROSE   8.00                None       True   False    False  \n",
       "1719        ROSE   8.00             DRESSES       True   False    False  \n",
       "3769       BLACK  11.40                None      False   False     True  \n",
       "3769       BLACK  11.40             DRESSES      False   False     True  \n",
       "1332       BLACK   4.20                None      False   False     True  \n",
       "1332       BLACK   4.20            TROUSERS      False   False     True  \n",
       "1567       BROWN   7.20                None      False    True    False  \n",
       "1567       BROWN   7.20            TROUSERS      False    True    False  \n",
       "3584        PINK   7.20                None      False    True    False  \n",
       "3584        PINK   7.20             DRESSES      False    True    False  \n",
       "1300     VARIOUS   6.00              SKIRTS      False    True    False  \n",
       "1300     VARIOUS   6.00                None      False    True    False  \n",
       "2046       WHITE  10.80             DRESSES      False    True    False  \n",
       "2046       WHITE  10.80                None      False    True    False  "
      ]
     },
     "execution_count": 20,
     "metadata": {},
     "output_type": "execute_result"
    }
   ],
   "source": [
    "dt_train_only_same_uuid = df_train[df_train.duplicated(subset=[\"uuid\"], keep=False)].sort_values(by=\"uuid\")\n",
    "dt_train_only_same_uuid"
   ]
  },
  {
   "cell_type": "markdown",
   "metadata": {},
   "source": [
    "#### It looks that only thing that different theme from being completely duplicate is \"cc3\" column with None values"
   ]
  },
  {
   "cell_type": "code",
   "execution_count": 21,
   "metadata": {},
   "outputs": [
    {
     "data": {
      "text/html": [
       "<div>\n",
       "<style scoped>\n",
       "    .dataframe tbody tr th:only-of-type {\n",
       "        vertical-align: middle;\n",
       "    }\n",
       "\n",
       "    .dataframe tbody tr th {\n",
       "        vertical-align: top;\n",
       "    }\n",
       "\n",
       "    .dataframe thead th {\n",
       "        text-align: right;\n",
       "    }\n",
       "</style>\n",
       "<table border=\"1\" class=\"dataframe\">\n",
       "  <thead>\n",
       "    <tr style=\"text-align: right;\">\n",
       "      <th></th>\n",
       "      <th>uuid</th>\n",
       "      <th>description</th>\n",
       "      <th>color</th>\n",
       "      <th>price</th>\n",
       "      <th>cc3</th>\n",
       "      <th>sparkling</th>\n",
       "      <th>floral</th>\n",
       "      <th>striped</th>\n",
       "    </tr>\n",
       "  </thead>\n",
       "  <tbody>\n",
       "    <tr>\n",
       "      <th>3007</th>\n",
       "      <td>00_04eaf_TVbYdLiveQeR7NruNvDBNF2Z</td>\n",
       "      <td>prsa 38cm, délka 55cm, pružný</td>\n",
       "      <td>BROWN</td>\n",
       "      <td>3.89</td>\n",
       "      <td>None</td>\n",
       "      <td>False</td>\n",
       "      <td>False</td>\n",
       "      <td>True</td>\n",
       "    </tr>\n",
       "    <tr>\n",
       "      <th>3007</th>\n",
       "      <td>00_04eaf_TVbYdLiveQeR7NruNvDBNF2Z</td>\n",
       "      <td>prsa 38cm, délka 55cm, pružný</td>\n",
       "      <td>BROWN</td>\n",
       "      <td>3.89</td>\n",
       "      <td>PULLOVERS_SWEATERS</td>\n",
       "      <td>False</td>\n",
       "      <td>False</td>\n",
       "      <td>True</td>\n",
       "    </tr>\n",
       "    <tr>\n",
       "      <th>1222</th>\n",
       "      <td>00_05414_gxmt8KnGmNoc2ngfV8goMSwf</td>\n",
       "      <td>-  only worn a few times\\n- destress at leg holes \\n- some distress rips\\nAny questions? Just contact me!</td>\n",
       "      <td>LIGHT-BLUE</td>\n",
       "      <td>5.32</td>\n",
       "      <td>SHORTS_CAPRIS</td>\n",
       "      <td>False</td>\n",
       "      <td>False</td>\n",
       "      <td>False</td>\n",
       "    </tr>\n",
       "    <tr>\n",
       "      <th>1222</th>\n",
       "      <td>00_05414_gxmt8KnGmNoc2ngfV8goMSwf</td>\n",
       "      <td>-  only worn a few times\\n- destress at leg holes \\n- some distress rips\\nAny questions? Just contact me!</td>\n",
       "      <td>LIGHT-BLUE</td>\n",
       "      <td>5.32</td>\n",
       "      <td>None</td>\n",
       "      <td>False</td>\n",
       "      <td>False</td>\n",
       "      <td>False</td>\n",
       "    </tr>\n",
       "    <tr>\n",
       "      <th>3277</th>\n",
       "      <td>00_0544f_pzMGTc8daECPZinQkkB1EP6w</td>\n",
       "      <td>Never worn,  A-line tie waist dress. Tags not attached.</td>\n",
       "      <td>BODY</td>\n",
       "      <td>7.60</td>\n",
       "      <td>None</td>\n",
       "      <td>False</td>\n",
       "      <td>True</td>\n",
       "      <td>False</td>\n",
       "    </tr>\n",
       "    <tr>\n",
       "      <th>3277</th>\n",
       "      <td>00_0544f_pzMGTc8daECPZinQkkB1EP6w</td>\n",
       "      <td>Never worn,  A-line tie waist dress. Tags not attached.</td>\n",
       "      <td>BODY</td>\n",
       "      <td>7.60</td>\n",
       "      <td>DRESSES</td>\n",
       "      <td>False</td>\n",
       "      <td>True</td>\n",
       "      <td>False</td>\n",
       "    </tr>\n",
       "    <tr>\n",
       "      <th>1719</th>\n",
       "      <td>00_05b4e_usebeyzYnoyRwH4MbvarXGyd</td>\n",
       "      <td>Uzsideta viena karta per naujuju metu svente. Labai tampri medziaga rausva su blizgeliu.  Tarp pazastu laisvumo busenoje 100 cm ir tempiasi gal iki 140 cm,  ilgis nuo peties iki apacios 85 cm.  Medziagele persisviecia, bet maloni prie kuno.  Jei reikia galiu siusti per pastomata.</td>\n",
       "      <td>ROSE</td>\n",
       "      <td>8.00</td>\n",
       "      <td>None</td>\n",
       "      <td>True</td>\n",
       "      <td>False</td>\n",
       "      <td>False</td>\n",
       "    </tr>\n",
       "    <tr>\n",
       "      <th>1719</th>\n",
       "      <td>00_05b4e_usebeyzYnoyRwH4MbvarXGyd</td>\n",
       "      <td>Uzsideta viena karta per naujuju metu svente. Labai tampri medziaga rausva su blizgeliu.  Tarp pazastu laisvumo busenoje 100 cm ir tempiasi gal iki 140 cm,  ilgis nuo peties iki apacios 85 cm.  Medziagele persisviecia, bet maloni prie kuno.  Jei reikia galiu siusti per pastomata.</td>\n",
       "      <td>ROSE</td>\n",
       "      <td>8.00</td>\n",
       "      <td>DRESSES</td>\n",
       "      <td>True</td>\n",
       "      <td>False</td>\n",
       "      <td>False</td>\n",
       "    </tr>\n",
       "    <tr>\n",
       "      <th>3769</th>\n",
       "      <td>00_05cb8_CUufbE6EiSvET1F9aQq51Rbo</td>\n",
       "      <td>Great condition\\nSize medium\\nZippers on side</td>\n",
       "      <td>BLACK</td>\n",
       "      <td>11.40</td>\n",
       "      <td>None</td>\n",
       "      <td>False</td>\n",
       "      <td>False</td>\n",
       "      <td>True</td>\n",
       "    </tr>\n",
       "    <tr>\n",
       "      <th>3769</th>\n",
       "      <td>00_05cb8_CUufbE6EiSvET1F9aQq51Rbo</td>\n",
       "      <td>Great condition\\nSize medium\\nZippers on side</td>\n",
       "      <td>BLACK</td>\n",
       "      <td>11.40</td>\n",
       "      <td>DRESSES</td>\n",
       "      <td>False</td>\n",
       "      <td>False</td>\n",
       "      <td>True</td>\n",
       "    </tr>\n",
       "    <tr>\n",
       "      <th>1332</th>\n",
       "      <td>00_071e5_nEfwQcByNSYTN4QyimBVXUpE</td>\n",
       "      <td>mid rise\\nonly worn a few times</td>\n",
       "      <td>BLACK</td>\n",
       "      <td>4.20</td>\n",
       "      <td>None</td>\n",
       "      <td>False</td>\n",
       "      <td>False</td>\n",
       "      <td>True</td>\n",
       "    </tr>\n",
       "    <tr>\n",
       "      <th>1332</th>\n",
       "      <td>00_071e5_nEfwQcByNSYTN4QyimBVXUpE</td>\n",
       "      <td>mid rise\\nonly worn a few times</td>\n",
       "      <td>BLACK</td>\n",
       "      <td>4.20</td>\n",
       "      <td>TROUSERS</td>\n",
       "      <td>False</td>\n",
       "      <td>False</td>\n",
       "      <td>True</td>\n",
       "    </tr>\n",
       "    <tr>\n",
       "      <th>1567</th>\n",
       "      <td>00_07251_8KrrUcZ2x5Zb9m8jMXvh2XN7</td>\n",
       "      <td>Brand new</td>\n",
       "      <td>BROWN</td>\n",
       "      <td>7.20</td>\n",
       "      <td>None</td>\n",
       "      <td>False</td>\n",
       "      <td>True</td>\n",
       "      <td>False</td>\n",
       "    </tr>\n",
       "    <tr>\n",
       "      <th>1567</th>\n",
       "      <td>00_07251_8KrrUcZ2x5Zb9m8jMXvh2XN7</td>\n",
       "      <td>Brand new</td>\n",
       "      <td>BROWN</td>\n",
       "      <td>7.20</td>\n",
       "      <td>TROUSERS</td>\n",
       "      <td>False</td>\n",
       "      <td>True</td>\n",
       "      <td>False</td>\n",
       "    </tr>\n",
       "    <tr>\n",
       "      <th>3584</th>\n",
       "      <td>00_073b6_ZxMQavtiXC1H2mBNqsSXuWQ7</td>\n",
       "      <td>Size 16 Summer Dress\\nPink  \\ncrossover bodice\\nTU\\nBelow knee length</td>\n",
       "      <td>PINK</td>\n",
       "      <td>7.20</td>\n",
       "      <td>None</td>\n",
       "      <td>False</td>\n",
       "      <td>True</td>\n",
       "      <td>False</td>\n",
       "    </tr>\n",
       "    <tr>\n",
       "      <th>3584</th>\n",
       "      <td>00_073b6_ZxMQavtiXC1H2mBNqsSXuWQ7</td>\n",
       "      <td>Size 16 Summer Dress\\nPink  \\ncrossover bodice\\nTU\\nBelow knee length</td>\n",
       "      <td>PINK</td>\n",
       "      <td>7.20</td>\n",
       "      <td>DRESSES</td>\n",
       "      <td>False</td>\n",
       "      <td>True</td>\n",
       "      <td>False</td>\n",
       "    </tr>\n",
       "    <tr>\n",
       "      <th>1300</th>\n",
       "      <td>00_074f8_AAD8zeGs674DRyhgx5HGFafU</td>\n",
       "      <td>Size Small\\n\\nNever worn before\\n</td>\n",
       "      <td>VARIOUS</td>\n",
       "      <td>6.00</td>\n",
       "      <td>SKIRTS</td>\n",
       "      <td>False</td>\n",
       "      <td>True</td>\n",
       "      <td>False</td>\n",
       "    </tr>\n",
       "    <tr>\n",
       "      <th>1300</th>\n",
       "      <td>00_074f8_AAD8zeGs674DRyhgx5HGFafU</td>\n",
       "      <td>Size Small\\n\\nNever worn before\\n</td>\n",
       "      <td>VARIOUS</td>\n",
       "      <td>6.00</td>\n",
       "      <td>None</td>\n",
       "      <td>False</td>\n",
       "      <td>True</td>\n",
       "      <td>False</td>\n",
       "    </tr>\n",
       "    <tr>\n",
       "      <th>2046</th>\n",
       "      <td>070db_u7ELGKLzm6KFpoKedteEssfF</td>\n",
       "      <td>only wore once.\\ntrue to size.\\nprefect for spring.\\none of my favourite but too small for me now.</td>\n",
       "      <td>WHITE</td>\n",
       "      <td>10.80</td>\n",
       "      <td>DRESSES</td>\n",
       "      <td>False</td>\n",
       "      <td>True</td>\n",
       "      <td>False</td>\n",
       "    </tr>\n",
       "    <tr>\n",
       "      <th>2046</th>\n",
       "      <td>070db_u7ELGKLzm6KFpoKedteEssfF</td>\n",
       "      <td>only wore once.\\ntrue to size.\\nprefect for spring.\\none of my favourite but too small for me now.</td>\n",
       "      <td>WHITE</td>\n",
       "      <td>10.80</td>\n",
       "      <td>None</td>\n",
       "      <td>False</td>\n",
       "      <td>True</td>\n",
       "      <td>False</td>\n",
       "    </tr>\n",
       "  </tbody>\n",
       "</table>\n",
       "</div>"
      ],
      "text/plain": [
       "                                   uuid  \\\n",
       "3007  00_04eaf_TVbYdLiveQeR7NruNvDBNF2Z   \n",
       "3007  00_04eaf_TVbYdLiveQeR7NruNvDBNF2Z   \n",
       "1222  00_05414_gxmt8KnGmNoc2ngfV8goMSwf   \n",
       "1222  00_05414_gxmt8KnGmNoc2ngfV8goMSwf   \n",
       "3277  00_0544f_pzMGTc8daECPZinQkkB1EP6w   \n",
       "3277  00_0544f_pzMGTc8daECPZinQkkB1EP6w   \n",
       "1719  00_05b4e_usebeyzYnoyRwH4MbvarXGyd   \n",
       "1719  00_05b4e_usebeyzYnoyRwH4MbvarXGyd   \n",
       "3769  00_05cb8_CUufbE6EiSvET1F9aQq51Rbo   \n",
       "3769  00_05cb8_CUufbE6EiSvET1F9aQq51Rbo   \n",
       "1332  00_071e5_nEfwQcByNSYTN4QyimBVXUpE   \n",
       "1332  00_071e5_nEfwQcByNSYTN4QyimBVXUpE   \n",
       "1567  00_07251_8KrrUcZ2x5Zb9m8jMXvh2XN7   \n",
       "1567  00_07251_8KrrUcZ2x5Zb9m8jMXvh2XN7   \n",
       "3584  00_073b6_ZxMQavtiXC1H2mBNqsSXuWQ7   \n",
       "3584  00_073b6_ZxMQavtiXC1H2mBNqsSXuWQ7   \n",
       "1300  00_074f8_AAD8zeGs674DRyhgx5HGFafU   \n",
       "1300  00_074f8_AAD8zeGs674DRyhgx5HGFafU   \n",
       "2046     070db_u7ELGKLzm6KFpoKedteEssfF   \n",
       "2046     070db_u7ELGKLzm6KFpoKedteEssfF   \n",
       "\n",
       "                                                                                                                                                                                                                                                                                   description  \\\n",
       "3007                                                                                                                                                                                                                                                             prsa 38cm, délka 55cm, pružný   \n",
       "3007                                                                                                                                                                                                                                                             prsa 38cm, délka 55cm, pružný   \n",
       "1222                                                                                                                                                                                 -  only worn a few times\\n- destress at leg holes \\n- some distress rips\\nAny questions? Just contact me!   \n",
       "1222                                                                                                                                                                                 -  only worn a few times\\n- destress at leg holes \\n- some distress rips\\nAny questions? Just contact me!   \n",
       "3277                                                                                                                                                                                                                                  Never worn,  A-line tie waist dress. Tags not attached.    \n",
       "3277                                                                                                                                                                                                                                  Never worn,  A-line tie waist dress. Tags not attached.    \n",
       "1719  Uzsideta viena karta per naujuju metu svente. Labai tampri medziaga rausva su blizgeliu.  Tarp pazastu laisvumo busenoje 100 cm ir tempiasi gal iki 140 cm,  ilgis nuo peties iki apacios 85 cm.  Medziagele persisviecia, bet maloni prie kuno.  Jei reikia galiu siusti per pastomata.   \n",
       "1719  Uzsideta viena karta per naujuju metu svente. Labai tampri medziaga rausva su blizgeliu.  Tarp pazastu laisvumo busenoje 100 cm ir tempiasi gal iki 140 cm,  ilgis nuo peties iki apacios 85 cm.  Medziagele persisviecia, bet maloni prie kuno.  Jei reikia galiu siusti per pastomata.   \n",
       "3769                                                                                                                                                                                                                                             Great condition\\nSize medium\\nZippers on side   \n",
       "3769                                                                                                                                                                                                                                             Great condition\\nSize medium\\nZippers on side   \n",
       "1332                                                                                                                                                                                                                                                           mid rise\\nonly worn a few times   \n",
       "1332                                                                                                                                                                                                                                                           mid rise\\nonly worn a few times   \n",
       "1567                                                                                                                                                                                                                                                                                Brand new    \n",
       "1567                                                                                                                                                                                                                                                                                Brand new    \n",
       "3584                                                                                                                                                                                                                     Size 16 Summer Dress\\nPink  \\ncrossover bodice\\nTU\\nBelow knee length   \n",
       "3584                                                                                                                                                                                                                     Size 16 Summer Dress\\nPink  \\ncrossover bodice\\nTU\\nBelow knee length   \n",
       "1300                                                                                                                                                                                                                                                         Size Small\\n\\nNever worn before\\n   \n",
       "1300                                                                                                                                                                                                                                                         Size Small\\n\\nNever worn before\\n   \n",
       "2046                                                                                                                                                                                        only wore once.\\ntrue to size.\\nprefect for spring.\\none of my favourite but too small for me now.   \n",
       "2046                                                                                                                                                                                        only wore once.\\ntrue to size.\\nprefect for spring.\\none of my favourite but too small for me now.   \n",
       "\n",
       "           color  price                 cc3  sparkling  floral  striped  \n",
       "3007       BROWN   3.89                None      False   False     True  \n",
       "3007       BROWN   3.89  PULLOVERS_SWEATERS      False   False     True  \n",
       "1222  LIGHT-BLUE   5.32       SHORTS_CAPRIS      False   False    False  \n",
       "1222  LIGHT-BLUE   5.32                None      False   False    False  \n",
       "3277        BODY   7.60                None      False    True    False  \n",
       "3277        BODY   7.60             DRESSES      False    True    False  \n",
       "1719        ROSE   8.00                None       True   False    False  \n",
       "1719        ROSE   8.00             DRESSES       True   False    False  \n",
       "3769       BLACK  11.40                None      False   False     True  \n",
       "3769       BLACK  11.40             DRESSES      False   False     True  \n",
       "1332       BLACK   4.20                None      False   False     True  \n",
       "1332       BLACK   4.20            TROUSERS      False   False     True  \n",
       "1567       BROWN   7.20                None      False    True    False  \n",
       "1567       BROWN   7.20            TROUSERS      False    True    False  \n",
       "3584        PINK   7.20                None      False    True    False  \n",
       "3584        PINK   7.20             DRESSES      False    True    False  \n",
       "1300     VARIOUS   6.00              SKIRTS      False    True    False  \n",
       "1300     VARIOUS   6.00                None      False    True    False  \n",
       "2046       WHITE  10.80             DRESSES      False    True    False  \n",
       "2046       WHITE  10.80                None      False    True    False  "
      ]
     },
     "execution_count": 21,
     "metadata": {},
     "output_type": "execute_result"
    }
   ],
   "source": [
    "df_train_no_cc3_duplic = df_train[df_train.loc[:, df_train.columns != \"cc3\"].duplicated(keep=False)].sort_values(by=\"uuid\")\n",
    "df_train_no_cc3_duplic"
   ]
  },
  {
   "cell_type": "markdown",
   "metadata": {},
   "source": [
    "#### It looks the same, lets check it "
   ]
  },
  {
   "cell_type": "code",
   "execution_count": 22,
   "metadata": {},
   "outputs": [
    {
     "data": {
      "text/plain": [
       "True"
      ]
     },
     "execution_count": 22,
     "metadata": {},
     "output_type": "execute_result"
    }
   ],
   "source": [
    "dt_train_only_same_uuid.equals(df_train_no_cc3_duplic)"
   ]
  },
  {
   "cell_type": "markdown",
   "metadata": {},
   "source": [
    "#### Remove from df_train rows with duplicated \"uuid\" and \"cc3\" == None"
   ]
  },
  {
   "cell_type": "code",
   "execution_count": 23,
   "metadata": {},
   "outputs": [],
   "source": [
    "duplic_index = list(df_train_no_cc3_duplic[df_train_no_cc3_duplic[\"cc3\"].isna()].index)"
   ]
  },
  {
   "cell_type": "code",
   "execution_count": 24,
   "metadata": {},
   "outputs": [],
   "source": [
    "df_train.drop(duplic_index, inplace=True)"
   ]
  },
  {
   "cell_type": "markdown",
   "metadata": {},
   "source": [
    "#### Look again in \"uuid\" duplicates"
   ]
  },
  {
   "cell_type": "code",
   "execution_count": 25,
   "metadata": {},
   "outputs": [
    {
     "data": {
      "text/plain": [
       "0"
      ]
     },
     "execution_count": 25,
     "metadata": {},
     "output_type": "execute_result"
    }
   ],
   "source": [
    "df_train[\"uuid\"].value_counts().ge(2).sum()"
   ]
  },
  {
   "cell_type": "markdown",
   "metadata": {},
   "source": [
    "### If all \"uuid\" from df_train are in \"photos\" folder"
   ]
  },
  {
   "cell_type": "markdown",
   "metadata": {},
   "source": [
    "#### Create df of photos names"
   ]
  },
  {
   "cell_type": "code",
   "execution_count": 26,
   "metadata": {},
   "outputs": [],
   "source": [
    "images_names = pd.DataFrame({\"uuid\" : list(os.listdir(os.path.join(data_root, \"photos\")))})"
   ]
  },
  {
   "cell_type": "code",
   "execution_count": 27,
   "metadata": {},
   "outputs": [
    {
     "data": {
      "text/html": [
       "<div>\n",
       "<style scoped>\n",
       "    .dataframe tbody tr th:only-of-type {\n",
       "        vertical-align: middle;\n",
       "    }\n",
       "\n",
       "    .dataframe tbody tr th {\n",
       "        vertical-align: top;\n",
       "    }\n",
       "\n",
       "    .dataframe thead th {\n",
       "        text-align: right;\n",
       "    }\n",
       "</style>\n",
       "<table border=\"1\" class=\"dataframe\">\n",
       "  <thead>\n",
       "    <tr style=\"text-align: right;\">\n",
       "      <th></th>\n",
       "      <th>uuid</th>\n",
       "    </tr>\n",
       "  </thead>\n",
       "  <tbody>\n",
       "    <tr>\n",
       "      <th>0</th>\n",
       "      <td>00_04e25_8szf1Q1etszF4tRDvXwuh8e5.jpeg</td>\n",
       "    </tr>\n",
       "    <tr>\n",
       "      <th>1</th>\n",
       "      <td>00_04e26_DF4FKTRubmxnUj7LTi2aWqz5.jpeg</td>\n",
       "    </tr>\n",
       "    <tr>\n",
       "      <th>2</th>\n",
       "      <td>00_04e27_Fg7gWJD7D3djQAsU2XsZb1F2.jpeg</td>\n",
       "    </tr>\n",
       "    <tr>\n",
       "      <th>3</th>\n",
       "      <td>00_04e27_rYvQm4SdjRZwxgvWezRtmBqK.jpeg</td>\n",
       "    </tr>\n",
       "    <tr>\n",
       "      <th>4</th>\n",
       "      <td>00_04e2a_JdxtpYpFmHNLrieuPSBqEqnM.jpeg</td>\n",
       "    </tr>\n",
       "  </tbody>\n",
       "</table>\n",
       "</div>"
      ],
      "text/plain": [
       "                                     uuid\n",
       "0  00_04e25_8szf1Q1etszF4tRDvXwuh8e5.jpeg\n",
       "1  00_04e26_DF4FKTRubmxnUj7LTi2aWqz5.jpeg\n",
       "2  00_04e27_Fg7gWJD7D3djQAsU2XsZb1F2.jpeg\n",
       "3  00_04e27_rYvQm4SdjRZwxgvWezRtmBqK.jpeg\n",
       "4  00_04e2a_JdxtpYpFmHNLrieuPSBqEqnM.jpeg"
      ]
     },
     "execution_count": 27,
     "metadata": {},
     "output_type": "execute_result"
    }
   ],
   "source": [
    "images_names.head()"
   ]
  },
  {
   "cell_type": "markdown",
   "metadata": {},
   "source": [
    "#### Look if all image formats are the same"
   ]
  },
  {
   "cell_type": "code",
   "execution_count": 28,
   "metadata": {},
   "outputs": [],
   "source": [
    "images_names[\"format\"] = images_names[\"uuid\"].str.findall(r\"(?<=\\.).*\")"
   ]
  },
  {
   "cell_type": "code",
   "execution_count": 29,
   "metadata": {},
   "outputs": [
    {
     "data": {
      "text/html": [
       "<div>\n",
       "<style scoped>\n",
       "    .dataframe tbody tr th:only-of-type {\n",
       "        vertical-align: middle;\n",
       "    }\n",
       "\n",
       "    .dataframe tbody tr th {\n",
       "        vertical-align: top;\n",
       "    }\n",
       "\n",
       "    .dataframe thead th {\n",
       "        text-align: right;\n",
       "    }\n",
       "</style>\n",
       "<table border=\"1\" class=\"dataframe\">\n",
       "  <thead>\n",
       "    <tr style=\"text-align: right;\">\n",
       "      <th></th>\n",
       "      <th>uuid</th>\n",
       "      <th>format</th>\n",
       "    </tr>\n",
       "  </thead>\n",
       "  <tbody>\n",
       "    <tr>\n",
       "      <th>0</th>\n",
       "      <td>00_04e25_8szf1Q1etszF4tRDvXwuh8e5.jpeg</td>\n",
       "      <td>[jpeg]</td>\n",
       "    </tr>\n",
       "    <tr>\n",
       "      <th>1</th>\n",
       "      <td>00_04e26_DF4FKTRubmxnUj7LTi2aWqz5.jpeg</td>\n",
       "      <td>[jpeg]</td>\n",
       "    </tr>\n",
       "    <tr>\n",
       "      <th>2</th>\n",
       "      <td>00_04e27_Fg7gWJD7D3djQAsU2XsZb1F2.jpeg</td>\n",
       "      <td>[jpeg]</td>\n",
       "    </tr>\n",
       "    <tr>\n",
       "      <th>3</th>\n",
       "      <td>00_04e27_rYvQm4SdjRZwxgvWezRtmBqK.jpeg</td>\n",
       "      <td>[jpeg]</td>\n",
       "    </tr>\n",
       "    <tr>\n",
       "      <th>4</th>\n",
       "      <td>00_04e2a_JdxtpYpFmHNLrieuPSBqEqnM.jpeg</td>\n",
       "      <td>[jpeg]</td>\n",
       "    </tr>\n",
       "  </tbody>\n",
       "</table>\n",
       "</div>"
      ],
      "text/plain": [
       "                                     uuid  format\n",
       "0  00_04e25_8szf1Q1etszF4tRDvXwuh8e5.jpeg  [jpeg]\n",
       "1  00_04e26_DF4FKTRubmxnUj7LTi2aWqz5.jpeg  [jpeg]\n",
       "2  00_04e27_Fg7gWJD7D3djQAsU2XsZb1F2.jpeg  [jpeg]\n",
       "3  00_04e27_rYvQm4SdjRZwxgvWezRtmBqK.jpeg  [jpeg]\n",
       "4  00_04e2a_JdxtpYpFmHNLrieuPSBqEqnM.jpeg  [jpeg]"
      ]
     },
     "execution_count": 29,
     "metadata": {},
     "output_type": "execute_result"
    }
   ],
   "source": [
    "images_names.head()"
   ]
  },
  {
   "cell_type": "code",
   "execution_count": 30,
   "metadata": {},
   "outputs": [
    {
     "data": {
      "text/plain": [
       "array(['jpeg'], dtype=object)"
      ]
     },
     "execution_count": 30,
     "metadata": {},
     "output_type": "execute_result"
    }
   ],
   "source": [
    "images_names[\"format\"].explode().unique()"
   ]
  },
  {
   "cell_type": "markdown",
   "metadata": {},
   "source": [
    "#### Remove format from \"uuid\""
   ]
  },
  {
   "cell_type": "code",
   "execution_count": 31,
   "metadata": {},
   "outputs": [
    {
     "data": {
      "text/html": [
       "<div>\n",
       "<style scoped>\n",
       "    .dataframe tbody tr th:only-of-type {\n",
       "        vertical-align: middle;\n",
       "    }\n",
       "\n",
       "    .dataframe tbody tr th {\n",
       "        vertical-align: top;\n",
       "    }\n",
       "\n",
       "    .dataframe thead th {\n",
       "        text-align: right;\n",
       "    }\n",
       "</style>\n",
       "<table border=\"1\" class=\"dataframe\">\n",
       "  <thead>\n",
       "    <tr style=\"text-align: right;\">\n",
       "      <th></th>\n",
       "      <th>uuid</th>\n",
       "      <th>format</th>\n",
       "    </tr>\n",
       "  </thead>\n",
       "  <tbody>\n",
       "    <tr>\n",
       "      <th>0</th>\n",
       "      <td>00_04e25_8szf1Q1etszF4tRDvXwuh8e5</td>\n",
       "      <td>[jpeg]</td>\n",
       "    </tr>\n",
       "    <tr>\n",
       "      <th>1</th>\n",
       "      <td>00_04e26_DF4FKTRubmxnUj7LTi2aWqz5</td>\n",
       "      <td>[jpeg]</td>\n",
       "    </tr>\n",
       "    <tr>\n",
       "      <th>2</th>\n",
       "      <td>00_04e27_Fg7gWJD7D3djQAsU2XsZb1F2</td>\n",
       "      <td>[jpeg]</td>\n",
       "    </tr>\n",
       "    <tr>\n",
       "      <th>3</th>\n",
       "      <td>00_04e27_rYvQm4SdjRZwxgvWezRtmBqK</td>\n",
       "      <td>[jpeg]</td>\n",
       "    </tr>\n",
       "    <tr>\n",
       "      <th>4</th>\n",
       "      <td>00_04e2a_JdxtpYpFmHNLrieuPSBqEqnM</td>\n",
       "      <td>[jpeg]</td>\n",
       "    </tr>\n",
       "  </tbody>\n",
       "</table>\n",
       "</div>"
      ],
      "text/plain": [
       "                                uuid  format\n",
       "0  00_04e25_8szf1Q1etszF4tRDvXwuh8e5  [jpeg]\n",
       "1  00_04e26_DF4FKTRubmxnUj7LTi2aWqz5  [jpeg]\n",
       "2  00_04e27_Fg7gWJD7D3djQAsU2XsZb1F2  [jpeg]\n",
       "3  00_04e27_rYvQm4SdjRZwxgvWezRtmBqK  [jpeg]\n",
       "4  00_04e2a_JdxtpYpFmHNLrieuPSBqEqnM  [jpeg]"
      ]
     },
     "execution_count": 31,
     "metadata": {},
     "output_type": "execute_result"
    }
   ],
   "source": [
    "images_names[\"uuid\"] = images_names[\"uuid\"].str.replace(r\"\\..*\", \"\")\n",
    "images_names.head()"
   ]
  },
  {
   "cell_type": "markdown",
   "metadata": {},
   "source": [
    "#### Check if all df_train \"uuid\" elements are in \"photos\" folder"
   ]
  },
  {
   "cell_type": "code",
   "execution_count": 32,
   "metadata": {},
   "outputs": [
    {
     "data": {
      "text/plain": [
       "True    3775\n",
       "Name: uuid, dtype: int64"
      ]
     },
     "execution_count": 32,
     "metadata": {},
     "output_type": "execute_result"
    }
   ],
   "source": [
    "df_train[\"uuid\"].isin(images_names[\"uuid\"]).value_counts()"
   ]
  },
  {
   "cell_type": "markdown",
   "metadata": {},
   "source": [
    "### Column \"cc3\""
   ]
  },
  {
   "cell_type": "code",
   "execution_count": 33,
   "metadata": {},
   "outputs": [
    {
     "data": {
      "text/html": [
       "<div>\n",
       "<style scoped>\n",
       "    .dataframe tbody tr th:only-of-type {\n",
       "        vertical-align: middle;\n",
       "    }\n",
       "\n",
       "    .dataframe tbody tr th {\n",
       "        vertical-align: top;\n",
       "    }\n",
       "\n",
       "    .dataframe thead th {\n",
       "        text-align: right;\n",
       "    }\n",
       "</style>\n",
       "<table border=\"1\" class=\"dataframe\">\n",
       "  <thead>\n",
       "    <tr style=\"text-align: right;\">\n",
       "      <th></th>\n",
       "      <th>index</th>\n",
       "      <th>cc3</th>\n",
       "    </tr>\n",
       "  </thead>\n",
       "  <tbody>\n",
       "    <tr>\n",
       "      <th>0</th>\n",
       "      <td>DRESSES</td>\n",
       "      <td>0.440795</td>\n",
       "    </tr>\n",
       "    <tr>\n",
       "      <th>1</th>\n",
       "      <td>TROUSERS</td>\n",
       "      <td>0.135629</td>\n",
       "    </tr>\n",
       "    <tr>\n",
       "      <th>2</th>\n",
       "      <td>SHORTS_CAPRIS</td>\n",
       "      <td>0.125563</td>\n",
       "    </tr>\n",
       "    <tr>\n",
       "      <th>3</th>\n",
       "      <td>SKIRTS</td>\n",
       "      <td>0.116821</td>\n",
       "    </tr>\n",
       "    <tr>\n",
       "      <th>4</th>\n",
       "      <td>MISSING</td>\n",
       "      <td>0.096159</td>\n",
       "    </tr>\n",
       "    <tr>\n",
       "      <th>5</th>\n",
       "      <td>PULLOVERS_SWEATERS</td>\n",
       "      <td>0.085033</td>\n",
       "    </tr>\n",
       "  </tbody>\n",
       "</table>\n",
       "</div>"
      ],
      "text/plain": [
       "                index       cc3\n",
       "0             DRESSES  0.440795\n",
       "1            TROUSERS  0.135629\n",
       "2       SHORTS_CAPRIS  0.125563\n",
       "3              SKIRTS  0.116821\n",
       "4             MISSING  0.096159\n",
       "5  PULLOVERS_SWEATERS  0.085033"
      ]
     },
     "execution_count": 33,
     "metadata": {},
     "output_type": "execute_result"
    }
   ],
   "source": [
    "df_train_cc3 = df_train[\"cc3\"].value_counts(normalize=True, dropna=False).reset_index()\n",
    "df_train_cc3[\"index\"].fillna(\"MISSING\", inplace=True)\n",
    "df_train_cc3"
   ]
  },
  {
   "cell_type": "code",
   "execution_count": 34,
   "metadata": {},
   "outputs": [
    {
     "data": {
      "text/plain": [
       "Text(0, 0.5, 'Category of the item')"
      ]
     },
     "execution_count": 34,
     "metadata": {},
     "output_type": "execute_result"
    },
    {
     "data": {
      "image/png": "[encoded data removed]",
      "text/plain": [
       "<Figure size 432x288 with 1 Axes>"
      ]
     },
     "metadata": {
      "needs_background": "light"
     },
     "output_type": "display_data"
    }
   ],
   "source": [
    "clrs = [\"grey\" if col_name != \"MISSING\" else \"red\" for col_name in df_train_cc3[\"index\"].values]\n",
    "\n",
    "sns.barplot(y=df_train_cc3[\"index\"], x=df_train_cc3[\"cc3\"] * 100, palette=clrs)\n",
    "plt.xlabel(\"%\")\n",
    "plt.ylabel(\"Category of the item\")"
   ]
  },
  {
   "cell_type": "markdown",
   "metadata": {},
   "source": [
    "#### Have a lot Missing data, almost the same amount as majority of other categories (exept DRESSES)\n",
    "For this time we delete all missing values"
   ]
  },
  {
   "cell_type": "code",
   "execution_count": 35,
   "metadata": {},
   "outputs": [],
   "source": [
    "df_train.dropna(subset=[\"cc3\"], inplace=True)"
   ]
  },
  {
   "cell_type": "markdown",
   "metadata": {},
   "source": [
    "### Column \"sparkling\", \"floral\" and \"striped\""
   ]
  },
  {
   "cell_type": "markdown",
   "metadata": {},
   "source": [
    "#### Looking for NaN values"
   ]
  },
  {
   "cell_type": "code",
   "execution_count": 36,
   "metadata": {},
   "outputs": [
    {
     "data": {
      "text/plain": [
       "False    3045\n",
       "True      367\n",
       "Name: sparkling, dtype: int64"
      ]
     },
     "execution_count": 36,
     "metadata": {},
     "output_type": "execute_result"
    }
   ],
   "source": [
    "df_train[\"sparkling\"].value_counts(dropna=False)"
   ]
  },
  {
   "cell_type": "code",
   "execution_count": 37,
   "metadata": {},
   "outputs": [
    {
     "data": {
      "text/plain": [
       "False    2194\n",
       "True     1218\n",
       "Name: floral, dtype: int64"
      ]
     },
     "execution_count": 37,
     "metadata": {},
     "output_type": "execute_result"
    }
   ],
   "source": [
    "df_train[\"floral\"].value_counts(dropna=False)"
   ]
  },
  {
   "cell_type": "code",
   "execution_count": 38,
   "metadata": {},
   "outputs": [
    {
     "data": {
      "text/plain": [
       "False    2612\n",
       "True      800\n",
       "Name: striped, dtype: int64"
      ]
     },
     "execution_count": 38,
     "metadata": {},
     "output_type": "execute_result"
    }
   ],
   "source": [
    "df_train[\"striped\"].value_counts(dropna=False)"
   ]
  },
  {
   "cell_type": "markdown",
   "metadata": {},
   "source": [
    "### Column \"price\""
   ]
  },
  {
   "cell_type": "code",
   "execution_count": 39,
   "metadata": {},
   "outputs": [
    {
     "data": {
      "text/plain": [
       "count    3412.000000\n",
       "mean       10.907439\n",
       "std        14.684314\n",
       "min         0.038900\n",
       "25%         4.800000\n",
       "50%         7.600000\n",
       "75%        12.000000\n",
       "max       592.800000\n",
       "Name: price, dtype: float64"
      ]
     },
     "execution_count": 39,
     "metadata": {},
     "output_type": "execute_result"
    }
   ],
   "source": [
    "df_train[\"price\"].describe()"
   ]
  },
  {
   "cell_type": "code",
   "execution_count": 40,
   "metadata": {},
   "outputs": [
    {
     "data": {
      "text/plain": [
       "0"
      ]
     },
     "execution_count": 40,
     "metadata": {},
     "output_type": "execute_result"
    }
   ],
   "source": [
    "df_train[\"price\"].isna().sum()"
   ]
  },
  {
   "cell_type": "markdown",
   "metadata": {},
   "source": [
    "### Price distribustion"
   ]
  },
  {
   "cell_type": "code",
   "execution_count": 41,
   "metadata": {},
   "outputs": [
    {
     "data": {
      "text/plain": [
       "<seaborn.axisgrid.FacetGrid at 0x7f1af12f6e90>"
      ]
     },
     "execution_count": 41,
     "metadata": {},
     "output_type": "execute_result"
    },
    {
     "data": {
      "image/png": "[encoded data removed]",
      "text/plain": [
       "<Figure size 360x360 with 1 Axes>"
      ]
     },
     "metadata": {
      "needs_background": "light"
     },
     "output_type": "display_data"
    }
   ],
   "source": [
    "sns.displot( df_train.query(\"price < 60\")['price'] , bins=30)"
   ]
  },
  {
   "cell_type": "markdown",
   "metadata": {},
   "source": [
    "### Price distribution by category with BoxPlots"
   ]
  },
  {
   "cell_type": "code",
   "execution_count": 42,
   "metadata": {},
   "outputs": [
    {
     "data": {
      "text/plain": [
       "Text(0.5, 0, '')"
      ]
     },
     "execution_count": 42,
     "metadata": {},
     "output_type": "execute_result"
    },
    {
     "data": {
      "image/png": "[encoded data removed]",
      "text/plain": [
       "<Figure size 432x288 with 1 Axes>"
      ]
     },
     "metadata": {
      "needs_background": "light"
     },
     "output_type": "display_data"
    }
   ],
   "source": [
    "ax = sns.violinplot(x='cc3', y=\"price\", data=df_train.query(\"price < 40\"))\n",
    "plt.xticks(rotation=90)\n",
    "ax.set_xlabel('')"
   ]
  },
  {
   "cell_type": "markdown",
   "metadata": {},
   "source": [
    "#### Color distribution"
   ]
  },
  {
   "cell_type": "code",
   "execution_count": 43,
   "metadata": {},
   "outputs": [],
   "source": [
    "color_dist = pd.DataFrame()\n",
    "color_dist['color'] = df_train['color'].value_counts().index\n",
    "color_dist['count'] = df_train['color'].value_counts().values"
   ]
  },
  {
   "cell_type": "code",
   "execution_count": 44,
   "metadata": {},
   "outputs": [
    {
     "data": {
      "text/plain": [
       "Text(0, 0.5, 'Colors')"
      ]
     },
     "execution_count": 44,
     "metadata": {},
     "output_type": "execute_result"
    },
    {
     "data": {
      "image/png": "[encoded data removed]",
      "text/plain": [
       "<Figure size 432x288 with 1 Axes>"
      ]
     },
     "metadata": {
      "needs_background": "light"
     },
     "output_type": "display_data"
    }
   ],
   "source": [
    "sns.barplot(y=color_dist['color'], x=color_dist['count'])\n",
    "sns.set(rc={'figure.figsize':(10,10)})\n",
    "sns.set_theme(style=\"whitegrid\")\n",
    "plt.xlabel(\"Count\")\n",
    "plt.ylabel(\"Colors\")"
   ]
  },
  {
   "cell_type": "markdown",
   "metadata": {},
   "source": [
    "# Demo feature engeneering"
   ]
  },
  {
   "cell_type": "code",
   "execution_count": 45,
   "metadata": {},
   "outputs": [],
   "source": [
    "# df_train[\"description2\"] = df_train[\"description\"].str.replace(r\"\\W|\\d\", \" \").str.lower().str.split()"
   ]
  },
  {
   "cell_type": "code",
   "execution_count": 46,
   "metadata": {},
   "outputs": [],
   "source": [
    "df_train[\"description2\"] = df_train[\"description\"].str.replace(r\"\\W\", \" \").str.lower().str.split()"
   ]
  },
  {
   "cell_type": "code",
   "execution_count": 47,
   "metadata": {},
   "outputs": [
    {
     "data": {
      "text/html": [
       "<div>\n",
       "<style scoped>\n",
       "    .dataframe tbody tr th:only-of-type {\n",
       "        vertical-align: middle;\n",
       "    }\n",
       "\n",
       "    .dataframe tbody tr th {\n",
       "        vertical-align: top;\n",
       "    }\n",
       "\n",
       "    .dataframe thead th {\n",
       "        text-align: right;\n",
       "    }\n",
       "</style>\n",
       "<table border=\"1\" class=\"dataframe\">\n",
       "  <thead>\n",
       "    <tr style=\"text-align: right;\">\n",
       "      <th></th>\n",
       "      <th>description</th>\n",
       "      <th>description2</th>\n",
       "    </tr>\n",
       "  </thead>\n",
       "  <tbody>\n",
       "    <tr>\n",
       "      <th>0</th>\n",
       "      <td>beautiful summer dress by zara only worn once.\\n\\n#zara #zarawoman #zaradress #summerdress #dress</td>\n",
       "      <td>[beautiful, summer, dress, by, zara, only, worn, once, zara, zarawoman, zaradress, summerdress, dress]</td>\n",
       "    </tr>\n",
       "    <tr>\n",
       "      <th>1</th>\n",
       "      <td>Maroon denim colored high rise jean shorts from Charlotte Russe size 2. Fits sizes 25-26 and goes up to right under belly button on a 5”7 tall person. Shorts are in good condition but there is slight wear as pictured in the back</td>\n",
       "      <td>[maroon, denim, colored, high, rise, jean, shorts, from, charlotte, russe, size, 2, fits, sizes, 25, 26, and, goes, up, to, right, under, belly, button, on, a, 5, 7, tall, person, shorts, are, in, good, condition, but, there, is, slight, wear, as, pictured, in, the, back]</td>\n",
       "    </tr>\n",
       "    <tr>\n",
       "      <th>2</th>\n",
       "      <td>brand-new without tags x</td>\n",
       "      <td>[brand, new, without, tags, x]</td>\n",
       "    </tr>\n",
       "    <tr>\n",
       "      <th>3</th>\n",
       "      <td>Vasariška trumpa lengva medvilninė suknytė, be defektų.\\nIlgis 83cm, plotis tarp pažastų 37cm.\\n#terranova #suknele #geleta</td>\n",
       "      <td>[vasariška, trumpa, lengva, medvilninė, suknytė, be, defektų, ilgis, 83cm, plotis, tarp, pažastų, 37cm, terranova, suknele, geleta]</td>\n",
       "    </tr>\n",
       "    <tr>\n",
       "      <th>4</th>\n",
       "      <td>size small, worn; distressed look. one has a pain stain, see pics \\nWILL THROW IN FREE W ANY BUNDLE IF ASKED \\n#jsfcloset</td>\n",
       "      <td>[size, small, worn, distressed, look, one, has, a, pain, stain, see, pics, will, throw, in, free, w, any, bundle, if, asked, jsfcloset]</td>\n",
       "    </tr>\n",
       "    <tr>\n",
       "      <th>5</th>\n",
       "      <td>Lengva ir žaisminga vasarinė Zara suknelė. Nešiota, tačiau geros būklės. Dydis labiau M.\\n\\nPlius siuntimo išlaidos.</td>\n",
       "      <td>[lengva, ir, žaisminga, vasarinė, zara, suknelė, nešiota, tačiau, geros, būklės, dydis, labiau, m, plius, siuntimo, išlaidos]</td>\n",
       "    </tr>\n",
       "    <tr>\n",
       "      <th>6</th>\n",
       "      <td>banned tartan skinny jeans \\n\\nsize 14 ladies \\n\\nnot worn as don’t fit me!! \\n\\ncan post via Royal Mail second class singed for £4 \\n\\npayment via PayPal only please</td>\n",
       "      <td>[banned, tartan, skinny, jeans, size, 14, ladies, not, worn, as, don, t, fit, me, can, post, via, royal, mail, second, class, singed, for, 4, payment, via, paypal, only, please]</td>\n",
       "    </tr>\n",
       "    <tr>\n",
       "      <th>7</th>\n",
       "      <td>This dress is super comfortable, it's bodycon and midi. I've used it a few times but it's in really good condition, it's perfect for spring/autumn because it's warm but not too much!\\n\\nThe white stripes have slightly golden shimmer on them :)</td>\n",
       "      <td>[this, dress, is, super, comfortable, it, s, bodycon, and, midi, i, ve, used, it, a, few, times, but, it, s, in, really, good, condition, it, s, perfect, for, spring, autumn, because, it, s, warm, but, not, too, much, the, white, stripes, have, slightly, golden, shimmer, on, them]</td>\n",
       "    </tr>\n",
       "    <tr>\n",
       "      <th>8</th>\n",
       "      <td>nové, neunosila jsem</td>\n",
       "      <td>[nové, neunosila, jsem]</td>\n",
       "    </tr>\n",
       "    <tr>\n",
       "      <th>9</th>\n",
       "      <td>very good condition</td>\n",
       "      <td>[very, good, condition]</td>\n",
       "    </tr>\n",
       "    <tr>\n",
       "      <th>10</th>\n",
       "      <td>Prodám moc pěkný svetřík, vel. 38, zn. Bleyle. Pruhovanýv barvách fialová, zelená, růžová, černá, protkaný lesklou stříbrnou nitkou. Mírně projmutý v pase, dělá hezkou postavu. Materiál 40% vlna, 40% polyacryl, 11%  polyamid, 9% polyester. Svetr je ve velmi dobrém stavu, bez flíčků a děr, trochu chloupek, ale stále velmi pěkný. Délka 61cm, šířka pod průramky 45,5cm, délka rukávu od krku 71cm. Cena 130Kč + 27Kč poštovné obyčejně nebo + 57Kč poštovné doporučeně</td>\n",
       "      <td>[prodám, moc, pěkný, svetřík, vel, 38, zn, bleyle, pruhovanýv, barvách, fialová, zelená, růžová, černá, protkaný, lesklou, stříbrnou, nitkou, mírně, projmutý, v, pase, dělá, hezkou, postavu, materiál, 40, vlna, 40, polyacryl, 11, polyamid, 9, polyester, svetr, je, ve, velmi, dobrém, stavu, bez, flíčků, a, děr, trochu, chloupek, ale, stále, velmi, pěkný, délka, 61cm, šířka, pod, průramky, 45, 5cm, délka, rukávu, od, krku, 71cm, cena, 130kč, 27kč, poštovné, obyčejně, nebo, 57kč, poštovné, doporučeně]</td>\n",
       "    </tr>\n",
       "    <tr>\n",
       "      <th>11</th>\n",
       "      <td>Neunosim</td>\n",
       "      <td>[neunosim]</td>\n",
       "    </tr>\n",
       "    <tr>\n",
       "      <th>12</th>\n",
       "      <td>Anthropologie Colloquial Off-The-Shoulder Dress\\nNew without tags \\nSize 10\\nDesigned with a bit of whimsy and a whole lot of charm, the prints in this limited-edition collection - everything from seafaring sailboats to painterly s - speak to the heart and art of Anthropologie.\\nTour de Fleur: Spring's most colorful blooms, artfully - and emotively - arranged.\\nViscose; rayon lining\\nSide slant pockets\\nOff-the-shoulder, midi silhouette\\nPullover styling\\nMachine wash\\nImported\\nDimensions\\nArmpit to armpit 20”across \\nWaist 15.5” across \\nStandard falls 39\" from shoulder</td>\n",
       "      <td>[anthropologie, colloquial, off, the, shoulder, dress, new, without, tags, size, 10, designed, with, a, bit, of, whimsy, and, a, whole, lot, of, charm, the, prints, in, this, limited, edition, collection, everything, from, seafaring, sailboats, to, painterly, s, speak, to, the, heart, and, art, of, anthropologie, tour, de, fleur, spring, s, most, colorful, blooms, artfully, and, emotively, arranged, viscose, rayon, lining, side, slant, pockets, off, the, shoulder, midi, silhouette, pullover, styling, machine, wash, imported, dimensions, armpit, to, armpit, 20, across, waist, 15, 5, across, standard, falls, 39, from, shoulder]</td>\n",
       "    </tr>\n",
       "    <tr>\n",
       "      <th>15</th>\n",
       "      <td>Stunning Dress. Great Condition. Torrid. Black/ Dress.  Has Pockets. Length About 37 Inches. Plus Size 1\\n\\nBundle and Save!</td>\n",
       "      <td>[stunning, dress, great, condition, torrid, black, dress, has, pockets, length, about, 37, inches, plus, size, 1, bundle, and, save]</td>\n",
       "    </tr>\n",
       "    <tr>\n",
       "      <th>16</th>\n",
       "      <td>never worn</td>\n",
       "      <td>[never, worn]</td>\n",
       "    </tr>\n",
       "    <tr>\n",
       "      <th>17</th>\n",
       "      <td>H&amp;M\\nskoro nenošená\\nkupována jako oversized mikča k boyfriend jeans.</td>\n",
       "      <td>[h, m, skoro, nenošená, kupována, jako, oversized, mikča, k, boyfriend, jeans]</td>\n",
       "    </tr>\n",
       "    <tr>\n",
       "      <th>18</th>\n",
       "      <td>Šaty že 100% viskozy, výměně zde, bohužel jsou mi malé.</td>\n",
       "      <td>[šaty, že, 100, viskozy, výměně, zde, bohužel, jsou, mi, malé]</td>\n",
       "    </tr>\n",
       "    <tr>\n",
       "      <th>19</th>\n",
       "      <td>burgundy/maroon mini skater/circle skirt by Lauren Conrad with pink flower print, elastic waistband, a gathered/paper bag waistband look, and a thin ribbon type belt</td>\n",
       "      <td>[burgundy, maroon, mini, skater, circle, skirt, by, lauren, conrad, with, pink, flower, print, elastic, waistband, a, gathered, paper, bag, waistband, look, and, a, thin, ribbon, type, belt]</td>\n",
       "    </tr>\n",
       "    <tr>\n",
       "      <th>20</th>\n",
       "      <td>Boohoo geleta suknele, etiketej dydis uk12, eu40.\\nilgis be petnesu 120, su petnesom 140, juosmuo ramybes busenoj apie 30, tempiasi iki 50. po pazastim 45</td>\n",
       "      <td>[boohoo, geleta, suknele, etiketej, dydis, uk12, eu40, ilgis, be, petnesu, 120, su, petnesom, 140, juosmuo, ramybes, busenoj, apie, 30, tempiasi, iki, 50, po, pazastim, 45]</td>\n",
       "    </tr>\n",
       "    <tr>\n",
       "      <th>21</th>\n",
       "      <td>Vintage 70s eyelet pastel  v neck sweater\\nGreat condition no holes no stains one piece of extra string inside at neckline maybe where tag was ? \\nSlightly sheer \\nLikely 100% acrylic soft \\nPlease check your measurements carefully and ask questions before purchasing \\nUnderarm to underarm 19 1/2” so 39” around \\nUnderarm to bottom 17 3/4”\\nUnderarm to sleeve 18 1/2”\\nB11\\nStripes unique retro 70s 80s vsco geeky nerdy feminine girly boho.cute sexy revealing winter</td>\n",
       "      <td>[vintage, 70s, eyelet, pastel, v, neck, sweater, great, condition, no, holes, no, stains, one, piece, of, extra, string, inside, at, neckline, maybe, where, tag, was, slightly, sheer, likely, 100, acrylic, soft, please, check, your, measurements, carefully, and, ask, questions, before, purchasing, underarm, to, underarm, 19, 1, 2, so, 39, around, underarm, to, bottom, 17, 3, 4, underarm, to, sleeve, 18, 1, 2, b11, stripes, unique, retro, 70s, 80s, vsco, geeky, nerdy, feminine, girly, boho, cute, sexy, revealing, winter]</td>\n",
       "    </tr>\n",
       "    <tr>\n",
       "      <th>22</th>\n",
       "      <td>Worn once so perfect condition. Blue and white high waisted  trousers with tie belt. Side pockets. Front zip and bottom fastening. Size 8, quite tight fitting.</td>\n",
       "      <td>[worn, once, so, perfect, condition, blue, and, white, high, waisted, trousers, with, tie, belt, side, pockets, front, zip, and, bottom, fastening, size, 8, quite, tight, fitting]</td>\n",
       "    </tr>\n",
       "    <tr>\n",
       "      <th>23</th>\n",
       "      <td>Gap  Black &amp; white dress for sale, worn few times. Still in very good condition. Size 8</td>\n",
       "      <td>[gap, black, white, dress, for, sale, worn, few, times, still, in, very, good, condition, size, 8]</td>\n",
       "    </tr>\n",
       "    <tr>\n",
       "      <th>24</th>\n",
       "      <td>patterned kimono in a size medium. Silky feel, so comfy and easy to wear. Great little summer piece or just to add something to an outfit. Red, pink, black, white and ice blue colours, really pretty!!</td>\n",
       "      <td>[patterned, kimono, in, a, size, medium, silky, feel, so, comfy, and, easy, to, wear, great, little, summer, piece, or, just, to, add, something, to, an, outfit, red, pink, black, white, and, ice, blue, colours, really, pretty]</td>\n",
       "    </tr>\n",
       "    <tr>\n",
       "      <th>25</th>\n",
       "      <td>White and maroon red color block  varsity crew neck sweater. Dog logo on front. \\n\\nGood gently used condition, no noticeable big flaws!\\n\\nBrand is PINK by Victoria’s Secret. Size xs. \\n\\n#crew #varsity</td>\n",
       "      <td>[white, and, maroon, red, color, block, varsity, crew, neck, sweater, dog, logo, on, front, good, gently, used, condition, no, noticeable, big, flaws, brand, is, pink, by, victoria, s, secret, size, xs, crew, varsity]</td>\n",
       "    </tr>\n",
       "    <tr>\n",
       "      <th>26</th>\n",
       "      <td>megztukas be defektu naujas geletas gražus.</td>\n",
       "      <td>[megztukas, be, defektu, naujas, geletas, gražus]</td>\n",
       "    </tr>\n",
       "    <tr>\n",
       "      <th>27</th>\n",
       "      <td>Sleek Size Large navy blue and burgundy carnation print,  strappy back dress. Straps adjust by tying them at the bottom. Also has a zipper in back. **Great condition! #eigghtnunderr\\n\\n*Bundle &amp; save*\\n*Make me an offer*\\n☆Items listed are on other sites to be sold. Don't wait to buy! :)\\n*Smoke &amp; Pet free home\\n\\n\\n</td>\n",
       "      <td>[sleek, size, large, navy, blue, and, burgundy, carnation, print, strappy, back, dress, straps, adjust, by, tying, them, at, the, bottom, also, has, a, zipper, in, back, great, condition, eigghtnunderr, bundle, save, make, me, an, offer, items, listed, are, on, other, sites, to, be, sold, don, t, wait, to, buy, smoke, pet, free, home]</td>\n",
       "    </tr>\n",
       "    <tr>\n",
       "      <th>28</th>\n",
       "      <td>Worn just a handful of times. Highwaisted and fitted. Size 10 but come up a little small, depending on how you like the fit (I prefer loose).</td>\n",
       "      <td>[worn, just, a, handful, of, times, highwaisted, and, fitted, size, 10, but, come, up, a, little, small, depending, on, how, you, like, the, fit, i, prefer, loose]</td>\n",
       "    </tr>\n",
       "    <tr>\n",
       "      <th>30</th>\n",
       "      <td>size 12 would fit 10-12. perfect condition. can be sold separately for £6</td>\n",
       "      <td>[size, 12, would, fit, 10, 12, perfect, condition, can, be, sold, separately, for, 6]</td>\n",
       "    </tr>\n",
       "    <tr>\n",
       "      <th>32</th>\n",
       "      <td>Flat lay:\\nBust 15”\\nWaist 12-14”\\nLength 24”\\nZip closure</td>\n",
       "      <td>[flat, lay, bust, 15, waist, 12, 14, length, 24, zip, closure]</td>\n",
       "    </tr>\n",
       "    <tr>\n",
       "      <th>33</th>\n",
       "      <td>Abercrombie and Fitch Blue White  Aline Scuba Nautical Dress. Size medium. Open triangle detail on the back. Zipper located on the side. 92% polyester and 8% elastane. Size Medium. Great condition. No flaws/stains. \\n\\nApproximate Measurements:\\nBust (under pit to under pit and doubled): 33”\\nWaist: 26”\\nTotal length: 33”</td>\n",
       "      <td>[abercrombie, and, fitch, blue, white, aline, scuba, nautical, dress, size, medium, open, triangle, detail, on, the, back, zipper, located, on, the, side, 92, polyester, and, 8, elastane, size, medium, great, condition, no, flaws, stains, approximate, measurements, bust, under, pit, to, under, pit, and, doubled, 33, waist, 26, total, length, 33]</td>\n",
       "    </tr>\n",
       "    <tr>\n",
       "      <th>34</th>\n",
       "      <td>Būtų puiki, bet kartą dėvėjau ir rankinukas patempė kelis siūlus. Parduodu, nes man mažoka per krūtinę. Ji labiau tikų XS-S merginai, aš labiau S-M tipo 🙈\\nLaisvinu spintoje vietą, tad jei perkate daugiau nei vieną, siuntimas nemokamas, o šiaip, kainos derinamos 😁</td>\n",
       "      <td>[būtų, puiki, bet, kartą, dėvėjau, ir, rankinukas, patempė, kelis, siūlus, parduodu, nes, man, mažoka, per, krūtinę, ji, labiau, tikų, xs, s, merginai, aš, labiau, s, m, tipo, laisvinu, spintoje, vietą, tad, jei, perkate, daugiau, nei, vieną, siuntimas, nemokamas, o, šiaip, kainos, derinamos]</td>\n",
       "    </tr>\n",
       "    <tr>\n",
       "      <th>35</th>\n",
       "      <td>This gorgeous Phase Eight ruched dress is stretchy, sexy &amp; figure hugging. Knee length, it is sleeveless with a V neck with flattering draping. The dress is lined.\\n\\nFabric and care: 92% polyester, 8% elastane\\nHand wash or delicate dry clean.\\n\\nBust 34\"\\nWaist 30\"\\nHips 34\"\\nLength: 41.5\" (will rise when worn)</td>\n",
       "      <td>[this, gorgeous, phase, eight, ruched, dress, is, stretchy, sexy, figure, hugging, knee, length, it, is, sleeveless, with, a, v, neck, with, flattering, draping, the, dress, is, lined, fabric, and, care, 92, polyester, 8, elastane, hand, wash, or, delicate, dry, clean, bust, 34, waist, 30, hips, 34, length, 41, 5, will, rise, when, worn]</td>\n",
       "    </tr>\n",
       "    <tr>\n",
       "      <th>36</th>\n",
       "      <td>worn once! It is in immaculate condition and it’s amazingly.</td>\n",
       "      <td>[worn, once, it, is, in, immaculate, condition, and, it, s, amazingly]</td>\n",
       "    </tr>\n",
       "    <tr>\n",
       "      <th>37</th>\n",
       "      <td>Black denim mini skirt. Waist 13in, length 15in\\n\\nAny measurements given are approximate. I accept reasonable offers and love giving deals on bundles! No further modeling, no trades. Happy shopping!</td>\n",
       "      <td>[black, denim, mini, skirt, waist, 13in, length, 15in, any, measurements, given, are, approximate, i, accept, reasonable, offers, and, love, giving, deals, on, bundles, no, further, modeling, no, trades, happy, shopping]</td>\n",
       "    </tr>\n",
       "    <tr>\n",
       "      <th>38</th>\n",
       "      <td>•size: small\\n•dark green  with tan flowers \\n•side slits\\n•sleeveless kimono\\n•sweeper\\n•sleeveless cardigan \\n•perfect condition</td>\n",
       "      <td>[size, small, dark, green, with, tan, flowers, side, slits, sleeveless, kimono, sweeper, sleeveless, cardigan, perfect, condition]</td>\n",
       "    </tr>\n",
       "    <tr>\n",
       "      <th>40</th>\n",
       "      <td>kalidascope Yellow  Summer Dress Size 14, the skirt is in 3 tiers, length at back is 44\" and the front measuring from the Clevage is 37\" approx\\n\\n￼</td>\n",
       "      <td>[kalidascope, yellow, summer, dress, size, 14, the, skirt, is, in, 3, tiers, length, at, back, is, 44, and, the, front, measuring, from, the, clevage, is, 37, approx]</td>\n",
       "    </tr>\n",
       "    <tr>\n",
       "      <th>41</th>\n",
       "      <td>Hezké šaty na jaro/podzim (jsou z polyesterového úpletu) pořídila jsem je na svatbu, nakonec jsem je neměla na sobě, protože ten den bylo přes 30 stupňů. Zbytečně mi tu leží ve skříni. Šířka je 65 cm, přes prsa 68 cm. Délka od ramene je 107 cm. Mám nastavenou slevu při odběru více věcí.</td>\n",
       "      <td>[hezké, šaty, na, jaro, podzim, jsou, z, polyesterového, úpletu, pořídila, jsem, je, na, svatbu, nakonec, jsem, je, neměla, na, sobě, protože, ten, den, bylo, přes, 30, stupňů, zbytečně, mi, tu, leží, ve, skříni, šířka, je, 65, cm, přes, prsa, 68, cm, délka, od, ramene, je, 107, cm, mám, nastavenou, slevu, při, odběru, více, věcí]</td>\n",
       "    </tr>\n",
       "    <tr>\n",
       "      <th>42</th>\n",
       "      <td>super flattering stripy navy &amp; white  dress - see all pics so you can see how the cut of the dress makes it fit in all the right places\\nworn but v good condition \\nfrom Aussie brand Marcs - size XS - UK size 8\\n\\nplease check out my other items for great bundle discounts</td>\n",
       "      <td>[super, flattering, stripy, navy, white, dress, see, all, pics, so, you, can, see, how, the, cut, of, the, dress, makes, it, fit, in, all, the, right, places, worn, but, v, good, condition, from, aussie, brand, marcs, size, xs, uk, size, 8, please, check, out, my, other, items, for, great, bundle, discounts]</td>\n",
       "    </tr>\n",
       "    <tr>\n",
       "      <th>43</th>\n",
       "      <td>worn once</td>\n",
       "      <td>[worn, once]</td>\n",
       "    </tr>\n",
       "    <tr>\n",
       "      <th>44</th>\n",
       "      <td>Dark brown wash skinny jeans. Some wear to seams on inner thighs and small mark below back pocket as pictured. Size 28. Waist 14.5\", inseam 31\"</td>\n",
       "      <td>[dark, brown, wash, skinny, jeans, some, wear, to, seams, on, inner, thighs, and, small, mark, below, back, pocket, as, pictured, size, 28, waist, 14, 5, inseam, 31]</td>\n",
       "    </tr>\n",
       "    <tr>\n",
       "      <th>45</th>\n",
       "      <td>Lengvai krentanti raudona suknelė, ties pečiais eina blizgučiai</td>\n",
       "      <td>[lengvai, krentanti, raudona, suknelė, ties, pečiais, eina, blizgučiai]</td>\n",
       "    </tr>\n",
       "    <tr>\n",
       "      <th>46</th>\n",
       "      <td>Light blue paisley print shift dress. Brand is Lulu’s and size is a Small but fits more like a Medium/Large. I wear a Small but it looked like a sack on me. You’ve got to have some goods in order to fill it out, lol.</td>\n",
       "      <td>[light, blue, paisley, print, shift, dress, brand, is, lulu, s, and, size, is, a, small, but, fits, more, like, a, medium, large, i, wear, a, small, but, it, looked, like, a, sack, on, me, you, ve, got, to, have, some, goods, in, order, to, fill, it, out, lol]</td>\n",
       "    </tr>\n",
       "    <tr>\n",
       "      <th>47</th>\n",
       "      <td>Nauji.</td>\n",
       "      <td>[nauji]</td>\n",
       "    </tr>\n",
       "    <tr>\n",
       "      <th>48</th>\n",
       "      <td>Luxusní bílé 7/8 kalhoty Guess jeans\\n\\nExtra pružný materiál, příjemný na léto \\nVel. 26 / S \\n\\nPc 99euro / 2600,- \\n\\nNošené,  stav zohledňený v nízké ceně, barva bílá \\n\\n#luxus #styl #dnesnosim #fashion #guess #guessjeans #bilekalhoty #leto #dnesnosim #trendy #summer #hot #luxury</td>\n",
       "      <td>[luxusní, bílé, 7, 8, kalhoty, guess, jeans, extra, pružný, materiál, příjemný, na, léto, vel, 26, s, pc, 99euro, 2600, nošené, stav, zohledňený, v, nízké, ceně, barva, bílá, luxus, styl, dnesnosim, fashion, guess, guessjeans, bilekalhoty, leto, dnesnosim, trendy, summer, hot, luxury]</td>\n",
       "    </tr>\n",
       "    <tr>\n",
       "      <th>49</th>\n",
       "      <td>never worn</td>\n",
       "      <td>[never, worn]</td>\n",
       "    </tr>\n",
       "    <tr>\n",
       "      <th>50</th>\n",
       "      <td>Nenešiotos laisvo stiliaus dryžuotos kelnės. Turi kišenes priekyje. Išmatavimai: juosmuo - 35 cm, visas ilgis - 82 cm.</td>\n",
       "      <td>[nenešiotos, laisvo, stiliaus, dryžuotos, kelnės, turi, kišenes, priekyje, išmatavimai, juosmuo, 35, cm, visas, ilgis, 82, cm]</td>\n",
       "    </tr>\n",
       "    <tr>\n",
       "      <th>51</th>\n",
       "      <td>Cute gray and white  sweater \\nGreat little braided detail on the shoulder area \\nLong sleeved \\n\\nSmoke free 💕 pet friendly home 🏠🐶 \\n\\n🌻 ships in 24 hours 🌻</td>\n",
       "      <td>[cute, gray, and, white, sweater, great, little, braided, detail, on, the, shoulder, area, long, sleeved, smoke, free, pet, friendly, home, ships, in, 24, hours]</td>\n",
       "    </tr>\n",
       "    <tr>\n",
       "      <th>52</th>\n",
       "      <td>\\npas 2* 43\\ndélka 28</td>\n",
       "      <td>[pas, 2, 43, délka, 28]</td>\n",
       "    </tr>\n",
       "    <tr>\n",
       "      <th>53</th>\n",
       "      <td>Puošni,blizgaus audinio,elegantiška</td>\n",
       "      <td>[puošni, blizgaus, audinio, elegantiška]</td>\n",
       "    </tr>\n",
       "    <tr>\n",
       "      <th>54</th>\n",
       "      <td>Nuostabi geleta suknele tamprios medziagos, uztrauktukas nugaros puseje,modelis XL</td>\n",
       "      <td>[nuostabi, geleta, suknele, tamprios, medziagos, uztrauktukas, nugaros, puseje, modelis, xl]</td>\n",
       "    </tr>\n",
       "  </tbody>\n",
       "</table>\n",
       "</div>"
      ],
      "text/plain": [
       "                                                                                                                                                                                                                                                                                                                                                                                                                                                                                                                                                                                           description  \\\n",
       "0                                                                                                                                                                                                                                                                                                                                                                                                                                                                                                   beautiful summer dress by zara only worn once.\\n\\n#zara #zarawoman #zaradress #summerdress #dress    \n",
       "1                                                                                                                                                                                                                                                                                                                                                                 Maroon denim colored high rise jean shorts from Charlotte Russe size 2. Fits sizes 25-26 and goes up to right under belly button on a 5”7 tall person. Shorts are in good condition but there is slight wear as pictured in the back   \n",
       "2                                                                                                                                                                                                                                                                                                                                                                                                                                                                                                                                                                             brand-new without tags x   \n",
       "3                                                                                                                                                                                                                                                                                                                                                                                                                                                                         Vasariška trumpa lengva medvilninė suknytė, be defektų.\\nIlgis 83cm, plotis tarp pažastų 37cm.\\n#terranova #suknele #geleta    \n",
       "4                                                                                                                                                                                                                                                                                                                                                                                                                                                                           size small, worn; distressed look. one has a pain stain, see pics \\nWILL THROW IN FREE W ANY BUNDLE IF ASKED \\n#jsfcloset    \n",
       "5                                                                                                                                                                                                                                                                                                                                                                                                                                                                                 Lengva ir žaisminga vasarinė Zara suknelė. Nešiota, tačiau geros būklės. Dydis labiau M.\\n\\nPlius siuntimo išlaidos.   \n",
       "6                                                                                                                                                                                                                                                                                                                                                                                                                              banned tartan skinny jeans \\n\\nsize 14 ladies \\n\\nnot worn as don’t fit me!! \\n\\ncan post via Royal Mail second class singed for £4 \\n\\npayment via PayPal only please    \n",
       "7                                                                                                                                                                                                                                                                                                                                                 This dress is super comfortable, it's bodycon and midi. I've used it a few times but it's in really good condition, it's perfect for spring/autumn because it's warm but not too much!\\n\\nThe white stripes have slightly golden shimmer on them :)    \n",
       "8                                                                                                                                                                                                                                                                                                                                                                                                                                                                                                                                                                                 nové, neunosila jsem   \n",
       "9                                                                                                                                                                                                                                                                                                                                                                                                                                                                                                                                                                                 very good condition    \n",
       "10                                                                                                                     Prodám moc pěkný svetřík, vel. 38, zn. Bleyle. Pruhovanýv barvách fialová, zelená, růžová, černá, protkaný lesklou stříbrnou nitkou. Mírně projmutý v pase, dělá hezkou postavu. Materiál 40% vlna, 40% polyacryl, 11%  polyamid, 9% polyester. Svetr je ve velmi dobrém stavu, bez flíčků a děr, trochu chloupek, ale stále velmi pěkný. Délka 61cm, šířka pod průramky 45,5cm, délka rukávu od krku 71cm. Cena 130Kč + 27Kč poštovné obyčejně nebo + 57Kč poštovné doporučeně   \n",
       "11                                                                                                                                                                                                                                                                                                                                                                                                                                                                                                                                                                                           Neunosim    \n",
       "12  Anthropologie Colloquial Off-The-Shoulder Dress\\nNew without tags \\nSize 10\\nDesigned with a bit of whimsy and a whole lot of charm, the prints in this limited-edition collection - everything from seafaring sailboats to painterly s - speak to the heart and art of Anthropologie.\\nTour de Fleur: Spring's most colorful blooms, artfully - and emotively - arranged.\\nViscose; rayon lining\\nSide slant pockets\\nOff-the-shoulder, midi silhouette\\nPullover styling\\nMachine wash\\nImported\\nDimensions\\nArmpit to armpit 20”across \\nWaist 15.5” across \\nStandard falls 39\" from shoulder   \n",
       "15                                                                                                                                                                                                                                                                                                                                                                                                                                                                        Stunning Dress. Great Condition. Torrid. Black/ Dress.  Has Pockets. Length About 37 Inches. Plus Size 1\\n\\nBundle and Save!   \n",
       "16                                                                                                                                                                                                                                                                                                                                                                                                                                                                                                                                                                                         never worn    \n",
       "17                                                                                                                                                                                                                                                                                                                                                                                                                                                                                                                               H&M\\nskoro nenošená\\nkupována jako oversized mikča k boyfriend jeans.   \n",
       "18                                                                                                                                                                                                                                                                                                                                                                                                                                                                                                                                            Šaty že 100% viskozy, výměně zde, bohužel jsou mi malé.    \n",
       "19                                                                                                                                                                                                                                                                                                                                                                                                                               burgundy/maroon mini skater/circle skirt by Lauren Conrad with pink flower print, elastic waistband, a gathered/paper bag waistband look, and a thin ribbon type belt   \n",
       "20                                                                                                                                                                                                                                                                                                                                                                                                                                          Boohoo geleta suknele, etiketej dydis uk12, eu40.\\nilgis be petnesu 120, su petnesom 140, juosmuo ramybes busenoj apie 30, tempiasi iki 50. po pazastim 45   \n",
       "21                                                                                                                Vintage 70s eyelet pastel  v neck sweater\\nGreat condition no holes no stains one piece of extra string inside at neckline maybe where tag was ? \\nSlightly sheer \\nLikely 100% acrylic soft \\nPlease check your measurements carefully and ask questions before purchasing \\nUnderarm to underarm 19 1/2” so 39” around \\nUnderarm to bottom 17 3/4”\\nUnderarm to sleeve 18 1/2”\\nB11\\nStripes unique retro 70s 80s vsco geeky nerdy feminine girly boho.cute sexy revealing winter   \n",
       "22                                                                                                                                                                                                                                                                                                                                                                                                                                     Worn once so perfect condition. Blue and white high waisted  trousers with tie belt. Side pockets. Front zip and bottom fastening. Size 8, quite tight fitting.   \n",
       "23                                                                                                                                                                                                                                                                                                                                                                                                                                                                                                             Gap  Black & white dress for sale, worn few times. Still in very good condition. Size 8   \n",
       "24                                                                                                                                                                                                                                                                                                                                                                                            patterned kimono in a size medium. Silky feel, so comfy and easy to wear. Great little summer piece or just to add something to an outfit. Red, pink, black, white and ice blue colours, really pretty!!   \n",
       "25                                                                                                                                                                                                                                                                                                                                                                                         White and maroon red color block  varsity crew neck sweater. Dog logo on front. \\n\\nGood gently used condition, no noticeable big flaws!\\n\\nBrand is PINK by Victoria’s Secret. Size xs. \\n\\n#crew #varsity   \n",
       "26                                                                                                                                                                                                                                                                                                                                                                                                                                                                                                                                                         megztukas be defektu naujas geletas gražus.   \n",
       "27                                                                                                                                                                                                                                                                     Sleek Size Large navy blue and burgundy carnation print,  strappy back dress. Straps adjust by tying them at the bottom. Also has a zipper in back. **Great condition! #eigghtnunderr\\n\\n*Bundle & save*\\n*Make me an offer*\\n☆Items listed are on other sites to be sold. Don't wait to buy! :)\\n*Smoke & Pet free home\\n\\n\\n    \n",
       "28                                                                                                                                                                                                                                                                                                                                                                                                                                                      Worn just a handful of times. Highwaisted and fitted. Size 10 but come up a little small, depending on how you like the fit (I prefer loose).    \n",
       "30                                                                                                                                                                                                                                                                                                                                                                                                                                                                                                                           size 12 would fit 10-12. perfect condition. can be sold separately for £6   \n",
       "32                                                                                                                                                                                                                                                                                                                                                                                                                                                                                                                                         Flat lay:\\nBust 15”\\nWaist 12-14”\\nLength 24”\\nZip closure    \n",
       "33                                                                                                                                                                                                                                                                 Abercrombie and Fitch Blue White  Aline Scuba Nautical Dress. Size medium. Open triangle detail on the back. Zipper located on the side. 92% polyester and 8% elastane. Size Medium. Great condition. No flaws/stains. \\n\\nApproximate Measurements:\\nBust (under pit to under pit and doubled): 33”\\nWaist: 26”\\nTotal length: 33”   \n",
       "34                                                                                                                                                                                                                                                                                                                            Būtų puiki, bet kartą dėvėjau ir rankinukas patempė kelis siūlus. Parduodu, nes man mažoka per krūtinę. Ji labiau tikų XS-S merginai, aš labiau S-M tipo 🙈\\nLaisvinu spintoje vietą, tad jei perkate daugiau nei vieną, siuntimas nemokamas, o šiaip, kainos derinamos 😁   \n",
       "35                                                                                                                                                                                                                                                                          This gorgeous Phase Eight ruched dress is stretchy, sexy & figure hugging. Knee length, it is sleeveless with a V neck with flattering draping. The dress is lined.\\n\\nFabric and care: 92% polyester, 8% elastane\\nHand wash or delicate dry clean.\\n\\nBust 34\"\\nWaist 30\"\\nHips 34\"\\nLength: 41.5\" (will rise when worn)   \n",
       "36                                                                                                                                                                                                                                                                                                                                                                                                                                                                                                                                       worn once! It is in immaculate condition and it’s amazingly.    \n",
       "37                                                                                                                                                                                                                                                                                                                                                                                             Black denim mini skirt. Waist 13in, length 15in\\n\\nAny measurements given are approximate. I accept reasonable offers and love giving deals on bundles! No further modeling, no trades. Happy shopping!   \n",
       "38                                                                                                                                                                                                                                                                                                                                                                                                                                                                  •size: small\\n•dark green  with tan flowers \\n•side slits\\n•sleeveless kimono\\n•sweeper\\n•sleeveless cardigan \\n•perfect condition   \n",
       "40                                                                                                                                                                                                                                                                                                                                                                                                                                                kalidascope Yellow  Summer Dress Size 14, the skirt is in 3 tiers, length at back is 44\" and the front measuring from the Clevage is 37\" approx\\n\\n￼   \n",
       "41                                                                                                                                                                                                                                                                                                     Hezké šaty na jaro/podzim (jsou z polyesterového úpletu) pořídila jsem je na svatbu, nakonec jsem je neměla na sobě, protože ten den bylo přes 30 stupňů. Zbytečně mi tu leží ve skříni. Šířka je 65 cm, přes prsa 68 cm. Délka od ramene je 107 cm. Mám nastavenou slevu při odběru více věcí.   \n",
       "42                                                                                                                                                                                                                                                                                                                   super flattering stripy navy & white  dress - see all pics so you can see how the cut of the dress makes it fit in all the right places\\nworn but v good condition \\nfrom Aussie brand Marcs - size XS - UK size 8\\n\\nplease check out my other items for great bundle discounts    \n",
       "43                                                                                                                                                                                                                                                                                                                                                                                                                                                                                                                                                                                          worn once    \n",
       "44                                                                                                                                                                                                                                                                                                                                                                                                                                                     Dark brown wash skinny jeans. Some wear to seams on inner thighs and small mark below back pocket as pictured. Size 28. Waist 14.5\", inseam 31\"   \n",
       "45                                                                                                                                                                                                                                                                                                                                                                                                                                                                                                                                     Lengvai krentanti raudona suknelė, ties pečiais eina blizgučiai   \n",
       "46                                                                                                                                                                                                                                                                                                                                                                           Light blue paisley print shift dress. Brand is Lulu’s and size is a Small but fits more like a Medium/Large. I wear a Small but it looked like a sack on me. You’ve got to have some goods in order to fill it out, lol.    \n",
       "47                                                                                                                                                                                                                                                                                                                                                                                                                                                                                                                                                                                             Nauji.    \n",
       "48                                                                                                                                                                                                                                                                                                      Luxusní bílé 7/8 kalhoty Guess jeans\\n\\nExtra pružný materiál, příjemný na léto \\nVel. 26 / S \\n\\nPc 99euro / 2600,- \\n\\nNošené,  stav zohledňený v nízké ceně, barva bílá \\n\\n#luxus #styl #dnesnosim #fashion #guess #guessjeans #bilekalhoty #leto #dnesnosim #trendy #summer #hot #luxury    \n",
       "49                                                                                                                                                                                                                                                                                                                                                                                                                                                                                                                                                                                         never worn    \n",
       "50                                                                                                                                                                                                                                                                                                                                                                                                                                                                              Nenešiotos laisvo stiliaus dryžuotos kelnės. Turi kišenes priekyje. Išmatavimai: juosmuo - 35 cm, visas ilgis - 82 cm.   \n",
       "51                                                                                                                                                                                                                                                                                                                                                                                                                                      Cute gray and white  sweater \\nGreat little braided detail on the shoulder area \\nLong sleeved \\n\\nSmoke free 💕 pet friendly home 🏠🐶 \\n\\n🌻 ships in 24 hours 🌻   \n",
       "52                                                                                                                                                                                                                                                                                                                                                                                                                                                                                                                                                                               \\npas 2* 43\\ndélka 28   \n",
       "53                                                                                                                                                                                                                                                                                                                                                                                                                                                                                                                                                                 Puošni,blizgaus audinio,elegantiška   \n",
       "54                                                                                                                                                                                                                                                                                                                                                                                                                                                                                                                  Nuostabi geleta suknele tamprios medziagos, uztrauktukas nugaros puseje,modelis XL   \n",
       "\n",
       "                                                                                                                                                                                                                                                                                                                                                                                                                                                                                                                                                                                                                                                 description2  \n",
       "0                                                                                                                                                                                                                                                                                                                                                                                                                                                                                                                                                      [beautiful, summer, dress, by, zara, only, worn, once, zara, zarawoman, zaradress, summerdress, dress]  \n",
       "1                                                                                                                                                                                                                                                                                                                                                                            [maroon, denim, colored, high, rise, jean, shorts, from, charlotte, russe, size, 2, fits, sizes, 25, 26, and, goes, up, to, right, under, belly, button, on, a, 5, 7, tall, person, shorts, are, in, good, condition, but, there, is, slight, wear, as, pictured, in, the, back]  \n",
       "2                                                                                                                                                                                                                                                                                                                                                                                                                                                                                                                                                                                                                              [brand, new, without, tags, x]  \n",
       "3                                                                                                                                                                                                                                                                                                                                                                                                                                                                                                                         [vasariška, trumpa, lengva, medvilninė, suknytė, be, defektų, ilgis, 83cm, plotis, tarp, pažastų, 37cm, terranova, suknele, geleta]  \n",
       "4                                                                                                                                                                                                                                                                                                                                                                                                                                                                                                                     [size, small, worn, distressed, look, one, has, a, pain, stain, see, pics, will, throw, in, free, w, any, bundle, if, asked, jsfcloset]  \n",
       "5                                                                                                                                                                                                                                                                                                                                                                                                                                                                                                                               [lengva, ir, žaisminga, vasarinė, zara, suknelė, nešiota, tačiau, geros, būklės, dydis, labiau, m, plius, siuntimo, išlaidos]  \n",
       "6                                                                                                                                                                                                                                                                                                                                                                                                                                                                           [banned, tartan, skinny, jeans, size, 14, ladies, not, worn, as, don, t, fit, me, can, post, via, royal, mail, second, class, singed, for, 4, payment, via, paypal, only, please]  \n",
       "7                                                                                                                                                                                                                                                                                                                                                                   [this, dress, is, super, comfortable, it, s, bodycon, and, midi, i, ve, used, it, a, few, times, but, it, s, in, really, good, condition, it, s, perfect, for, spring, autumn, because, it, s, warm, but, not, too, much, the, white, stripes, have, slightly, golden, shimmer, on, them]  \n",
       "8                                                                                                                                                                                                                                                                                                                                                                                                                                                                                                                                                                                                                                     [nové, neunosila, jsem]  \n",
       "9                                                                                                                                                                                                                                                                                                                                                                                                                                                                                                                                                                                                                                     [very, good, condition]  \n",
       "10                                                                                                                                    [prodám, moc, pěkný, svetřík, vel, 38, zn, bleyle, pruhovanýv, barvách, fialová, zelená, růžová, černá, protkaný, lesklou, stříbrnou, nitkou, mírně, projmutý, v, pase, dělá, hezkou, postavu, materiál, 40, vlna, 40, polyacryl, 11, polyamid, 9, polyester, svetr, je, ve, velmi, dobrém, stavu, bez, flíčků, a, děr, trochu, chloupek, ale, stále, velmi, pěkný, délka, 61cm, šířka, pod, průramky, 45, 5cm, délka, rukávu, od, krku, 71cm, cena, 130kč, 27kč, poštovné, obyčejně, nebo, 57kč, poštovné, doporučeně]  \n",
       "11                                                                                                                                                                                                                                                                                                                                                                                                                                                                                                                                                                                                                                                 [neunosim]  \n",
       "12  [anthropologie, colloquial, off, the, shoulder, dress, new, without, tags, size, 10, designed, with, a, bit, of, whimsy, and, a, whole, lot, of, charm, the, prints, in, this, limited, edition, collection, everything, from, seafaring, sailboats, to, painterly, s, speak, to, the, heart, and, art, of, anthropologie, tour, de, fleur, spring, s, most, colorful, blooms, artfully, and, emotively, arranged, viscose, rayon, lining, side, slant, pockets, off, the, shoulder, midi, silhouette, pullover, styling, machine, wash, imported, dimensions, armpit, to, armpit, 20, across, waist, 15, 5, across, standard, falls, 39, from, shoulder]  \n",
       "15                                                                                                                                                                                                                                                                                                                                                                                                                                                                                                                       [stunning, dress, great, condition, torrid, black, dress, has, pockets, length, about, 37, inches, plus, size, 1, bundle, and, save]  \n",
       "16                                                                                                                                                                                                                                                                                                                                                                                                                                                                                                                                                                                                                                              [never, worn]  \n",
       "17                                                                                                                                                                                                                                                                                                                                                                                                                                                                                                                                                                             [h, m, skoro, nenošená, kupována, jako, oversized, mikča, k, boyfriend, jeans]  \n",
       "18                                                                                                                                                                                                                                                                                                                                                                                                                                                                                                                                                                                             [šaty, že, 100, viskozy, výměně, zde, bohužel, jsou, mi, malé]  \n",
       "19                                                                                                                                                                                                                                                                                                                                                                                                                                                             [burgundy, maroon, mini, skater, circle, skirt, by, lauren, conrad, with, pink, flower, print, elastic, waistband, a, gathered, paper, bag, waistband, look, and, a, thin, ribbon, type, belt]  \n",
       "20                                                                                                                                                                                                                                                                                                                                                                                                                                                                               [boohoo, geleta, suknele, etiketej, dydis, uk12, eu40, ilgis, be, petnesu, 120, su, petnesom, 140, juosmuo, ramybes, busenoj, apie, 30, tempiasi, iki, 50, po, pazastim, 45]  \n",
       "21                                                                                                              [vintage, 70s, eyelet, pastel, v, neck, sweater, great, condition, no, holes, no, stains, one, piece, of, extra, string, inside, at, neckline, maybe, where, tag, was, slightly, sheer, likely, 100, acrylic, soft, please, check, your, measurements, carefully, and, ask, questions, before, purchasing, underarm, to, underarm, 19, 1, 2, so, 39, around, underarm, to, bottom, 17, 3, 4, underarm, to, sleeve, 18, 1, 2, b11, stripes, unique, retro, 70s, 80s, vsco, geeky, nerdy, feminine, girly, boho, cute, sexy, revealing, winter]  \n",
       "22                                                                                                                                                                                                                                                                                                                                                                                                                                                                        [worn, once, so, perfect, condition, blue, and, white, high, waisted, trousers, with, tie, belt, side, pockets, front, zip, and, bottom, fastening, size, 8, quite, tight, fitting]  \n",
       "23                                                                                                                                                                                                                                                                                                                                                                                                                                                                                                                                                         [gap, black, white, dress, for, sale, worn, few, times, still, in, very, good, condition, size, 8]  \n",
       "24                                                                                                                                                                                                                                                                                                                                                                                                                        [patterned, kimono, in, a, size, medium, silky, feel, so, comfy, and, easy, to, wear, great, little, summer, piece, or, just, to, add, something, to, an, outfit, red, pink, black, white, and, ice, blue, colours, really, pretty]  \n",
       "25                                                                                                                                                                                                                                                                                                                                                                                                                                  [white, and, maroon, red, color, block, varsity, crew, neck, sweater, dog, logo, on, front, good, gently, used, condition, no, noticeable, big, flaws, brand, is, pink, by, victoria, s, secret, size, xs, crew, varsity]  \n",
       "26                                                                                                                                                                                                                                                                                                                                                                                                                                                                                                                                                                                                          [megztukas, be, defektu, naujas, geletas, gražus]  \n",
       "27                                                                                                                                                                                                                                                                                                           [sleek, size, large, navy, blue, and, burgundy, carnation, print, strappy, back, dress, straps, adjust, by, tying, them, at, the, bottom, also, has, a, zipper, in, back, great, condition, eigghtnunderr, bundle, save, make, me, an, offer, items, listed, are, on, other, sites, to, be, sold, don, t, wait, to, buy, smoke, pet, free, home]  \n",
       "28                                                                                                                                                                                                                                                                                                                                                                                                                                                                                        [worn, just, a, handful, of, times, highwaisted, and, fitted, size, 10, but, come, up, a, little, small, depending, on, how, you, like, the, fit, i, prefer, loose]  \n",
       "30                                                                                                                                                                                                                                                                                                                                                                                                                                                                                                                                                                      [size, 12, would, fit, 10, 12, perfect, condition, can, be, sold, separately, for, 6]  \n",
       "32                                                                                                                                                                                                                                                                                                                                                                                                                                                                                                                                                                                             [flat, lay, bust, 15, waist, 12, 14, length, 24, zip, closure]  \n",
       "33                                                                                                                                                                                                                                                                                                [abercrombie, and, fitch, blue, white, aline, scuba, nautical, dress, size, medium, open, triangle, detail, on, the, back, zipper, located, on, the, side, 92, polyester, and, 8, elastane, size, medium, great, condition, no, flaws, stains, approximate, measurements, bust, under, pit, to, under, pit, and, doubled, 33, waist, 26, total, length, 33]  \n",
       "34                                                                                                                                                                                                                                                                                                                                                      [būtų, puiki, bet, kartą, dėvėjau, ir, rankinukas, patempė, kelis, siūlus, parduodu, nes, man, mažoka, per, krūtinę, ji, labiau, tikų, xs, s, merginai, aš, labiau, s, m, tipo, laisvinu, spintoje, vietą, tad, jei, perkate, daugiau, nei, vieną, siuntimas, nemokamas, o, šiaip, kainos, derinamos]  \n",
       "35                                                                                                                                                                                                                                                                                                        [this, gorgeous, phase, eight, ruched, dress, is, stretchy, sexy, figure, hugging, knee, length, it, is, sleeveless, with, a, v, neck, with, flattering, draping, the, dress, is, lined, fabric, and, care, 92, polyester, 8, elastane, hand, wash, or, delicate, dry, clean, bust, 34, waist, 30, hips, 34, length, 41, 5, will, rise, when, worn]  \n",
       "36                                                                                                                                                                                                                                                                                                                                                                                                                                                                                                                                                                                     [worn, once, it, is, in, immaculate, condition, and, it, s, amazingly]  \n",
       "37                                                                                                                                                                                                                                                                                                                                                                                                                               [black, denim, mini, skirt, waist, 13in, length, 15in, any, measurements, given, are, approximate, i, accept, reasonable, offers, and, love, giving, deals, on, bundles, no, further, modeling, no, trades, happy, shopping]  \n",
       "38                                                                                                                                                                                                                                                                                                                                                                                                                                                                                                                         [size, small, dark, green, with, tan, flowers, side, slits, sleeveless, kimono, sweeper, sleeveless, cardigan, perfect, condition]  \n",
       "40                                                                                                                                                                                                                                                                                                                                                                                                                                                                                     [kalidascope, yellow, summer, dress, size, 14, the, skirt, is, in, 3, tiers, length, at, back, is, 44, and, the, front, measuring, from, the, clevage, is, 37, approx]  \n",
       "41                                                                                                                                                                                                                                                                                                               [hezké, šaty, na, jaro, podzim, jsou, z, polyesterového, úpletu, pořídila, jsem, je, na, svatbu, nakonec, jsem, je, neměla, na, sobě, protože, ten, den, bylo, přes, 30, stupňů, zbytečně, mi, tu, leží, ve, skříni, šířka, je, 65, cm, přes, prsa, 68, cm, délka, od, ramene, je, 107, cm, mám, nastavenou, slevu, při, odběru, více, věcí]  \n",
       "42                                                                                                                                                                                                                                                                                                                                      [super, flattering, stripy, navy, white, dress, see, all, pics, so, you, can, see, how, the, cut, of, the, dress, makes, it, fit, in, all, the, right, places, worn, but, v, good, condition, from, aussie, brand, marcs, size, xs, uk, size, 8, please, check, out, my, other, items, for, great, bundle, discounts]  \n",
       "43                                                                                                                                                                                                                                                                                                                                                                                                                                                                                                                                                                                                                                               [worn, once]  \n",
       "44                                                                                                                                                                                                                                                                                                                                                                                                                                                                                      [dark, brown, wash, skinny, jeans, some, wear, to, seams, on, inner, thighs, and, small, mark, below, back, pocket, as, pictured, size, 28, waist, 14, 5, inseam, 31]  \n",
       "45                                                                                                                                                                                                                                                                                                                                                                                                                                                                                                                                                                                    [lengvai, krentanti, raudona, suknelė, ties, pečiais, eina, blizgučiai]  \n",
       "46                                                                                                                                                                                                                                                                                                                                                                                       [light, blue, paisley, print, shift, dress, brand, is, lulu, s, and, size, is, a, small, but, fits, more, like, a, medium, large, i, wear, a, small, but, it, looked, like, a, sack, on, me, you, ve, got, to, have, some, goods, in, order, to, fill, it, out, lol]  \n",
       "47                                                                                                                                                                                                                                                                                                                                                                                                                                                                                                                                                                                                                                                    [nauji]  \n",
       "48                                                                                                                                                                                                                                                                                                                                                              [luxusní, bílé, 7, 8, kalhoty, guess, jeans, extra, pružný, materiál, příjemný, na, léto, vel, 26, s, pc, 99euro, 2600, nošené, stav, zohledňený, v, nízké, ceně, barva, bílá, luxus, styl, dnesnosim, fashion, guess, guessjeans, bilekalhoty, leto, dnesnosim, trendy, summer, hot, luxury]  \n",
       "49                                                                                                                                                                                                                                                                                                                                                                                                                                                                                                                                                                                                                                              [never, worn]  \n",
       "50                                                                                                                                                                                                                                                                                                                                                                                                                                                                                                                             [nenešiotos, laisvo, stiliaus, dryžuotos, kelnės, turi, kišenes, priekyje, išmatavimai, juosmuo, 35, cm, visas, ilgis, 82, cm]  \n",
       "51                                                                                                                                                                                                                                                                                                                                                                                                                                                                                          [cute, gray, and, white, sweater, great, little, braided, detail, on, the, shoulder, area, long, sleeved, smoke, free, pet, friendly, home, ships, in, 24, hours]  \n",
       "52                                                                                                                                                                                                                                                                                                                                                                                                                                                                                                                                                                                                                                    [pas, 2, 43, délka, 28]  \n",
       "53                                                                                                                                                                                                                                                                                                                                                                                                                                                                                                                                                                                                                   [puošni, blizgaus, audinio, elegantiška]  \n",
       "54                                                                                                                                                                                                                                                                                                                                                                                                                                                                                                                                                               [nuostabi, geleta, suknele, tamprios, medziagos, uztrauktukas, nugaros, puseje, modelis, xl]  "
      ]
     },
     "execution_count": 47,
     "metadata": {},
     "output_type": "execute_result"
    }
   ],
   "source": [
    "df_train[[\"description\" ,\"description2\"]].head(50)"
   ]
  },
  {
   "cell_type": "code",
   "execution_count": 48,
   "metadata": {},
   "outputs": [
    {
     "name": "stdout",
     "output_type": "stream",
     "text": [
      "Requirement already satisfied: nltk in /opt/conda/lib/python3.7/site-packages (3.5)\n",
      "Requirement already satisfied: regex in /opt/conda/lib/python3.7/site-packages (from nltk) (2020.10.23)\n",
      "Requirement already satisfied: click in /opt/conda/lib/python3.7/site-packages (from nltk) (7.1.2)\n",
      "Requirement already satisfied: tqdm in /opt/conda/lib/python3.7/site-packages (from nltk) (4.46.0)\n",
      "Requirement already satisfied: joblib in /opt/conda/lib/python3.7/site-packages (from nltk) (0.17.0)\n"
     ]
    }
   ],
   "source": [
    "!pip install nltk"
   ]
  },
  {
   "cell_type": "code",
   "execution_count": 49,
   "metadata": {},
   "outputs": [],
   "source": [
    "import nltk\n",
    "from nltk.corpus import stopwords"
   ]
  },
  {
   "cell_type": "code",
   "execution_count": 50,
   "metadata": {},
   "outputs": [],
   "source": [
    "# nltk.download('stopwords')"
   ]
  },
  {
   "cell_type": "code",
   "execution_count": 51,
   "metadata": {},
   "outputs": [
    {
     "name": "stdout",
     "output_type": "stream",
     "text": [
      "['arabic', 'azerbaijani', 'danish', 'dutch', 'english', 'finnish', 'french', 'german', 'greek', 'hungarian', 'indonesian', 'italian', 'kazakh', 'nepali', 'norwegian', 'portuguese', 'romanian', 'russian', 'slovene', 'spanish', 'swedish', 'tajik', 'turkish']\n"
     ]
    }
   ],
   "source": [
    "print(stopwords.fileids())"
   ]
  },
  {
   "cell_type": "code",
   "execution_count": 52,
   "metadata": {},
   "outputs": [
    {
     "name": "stdout",
     "output_type": "stream",
     "text": [
      "['au', 'aux', 'avec', 'ce', 'ces', 'dans', 'de', 'des', 'du', 'elle', 'en', 'et', 'eux', 'il', 'ils', 'je', 'la', 'le', 'les', 'leur', 'lui', 'ma', 'mais', 'me', 'même', 'mes', 'moi', 'mon', 'ne', 'nos', 'notre', 'nous', 'on', 'ou', 'par', 'pas', 'pour', 'qu', 'que', 'qui', 'sa', 'se', 'ses', 'son', 'sur', 'ta', 'te', 'tes', 'toi', 'ton', 'tu', 'un', 'une', 'vos', 'votre', 'vous', 'c', 'd', 'j', 'l', 'à', 'm', 'n', 's', 't', 'y', 'été', 'étée', 'étées', 'étés', 'étant', 'étante', 'étants', 'étantes', 'suis', 'es', 'est', 'sommes', 'êtes', 'sont', 'serai', 'seras', 'sera', 'serons', 'serez', 'seront', 'serais', 'serait', 'serions', 'seriez', 'seraient', 'étais', 'était', 'étions', 'étiez', 'étaient', 'fus', 'fut', 'fûmes', 'fûtes', 'furent', 'sois', 'soit', 'soyons', 'soyez', 'soient', 'fusse', 'fusses', 'fût', 'fussions', 'fussiez', 'fussent', 'ayant', 'ayante', 'ayantes', 'ayants', 'eu', 'eue', 'eues', 'eus', 'ai', 'as', 'avons', 'avez', 'ont', 'aurai', 'auras', 'aura', 'aurons', 'aurez', 'auront', 'aurais', 'aurait', 'aurions', 'auriez', 'auraient', 'avais', 'avait', 'avions', 'aviez', 'avaient', 'eut', 'eûmes', 'eûtes', 'eurent', 'aie', 'aies', 'ait', 'ayons', 'ayez', 'aient', 'eusse', 'eusses', 'eût', 'eussions', 'eussiez', 'eussent']\n"
     ]
    }
   ],
   "source": [
    "print(stopwords.words('french'))"
   ]
  },
  {
   "cell_type": "code",
   "execution_count": 53,
   "metadata": {},
   "outputs": [
    {
     "name": "stdout",
     "output_type": "stream",
     "text": [
      "['i', 'me', 'my', 'myself', 'we', 'our', 'ours', 'ourselves', 'you', \"you're\", \"you've\", \"you'll\", \"you'd\", 'your', 'yours', 'yourself', 'yourselves', 'he', 'him', 'his', 'himself', 'she', \"she's\", 'her', 'hers', 'herself', 'it', \"it's\", 'its', 'itself', 'they', 'them', 'their', 'theirs', 'themselves', 'what', 'which', 'who', 'whom', 'this', 'that', \"that'll\", 'these', 'those', 'am', 'is', 'are', 'was', 'were', 'be', 'been', 'being', 'have', 'has', 'had', 'having', 'do', 'does', 'did', 'doing', 'a', 'an', 'the', 'and', 'but', 'if', 'or', 'because', 'as', 'until', 'while', 'of', 'at', 'by', 'for', 'with', 'about', 'against', 'between', 'into', 'through', 'during', 'before', 'after', 'above', 'below', 'to', 'from', 'up', 'down', 'in', 'out', 'on', 'off', 'over', 'under', 'again', 'further', 'then', 'once', 'here', 'there', 'when', 'where', 'why', 'how', 'all', 'any', 'both', 'each', 'few', 'more', 'most', 'other', 'some', 'such', 'no', 'nor', 'not', 'only', 'own', 'same', 'so', 'than', 'too', 'very', 's', 't', 'can', 'will', 'just', 'don', \"don't\", 'should', \"should've\", 'now', 'd', 'll', 'm', 'o', 're', 've', 'y', 'ain', 'aren', \"aren't\", 'couldn', \"couldn't\", 'didn', \"didn't\", 'doesn', \"doesn't\", 'hadn', \"hadn't\", 'hasn', \"hasn't\", 'haven', \"haven't\", 'isn', \"isn't\", 'ma', 'mightn', \"mightn't\", 'mustn', \"mustn't\", 'needn', \"needn't\", 'shan', \"shan't\", 'shouldn', \"shouldn't\", 'wasn', \"wasn't\", 'weren', \"weren't\", 'won', \"won't\", 'wouldn', \"wouldn't\"]\n"
     ]
    }
   ],
   "source": [
    "print(stopwords.words('english'))"
   ]
  },
  {
   "cell_type": "code",
   "execution_count": 54,
   "metadata": {},
   "outputs": [],
   "source": [
    "list_of_stop_words =[]\n",
    "for language in stopwords.fileids():\n",
    "       list_of_stop_words += stopwords.words(language)"
   ]
  },
  {
   "cell_type": "markdown",
   "metadata": {},
   "source": [
    "delete stop words"
   ]
  },
  {
   "cell_type": "code",
   "execution_count": 55,
   "metadata": {},
   "outputs": [],
   "source": [
    "df_train['description3'] = df_train['description2'].apply(lambda x: [item for item in x if item not in list_of_stop_words])\n"
   ]
  },
  {
   "cell_type": "markdown",
   "metadata": {},
   "source": [
    "Joining list back to text"
   ]
  },
  {
   "cell_type": "code",
   "execution_count": 56,
   "metadata": {},
   "outputs": [],
   "source": [
    "df_train['description4'] = df_train['description3'].apply(lambda x: \" \".join(x))\n"
   ]
  },
  {
   "cell_type": "code",
   "execution_count": 57,
   "metadata": {},
   "outputs": [
    {
     "data": {
      "text/html": [
       "<div>\n",
       "<style scoped>\n",
       "    .dataframe tbody tr th:only-of-type {\n",
       "        vertical-align: middle;\n",
       "    }\n",
       "\n",
       "    .dataframe tbody tr th {\n",
       "        vertical-align: top;\n",
       "    }\n",
       "\n",
       "    .dataframe thead th {\n",
       "        text-align: right;\n",
       "    }\n",
       "</style>\n",
       "<table border=\"1\" class=\"dataframe\">\n",
       "  <thead>\n",
       "    <tr style=\"text-align: right;\">\n",
       "      <th></th>\n",
       "      <th>description3</th>\n",
       "      <th>description4</th>\n",
       "    </tr>\n",
       "  </thead>\n",
       "  <tbody>\n",
       "    <tr>\n",
       "      <th>0</th>\n",
       "      <td>[beautiful, summer, dress, zara, worn, zara, zarawoman, zaradress, summerdress, dress]</td>\n",
       "      <td>beautiful summer dress zara worn zara zarawoman zaradress summerdress dress</td>\n",
       "    </tr>\n",
       "    <tr>\n",
       "      <th>1</th>\n",
       "      <td>[maroon, denim, colored, high, rise, jean, shorts, charlotte, russe, size, 2, fits, sizes, 25, 26, goes, right, belly, button, 5, 7, tall, person, shorts, good, condition, slight, wear, pictured, back]</td>\n",
       "      <td>maroon denim colored high rise jean shorts charlotte russe size 2 fits sizes 25 26 goes right belly button 5 7 tall person shorts good condition slight wear pictured back</td>\n",
       "    </tr>\n",
       "    <tr>\n",
       "      <th>2</th>\n",
       "      <td>[brand, new, without, tags, x]</td>\n",
       "      <td>brand new without tags x</td>\n",
       "    </tr>\n",
       "    <tr>\n",
       "      <th>3</th>\n",
       "      <td>[vasariška, trumpa, lengva, medvilninė, suknytė, defektų, ilgis, 83cm, plotis, tarp, pažastų, 37cm, terranova, suknele, geleta]</td>\n",
       "      <td>vasariška trumpa lengva medvilninė suknytė defektų ilgis 83cm plotis tarp pažastų 37cm terranova suknele geleta</td>\n",
       "    </tr>\n",
       "    <tr>\n",
       "      <th>4</th>\n",
       "      <td>[size, small, worn, distressed, look, pain, stain, see, pics, throw, free, w, bundle, asked, jsfcloset]</td>\n",
       "      <td>size small worn distressed look pain stain see pics throw free w bundle asked jsfcloset</td>\n",
       "    </tr>\n",
       "    <tr>\n",
       "      <th>5</th>\n",
       "      <td>[lengva, ir, žaisminga, vasarinė, zara, suknelė, nešiota, tačiau, geros, būklės, dydis, labiau, plius, siuntimo, išlaidos]</td>\n",
       "      <td>lengva ir žaisminga vasarinė zara suknelė nešiota tačiau geros būklės dydis labiau plius siuntimo išlaidos</td>\n",
       "    </tr>\n",
       "    <tr>\n",
       "      <th>6</th>\n",
       "      <td>[banned, tartan, skinny, jeans, size, 14, ladies, worn, fit, post, via, royal, mail, second, class, singed, 4, payment, via, paypal, please]</td>\n",
       "      <td>banned tartan skinny jeans size 14 ladies worn fit post via royal mail second class singed 4 payment via paypal please</td>\n",
       "    </tr>\n",
       "    <tr>\n",
       "      <th>7</th>\n",
       "      <td>[dress, super, comfortable, bodycon, midi, used, times, really, good, condition, perfect, spring, autumn, warm, much, white, stripes, slightly, golden, shimmer]</td>\n",
       "      <td>dress super comfortable bodycon midi used times really good condition perfect spring autumn warm much white stripes slightly golden shimmer</td>\n",
       "    </tr>\n",
       "    <tr>\n",
       "      <th>8</th>\n",
       "      <td>[nové, neunosila, jsem]</td>\n",
       "      <td>nové neunosila jsem</td>\n",
       "    </tr>\n",
       "    <tr>\n",
       "      <th>9</th>\n",
       "      <td>[good, condition]</td>\n",
       "      <td>good condition</td>\n",
       "    </tr>\n",
       "    <tr>\n",
       "      <th>10</th>\n",
       "      <td>[prodám, moc, pěkný, svetřík, vel, 38, zn, bleyle, pruhovanýv, barvách, fialová, zelená, růžová, černá, protkaný, lesklou, stříbrnou, nitkou, mírně, projmutý, pase, dělá, hezkou, postavu, materiál, 40, vlna, 40, polyacryl, 11, polyamid, 9, polyester, svetr, velmi, dobrém, stavu, bez, flíčků, děr, trochu, chloupek, stále, velmi, pěkný, délka, 61cm, šířka, průramky, 45, 5cm, délka, rukávu, krku, 71cm, cena, 130kč, 27kč, poštovné, obyčejně, nebo, 57kč, poštovné, doporučeně]</td>\n",
       "      <td>prodám moc pěkný svetřík vel 38 zn bleyle pruhovanýv barvách fialová zelená růžová černá protkaný lesklou stříbrnou nitkou mírně projmutý pase dělá hezkou postavu materiál 40 vlna 40 polyacryl 11 polyamid 9 polyester svetr velmi dobrém stavu bez flíčků děr trochu chloupek stále velmi pěkný délka 61cm šířka průramky 45 5cm délka rukávu krku 71cm cena 130kč 27kč poštovné obyčejně nebo 57kč poštovné doporučeně</td>\n",
       "    </tr>\n",
       "    <tr>\n",
       "      <th>11</th>\n",
       "      <td>[neunosim]</td>\n",
       "      <td>neunosim</td>\n",
       "    </tr>\n",
       "    <tr>\n",
       "      <th>12</th>\n",
       "      <td>[anthropologie, colloquial, shoulder, dress, new, without, tags, size, 10, designed, bit, whimsy, whole, lot, charm, prints, limited, edition, collection, everything, seafaring, sailboats, painterly, speak, heart, art, anthropologie, tour, fleur, spring, colorful, blooms, artfully, emotively, arranged, viscose, rayon, lining, side, slant, pockets, shoulder, midi, silhouette, pullover, styling, machine, wash, imported, dimensions, armpit, armpit, 20, across, waist, 15, 5, across, standard, falls, 39, shoulder]</td>\n",
       "      <td>anthropologie colloquial shoulder dress new without tags size 10 designed bit whimsy whole lot charm prints limited edition collection everything seafaring sailboats painterly speak heart art anthropologie tour fleur spring colorful blooms artfully emotively arranged viscose rayon lining side slant pockets shoulder midi silhouette pullover styling machine wash imported dimensions armpit armpit 20 across waist 15 5 across standard falls 39 shoulder</td>\n",
       "    </tr>\n",
       "    <tr>\n",
       "      <th>15</th>\n",
       "      <td>[stunning, dress, great, condition, torrid, black, dress, pockets, length, 37, inches, plus, size, 1, bundle, save]</td>\n",
       "      <td>stunning dress great condition torrid black dress pockets length 37 inches plus size 1 bundle save</td>\n",
       "    </tr>\n",
       "    <tr>\n",
       "      <th>16</th>\n",
       "      <td>[never, worn]</td>\n",
       "      <td>never worn</td>\n",
       "    </tr>\n",
       "    <tr>\n",
       "      <th>17</th>\n",
       "      <td>[skoro, nenošená, kupována, jako, oversized, mikča, boyfriend, jeans]</td>\n",
       "      <td>skoro nenošená kupována jako oversized mikča boyfriend jeans</td>\n",
       "    </tr>\n",
       "    <tr>\n",
       "      <th>18</th>\n",
       "      <td>[šaty, 100, viskozy, výměně, zde, bohužel, jsou, malé]</td>\n",
       "      <td>šaty 100 viskozy výměně zde bohužel jsou malé</td>\n",
       "    </tr>\n",
       "    <tr>\n",
       "      <th>19</th>\n",
       "      <td>[burgundy, maroon, mini, skater, circle, skirt, lauren, conrad, pink, flower, print, elastic, waistband, gathered, paper, bag, waistband, look, thin, ribbon, type, belt]</td>\n",
       "      <td>burgundy maroon mini skater circle skirt lauren conrad pink flower print elastic waistband gathered paper bag waistband look thin ribbon type belt</td>\n",
       "    </tr>\n",
       "    <tr>\n",
       "      <th>20</th>\n",
       "      <td>[boohoo, geleta, suknele, etiketej, dydis, uk12, eu40, ilgis, petnesu, 120, petnesom, 140, juosmuo, ramybes, busenoj, apie, 30, tempiasi, 50, pazastim, 45]</td>\n",
       "      <td>boohoo geleta suknele etiketej dydis uk12 eu40 ilgis petnesu 120 petnesom 140 juosmuo ramybes busenoj apie 30 tempiasi 50 pazastim 45</td>\n",
       "    </tr>\n",
       "    <tr>\n",
       "      <th>21</th>\n",
       "      <td>[vintage, 70s, eyelet, pastel, neck, sweater, great, condition, holes, stains, piece, extra, string, inside, neckline, maybe, tag, slightly, sheer, likely, 100, acrylic, soft, please, check, measurements, carefully, ask, questions, purchasing, underarm, underarm, 19, 1, 2, 39, around, underarm, bottom, 17, 3, 4, underarm, sleeve, 18, 1, 2, b11, stripes, unique, retro, 70s, 80s, vsco, geeky, nerdy, feminine, girly, boho, cute, sexy, revealing, winter]</td>\n",
       "      <td>vintage 70s eyelet pastel neck sweater great condition holes stains piece extra string inside neckline maybe tag slightly sheer likely 100 acrylic soft please check measurements carefully ask questions purchasing underarm underarm 19 1 2 39 around underarm bottom 17 3 4 underarm sleeve 18 1 2 b11 stripes unique retro 70s 80s vsco geeky nerdy feminine girly boho cute sexy revealing winter</td>\n",
       "    </tr>\n",
       "    <tr>\n",
       "      <th>22</th>\n",
       "      <td>[worn, perfect, condition, blue, white, high, waisted, trousers, tie, belt, side, pockets, front, zip, bottom, fastening, size, 8, quite, tight, fitting]</td>\n",
       "      <td>worn perfect condition blue white high waisted trousers tie belt side pockets front zip bottom fastening size 8 quite tight fitting</td>\n",
       "    </tr>\n",
       "    <tr>\n",
       "      <th>23</th>\n",
       "      <td>[gap, black, white, dress, worn, times, still, good, condition, size, 8]</td>\n",
       "      <td>gap black white dress worn times still good condition size 8</td>\n",
       "    </tr>\n",
       "    <tr>\n",
       "      <th>24</th>\n",
       "      <td>[patterned, kimono, size, medium, silky, feel, comfy, easy, wear, great, little, summer, piece, add, something, outfit, red, pink, black, white, ice, blue, colours, really, pretty]</td>\n",
       "      <td>patterned kimono size medium silky feel comfy easy wear great little summer piece add something outfit red pink black white ice blue colours really pretty</td>\n",
       "    </tr>\n",
       "    <tr>\n",
       "      <th>25</th>\n",
       "      <td>[white, maroon, red, color, block, varsity, crew, neck, sweater, logo, front, good, gently, used, condition, noticeable, big, flaws, brand, pink, victoria, secret, size, xs, crew, varsity]</td>\n",
       "      <td>white maroon red color block varsity crew neck sweater logo front good gently used condition noticeable big flaws brand pink victoria secret size xs crew varsity</td>\n",
       "    </tr>\n",
       "    <tr>\n",
       "      <th>26</th>\n",
       "      <td>[megztukas, defektu, naujas, geletas, gražus]</td>\n",
       "      <td>megztukas defektu naujas geletas gražus</td>\n",
       "    </tr>\n",
       "    <tr>\n",
       "      <th>27</th>\n",
       "      <td>[sleek, size, large, navy, blue, burgundy, carnation, print, strappy, back, dress, straps, adjust, tying, bottom, zipper, back, great, condition, eigghtnunderr, bundle, save, make, offer, items, listed, sites, sold, wait, buy, smoke, free, home]</td>\n",
       "      <td>sleek size large navy blue burgundy carnation print strappy back dress straps adjust tying bottom zipper back great condition eigghtnunderr bundle save make offer items listed sites sold wait buy smoke free home</td>\n",
       "    </tr>\n",
       "    <tr>\n",
       "      <th>28</th>\n",
       "      <td>[worn, handful, times, highwaisted, fitted, size, 10, little, small, depending, like, fit, prefer, loose]</td>\n",
       "      <td>worn handful times highwaisted fitted size 10 little small depending like fit prefer loose</td>\n",
       "    </tr>\n",
       "    <tr>\n",
       "      <th>30</th>\n",
       "      <td>[size, 12, would, fit, 10, 12, perfect, condition, sold, separately, 6]</td>\n",
       "      <td>size 12 would fit 10 12 perfect condition sold separately 6</td>\n",
       "    </tr>\n",
       "    <tr>\n",
       "      <th>32</th>\n",
       "      <td>[flat, lay, bust, 15, waist, 12, 14, length, 24, zip, closure]</td>\n",
       "      <td>flat lay bust 15 waist 12 14 length 24 zip closure</td>\n",
       "    </tr>\n",
       "    <tr>\n",
       "      <th>33</th>\n",
       "      <td>[abercrombie, fitch, blue, white, aline, scuba, nautical, dress, size, medium, open, triangle, detail, back, zipper, located, side, 92, polyester, 8, elastane, size, medium, great, condition, flaws, stains, approximate, measurements, bust, pit, pit, doubled, 33, waist, 26, total, length, 33]</td>\n",
       "      <td>abercrombie fitch blue white aline scuba nautical dress size medium open triangle detail back zipper located side 92 polyester 8 elastane size medium great condition flaws stains approximate measurements bust pit pit doubled 33 waist 26 total length 33</td>\n",
       "    </tr>\n",
       "    <tr>\n",
       "      <th>34</th>\n",
       "      <td>[būtų, puiki, bet, kartą, dėvėjau, ir, rankinukas, patempė, kelis, siūlus, parduodu, nes, mažoka, krūtinę, labiau, tikų, xs, merginai, aš, labiau, tipo, laisvinu, spintoje, vietą, tad, jei, perkate, daugiau, vieną, siuntimas, nemokamas, šiaip, kainos, derinamos]</td>\n",
       "      <td>būtų puiki bet kartą dėvėjau ir rankinukas patempė kelis siūlus parduodu nes mažoka krūtinę labiau tikų xs merginai aš labiau tipo laisvinu spintoje vietą tad jei perkate daugiau vieną siuntimas nemokamas šiaip kainos derinamos</td>\n",
       "    </tr>\n",
       "    <tr>\n",
       "      <th>35</th>\n",
       "      <td>[gorgeous, phase, eight, ruched, dress, stretchy, sexy, figure, hugging, knee, length, sleeveless, neck, flattering, draping, dress, lined, fabric, 92, polyester, 8, elastane, hand, wash, delicate, dry, clean, bust, 34, waist, 30, hips, 34, length, 41, 5, rise, worn]</td>\n",
       "      <td>gorgeous phase eight ruched dress stretchy sexy figure hugging knee length sleeveless neck flattering draping dress lined fabric 92 polyester 8 elastane hand wash delicate dry clean bust 34 waist 30 hips 34 length 41 5 rise worn</td>\n",
       "    </tr>\n",
       "    <tr>\n",
       "      <th>36</th>\n",
       "      <td>[worn, immaculate, condition, amazingly]</td>\n",
       "      <td>worn immaculate condition amazingly</td>\n",
       "    </tr>\n",
       "    <tr>\n",
       "      <th>37</th>\n",
       "      <td>[black, denim, mini, skirt, waist, 13in, length, 15in, measurements, given, approximate, accept, reasonable, offers, love, giving, deals, bundles, modeling, trades, happy, shopping]</td>\n",
       "      <td>black denim mini skirt waist 13in length 15in measurements given approximate accept reasonable offers love giving deals bundles modeling trades happy shopping</td>\n",
       "    </tr>\n",
       "    <tr>\n",
       "      <th>38</th>\n",
       "      <td>[size, small, dark, green, tan, flowers, side, slits, sleeveless, kimono, sweeper, sleeveless, cardigan, perfect, condition]</td>\n",
       "      <td>size small dark green tan flowers side slits sleeveless kimono sweeper sleeveless cardigan perfect condition</td>\n",
       "    </tr>\n",
       "    <tr>\n",
       "      <th>40</th>\n",
       "      <td>[kalidascope, yellow, summer, dress, size, 14, skirt, 3, tiers, length, back, 44, front, measuring, clevage, 37, approx]</td>\n",
       "      <td>kalidascope yellow summer dress size 14 skirt 3 tiers length back 44 front measuring clevage 37 approx</td>\n",
       "    </tr>\n",
       "    <tr>\n",
       "      <th>41</th>\n",
       "      <td>[hezké, šaty, jaro, podzim, jsou, polyesterového, úpletu, pořídila, jsem, svatbu, nakonec, jsem, neměla, sobě, protože, ten, bylo, přes, 30, stupňů, zbytečně, leží, skříni, šířka, 65, cm, přes, prsa, 68, cm, délka, ramene, 107, cm, mám, nastavenou, slevu, při, odběru, více, věcí]</td>\n",
       "      <td>hezké šaty jaro podzim jsou polyesterového úpletu pořídila jsem svatbu nakonec jsem neměla sobě protože ten bylo přes 30 stupňů zbytečně leží skříni šířka 65 cm přes prsa 68 cm délka ramene 107 cm mám nastavenou slevu při odběru více věcí</td>\n",
       "    </tr>\n",
       "    <tr>\n",
       "      <th>42</th>\n",
       "      <td>[super, flattering, stripy, navy, white, dress, see, pics, see, cut, dress, makes, fit, right, places, worn, good, condition, aussie, brand, marcs, size, xs, uk, size, 8, please, check, items, great, bundle, discounts]</td>\n",
       "      <td>super flattering stripy navy white dress see pics see cut dress makes fit right places worn good condition aussie brand marcs size xs uk size 8 please check items great bundle discounts</td>\n",
       "    </tr>\n",
       "    <tr>\n",
       "      <th>43</th>\n",
       "      <td>[worn]</td>\n",
       "      <td>worn</td>\n",
       "    </tr>\n",
       "    <tr>\n",
       "      <th>44</th>\n",
       "      <td>[dark, brown, wash, skinny, jeans, wear, seams, inner, thighs, small, mark, back, pocket, pictured, size, 28, waist, 14, 5, inseam, 31]</td>\n",
       "      <td>dark brown wash skinny jeans wear seams inner thighs small mark back pocket pictured size 28 waist 14 5 inseam 31</td>\n",
       "    </tr>\n",
       "    <tr>\n",
       "      <th>45</th>\n",
       "      <td>[lengvai, krentanti, raudona, suknelė, ties, pečiais, eina, blizgučiai]</td>\n",
       "      <td>lengvai krentanti raudona suknelė ties pečiais eina blizgučiai</td>\n",
       "    </tr>\n",
       "    <tr>\n",
       "      <th>46</th>\n",
       "      <td>[light, blue, paisley, print, shift, dress, brand, lulu, size, small, fits, like, medium, large, wear, small, looked, like, sack, got, goods, order, fill, lol]</td>\n",
       "      <td>light blue paisley print shift dress brand lulu size small fits like medium large wear small looked like sack got goods order fill lol</td>\n",
       "    </tr>\n",
       "    <tr>\n",
       "      <th>47</th>\n",
       "      <td>[nauji]</td>\n",
       "      <td>nauji</td>\n",
       "    </tr>\n",
       "    <tr>\n",
       "      <th>48</th>\n",
       "      <td>[luxusní, bílé, 7, 8, kalhoty, guess, jeans, extra, pružný, materiál, příjemný, léto, vel, 26, pc, 99euro, 2600, nošené, stav, zohledňený, nízké, ceně, barva, bílá, luxus, styl, dnesnosim, fashion, guess, guessjeans, bilekalhoty, leto, dnesnosim, trendy, summer, hot, luxury]</td>\n",
       "      <td>luxusní bílé 7 8 kalhoty guess jeans extra pružný materiál příjemný léto vel 26 pc 99euro 2600 nošené stav zohledňený nízké ceně barva bílá luxus styl dnesnosim fashion guess guessjeans bilekalhoty leto dnesnosim trendy summer hot luxury</td>\n",
       "    </tr>\n",
       "    <tr>\n",
       "      <th>49</th>\n",
       "      <td>[never, worn]</td>\n",
       "      <td>never worn</td>\n",
       "    </tr>\n",
       "    <tr>\n",
       "      <th>50</th>\n",
       "      <td>[nenešiotos, laisvo, stiliaus, dryžuotos, kelnės, turi, kišenes, priekyje, išmatavimai, juosmuo, 35, cm, visas, ilgis, 82, cm]</td>\n",
       "      <td>nenešiotos laisvo stiliaus dryžuotos kelnės turi kišenes priekyje išmatavimai juosmuo 35 cm visas ilgis 82 cm</td>\n",
       "    </tr>\n",
       "    <tr>\n",
       "      <th>51</th>\n",
       "      <td>[cute, gray, white, sweater, great, little, braided, detail, shoulder, area, long, sleeved, smoke, free, friendly, home, ships, 24, hours]</td>\n",
       "      <td>cute gray white sweater great little braided detail shoulder area long sleeved smoke free friendly home ships 24 hours</td>\n",
       "    </tr>\n",
       "    <tr>\n",
       "      <th>52</th>\n",
       "      <td>[2, 43, délka, 28]</td>\n",
       "      <td>2 43 délka 28</td>\n",
       "    </tr>\n",
       "    <tr>\n",
       "      <th>53</th>\n",
       "      <td>[puošni, blizgaus, audinio, elegantiška]</td>\n",
       "      <td>puošni blizgaus audinio elegantiška</td>\n",
       "    </tr>\n",
       "    <tr>\n",
       "      <th>54</th>\n",
       "      <td>[nuostabi, geleta, suknele, tamprios, medziagos, uztrauktukas, nugaros, puseje, modelis, xl]</td>\n",
       "      <td>nuostabi geleta suknele tamprios medziagos uztrauktukas nugaros puseje modelis xl</td>\n",
       "    </tr>\n",
       "  </tbody>\n",
       "</table>\n",
       "</div>"
      ],
      "text/plain": [
       "                                                                                                                                                                                                                                                                                                                                                                                                                                                                                                                          description3  \\\n",
       "0                                                                                                                                                                                                                                                                                                                                                                                                                                               [beautiful, summer, dress, zara, worn, zara, zarawoman, zaradress, summerdress, dress]   \n",
       "1                                                                                                                                                                                                                                                                                                                            [maroon, denim, colored, high, rise, jean, shorts, charlotte, russe, size, 2, fits, sizes, 25, 26, goes, right, belly, button, 5, 7, tall, person, shorts, good, condition, slight, wear, pictured, back]   \n",
       "2                                                                                                                                                                                                                                                                                                                                                                                                                                                                                                       [brand, new, without, tags, x]   \n",
       "3                                                                                                                                                                                                                                                                                                                                                                                                      [vasariška, trumpa, lengva, medvilninė, suknytė, defektų, ilgis, 83cm, plotis, tarp, pažastų, 37cm, terranova, suknele, geleta]   \n",
       "4                                                                                                                                                                                                                                                                                                                                                                                                                              [size, small, worn, distressed, look, pain, stain, see, pics, throw, free, w, bundle, asked, jsfcloset]   \n",
       "5                                                                                                                                                                                                                                                                                                                                                                                                           [lengva, ir, žaisminga, vasarinė, zara, suknelė, nešiota, tačiau, geros, būklės, dydis, labiau, plius, siuntimo, išlaidos]   \n",
       "6                                                                                                                                                                                                                                                                                                                                                                                         [banned, tartan, skinny, jeans, size, 14, ladies, worn, fit, post, via, royal, mail, second, class, singed, 4, payment, via, paypal, please]   \n",
       "7                                                                                                                                                                                                                                                                                                                                                                     [dress, super, comfortable, bodycon, midi, used, times, really, good, condition, perfect, spring, autumn, warm, much, white, stripes, slightly, golden, shimmer]   \n",
       "8                                                                                                                                                                                                                                                                                                                                                                                                                                                                                                              [nové, neunosila, jsem]   \n",
       "9                                                                                                                                                                                                                                                                                                                                                                                                                                                                                                                    [good, condition]   \n",
       "10                                         [prodám, moc, pěkný, svetřík, vel, 38, zn, bleyle, pruhovanýv, barvách, fialová, zelená, růžová, černá, protkaný, lesklou, stříbrnou, nitkou, mírně, projmutý, pase, dělá, hezkou, postavu, materiál, 40, vlna, 40, polyacryl, 11, polyamid, 9, polyester, svetr, velmi, dobrém, stavu, bez, flíčků, děr, trochu, chloupek, stále, velmi, pěkný, délka, 61cm, šířka, průramky, 45, 5cm, délka, rukávu, krku, 71cm, cena, 130kč, 27kč, poštovné, obyčejně, nebo, 57kč, poštovné, doporučeně]   \n",
       "11                                                                                                                                                                                                                                                                                                                                                                                                                                                                                                                          [neunosim]   \n",
       "12  [anthropologie, colloquial, shoulder, dress, new, without, tags, size, 10, designed, bit, whimsy, whole, lot, charm, prints, limited, edition, collection, everything, seafaring, sailboats, painterly, speak, heart, art, anthropologie, tour, fleur, spring, colorful, blooms, artfully, emotively, arranged, viscose, rayon, lining, side, slant, pockets, shoulder, midi, silhouette, pullover, styling, machine, wash, imported, dimensions, armpit, armpit, 20, across, waist, 15, 5, across, standard, falls, 39, shoulder]   \n",
       "15                                                                                                                                                                                                                                                                                                                                                                                                                 [stunning, dress, great, condition, torrid, black, dress, pockets, length, 37, inches, plus, size, 1, bundle, save]   \n",
       "16                                                                                                                                                                                                                                                                                                                                                                                                                                                                                                                       [never, worn]   \n",
       "17                                                                                                                                                                                                                                                                                                                                                                                                                                                               [skoro, nenošená, kupována, jako, oversized, mikča, boyfriend, jeans]   \n",
       "18                                                                                                                                                                                                                                                                                                                                                                                                                                                                              [šaty, 100, viskozy, výměně, zde, bohužel, jsou, malé]   \n",
       "19                                                                                                                                                                                                                                                                                                                                                           [burgundy, maroon, mini, skater, circle, skirt, lauren, conrad, pink, flower, print, elastic, waistband, gathered, paper, bag, waistband, look, thin, ribbon, type, belt]   \n",
       "20                                                                                                                                                                                                                                                                                                                                                                         [boohoo, geleta, suknele, etiketej, dydis, uk12, eu40, ilgis, petnesu, 120, petnesom, 140, juosmuo, ramybes, busenoj, apie, 30, tempiasi, 50, pazastim, 45]   \n",
       "21                                                              [vintage, 70s, eyelet, pastel, neck, sweater, great, condition, holes, stains, piece, extra, string, inside, neckline, maybe, tag, slightly, sheer, likely, 100, acrylic, soft, please, check, measurements, carefully, ask, questions, purchasing, underarm, underarm, 19, 1, 2, 39, around, underarm, bottom, 17, 3, 4, underarm, sleeve, 18, 1, 2, b11, stripes, unique, retro, 70s, 80s, vsco, geeky, nerdy, feminine, girly, boho, cute, sexy, revealing, winter]   \n",
       "22                                                                                                                                                                                                                                                                                                                                                                           [worn, perfect, condition, blue, white, high, waisted, trousers, tie, belt, side, pockets, front, zip, bottom, fastening, size, 8, quite, tight, fitting]   \n",
       "23                                                                                                                                                                                                                                                                                                                                                                                                                                                            [gap, black, white, dress, worn, times, still, good, condition, size, 8]   \n",
       "24                                                                                                                                                                                                                                                                                                                                                [patterned, kimono, size, medium, silky, feel, comfy, easy, wear, great, little, summer, piece, add, something, outfit, red, pink, black, white, ice, blue, colours, really, pretty]   \n",
       "25                                                                                                                                                                                                                                                                                                                                        [white, maroon, red, color, block, varsity, crew, neck, sweater, logo, front, good, gently, used, condition, noticeable, big, flaws, brand, pink, victoria, secret, size, xs, crew, varsity]   \n",
       "26                                                                                                                                                                                                                                                                                                                                                                                                                                                                                       [megztukas, defektu, naujas, geletas, gražus]   \n",
       "27                                                                                                                                                                                                                                                                               [sleek, size, large, navy, blue, burgundy, carnation, print, strappy, back, dress, straps, adjust, tying, bottom, zipper, back, great, condition, eigghtnunderr, bundle, save, make, offer, items, listed, sites, sold, wait, buy, smoke, free, home]   \n",
       "28                                                                                                                                                                                                                                                                                                                                                                                                                           [worn, handful, times, highwaisted, fitted, size, 10, little, small, depending, like, fit, prefer, loose]   \n",
       "30                                                                                                                                                                                                                                                                                                                                                                                                                                                             [size, 12, would, fit, 10, 12, perfect, condition, sold, separately, 6]   \n",
       "32                                                                                                                                                                                                                                                                                                                                                                                                                                                                      [flat, lay, bust, 15, waist, 12, 14, length, 24, zip, closure]   \n",
       "33                                                                                                                                                                                                                                [abercrombie, fitch, blue, white, aline, scuba, nautical, dress, size, medium, open, triangle, detail, back, zipper, located, side, 92, polyester, 8, elastane, size, medium, great, condition, flaws, stains, approximate, measurements, bust, pit, pit, doubled, 33, waist, 26, total, length, 33]   \n",
       "34                                                                                                                                                                                                                                                              [būtų, puiki, bet, kartą, dėvėjau, ir, rankinukas, patempė, kelis, siūlus, parduodu, nes, mažoka, krūtinę, labiau, tikų, xs, merginai, aš, labiau, tipo, laisvinu, spintoje, vietą, tad, jei, perkate, daugiau, vieną, siuntimas, nemokamas, šiaip, kainos, derinamos]   \n",
       "35                                                                                                                                                                                                                                                         [gorgeous, phase, eight, ruched, dress, stretchy, sexy, figure, hugging, knee, length, sleeveless, neck, flattering, draping, dress, lined, fabric, 92, polyester, 8, elastane, hand, wash, delicate, dry, clean, bust, 34, waist, 30, hips, 34, length, 41, 5, rise, worn]   \n",
       "36                                                                                                                                                                                                                                                                                                                                                                                                                                                                                            [worn, immaculate, condition, amazingly]   \n",
       "37                                                                                                                                                                                                                                                                                                                                               [black, denim, mini, skirt, waist, 13in, length, 15in, measurements, given, approximate, accept, reasonable, offers, love, giving, deals, bundles, modeling, trades, happy, shopping]   \n",
       "38                                                                                                                                                                                                                                                                                                                                                                                                        [size, small, dark, green, tan, flowers, side, slits, sleeveless, kimono, sweeper, sleeveless, cardigan, perfect, condition]   \n",
       "40                                                                                                                                                                                                                                                                                                                                                                                                            [kalidascope, yellow, summer, dress, size, 14, skirt, 3, tiers, length, back, 44, front, measuring, clevage, 37, approx]   \n",
       "41                                                                                                                                                                                                                                            [hezké, šaty, jaro, podzim, jsou, polyesterového, úpletu, pořídila, jsem, svatbu, nakonec, jsem, neměla, sobě, protože, ten, bylo, přes, 30, stupňů, zbytečně, leží, skříni, šířka, 65, cm, přes, prsa, 68, cm, délka, ramene, 107, cm, mám, nastavenou, slevu, při, odběru, více, věcí]   \n",
       "42                                                                                                                                                                                                                                                                                                          [super, flattering, stripy, navy, white, dress, see, pics, see, cut, dress, makes, fit, right, places, worn, good, condition, aussie, brand, marcs, size, xs, uk, size, 8, please, check, items, great, bundle, discounts]   \n",
       "43                                                                                                                                                                                                                                                                                                                                                                                                                                                                                                                              [worn]   \n",
       "44                                                                                                                                                                                                                                                                                                                                                                                             [dark, brown, wash, skinny, jeans, wear, seams, inner, thighs, small, mark, back, pocket, pictured, size, 28, waist, 14, 5, inseam, 31]   \n",
       "45                                                                                                                                                                                                                                                                                                                                                                                                                                                             [lengvai, krentanti, raudona, suknelė, ties, pečiais, eina, blizgučiai]   \n",
       "46                                                                                                                                                                                                                                                                                                                                                                     [light, blue, paisley, print, shift, dress, brand, lulu, size, small, fits, like, medium, large, wear, small, looked, like, sack, got, goods, order, fill, lol]   \n",
       "47                                                                                                                                                                                                                                                                                                                                                                                                                                                                                                                             [nauji]   \n",
       "48                                                                                                                                                                                                                                                 [luxusní, bílé, 7, 8, kalhoty, guess, jeans, extra, pružný, materiál, příjemný, léto, vel, 26, pc, 99euro, 2600, nošené, stav, zohledňený, nízké, ceně, barva, bílá, luxus, styl, dnesnosim, fashion, guess, guessjeans, bilekalhoty, leto, dnesnosim, trendy, summer, hot, luxury]   \n",
       "49                                                                                                                                                                                                                                                                                                                                                                                                                                                                                                                       [never, worn]   \n",
       "50                                                                                                                                                                                                                                                                                                                                                                                                      [nenešiotos, laisvo, stiliaus, dryžuotos, kelnės, turi, kišenes, priekyje, išmatavimai, juosmuo, 35, cm, visas, ilgis, 82, cm]   \n",
       "51                                                                                                                                                                                                                                                                                                                                                                                          [cute, gray, white, sweater, great, little, braided, detail, shoulder, area, long, sleeved, smoke, free, friendly, home, ships, 24, hours]   \n",
       "52                                                                                                                                                                                                                                                                                                                                                                                                                                                                                                                  [2, 43, délka, 28]   \n",
       "53                                                                                                                                                                                                                                                                                                                                                                                                                                                                                            [puošni, blizgaus, audinio, elegantiška]   \n",
       "54                                                                                                                                                                                                                                                                                                                                                                                                                                        [nuostabi, geleta, suknele, tamprios, medziagos, uztrauktukas, nugaros, puseje, modelis, xl]   \n",
       "\n",
       "                                                                                                                                                                                                                                                                                                                                                                                                                                                           description4  \n",
       "0                                                                                                                                                                                                                                                                                                                                                                                           beautiful summer dress zara worn zara zarawoman zaradress summerdress dress  \n",
       "1                                                                                                                                                                                                                                                                                            maroon denim colored high rise jean shorts charlotte russe size 2 fits sizes 25 26 goes right belly button 5 7 tall person shorts good condition slight wear pictured back  \n",
       "2                                                                                                                                                                                                                                                                                                                                                                                                                                              brand new without tags x  \n",
       "3                                                                                                                                                                                                                                                                                                                                                       vasariška trumpa lengva medvilninė suknytė defektų ilgis 83cm plotis tarp pažastų 37cm terranova suknele geleta  \n",
       "4                                                                                                                                                                                                                                                                                                                                                                               size small worn distressed look pain stain see pics throw free w bundle asked jsfcloset  \n",
       "5                                                                                                                                                                                                                                                                                                                                                            lengva ir žaisminga vasarinė zara suknelė nešiota tačiau geros būklės dydis labiau plius siuntimo išlaidos  \n",
       "6                                                                                                                                                                                                                                                                                                                                                banned tartan skinny jeans size 14 ladies worn fit post via royal mail second class singed 4 payment via paypal please  \n",
       "7                                                                                                                                                                                                                                                                                                                           dress super comfortable bodycon midi used times really good condition perfect spring autumn warm much white stripes slightly golden shimmer  \n",
       "8                                                                                                                                                                                                                                                                                                                                                                                                                                                   nové neunosila jsem  \n",
       "9                                                                                                                                                                                                                                                                                                                                                                                                                                                        good condition  \n",
       "10                                           prodám moc pěkný svetřík vel 38 zn bleyle pruhovanýv barvách fialová zelená růžová černá protkaný lesklou stříbrnou nitkou mírně projmutý pase dělá hezkou postavu materiál 40 vlna 40 polyacryl 11 polyamid 9 polyester svetr velmi dobrém stavu bez flíčků děr trochu chloupek stále velmi pěkný délka 61cm šířka průramky 45 5cm délka rukávu krku 71cm cena 130kč 27kč poštovné obyčejně nebo 57kč poštovné doporučeně  \n",
       "11                                                                                                                                                                                                                                                                                                                                                                                                                                                             neunosim  \n",
       "12  anthropologie colloquial shoulder dress new without tags size 10 designed bit whimsy whole lot charm prints limited edition collection everything seafaring sailboats painterly speak heart art anthropologie tour fleur spring colorful blooms artfully emotively arranged viscose rayon lining side slant pockets shoulder midi silhouette pullover styling machine wash imported dimensions armpit armpit 20 across waist 15 5 across standard falls 39 shoulder  \n",
       "15                                                                                                                                                                                                                                                                                                                                                                   stunning dress great condition torrid black dress pockets length 37 inches plus size 1 bundle save  \n",
       "16                                                                                                                                                                                                                                                                                                                                                                                                                                                           never worn  \n",
       "17                                                                                                                                                                                                                                                                                                                                                                                                         skoro nenošená kupována jako oversized mikča boyfriend jeans  \n",
       "18                                                                                                                                                                                                                                                                                                                                                                                                                        šaty 100 viskozy výměně zde bohužel jsou malé  \n",
       "19                                                                                                                                                                                                                                                                                                                   burgundy maroon mini skater circle skirt lauren conrad pink flower print elastic waistband gathered paper bag waistband look thin ribbon type belt  \n",
       "20                                                                                                                                                                                                                                                                                                                                boohoo geleta suknele etiketej dydis uk12 eu40 ilgis petnesu 120 petnesom 140 juosmuo ramybes busenoj apie 30 tempiasi 50 pazastim 45  \n",
       "21                                                               vintage 70s eyelet pastel neck sweater great condition holes stains piece extra string inside neckline maybe tag slightly sheer likely 100 acrylic soft please check measurements carefully ask questions purchasing underarm underarm 19 1 2 39 around underarm bottom 17 3 4 underarm sleeve 18 1 2 b11 stripes unique retro 70s 80s vsco geeky nerdy feminine girly boho cute sexy revealing winter  \n",
       "22                                                                                                                                                                                                                                                                                                                                  worn perfect condition blue white high waisted trousers tie belt side pockets front zip bottom fastening size 8 quite tight fitting  \n",
       "23                                                                                                                                                                                                                                                                                                                                                                                                         gap black white dress worn times still good condition size 8  \n",
       "24                                                                                                                                                                                                                                                                                                           patterned kimono size medium silky feel comfy easy wear great little summer piece add something outfit red pink black white ice blue colours really pretty  \n",
       "25                                                                                                                                                                                                                                                                                                    white maroon red color block varsity crew neck sweater logo front good gently used condition noticeable big flaws brand pink victoria secret size xs crew varsity  \n",
       "26                                                                                                                                                                                                                                                                                                                                                                                                                              megztukas defektu naujas geletas gražus  \n",
       "27                                                                                                                                                                                                                                                  sleek size large navy blue burgundy carnation print strappy back dress straps adjust tying bottom zipper back great condition eigghtnunderr bundle save make offer items listed sites sold wait buy smoke free home  \n",
       "28                                                                                                                                                                                                                                                                                                                                                                           worn handful times highwaisted fitted size 10 little small depending like fit prefer loose  \n",
       "30                                                                                                                                                                                                                                                                                                                                                                                                          size 12 would fit 10 12 perfect condition sold separately 6  \n",
       "32                                                                                                                                                                                                                                                                                                                                                                                                                   flat lay bust 15 waist 12 14 length 24 zip closure  \n",
       "33                                                                                                                                                                                                         abercrombie fitch blue white aline scuba nautical dress size medium open triangle detail back zipper located side 92 polyester 8 elastane size medium great condition flaws stains approximate measurements bust pit pit doubled 33 waist 26 total length 33  \n",
       "34                                                                                                                                                                                                                                  būtų puiki bet kartą dėvėjau ir rankinukas patempė kelis siūlus parduodu nes mažoka krūtinę labiau tikų xs merginai aš labiau tipo laisvinu spintoje vietą tad jei perkate daugiau vieną siuntimas nemokamas šiaip kainos derinamos  \n",
       "35                                                                                                                                                                                                                                 gorgeous phase eight ruched dress stretchy sexy figure hugging knee length sleeveless neck flattering draping dress lined fabric 92 polyester 8 elastane hand wash delicate dry clean bust 34 waist 30 hips 34 length 41 5 rise worn  \n",
       "36                                                                                                                                                                                                                                                                                                                                                                                                                                  worn immaculate condition amazingly  \n",
       "37                                                                                                                                                                                                                                                                                                       black denim mini skirt waist 13in length 15in measurements given approximate accept reasonable offers love giving deals bundles modeling trades happy shopping  \n",
       "38                                                                                                                                                                                                                                                                                                                                                         size small dark green tan flowers side slits sleeveless kimono sweeper sleeveless cardigan perfect condition  \n",
       "40                                                                                                                                                                                                                                                                                                                                                               kalidascope yellow summer dress size 14 skirt 3 tiers length back 44 front measuring clevage 37 approx  \n",
       "41                                                                                                                                                                                                                       hezké šaty jaro podzim jsou polyesterového úpletu pořídila jsem svatbu nakonec jsem neměla sobě protože ten bylo přes 30 stupňů zbytečně leží skříni šířka 65 cm přes prsa 68 cm délka ramene 107 cm mám nastavenou slevu při odběru více věcí  \n",
       "42                                                                                                                                                                                                                                                                            super flattering stripy navy white dress see pics see cut dress makes fit right places worn good condition aussie brand marcs size xs uk size 8 please check items great bundle discounts  \n",
       "43                                                                                                                                                                                                                                                                                                                                                                                                                                                                 worn  \n",
       "44                                                                                                                                                                                                                                                                                                                                                    dark brown wash skinny jeans wear seams inner thighs small mark back pocket pictured size 28 waist 14 5 inseam 31  \n",
       "45                                                                                                                                                                                                                                                                                                                                                                                                       lengvai krentanti raudona suknelė ties pečiais eina blizgučiai  \n",
       "46                                                                                                                                                                                                                                                                                                                               light blue paisley print shift dress brand lulu size small fits like medium large wear small looked like sack got goods order fill lol  \n",
       "47                                                                                                                                                                                                                                                                                                                                                                                                                                                                nauji  \n",
       "48                                                                                                                                                                                                                        luxusní bílé 7 8 kalhoty guess jeans extra pružný materiál příjemný léto vel 26 pc 99euro 2600 nošené stav zohledňený nízké ceně barva bílá luxus styl dnesnosim fashion guess guessjeans bilekalhoty leto dnesnosim trendy summer hot luxury  \n",
       "49                                                                                                                                                                                                                                                                                                                                                                                                                                                           never worn  \n",
       "50                                                                                                                                                                                                                                                                                                                                                        nenešiotos laisvo stiliaus dryžuotos kelnės turi kišenes priekyje išmatavimai juosmuo 35 cm visas ilgis 82 cm  \n",
       "51                                                                                                                                                                                                                                                                                                                                               cute gray white sweater great little braided detail shoulder area long sleeved smoke free friendly home ships 24 hours  \n",
       "52                                                                                                                                                                                                                                                                                                                                                                                                                                                        2 43 délka 28  \n",
       "53                                                                                                                                                                                                                                                                                                                                                                                                                                  puošni blizgaus audinio elegantiška  \n",
       "54                                                                                                                                                                                                                                                                                                                                                                                    nuostabi geleta suknele tamprios medziagos uztrauktukas nugaros puseje modelis xl  "
      ]
     },
     "execution_count": 57,
     "metadata": {},
     "output_type": "execute_result"
    }
   ],
   "source": [
    "df_train[[\"description3\" ,\"description4\"]].head(50)"
   ]
  },
  {
   "cell_type": "code",
   "execution_count": 58,
   "metadata": {},
   "outputs": [
    {
     "data": {
      "text/plain": [
       "LabelEncoder()"
      ]
     },
     "execution_count": 58,
     "metadata": {},
     "output_type": "execute_result"
    }
   ],
   "source": [
    "from sklearn import preprocessing\n",
    "le = preprocessing.LabelEncoder()\n",
    "\n",
    "le.fit(df_train[\"cc3\"])"
   ]
  },
  {
   "cell_type": "code",
   "execution_count": 59,
   "metadata": {},
   "outputs": [
    {
     "data": {
      "text/html": [
       "<div>\n",
       "<style scoped>\n",
       "    .dataframe tbody tr th:only-of-type {\n",
       "        vertical-align: middle;\n",
       "    }\n",
       "\n",
       "    .dataframe tbody tr th {\n",
       "        vertical-align: top;\n",
       "    }\n",
       "\n",
       "    .dataframe thead th {\n",
       "        text-align: right;\n",
       "    }\n",
       "</style>\n",
       "<table border=\"1\" class=\"dataframe\">\n",
       "  <thead>\n",
       "    <tr style=\"text-align: right;\">\n",
       "      <th></th>\n",
       "      <th>uuid</th>\n",
       "      <th>description</th>\n",
       "      <th>color</th>\n",
       "      <th>price</th>\n",
       "      <th>cc3</th>\n",
       "      <th>sparkling</th>\n",
       "      <th>floral</th>\n",
       "      <th>striped</th>\n",
       "      <th>description2</th>\n",
       "      <th>description3</th>\n",
       "      <th>description4</th>\n",
       "    </tr>\n",
       "  </thead>\n",
       "  <tbody>\n",
       "    <tr>\n",
       "      <th>0</th>\n",
       "      <td>00_06db4_f7PKCScjE7iz9RccgKoYU8BG</td>\n",
       "      <td>beautiful summer dress by zara only worn once.\\n\\n#zara #zarawoman #zaradress #summerdress #dress</td>\n",
       "      <td>VARIOUS</td>\n",
       "      <td>8.4</td>\n",
       "      <td>DRESSES</td>\n",
       "      <td>False</td>\n",
       "      <td>True</td>\n",
       "      <td>False</td>\n",
       "      <td>[beautiful, summer, dress, by, zara, only, worn, once, zara, zarawoman, zaradress, summerdress, dress]</td>\n",
       "      <td>[beautiful, summer, dress, zara, worn, zara, zarawoman, zaradress, summerdress, dress]</td>\n",
       "      <td>beautiful summer dress zara worn zara zarawoman zaradress summerdress dress</td>\n",
       "    </tr>\n",
       "    <tr>\n",
       "      <th>1</th>\n",
       "      <td>00_074fe_d1wi5P39YxXsM3aYJWdToH2p</td>\n",
       "      <td>Maroon denim colored high rise jean shorts from Charlotte Russe size 2. Fits sizes 25-26 and goes up to right under belly button on a 5”7 tall person. Shorts are in good condition but there is slight wear as pictured in the back</td>\n",
       "      <td>BROWN</td>\n",
       "      <td>3.8</td>\n",
       "      <td>SHORTS_CAPRIS</td>\n",
       "      <td>False</td>\n",
       "      <td>False</td>\n",
       "      <td>False</td>\n",
       "      <td>[maroon, denim, colored, high, rise, jean, shorts, from, charlotte, russe, size, 2, fits, sizes, 25, 26, and, goes, up, to, right, under, belly, button, on, a, 5, 7, tall, person, shorts, are, in, good, condition, but, there, is, slight, wear, as, pictured, in, the, back]</td>\n",
       "      <td>[maroon, denim, colored, high, rise, jean, shorts, charlotte, russe, size, 2, fits, sizes, 25, 26, goes, right, belly, button, 5, 7, tall, person, shorts, good, condition, slight, wear, pictured, back]</td>\n",
       "      <td>maroon denim colored high rise jean shorts charlotte russe size 2 fits sizes 25 26 goes right belly button 5 7 tall person shorts good condition slight wear pictured back</td>\n",
       "    </tr>\n",
       "  </tbody>\n",
       "</table>\n",
       "</div>"
      ],
      "text/plain": [
       "                                uuid  \\\n",
       "0  00_06db4_f7PKCScjE7iz9RccgKoYU8BG   \n",
       "1  00_074fe_d1wi5P39YxXsM3aYJWdToH2p   \n",
       "\n",
       "                                                                                                                                                                                                                            description  \\\n",
       "0                                                                                                                                    beautiful summer dress by zara only worn once.\\n\\n#zara #zarawoman #zaradress #summerdress #dress    \n",
       "1  Maroon denim colored high rise jean shorts from Charlotte Russe size 2. Fits sizes 25-26 and goes up to right under belly button on a 5”7 tall person. Shorts are in good condition but there is slight wear as pictured in the back   \n",
       "\n",
       "     color  price            cc3  sparkling  floral  striped  \\\n",
       "0  VARIOUS    8.4        DRESSES      False    True    False   \n",
       "1    BROWN    3.8  SHORTS_CAPRIS      False   False    False   \n",
       "\n",
       "                                                                                                                                                                                                                                                                       description2  \\\n",
       "0                                                                                                                                                                            [beautiful, summer, dress, by, zara, only, worn, once, zara, zarawoman, zaradress, summerdress, dress]   \n",
       "1  [maroon, denim, colored, high, rise, jean, shorts, from, charlotte, russe, size, 2, fits, sizes, 25, 26, and, goes, up, to, right, under, belly, button, on, a, 5, 7, tall, person, shorts, are, in, good, condition, but, there, is, slight, wear, as, pictured, in, the, back]   \n",
       "\n",
       "                                                                                                                                                                                                description3  \\\n",
       "0                                                                                                                     [beautiful, summer, dress, zara, worn, zara, zarawoman, zaradress, summerdress, dress]   \n",
       "1  [maroon, denim, colored, high, rise, jean, shorts, charlotte, russe, size, 2, fits, sizes, 25, 26, goes, right, belly, button, 5, 7, tall, person, shorts, good, condition, slight, wear, pictured, back]   \n",
       "\n",
       "                                                                                                                                                                 description4  \n",
       "0                                                                                                 beautiful summer dress zara worn zara zarawoman zaradress summerdress dress  \n",
       "1  maroon denim colored high rise jean shorts charlotte russe size 2 fits sizes 25 26 goes right belly button 5 7 tall person shorts good condition slight wear pictured back  "
      ]
     },
     "execution_count": 59,
     "metadata": {},
     "output_type": "execute_result"
    }
   ],
   "source": [
    "df_train.head(2)"
   ]
  },
  {
   "cell_type": "code",
   "execution_count": 60,
   "metadata": {},
   "outputs": [
    {
     "data": {
      "text/plain": [
       "array(['DRESSES', 'PULLOVERS_SWEATERS', 'SHORTS_CAPRIS', 'SKIRTS',\n",
       "       'TROUSERS'], dtype=object)"
      ]
     },
     "execution_count": 60,
     "metadata": {},
     "output_type": "execute_result"
    }
   ],
   "source": [
    "le.classes_"
   ]
  },
  {
   "cell_type": "code",
   "execution_count": 61,
   "metadata": {},
   "outputs": [],
   "source": [
    "df_train['cc3_encoded'] = le.transform(df_train['cc3'])\n"
   ]
  },
  {
   "cell_type": "code",
   "execution_count": 62,
   "metadata": {},
   "outputs": [
    {
     "data": {
      "text/html": [
       "<div>\n",
       "<style scoped>\n",
       "    .dataframe tbody tr th:only-of-type {\n",
       "        vertical-align: middle;\n",
       "    }\n",
       "\n",
       "    .dataframe tbody tr th {\n",
       "        vertical-align: top;\n",
       "    }\n",
       "\n",
       "    .dataframe thead th {\n",
       "        text-align: right;\n",
       "    }\n",
       "</style>\n",
       "<table border=\"1\" class=\"dataframe\">\n",
       "  <thead>\n",
       "    <tr style=\"text-align: right;\">\n",
       "      <th></th>\n",
       "      <th>uuid</th>\n",
       "      <th>description</th>\n",
       "      <th>color</th>\n",
       "      <th>price</th>\n",
       "      <th>cc3</th>\n",
       "      <th>sparkling</th>\n",
       "      <th>floral</th>\n",
       "      <th>striped</th>\n",
       "      <th>description2</th>\n",
       "      <th>description3</th>\n",
       "      <th>description4</th>\n",
       "      <th>cc3_encoded</th>\n",
       "    </tr>\n",
       "  </thead>\n",
       "  <tbody>\n",
       "    <tr>\n",
       "      <th>0</th>\n",
       "      <td>00_06db4_f7PKCScjE7iz9RccgKoYU8BG</td>\n",
       "      <td>beautiful summer dress by zara only worn once.\\n\\n#zara #zarawoman #zaradress #summerdress #dress</td>\n",
       "      <td>VARIOUS</td>\n",
       "      <td>8.4</td>\n",
       "      <td>DRESSES</td>\n",
       "      <td>False</td>\n",
       "      <td>True</td>\n",
       "      <td>False</td>\n",
       "      <td>[beautiful, summer, dress, by, zara, only, worn, once, zara, zarawoman, zaradress, summerdress, dress]</td>\n",
       "      <td>[beautiful, summer, dress, zara, worn, zara, zarawoman, zaradress, summerdress, dress]</td>\n",
       "      <td>beautiful summer dress zara worn zara zarawoman zaradress summerdress dress</td>\n",
       "      <td>0</td>\n",
       "    </tr>\n",
       "    <tr>\n",
       "      <th>1</th>\n",
       "      <td>00_074fe_d1wi5P39YxXsM3aYJWdToH2p</td>\n",
       "      <td>Maroon denim colored high rise jean shorts from Charlotte Russe size 2. Fits sizes 25-26 and goes up to right under belly button on a 5”7 tall person. Shorts are in good condition but there is slight wear as pictured in the back</td>\n",
       "      <td>BROWN</td>\n",
       "      <td>3.8</td>\n",
       "      <td>SHORTS_CAPRIS</td>\n",
       "      <td>False</td>\n",
       "      <td>False</td>\n",
       "      <td>False</td>\n",
       "      <td>[maroon, denim, colored, high, rise, jean, shorts, from, charlotte, russe, size, 2, fits, sizes, 25, 26, and, goes, up, to, right, under, belly, button, on, a, 5, 7, tall, person, shorts, are, in, good, condition, but, there, is, slight, wear, as, pictured, in, the, back]</td>\n",
       "      <td>[maroon, denim, colored, high, rise, jean, shorts, charlotte, russe, size, 2, fits, sizes, 25, 26, goes, right, belly, button, 5, 7, tall, person, shorts, good, condition, slight, wear, pictured, back]</td>\n",
       "      <td>maroon denim colored high rise jean shorts charlotte russe size 2 fits sizes 25 26 goes right belly button 5 7 tall person shorts good condition slight wear pictured back</td>\n",
       "      <td>2</td>\n",
       "    </tr>\n",
       "  </tbody>\n",
       "</table>\n",
       "</div>"
      ],
      "text/plain": [
       "                                uuid  \\\n",
       "0  00_06db4_f7PKCScjE7iz9RccgKoYU8BG   \n",
       "1  00_074fe_d1wi5P39YxXsM3aYJWdToH2p   \n",
       "\n",
       "                                                                                                                                                                                                                            description  \\\n",
       "0                                                                                                                                    beautiful summer dress by zara only worn once.\\n\\n#zara #zarawoman #zaradress #summerdress #dress    \n",
       "1  Maroon denim colored high rise jean shorts from Charlotte Russe size 2. Fits sizes 25-26 and goes up to right under belly button on a 5”7 tall person. Shorts are in good condition but there is slight wear as pictured in the back   \n",
       "\n",
       "     color  price            cc3  sparkling  floral  striped  \\\n",
       "0  VARIOUS    8.4        DRESSES      False    True    False   \n",
       "1    BROWN    3.8  SHORTS_CAPRIS      False   False    False   \n",
       "\n",
       "                                                                                                                                                                                                                                                                       description2  \\\n",
       "0                                                                                                                                                                            [beautiful, summer, dress, by, zara, only, worn, once, zara, zarawoman, zaradress, summerdress, dress]   \n",
       "1  [maroon, denim, colored, high, rise, jean, shorts, from, charlotte, russe, size, 2, fits, sizes, 25, 26, and, goes, up, to, right, under, belly, button, on, a, 5, 7, tall, person, shorts, are, in, good, condition, but, there, is, slight, wear, as, pictured, in, the, back]   \n",
       "\n",
       "                                                                                                                                                                                                description3  \\\n",
       "0                                                                                                                     [beautiful, summer, dress, zara, worn, zara, zarawoman, zaradress, summerdress, dress]   \n",
       "1  [maroon, denim, colored, high, rise, jean, shorts, charlotte, russe, size, 2, fits, sizes, 25, 26, goes, right, belly, button, 5, 7, tall, person, shorts, good, condition, slight, wear, pictured, back]   \n",
       "\n",
       "                                                                                                                                                                 description4  \\\n",
       "0                                                                                                 beautiful summer dress zara worn zara zarawoman zaradress summerdress dress   \n",
       "1  maroon denim colored high rise jean shorts charlotte russe size 2 fits sizes 25 26 goes right belly button 5 7 tall person shorts good condition slight wear pictured back   \n",
       "\n",
       "   cc3_encoded  \n",
       "0            0  \n",
       "1            2  "
      ]
     },
     "execution_count": 62,
     "metadata": {},
     "output_type": "execute_result"
    }
   ],
   "source": [
    "df_train.head(2)"
   ]
  },
  {
   "cell_type": "code",
   "execution_count": 188,
   "metadata": {},
   "outputs": [],
   "source": [
    "from sklearn.feature_extraction.text import CountVectorizer\n",
    "from sklearn.naive_bayes import MultinomialNB\n",
    "from sklearn.linear_model import SGDClassifier\n",
    "from sklearn.linear_model import LogisticRegression\n",
    "from sklearn.feature_extraction.text import TfidfTransformer\n",
    "\n",
    "from sklearn.pipeline import Pipeline\n",
    "text_clf = Pipeline([\n",
    "    ('vect', CountVectorizer()),\n",
    "    ('tfidf', TfidfTransformer()),\n",
    "#     ('clf', MultinomialNB()),\n",
    "#     ('clf', SGDClassifier(loss='hinge', penalty='l2',\n",
    "#         alpha=1e-3, random_state=42,\n",
    "#         max_iter=10000, tol=None)),\n",
    "    ('clf', LogisticRegression()),\n",
    "\n",
    "    ])"
   ]
  },
  {
   "cell_type": "code",
   "execution_count": 189,
   "metadata": {},
   "outputs": [],
   "source": [
    "from sklearn.model_selection import train_test_split\n",
    "\n",
    "df_train_set, df_val_set = train_test_split(df_train, test_size = 0.2)"
   ]
  },
  {
   "cell_type": "code",
   "execution_count": 190,
   "metadata": {},
   "outputs": [
    {
     "data": {
      "text/plain": [
       "Pipeline(steps=[('vect', CountVectorizer()), ('tfidf', TfidfTransformer()),\n",
       "                ('clf', LogisticRegression())])"
      ]
     },
     "execution_count": 190,
     "metadata": {},
     "output_type": "execute_result"
    }
   ],
   "source": [
    "text_clf.fit(df_train_set[\"description4\"], df_train_set[\"cc3_encoded\"])"
   ]
  },
  {
   "cell_type": "code",
   "execution_count": 191,
   "metadata": {},
   "outputs": [],
   "source": [
    "import numpy as np"
   ]
  },
  {
   "cell_type": "code",
   "execution_count": 192,
   "metadata": {},
   "outputs": [
    {
     "data": {
      "text/plain": [
       "0.7086383601756955"
      ]
     },
     "execution_count": 192,
     "metadata": {},
     "output_type": "execute_result"
    }
   ],
   "source": [
    "predicted = text_clf.predict(df_val_set[\"description4\"])\n",
    "np.mean(predicted == df_val_set[\"cc3_encoded\"])"
   ]
  },
  {
   "cell_type": "code",
   "execution_count": 182,
   "metadata": {},
   "outputs": [
    {
     "data": {
      "text/plain": [
       "array([0, 0, 0, 0, 0, 3, 4, 0, 0, 0, 0, 0, 2, 3, 0, 4, 0, 0, 3, 3, 0, 3,\n",
       "       3, 0, 1, 0, 1, 0, 0, 0, 2, 1, 0, 1, 0, 1, 0, 0, 0, 2, 0, 0, 2, 0,\n",
       "       0, 1, 0, 3, 0, 4, 0, 0, 0, 4, 0, 3, 0, 0, 0, 0, 0, 0, 0, 0, 4, 0,\n",
       "       4, 0, 0, 0, 0, 3, 0, 1, 0, 0, 2, 0, 0, 0, 0, 0, 2, 0, 0, 0, 0, 0,\n",
       "       0, 0, 0, 3, 0, 0, 0, 4, 4, 2, 0, 0, 0, 0, 0, 0, 0, 0, 0, 0, 2, 0,\n",
       "       0, 0, 0, 2, 0, 0, 0, 0, 0, 0, 0, 0, 2, 0, 2, 1, 4, 0, 2, 0, 0, 4,\n",
       "       4, 0, 0, 0, 0, 0, 3, 2, 2, 4, 0, 0, 4, 0, 0, 0, 0, 0, 2, 0, 2, 2,\n",
       "       4, 0, 0, 3, 0, 4, 0, 0, 0, 0, 0, 0, 0, 0, 0, 0, 2, 0, 0, 4, 0, 0,\n",
       "       0, 0, 0, 0, 0, 0, 0, 0, 3, 0, 0, 3, 0, 1, 0, 4, 0, 0, 0, 3, 4, 0,\n",
       "       0, 0, 0, 0, 4, 0, 0, 0, 0, 0, 0, 1, 0, 0, 3, 0, 0, 2, 0, 0, 0, 0,\n",
       "       0, 0, 0, 1, 0, 0, 0, 0, 0, 0, 0, 0, 0, 0, 0, 4, 0, 0, 0, 4, 0, 0,\n",
       "       0, 0, 0, 0, 1, 0, 2, 0, 2, 0, 4, 0, 0, 0, 0, 3, 0, 0, 1, 0, 0, 0,\n",
       "       0, 0, 2, 0, 0, 2, 0, 0, 0, 0, 0, 0, 0, 1, 1, 0, 0, 0, 0, 4, 0, 4,\n",
       "       0, 0, 0, 0, 0, 3, 2, 0, 0, 0, 0, 3, 1, 0, 0, 2, 2, 2, 0, 0, 0, 0,\n",
       "       0, 0, 0, 0, 0, 0, 2, 0, 3, 4, 0, 4, 0, 0, 1, 0, 2, 2, 4, 0, 1, 0,\n",
       "       0, 0, 0, 2, 0, 1, 2, 0, 0, 0, 4, 4, 0, 0, 4, 0, 0, 0, 4, 4, 0, 0,\n",
       "       4, 0, 3, 4, 0, 0, 1, 0, 4, 1, 0, 1, 0, 3, 0, 0, 0, 1, 2, 3, 2, 1,\n",
       "       0, 0, 0, 2, 0, 3, 3, 0, 0, 0, 0, 2, 4, 0, 0, 0, 0, 0, 0, 2, 3, 2,\n",
       "       0, 0, 0, 0, 0, 0, 4, 1, 0, 0, 0, 0, 0, 3, 0, 0, 0, 0, 3, 4, 0, 0,\n",
       "       0, 1, 0, 0, 3, 0, 0, 4, 0, 0, 0, 4, 0, 2, 0, 2, 0, 0, 4, 4, 2, 0,\n",
       "       1, 4, 2, 3, 4, 4, 0, 0, 0, 0, 3, 0, 0, 0, 0, 0, 0, 0, 4, 0, 0, 0,\n",
       "       4, 0, 4, 1, 2, 0, 1, 0, 0, 4, 0, 0, 0, 1, 0, 0, 0, 0, 0, 0, 0, 0,\n",
       "       0, 0, 4, 0, 0, 0, 4, 0, 2, 1, 0, 0, 0, 3, 0, 0, 4, 0, 0, 0, 0, 2,\n",
       "       0, 0, 0, 0, 0, 0, 0, 4, 1, 0, 1, 0, 3, 0, 4, 4, 2, 0, 0, 0, 0, 1,\n",
       "       0, 0, 0, 0, 0, 0, 0, 0, 0, 0, 0, 0, 0, 0, 0, 0, 3, 0, 0, 0, 0, 0,\n",
       "       0, 0, 0, 4, 3, 1, 2, 0, 2, 4, 0, 0, 4, 0, 2, 4, 0, 0, 0, 0, 4, 0,\n",
       "       0, 0, 0, 0, 4, 2, 0, 0, 0, 4, 3, 4, 0, 4, 0, 0, 0, 0, 1, 0, 3, 3,\n",
       "       0, 0, 0, 0, 4, 0, 0, 2, 0, 0, 0, 0, 0, 0, 0, 2, 0, 0, 3, 0, 0, 0,\n",
       "       0, 0, 0, 3, 0, 0, 2, 0, 2, 2, 0, 0, 3, 0, 0, 2, 0, 4, 2, 0, 0, 2,\n",
       "       3, 0, 4, 1, 0, 3, 0, 0, 3, 0, 3, 0, 2, 0, 1, 0, 0, 0, 0, 4, 0, 0,\n",
       "       0, 0, 4, 0, 0, 4, 4, 1, 0, 0, 0, 2, 0, 2, 0, 0, 2, 0, 3, 0, 2, 0,\n",
       "       0])"
      ]
     },
     "execution_count": 182,
     "metadata": {},
     "output_type": "execute_result"
    }
   ],
   "source": [
    "predicted\n",
    "\n"
   ]
  },
  {
   "cell_type": "code",
   "execution_count": 89,
   "metadata": {},
   "outputs": [
    {
     "name": "stderr",
     "output_type": "stream",
     "text": [
      "/opt/conda/lib/python3.7/site-packages/ipykernel_launcher.py:1: SettingWithCopyWarning: \n",
      "A value is trying to be set on a copy of a slice from a DataFrame.\n",
      "Try using .loc[row_indexer,col_indexer] = value instead\n",
      "\n",
      "See the caveats in the documentation: https://pandas.pydata.org/pandas-docs/stable/user_guide/indexing.html#returning-a-view-versus-a-copy\n",
      "  \"\"\"Entry point for launching an IPython kernel.\n"
     ]
    }
   ],
   "source": [
    "df_val_set[\"predicted_lables\"] = pd.Series(predicted).values"
   ]
  },
  {
   "cell_type": "code",
   "execution_count": 90,
   "metadata": {},
   "outputs": [
    {
     "data": {
      "text/html": [
       "<div>\n",
       "<style scoped>\n",
       "    .dataframe tbody tr th:only-of-type {\n",
       "        vertical-align: middle;\n",
       "    }\n",
       "\n",
       "    .dataframe tbody tr th {\n",
       "        vertical-align: top;\n",
       "    }\n",
       "\n",
       "    .dataframe thead th {\n",
       "        text-align: right;\n",
       "    }\n",
       "</style>\n",
       "<table border=\"1\" class=\"dataframe\">\n",
       "  <thead>\n",
       "    <tr style=\"text-align: right;\">\n",
       "      <th></th>\n",
       "      <th>cc3</th>\n",
       "      <th>cc3_encoded</th>\n",
       "      <th>predicted_lables</th>\n",
       "    </tr>\n",
       "  </thead>\n",
       "  <tbody>\n",
       "    <tr>\n",
       "      <th>62</th>\n",
       "      <td>SHORTS_CAPRIS</td>\n",
       "      <td>2</td>\n",
       "      <td>0</td>\n",
       "    </tr>\n",
       "    <tr>\n",
       "      <th>1456</th>\n",
       "      <td>TROUSERS</td>\n",
       "      <td>4</td>\n",
       "      <td>0</td>\n",
       "    </tr>\n",
       "    <tr>\n",
       "      <th>1169</th>\n",
       "      <td>TROUSERS</td>\n",
       "      <td>4</td>\n",
       "      <td>0</td>\n",
       "    </tr>\n",
       "    <tr>\n",
       "      <th>1504</th>\n",
       "      <td>DRESSES</td>\n",
       "      <td>0</td>\n",
       "      <td>0</td>\n",
       "    </tr>\n",
       "    <tr>\n",
       "      <th>3507</th>\n",
       "      <td>DRESSES</td>\n",
       "      <td>0</td>\n",
       "      <td>0</td>\n",
       "    </tr>\n",
       "  </tbody>\n",
       "</table>\n",
       "</div>"
      ],
      "text/plain": [
       "                cc3  cc3_encoded  predicted_lables\n",
       "62    SHORTS_CAPRIS            2                 0\n",
       "1456       TROUSERS            4                 0\n",
       "1169       TROUSERS            4                 0\n",
       "1504        DRESSES            0                 0\n",
       "3507        DRESSES            0                 0"
      ]
     },
     "execution_count": 90,
     "metadata": {},
     "output_type": "execute_result"
    }
   ],
   "source": [
    "df_val_set[[\"cc3\",\"cc3_encoded\", \"predicted_lables\"]].head()"
   ]
  },
  {
   "cell_type": "code",
   "execution_count": 91,
   "metadata": {},
   "outputs": [
    {
     "data": {
      "text/plain": [
       "array([[307,   1,   4,   2,   4],\n",
       "       [ 27,  38,   0,   0,   3],\n",
       "       [ 32,   0,  69,   1,   5],\n",
       "       [ 31,   1,   5,  47,   3],\n",
       "       [ 44,   0,   7,   0,  52]])"
      ]
     },
     "execution_count": 91,
     "metadata": {},
     "output_type": "execute_result"
    }
   ],
   "source": [
    "from sklearn.metrics import confusion_matrix\n",
    "confusion_matrix(le.classes_[df_val_set[\"cc3_encoded\"]], le.classes_[df_val_set[\"predicted_lables\"]], labels=le.classes_)"
   ]
  },
  {
   "cell_type": "code",
   "execution_count": 92,
   "metadata": {},
   "outputs": [],
   "source": [
    "from sklearn.metrics import plot_confusion_matrix"
   ]
  },
  {
   "cell_type": "code",
   "execution_count": 93,
   "metadata": {},
   "outputs": [
    {
     "data": {
      "text/plain": [
       "<sklearn.metrics._plot.confusion_matrix.ConfusionMatrixDisplay at 0x7f1af0ef4690>"
      ]
     },
     "execution_count": 93,
     "metadata": {},
     "output_type": "execute_result"
    },
    {
     "data": {
      "image/png": "[encoded data removed]",
      "text/plain": [
       "<Figure size 720x720 with 2 Axes>"
      ]
     },
     "metadata": {},
     "output_type": "display_data"
    }
   ],
   "source": [
    "plot_confusion_matrix(text_clf, df_val_set[\"description4\"], df_val_set[\"cc3_encoded\"], display_labels=le.classes_)"
   ]
  },
  {
   "cell_type": "code",
   "execution_count": null,
   "metadata": {},
   "outputs": [],
   "source": []
  },
  {
   "cell_type": "code",
   "execution_count": null,
   "metadata": {},
   "outputs": [],
   "source": []
  },
  {
   "cell_type": "code",
   "execution_count": null,
   "metadata": {},
   "outputs": [],
   "source": []
  }
 ],
 "metadata": {
  "kernelspec": {
   "display_name": "Python 3",
   "language": "python",
   "name": "python3"
  },
  "language_info": {
   "codemirror_mode": {
    "name": "ipython",
    "version": 3
   },
   "file_extension": ".py",
   "mimetype": "text/x-python",
   "name": "python",
   "nbconvert_exporter": "python",
   "pygments_lexer": "ipython3",
   "version": "3.7.7"
  }
 },
 "nbformat": 4,
 "nbformat_minor": 4
}
