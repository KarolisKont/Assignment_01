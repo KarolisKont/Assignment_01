{
 "cells": [
  {
   "cell_type": "markdown",
   "metadata": {},
   "source": [
    "# Import/install libraries"
   ]
  },
  {
   "cell_type": "code",
   "execution_count": 1,
   "metadata": {},
   "outputs": [],
   "source": [
    "import os\n",
    "import pandas as pd\n",
    "\n",
    "import seaborn as sns\n",
    "import matplotlib.pyplot as plt\n",
    "\n",
    "#import nltk\n",
    "# nltk.download('stopwords')\n",
    "# from nltk.corpus import stopwords\n",
    "# !pip install stop-words\n",
    "from stop_words import get_stop_words\n",
    "# !pip install snowballstemmer\n",
    "import snowballstemmer\n",
    "\n",
    "from sklearn.preprocessing import LabelEncoder\n",
    "\n",
    "\n",
    "import re"
   ]
  },
  {
   "cell_type": "code",
   "execution_count": 2,
   "metadata": {},
   "outputs": [],
   "source": [
    "pd.options.display.max_colwidth = 1000"
   ]
  },
  {
   "cell_type": "markdown",
   "metadata": {},
   "source": [
    "# Load data"
   ]
  },
  {
   "cell_type": "code",
   "execution_count": 3,
   "metadata": {
    "jupyter": {
     "source_hidden": true
    }
   },
   "outputs": [],
   "source": [
    "data_root = os.path.join(\"/workspace/academy/assignment1\", \"data\")"
   ]
  },
  {
   "cell_type": "code",
   "execution_count": 4,
   "metadata": {
    "jupyter": {
     "source_hidden": true
    }
   },
   "outputs": [],
   "source": [
    "df_train = pd.read_parquet(os.path.join(data_root, \"train.parquet\"))"
   ]
  },
  {
   "cell_type": "code",
   "execution_count": 5,
   "metadata": {
    "jupyter": {
     "source_hidden": true
    }
   },
   "outputs": [],
   "source": [
    "df_test = pd.read_parquet(os.path.join(data_root, \"test.parquet\"))"
   ]
  },
  {
   "cell_type": "code",
   "execution_count": 6,
   "metadata": {
    "jupyter": {
     "source_hidden": true
    }
   },
   "outputs": [],
   "source": [
    "df_example = pd.read_parquet(os.path.join(data_root, \"example_predictions.parquet\"))"
   ]
  },
  {
   "cell_type": "markdown",
   "metadata": {},
   "source": [
    "## Looking at loaded data"
   ]
  },
  {
   "cell_type": "code",
   "execution_count": 7,
   "metadata": {
    "jupyter": {
     "source_hidden": true
    }
   },
   "outputs": [],
   "source": [
    "pd.options.display.max_colwidth = 1000"
   ]
  },
  {
   "cell_type": "code",
   "execution_count": 8,
   "metadata": {
    "collapsed": true,
    "jupyter": {
     "outputs_hidden": true,
     "source_hidden": true
    }
   },
   "outputs": [
    {
     "data": {
      "text/plain": [
       "(3861, 8)"
      ]
     },
     "execution_count": 8,
     "metadata": {},
     "output_type": "execute_result"
    }
   ],
   "source": [
    "df_train.shape"
   ]
  },
  {
   "cell_type": "code",
   "execution_count": 9,
   "metadata": {
    "collapsed": true,
    "jupyter": {
     "outputs_hidden": true,
     "source_hidden": true
    }
   },
   "outputs": [
    {
     "data": {
      "text/plain": [
       "(946, 4)"
      ]
     },
     "execution_count": 9,
     "metadata": {},
     "output_type": "execute_result"
    }
   ],
   "source": [
    "df_test.shape"
   ]
  },
  {
   "cell_type": "code",
   "execution_count": 10,
   "metadata": {
    "collapsed": true,
    "jupyter": {
     "outputs_hidden": true,
     "source_hidden": true
    }
   },
   "outputs": [
    {
     "data": {
      "text/plain": [
       "(5, 8)"
      ]
     },
     "execution_count": 10,
     "metadata": {},
     "output_type": "execute_result"
    }
   ],
   "source": [
    "df_example.shape"
   ]
  },
  {
   "cell_type": "code",
   "execution_count": 11,
   "metadata": {
    "collapsed": true,
    "jupyter": {
     "outputs_hidden": true,
     "source_hidden": true
    }
   },
   "outputs": [
    {
     "data": {
      "text/html": [
       "<div>\n",
       "<style scoped>\n",
       "    .dataframe tbody tr th:only-of-type {\n",
       "        vertical-align: middle;\n",
       "    }\n",
       "\n",
       "    .dataframe tbody tr th {\n",
       "        vertical-align: top;\n",
       "    }\n",
       "\n",
       "    .dataframe thead th {\n",
       "        text-align: right;\n",
       "    }\n",
       "</style>\n",
       "<table border=\"1\" class=\"dataframe\">\n",
       "  <thead>\n",
       "    <tr style=\"text-align: right;\">\n",
       "      <th></th>\n",
       "      <th>uuid</th>\n",
       "      <th>description</th>\n",
       "      <th>color</th>\n",
       "      <th>price</th>\n",
       "      <th>cc3</th>\n",
       "      <th>sparkling</th>\n",
       "      <th>floral</th>\n",
       "      <th>striped</th>\n",
       "    </tr>\n",
       "  </thead>\n",
       "  <tbody>\n",
       "    <tr>\n",
       "      <th>0</th>\n",
       "      <td>00_06db4_f7PKCScjE7iz9RccgKoYU8BG</td>\n",
       "      <td>beautiful summer dress by zara only worn once.\\n\\n#zara #zarawoman #zaradress #summerdress #dress</td>\n",
       "      <td>VARIOUS</td>\n",
       "      <td>8.40</td>\n",
       "      <td>DRESSES</td>\n",
       "      <td>False</td>\n",
       "      <td>True</td>\n",
       "      <td>False</td>\n",
       "    </tr>\n",
       "    <tr>\n",
       "      <th>1</th>\n",
       "      <td>00_074fe_d1wi5P39YxXsM3aYJWdToH2p</td>\n",
       "      <td>Maroon denim colored high rise jean shorts from Charlotte Russe size 2. Fits sizes 25-26 and goes up to right under belly button on a 5”7 tall person. Shorts are in good condition but there is slight wear as pictured in the back</td>\n",
       "      <td>BROWN</td>\n",
       "      <td>3.80</td>\n",
       "      <td>SHORTS_CAPRIS</td>\n",
       "      <td>False</td>\n",
       "      <td>False</td>\n",
       "      <td>False</td>\n",
       "    </tr>\n",
       "    <tr>\n",
       "      <th>2</th>\n",
       "      <td>0746f_viq17Xw4gBvYbmB1qKD5z6Z8</td>\n",
       "      <td>brand-new without tags x</td>\n",
       "      <td>VARIOUS</td>\n",
       "      <td>7.20</td>\n",
       "      <td>SHORTS_CAPRIS</td>\n",
       "      <td>False</td>\n",
       "      <td>True</td>\n",
       "      <td>False</td>\n",
       "    </tr>\n",
       "    <tr>\n",
       "      <th>3</th>\n",
       "      <td>00_069a4_PN8t6dcbp8PopRPnsBTp2MWv</td>\n",
       "      <td>Vasariška trumpa lengva medvilninė suknytė, be defektų.\\nIlgis 83cm, plotis tarp pažastų 37cm.\\n#terranova #suknele #geleta</td>\n",
       "      <td>VARIOUS</td>\n",
       "      <td>2.00</td>\n",
       "      <td>DRESSES</td>\n",
       "      <td>False</td>\n",
       "      <td>True</td>\n",
       "      <td>False</td>\n",
       "    </tr>\n",
       "    <tr>\n",
       "      <th>4</th>\n",
       "      <td>00_05337_c3Lr3d3VjSyg6SXZALzZXkpd</td>\n",
       "      <td>size small, worn; distressed look. one has a pain stain, see pics \\nWILL THROW IN FREE W ANY BUNDLE IF ASKED \\n#jsfcloset</td>\n",
       "      <td>RED</td>\n",
       "      <td>0.76</td>\n",
       "      <td>SHORTS_CAPRIS</td>\n",
       "      <td>False</td>\n",
       "      <td>False</td>\n",
       "      <td>False</td>\n",
       "    </tr>\n",
       "  </tbody>\n",
       "</table>\n",
       "</div>"
      ],
      "text/plain": [
       "                                uuid  \\\n",
       "0  00_06db4_f7PKCScjE7iz9RccgKoYU8BG   \n",
       "1  00_074fe_d1wi5P39YxXsM3aYJWdToH2p   \n",
       "2     0746f_viq17Xw4gBvYbmB1qKD5z6Z8   \n",
       "3  00_069a4_PN8t6dcbp8PopRPnsBTp2MWv   \n",
       "4  00_05337_c3Lr3d3VjSyg6SXZALzZXkpd   \n",
       "\n",
       "                                                                                                                                                                                                                            description  \\\n",
       "0                                                                                                                                    beautiful summer dress by zara only worn once.\\n\\n#zara #zarawoman #zaradress #summerdress #dress    \n",
       "1  Maroon denim colored high rise jean shorts from Charlotte Russe size 2. Fits sizes 25-26 and goes up to right under belly button on a 5”7 tall person. Shorts are in good condition but there is slight wear as pictured in the back   \n",
       "2                                                                                                                                                                                                              brand-new without tags x   \n",
       "3                                                                                                          Vasariška trumpa lengva medvilninė suknytė, be defektų.\\nIlgis 83cm, plotis tarp pažastų 37cm.\\n#terranova #suknele #geleta    \n",
       "4                                                                                                            size small, worn; distressed look. one has a pain stain, see pics \\nWILL THROW IN FREE W ANY BUNDLE IF ASKED \\n#jsfcloset    \n",
       "\n",
       "     color  price            cc3  sparkling  floral  striped  \n",
       "0  VARIOUS   8.40        DRESSES      False    True    False  \n",
       "1    BROWN   3.80  SHORTS_CAPRIS      False   False    False  \n",
       "2  VARIOUS   7.20  SHORTS_CAPRIS      False    True    False  \n",
       "3  VARIOUS   2.00        DRESSES      False    True    False  \n",
       "4      RED   0.76  SHORTS_CAPRIS      False   False    False  "
      ]
     },
     "execution_count": 11,
     "metadata": {},
     "output_type": "execute_result"
    }
   ],
   "source": [
    "df_train.head()"
   ]
  },
  {
   "cell_type": "code",
   "execution_count": 12,
   "metadata": {
    "collapsed": true,
    "jupyter": {
     "outputs_hidden": true,
     "source_hidden": true
    }
   },
   "outputs": [
    {
     "data": {
      "text/html": [
       "<div>\n",
       "<style scoped>\n",
       "    .dataframe tbody tr th:only-of-type {\n",
       "        vertical-align: middle;\n",
       "    }\n",
       "\n",
       "    .dataframe tbody tr th {\n",
       "        vertical-align: top;\n",
       "    }\n",
       "\n",
       "    .dataframe thead th {\n",
       "        text-align: right;\n",
       "    }\n",
       "</style>\n",
       "<table border=\"1\" class=\"dataframe\">\n",
       "  <thead>\n",
       "    <tr style=\"text-align: right;\">\n",
       "      <th></th>\n",
       "      <th>uuid</th>\n",
       "      <th>description</th>\n",
       "      <th>color</th>\n",
       "      <th>price</th>\n",
       "    </tr>\n",
       "  </thead>\n",
       "  <tbody>\n",
       "    <tr>\n",
       "      <th>0</th>\n",
       "      <td>00_04fec_bcBubyJW2q8o6JPFntUn4Q9W</td>\n",
       "      <td>In great condition! No holes, stains or pilling.  \\n\\nSize 26.  \\n\\nStyle is Skinny Toothpick.  \\n\\nMade of 99% cotton, 1% spandex.  \\n\\nSmoke free home.  All sales are final.\\n\\n#jcrew\\n#corduroy\\n#skinnyjeans</td>\n",
       "      <td>GREY</td>\n",
       "      <td>11.400</td>\n",
       "    </tr>\n",
       "    <tr>\n",
       "      <th>1</th>\n",
       "      <td>00_050a7_o9o8NLTcXJ7Hqs2t31xEGoG4</td>\n",
       "      <td>šiek tiek praires užtrauktukas ,reiktų šiek tiek\\nsuimt su siūlu . ne auksteniai nei 170cm \\nPrašau neprašykite išmatavimų nuo pažasties iki klyno ir pan. Visi dydžiai yra standartiniai ,jei neparašyta kitaip. Nemainau.</td>\n",
       "      <td>WHITE</td>\n",
       "      <td>5.000</td>\n",
       "    </tr>\n",
       "    <tr>\n",
       "      <th>2</th>\n",
       "      <td>00_060f0_zLp2b8moCnfWX614ZAu8HfsS</td>\n",
       "      <td>This square neckline dress is so beautiful! It’s sheer and  printed. It’s a pretty turquoise blue color. The back ties. It’s asymmetrical and ruched at one side. The brand is Cabi. Size small.</td>\n",
       "      <td>BLUE</td>\n",
       "      <td>26.600</td>\n",
       "    </tr>\n",
       "    <tr>\n",
       "      <th>3</th>\n",
       "      <td>00_05d49_74iqVSd8yami4Szoy5tBjkGF</td>\n",
       "      <td>Maxi sukně ze zajímavého materiálu, tak trošku mění barvu na světle. Vysoký pas. Super objem, skoro princeznovská:)\\n\\n#dlouhasukne #maxisukne #sukne #zajímavý #zajímavá #zajimavabarva #material #lesklý  #lesklá #extravagantni</td>\n",
       "      <td>PINK</td>\n",
       "      <td>4.668</td>\n",
       "    </tr>\n",
       "    <tr>\n",
       "      <th>4</th>\n",
       "      <td>00_06301_twfaovSeAmiJoFPWgAE9b99G</td>\n",
       "      <td>Labai graži suknelė, yra maža dėmelė,kuri tikrak išsiplaus</td>\n",
       "      <td>BLACK</td>\n",
       "      <td>5.000</td>\n",
       "    </tr>\n",
       "  </tbody>\n",
       "</table>\n",
       "</div>"
      ],
      "text/plain": [
       "                                uuid  \\\n",
       "0  00_04fec_bcBubyJW2q8o6JPFntUn4Q9W   \n",
       "1  00_050a7_o9o8NLTcXJ7Hqs2t31xEGoG4   \n",
       "2  00_060f0_zLp2b8moCnfWX614ZAu8HfsS   \n",
       "3  00_05d49_74iqVSd8yami4Szoy5tBjkGF   \n",
       "4  00_06301_twfaovSeAmiJoFPWgAE9b99G   \n",
       "\n",
       "                                                                                                                                                                                                                           description  \\\n",
       "0                   In great condition! No holes, stains or pilling.  \\n\\nSize 26.  \\n\\nStyle is Skinny Toothpick.  \\n\\nMade of 99% cotton, 1% spandex.  \\n\\nSmoke free home.  All sales are final.\\n\\n#jcrew\\n#corduroy\\n#skinnyjeans   \n",
       "1         šiek tiek praires užtrauktukas ,reiktų šiek tiek\\nsuimt su siūlu . ne auksteniai nei 170cm \\nPrašau neprašykite išmatavimų nuo pažasties iki klyno ir pan. Visi dydžiai yra standartiniai ,jei neparašyta kitaip. Nemainau.    \n",
       "2                                    This square neckline dress is so beautiful! It’s sheer and  printed. It’s a pretty turquoise blue color. The back ties. It’s asymmetrical and ruched at one side. The brand is Cabi. Size small.    \n",
       "3  Maxi sukně ze zajímavého materiálu, tak trošku mění barvu na světle. Vysoký pas. Super objem, skoro princeznovská:)\\n\\n#dlouhasukne #maxisukne #sukne #zajímavý #zajímavá #zajimavabarva #material #lesklý  #lesklá #extravagantni    \n",
       "4                                                                                                                                                                           Labai graži suknelė, yra maža dėmelė,kuri tikrak išsiplaus   \n",
       "\n",
       "   color   price  \n",
       "0   GREY  11.400  \n",
       "1  WHITE   5.000  \n",
       "2   BLUE  26.600  \n",
       "3   PINK   4.668  \n",
       "4  BLACK   5.000  "
      ]
     },
     "execution_count": 12,
     "metadata": {},
     "output_type": "execute_result"
    }
   ],
   "source": [
    "df_test.head()"
   ]
  },
  {
   "cell_type": "code",
   "execution_count": 13,
   "metadata": {
    "collapsed": true,
    "jupyter": {
     "outputs_hidden": true,
     "source_hidden": true
    }
   },
   "outputs": [
    {
     "data": {
      "text/html": [
       "<div>\n",
       "<style scoped>\n",
       "    .dataframe tbody tr th:only-of-type {\n",
       "        vertical-align: middle;\n",
       "    }\n",
       "\n",
       "    .dataframe tbody tr th {\n",
       "        vertical-align: top;\n",
       "    }\n",
       "\n",
       "    .dataframe thead th {\n",
       "        text-align: right;\n",
       "    }\n",
       "</style>\n",
       "<table border=\"1\" class=\"dataframe\">\n",
       "  <thead>\n",
       "    <tr style=\"text-align: right;\">\n",
       "      <th></th>\n",
       "      <th>uuid</th>\n",
       "      <th>description</th>\n",
       "      <th>color</th>\n",
       "      <th>price</th>\n",
       "      <th>cc3</th>\n",
       "      <th>sparkling</th>\n",
       "      <th>floral</th>\n",
       "      <th>striped</th>\n",
       "    </tr>\n",
       "  </thead>\n",
       "  <tbody>\n",
       "    <tr>\n",
       "      <th>0</th>\n",
       "      <td>00_06db4_f7PKCScjE7iz9RccgKoYU8BG</td>\n",
       "      <td>beautiful summer dress by zara only worn once.\\n\\n#zara #zarawoman #zaradress #summerdress #dress</td>\n",
       "      <td>VARIOUS</td>\n",
       "      <td>8.40</td>\n",
       "      <td>DRESSES</td>\n",
       "      <td>False</td>\n",
       "      <td>True</td>\n",
       "      <td>False</td>\n",
       "    </tr>\n",
       "    <tr>\n",
       "      <th>1</th>\n",
       "      <td>00_074fe_d1wi5P39YxXsM3aYJWdToH2p</td>\n",
       "      <td>Maroon denim colored high rise jean shorts from Charlotte Russe size 2. Fits sizes 25-26 and goes up to right under belly button on a 5”7 tall person. Shorts are in good condition but there is slight wear as pictured in the back</td>\n",
       "      <td>BROWN</td>\n",
       "      <td>3.80</td>\n",
       "      <td>SHORTS_CAPRIS</td>\n",
       "      <td>False</td>\n",
       "      <td>False</td>\n",
       "      <td>False</td>\n",
       "    </tr>\n",
       "    <tr>\n",
       "      <th>2</th>\n",
       "      <td>0746f_viq17Xw4gBvYbmB1qKD5z6Z8</td>\n",
       "      <td>brand-new without tags x</td>\n",
       "      <td>VARIOUS</td>\n",
       "      <td>7.20</td>\n",
       "      <td>SHORTS_CAPRIS</td>\n",
       "      <td>False</td>\n",
       "      <td>True</td>\n",
       "      <td>False</td>\n",
       "    </tr>\n",
       "    <tr>\n",
       "      <th>3</th>\n",
       "      <td>00_069a4_PN8t6dcbp8PopRPnsBTp2MWv</td>\n",
       "      <td>Vasariška trumpa lengva medvilninė suknytė, be defektų.\\nIlgis 83cm, plotis tarp pažastų 37cm.\\n#terranova #suknele #geleta</td>\n",
       "      <td>VARIOUS</td>\n",
       "      <td>2.00</td>\n",
       "      <td>DRESSES</td>\n",
       "      <td>False</td>\n",
       "      <td>True</td>\n",
       "      <td>False</td>\n",
       "    </tr>\n",
       "    <tr>\n",
       "      <th>4</th>\n",
       "      <td>00_05337_c3Lr3d3VjSyg6SXZALzZXkpd</td>\n",
       "      <td>size small, worn; distressed look. one has a pain stain, see pics \\nWILL THROW IN FREE W ANY BUNDLE IF ASKED \\n#jsfcloset</td>\n",
       "      <td>RED</td>\n",
       "      <td>0.76</td>\n",
       "      <td>SHORTS_CAPRIS</td>\n",
       "      <td>False</td>\n",
       "      <td>False</td>\n",
       "      <td>False</td>\n",
       "    </tr>\n",
       "  </tbody>\n",
       "</table>\n",
       "</div>"
      ],
      "text/plain": [
       "                                uuid  \\\n",
       "0  00_06db4_f7PKCScjE7iz9RccgKoYU8BG   \n",
       "1  00_074fe_d1wi5P39YxXsM3aYJWdToH2p   \n",
       "2     0746f_viq17Xw4gBvYbmB1qKD5z6Z8   \n",
       "3  00_069a4_PN8t6dcbp8PopRPnsBTp2MWv   \n",
       "4  00_05337_c3Lr3d3VjSyg6SXZALzZXkpd   \n",
       "\n",
       "                                                                                                                                                                                                                            description  \\\n",
       "0                                                                                                                                    beautiful summer dress by zara only worn once.\\n\\n#zara #zarawoman #zaradress #summerdress #dress    \n",
       "1  Maroon denim colored high rise jean shorts from Charlotte Russe size 2. Fits sizes 25-26 and goes up to right under belly button on a 5”7 tall person. Shorts are in good condition but there is slight wear as pictured in the back   \n",
       "2                                                                                                                                                                                                              brand-new without tags x   \n",
       "3                                                                                                          Vasariška trumpa lengva medvilninė suknytė, be defektų.\\nIlgis 83cm, plotis tarp pažastų 37cm.\\n#terranova #suknele #geleta    \n",
       "4                                                                                                            size small, worn; distressed look. one has a pain stain, see pics \\nWILL THROW IN FREE W ANY BUNDLE IF ASKED \\n#jsfcloset    \n",
       "\n",
       "     color  price            cc3  sparkling  floral  striped  \n",
       "0  VARIOUS   8.40        DRESSES      False    True    False  \n",
       "1    BROWN   3.80  SHORTS_CAPRIS      False   False    False  \n",
       "2  VARIOUS   7.20  SHORTS_CAPRIS      False    True    False  \n",
       "3  VARIOUS   2.00        DRESSES      False    True    False  \n",
       "4      RED   0.76  SHORTS_CAPRIS      False   False    False  "
      ]
     },
     "execution_count": 13,
     "metadata": {},
     "output_type": "execute_result"
    }
   ],
   "source": [
    "df_example.head()"
   ]
  },
  {
   "cell_type": "markdown",
   "metadata": {},
   "source": [
    "# Training df"
   ]
  },
  {
   "cell_type": "markdown",
   "metadata": {},
   "source": [
    "## All df in general"
   ]
  },
  {
   "cell_type": "markdown",
   "metadata": {},
   "source": [
    "### Duplicate rows"
   ]
  },
  {
   "cell_type": "code",
   "execution_count": 14,
   "metadata": {},
   "outputs": [
    {
     "data": {
      "text/plain": [
       "66"
      ]
     },
     "execution_count": 14,
     "metadata": {},
     "output_type": "execute_result"
    }
   ],
   "source": [
    "df_train.duplicated().sum()"
   ]
  },
  {
   "cell_type": "code",
   "execution_count": 15,
   "metadata": {},
   "outputs": [
    {
     "data": {
      "text/html": [
       "<div>\n",
       "<style scoped>\n",
       "    .dataframe tbody tr th:only-of-type {\n",
       "        vertical-align: middle;\n",
       "    }\n",
       "\n",
       "    .dataframe tbody tr th {\n",
       "        vertical-align: top;\n",
       "    }\n",
       "\n",
       "    .dataframe thead th {\n",
       "        text-align: right;\n",
       "    }\n",
       "</style>\n",
       "<table border=\"1\" class=\"dataframe\">\n",
       "  <thead>\n",
       "    <tr style=\"text-align: right;\">\n",
       "      <th></th>\n",
       "      <th>description</th>\n",
       "      <th>color</th>\n",
       "      <th>price</th>\n",
       "      <th>cc3</th>\n",
       "      <th>sparkling</th>\n",
       "      <th>floral</th>\n",
       "      <th>striped</th>\n",
       "    </tr>\n",
       "    <tr>\n",
       "      <th>uuid</th>\n",
       "      <th></th>\n",
       "      <th></th>\n",
       "      <th></th>\n",
       "      <th></th>\n",
       "      <th></th>\n",
       "      <th></th>\n",
       "      <th></th>\n",
       "    </tr>\n",
       "  </thead>\n",
       "  <tbody>\n",
       "    <tr>\n",
       "      <th>00_04e32_uA8Gveq8Cr43y9A8p6FNWjeR</th>\n",
       "      <td>&gt;&gt; až 15% sleva na sety &lt;&lt;\\n\\nProužkované lesklé šatky s háčkovaným horním okrajem a ramínky, mají spodničku, dobře vypadají s nějakým páskem. Materiál 95% viskoza, 5% kovová vlákna, podšívka polyester.\\nVelikost S odpovídá. Délka 114 cm.\\n\\n&gt;&gt; více info v profilu &lt;&lt;\\n\\n#boho #hippie #mididress # #shimmer #crochet #mustard #spring #summer #autumn #viscose #zara</td>\n",
       "      <td>RED</td>\n",
       "      <td>11.6700</td>\n",
       "      <td>DRESSES</td>\n",
       "      <td>True</td>\n",
       "      <td>False</td>\n",
       "      <td>True</td>\n",
       "    </tr>\n",
       "    <tr>\n",
       "      <th>00_04e32_uA8Gveq8Cr43y9A8p6FNWjeR</th>\n",
       "      <td>&gt;&gt; až 15% sleva na sety &lt;&lt;\\n\\nProužkované lesklé šatky s háčkovaným horním okrajem a ramínky, mají spodničku, dobře vypadají s nějakým páskem. Materiál 95% viskoza, 5% kovová vlákna, podšívka polyester.\\nVelikost S odpovídá. Délka 114 cm.\\n\\n&gt;&gt; více info v profilu &lt;&lt;\\n\\n#boho #hippie #mididress # #shimmer #crochet #mustard #spring #summer #autumn #viscose #zara</td>\n",
       "      <td>RED</td>\n",
       "      <td>11.6700</td>\n",
       "      <td>DRESSES</td>\n",
       "      <td>True</td>\n",
       "      <td>False</td>\n",
       "      <td>True</td>\n",
       "    </tr>\n",
       "    <tr>\n",
       "      <th>00_04ef6_pn2b1ydpsrw2TQLriG1uLm5q</th>\n",
       "      <td>nové:) Da se použit i jako Tunika :) \\n</td>\n",
       "      <td>BLUE</td>\n",
       "      <td>15.5211</td>\n",
       "      <td>DRESSES</td>\n",
       "      <td>False</td>\n",
       "      <td>False</td>\n",
       "      <td>True</td>\n",
       "    </tr>\n",
       "    <tr>\n",
       "      <th>00_04ef6_pn2b1ydpsrw2TQLriG1uLm5q</th>\n",
       "      <td>nové:) Da se použit i jako Tunika :) \\n</td>\n",
       "      <td>BLUE</td>\n",
       "      <td>15.5211</td>\n",
       "      <td>DRESSES</td>\n",
       "      <td>False</td>\n",
       "      <td>False</td>\n",
       "      <td>True</td>\n",
       "    </tr>\n",
       "  </tbody>\n",
       "</table>\n",
       "</div>"
      ],
      "text/plain": [
       "                                                                                                                                                                                                                                                                                                                                                                                                   description  \\\n",
       "uuid                                                                                                                                                                                                                                                                                                                                                                                                             \n",
       "00_04e32_uA8Gveq8Cr43y9A8p6FNWjeR  >> až 15% sleva na sety <<\\n\\nProužkované lesklé šatky s háčkovaným horním okrajem a ramínky, mají spodničku, dobře vypadají s nějakým páskem. Materiál 95% viskoza, 5% kovová vlákna, podšívka polyester.\\nVelikost S odpovídá. Délka 114 cm.\\n\\n>> více info v profilu <<\\n\\n#boho #hippie #mididress # #shimmer #crochet #mustard #spring #summer #autumn #viscose #zara   \n",
       "00_04e32_uA8Gveq8Cr43y9A8p6FNWjeR  >> až 15% sleva na sety <<\\n\\nProužkované lesklé šatky s háčkovaným horním okrajem a ramínky, mají spodničku, dobře vypadají s nějakým páskem. Materiál 95% viskoza, 5% kovová vlákna, podšívka polyester.\\nVelikost S odpovídá. Délka 114 cm.\\n\\n>> více info v profilu <<\\n\\n#boho #hippie #mididress # #shimmer #crochet #mustard #spring #summer #autumn #viscose #zara   \n",
       "00_04ef6_pn2b1ydpsrw2TQLriG1uLm5q                                                                                                                                                                                                                                                                                                                                      nové:) Da se použit i jako Tunika :) \\n   \n",
       "00_04ef6_pn2b1ydpsrw2TQLriG1uLm5q                                                                                                                                                                                                                                                                                                                                      nové:) Da se použit i jako Tunika :) \\n   \n",
       "\n",
       "                                  color    price      cc3  sparkling  floral  \\\n",
       "uuid                                                                           \n",
       "00_04e32_uA8Gveq8Cr43y9A8p6FNWjeR   RED  11.6700  DRESSES       True   False   \n",
       "00_04e32_uA8Gveq8Cr43y9A8p6FNWjeR   RED  11.6700  DRESSES       True   False   \n",
       "00_04ef6_pn2b1ydpsrw2TQLriG1uLm5q  BLUE  15.5211  DRESSES      False   False   \n",
       "00_04ef6_pn2b1ydpsrw2TQLriG1uLm5q  BLUE  15.5211  DRESSES      False   False   \n",
       "\n",
       "                                   striped  \n",
       "uuid                                        \n",
       "00_04e32_uA8Gveq8Cr43y9A8p6FNWjeR     True  \n",
       "00_04e32_uA8Gveq8Cr43y9A8p6FNWjeR     True  \n",
       "00_04ef6_pn2b1ydpsrw2TQLriG1uLm5q     True  \n",
       "00_04ef6_pn2b1ydpsrw2TQLriG1uLm5q     True  "
      ]
     },
     "execution_count": 15,
     "metadata": {},
     "output_type": "execute_result"
    }
   ],
   "source": [
    "df_train[df_train.duplicated(keep=False).values].set_index(\"uuid\").sort_index().head(4)"
   ]
  },
  {
   "cell_type": "markdown",
   "metadata": {},
   "source": [
    "### Delete dublication"
   ]
  },
  {
   "cell_type": "code",
   "execution_count": 16,
   "metadata": {},
   "outputs": [],
   "source": [
    "df_train = df_train[~df_train.duplicated()]"
   ]
  },
  {
   "cell_type": "markdown",
   "metadata": {},
   "source": [
    "### Info"
   ]
  },
  {
   "cell_type": "code",
   "execution_count": 17,
   "metadata": {},
   "outputs": [
    {
     "name": "stdout",
     "output_type": "stream",
     "text": [
      "<class 'pandas.core.frame.DataFrame'>\n",
      "Int64Index: 3795 entries, 0 to 3277\n",
      "Data columns (total 8 columns):\n",
      " #   Column       Non-Null Count  Dtype  \n",
      "---  ------       --------------  -----  \n",
      " 0   uuid         3795 non-null   object \n",
      " 1   description  3795 non-null   object \n",
      " 2   color        3795 non-null   object \n",
      " 3   price        3795 non-null   float64\n",
      " 4   cc3          3422 non-null   object \n",
      " 5   sparkling    3795 non-null   bool   \n",
      " 6   floral       3795 non-null   bool   \n",
      " 7   striped      3795 non-null   bool   \n",
      "dtypes: bool(3), float64(1), object(4)\n",
      "memory usage: 189.0+ KB\n"
     ]
    }
   ],
   "source": [
    "df_train.info()"
   ]
  },
  {
   "cell_type": "code",
   "execution_count": 18,
   "metadata": {},
   "outputs": [
    {
     "data": {
      "text/plain": [
       "uuid             0\n",
       "description      0\n",
       "color            0\n",
       "price            0\n",
       "cc3            373\n",
       "sparkling        0\n",
       "floral           0\n",
       "striped          0\n",
       "dtype: int64"
      ]
     },
     "execution_count": 18,
     "metadata": {},
     "output_type": "execute_result"
    }
   ],
   "source": [
    "df_train.isna().sum()"
   ]
  },
  {
   "cell_type": "markdown",
   "metadata": {},
   "source": [
    "## Column \"uuid\""
   ]
  },
  {
   "cell_type": "markdown",
   "metadata": {},
   "source": [
    "### This colum should be unique in all data column"
   ]
  },
  {
   "cell_type": "code",
   "execution_count": 19,
   "metadata": {},
   "outputs": [
    {
     "data": {
      "text/plain": [
       "10"
      ]
     },
     "execution_count": 19,
     "metadata": {},
     "output_type": "execute_result"
    }
   ],
   "source": [
    "df_train[\"uuid\"].value_counts().ge(2).sum()"
   ]
  },
  {
   "cell_type": "markdown",
   "metadata": {},
   "source": [
    "### Have 10 dublicated rows, lets look how they look, becouse they weren't deleted as full row dublicates"
   ]
  },
  {
   "cell_type": "code",
   "execution_count": 20,
   "metadata": {},
   "outputs": [
    {
     "data": {
      "text/html": [
       "<div>\n",
       "<style scoped>\n",
       "    .dataframe tbody tr th:only-of-type {\n",
       "        vertical-align: middle;\n",
       "    }\n",
       "\n",
       "    .dataframe tbody tr th {\n",
       "        vertical-align: top;\n",
       "    }\n",
       "\n",
       "    .dataframe thead th {\n",
       "        text-align: right;\n",
       "    }\n",
       "</style>\n",
       "<table border=\"1\" class=\"dataframe\">\n",
       "  <thead>\n",
       "    <tr style=\"text-align: right;\">\n",
       "      <th></th>\n",
       "      <th>uuid</th>\n",
       "      <th>description</th>\n",
       "      <th>color</th>\n",
       "      <th>price</th>\n",
       "      <th>cc3</th>\n",
       "      <th>sparkling</th>\n",
       "      <th>floral</th>\n",
       "      <th>striped</th>\n",
       "    </tr>\n",
       "  </thead>\n",
       "  <tbody>\n",
       "    <tr>\n",
       "      <th>3007</th>\n",
       "      <td>00_04eaf_TVbYdLiveQeR7NruNvDBNF2Z</td>\n",
       "      <td>prsa 38cm, délka 55cm, pružný</td>\n",
       "      <td>BROWN</td>\n",
       "      <td>3.89</td>\n",
       "      <td>None</td>\n",
       "      <td>False</td>\n",
       "      <td>False</td>\n",
       "      <td>True</td>\n",
       "    </tr>\n",
       "    <tr>\n",
       "      <th>3007</th>\n",
       "      <td>00_04eaf_TVbYdLiveQeR7NruNvDBNF2Z</td>\n",
       "      <td>prsa 38cm, délka 55cm, pružný</td>\n",
       "      <td>BROWN</td>\n",
       "      <td>3.89</td>\n",
       "      <td>PULLOVERS_SWEATERS</td>\n",
       "      <td>False</td>\n",
       "      <td>False</td>\n",
       "      <td>True</td>\n",
       "    </tr>\n",
       "    <tr>\n",
       "      <th>1222</th>\n",
       "      <td>00_05414_gxmt8KnGmNoc2ngfV8goMSwf</td>\n",
       "      <td>-  only worn a few times\\n- destress at leg holes \\n- some distress rips\\nAny questions? Just contact me!</td>\n",
       "      <td>LIGHT-BLUE</td>\n",
       "      <td>5.32</td>\n",
       "      <td>SHORTS_CAPRIS</td>\n",
       "      <td>False</td>\n",
       "      <td>False</td>\n",
       "      <td>False</td>\n",
       "    </tr>\n",
       "    <tr>\n",
       "      <th>1222</th>\n",
       "      <td>00_05414_gxmt8KnGmNoc2ngfV8goMSwf</td>\n",
       "      <td>-  only worn a few times\\n- destress at leg holes \\n- some distress rips\\nAny questions? Just contact me!</td>\n",
       "      <td>LIGHT-BLUE</td>\n",
       "      <td>5.32</td>\n",
       "      <td>None</td>\n",
       "      <td>False</td>\n",
       "      <td>False</td>\n",
       "      <td>False</td>\n",
       "    </tr>\n",
       "    <tr>\n",
       "      <th>3277</th>\n",
       "      <td>00_0544f_pzMGTc8daECPZinQkkB1EP6w</td>\n",
       "      <td>Never worn,  A-line tie waist dress. Tags not attached.</td>\n",
       "      <td>BODY</td>\n",
       "      <td>7.60</td>\n",
       "      <td>None</td>\n",
       "      <td>False</td>\n",
       "      <td>True</td>\n",
       "      <td>False</td>\n",
       "    </tr>\n",
       "    <tr>\n",
       "      <th>3277</th>\n",
       "      <td>00_0544f_pzMGTc8daECPZinQkkB1EP6w</td>\n",
       "      <td>Never worn,  A-line tie waist dress. Tags not attached.</td>\n",
       "      <td>BODY</td>\n",
       "      <td>7.60</td>\n",
       "      <td>DRESSES</td>\n",
       "      <td>False</td>\n",
       "      <td>True</td>\n",
       "      <td>False</td>\n",
       "    </tr>\n",
       "    <tr>\n",
       "      <th>1719</th>\n",
       "      <td>00_05b4e_usebeyzYnoyRwH4MbvarXGyd</td>\n",
       "      <td>Uzsideta viena karta per naujuju metu svente. Labai tampri medziaga rausva su blizgeliu.  Tarp pazastu laisvumo busenoje 100 cm ir tempiasi gal iki 140 cm,  ilgis nuo peties iki apacios 85 cm.  Medziagele persisviecia, bet maloni prie kuno.  Jei reikia galiu siusti per pastomata.</td>\n",
       "      <td>ROSE</td>\n",
       "      <td>8.00</td>\n",
       "      <td>None</td>\n",
       "      <td>True</td>\n",
       "      <td>False</td>\n",
       "      <td>False</td>\n",
       "    </tr>\n",
       "    <tr>\n",
       "      <th>1719</th>\n",
       "      <td>00_05b4e_usebeyzYnoyRwH4MbvarXGyd</td>\n",
       "      <td>Uzsideta viena karta per naujuju metu svente. Labai tampri medziaga rausva su blizgeliu.  Tarp pazastu laisvumo busenoje 100 cm ir tempiasi gal iki 140 cm,  ilgis nuo peties iki apacios 85 cm.  Medziagele persisviecia, bet maloni prie kuno.  Jei reikia galiu siusti per pastomata.</td>\n",
       "      <td>ROSE</td>\n",
       "      <td>8.00</td>\n",
       "      <td>DRESSES</td>\n",
       "      <td>True</td>\n",
       "      <td>False</td>\n",
       "      <td>False</td>\n",
       "    </tr>\n",
       "    <tr>\n",
       "      <th>3769</th>\n",
       "      <td>00_05cb8_CUufbE6EiSvET1F9aQq51Rbo</td>\n",
       "      <td>Great condition\\nSize medium\\nZippers on side</td>\n",
       "      <td>BLACK</td>\n",
       "      <td>11.40</td>\n",
       "      <td>None</td>\n",
       "      <td>False</td>\n",
       "      <td>False</td>\n",
       "      <td>True</td>\n",
       "    </tr>\n",
       "    <tr>\n",
       "      <th>3769</th>\n",
       "      <td>00_05cb8_CUufbE6EiSvET1F9aQq51Rbo</td>\n",
       "      <td>Great condition\\nSize medium\\nZippers on side</td>\n",
       "      <td>BLACK</td>\n",
       "      <td>11.40</td>\n",
       "      <td>DRESSES</td>\n",
       "      <td>False</td>\n",
       "      <td>False</td>\n",
       "      <td>True</td>\n",
       "    </tr>\n",
       "    <tr>\n",
       "      <th>1332</th>\n",
       "      <td>00_071e5_nEfwQcByNSYTN4QyimBVXUpE</td>\n",
       "      <td>mid rise\\nonly worn a few times</td>\n",
       "      <td>BLACK</td>\n",
       "      <td>4.20</td>\n",
       "      <td>None</td>\n",
       "      <td>False</td>\n",
       "      <td>False</td>\n",
       "      <td>True</td>\n",
       "    </tr>\n",
       "    <tr>\n",
       "      <th>1332</th>\n",
       "      <td>00_071e5_nEfwQcByNSYTN4QyimBVXUpE</td>\n",
       "      <td>mid rise\\nonly worn a few times</td>\n",
       "      <td>BLACK</td>\n",
       "      <td>4.20</td>\n",
       "      <td>TROUSERS</td>\n",
       "      <td>False</td>\n",
       "      <td>False</td>\n",
       "      <td>True</td>\n",
       "    </tr>\n",
       "    <tr>\n",
       "      <th>1567</th>\n",
       "      <td>00_07251_8KrrUcZ2x5Zb9m8jMXvh2XN7</td>\n",
       "      <td>Brand new</td>\n",
       "      <td>BROWN</td>\n",
       "      <td>7.20</td>\n",
       "      <td>None</td>\n",
       "      <td>False</td>\n",
       "      <td>True</td>\n",
       "      <td>False</td>\n",
       "    </tr>\n",
       "    <tr>\n",
       "      <th>1567</th>\n",
       "      <td>00_07251_8KrrUcZ2x5Zb9m8jMXvh2XN7</td>\n",
       "      <td>Brand new</td>\n",
       "      <td>BROWN</td>\n",
       "      <td>7.20</td>\n",
       "      <td>TROUSERS</td>\n",
       "      <td>False</td>\n",
       "      <td>True</td>\n",
       "      <td>False</td>\n",
       "    </tr>\n",
       "    <tr>\n",
       "      <th>3584</th>\n",
       "      <td>00_073b6_ZxMQavtiXC1H2mBNqsSXuWQ7</td>\n",
       "      <td>Size 16 Summer Dress\\nPink  \\ncrossover bodice\\nTU\\nBelow knee length</td>\n",
       "      <td>PINK</td>\n",
       "      <td>7.20</td>\n",
       "      <td>None</td>\n",
       "      <td>False</td>\n",
       "      <td>True</td>\n",
       "      <td>False</td>\n",
       "    </tr>\n",
       "    <tr>\n",
       "      <th>3584</th>\n",
       "      <td>00_073b6_ZxMQavtiXC1H2mBNqsSXuWQ7</td>\n",
       "      <td>Size 16 Summer Dress\\nPink  \\ncrossover bodice\\nTU\\nBelow knee length</td>\n",
       "      <td>PINK</td>\n",
       "      <td>7.20</td>\n",
       "      <td>DRESSES</td>\n",
       "      <td>False</td>\n",
       "      <td>True</td>\n",
       "      <td>False</td>\n",
       "    </tr>\n",
       "    <tr>\n",
       "      <th>1300</th>\n",
       "      <td>00_074f8_AAD8zeGs674DRyhgx5HGFafU</td>\n",
       "      <td>Size Small\\n\\nNever worn before\\n</td>\n",
       "      <td>VARIOUS</td>\n",
       "      <td>6.00</td>\n",
       "      <td>SKIRTS</td>\n",
       "      <td>False</td>\n",
       "      <td>True</td>\n",
       "      <td>False</td>\n",
       "    </tr>\n",
       "    <tr>\n",
       "      <th>1300</th>\n",
       "      <td>00_074f8_AAD8zeGs674DRyhgx5HGFafU</td>\n",
       "      <td>Size Small\\n\\nNever worn before\\n</td>\n",
       "      <td>VARIOUS</td>\n",
       "      <td>6.00</td>\n",
       "      <td>None</td>\n",
       "      <td>False</td>\n",
       "      <td>True</td>\n",
       "      <td>False</td>\n",
       "    </tr>\n",
       "    <tr>\n",
       "      <th>2046</th>\n",
       "      <td>070db_u7ELGKLzm6KFpoKedteEssfF</td>\n",
       "      <td>only wore once.\\ntrue to size.\\nprefect for spring.\\none of my favourite but too small for me now.</td>\n",
       "      <td>WHITE</td>\n",
       "      <td>10.80</td>\n",
       "      <td>DRESSES</td>\n",
       "      <td>False</td>\n",
       "      <td>True</td>\n",
       "      <td>False</td>\n",
       "    </tr>\n",
       "    <tr>\n",
       "      <th>2046</th>\n",
       "      <td>070db_u7ELGKLzm6KFpoKedteEssfF</td>\n",
       "      <td>only wore once.\\ntrue to size.\\nprefect for spring.\\none of my favourite but too small for me now.</td>\n",
       "      <td>WHITE</td>\n",
       "      <td>10.80</td>\n",
       "      <td>None</td>\n",
       "      <td>False</td>\n",
       "      <td>True</td>\n",
       "      <td>False</td>\n",
       "    </tr>\n",
       "  </tbody>\n",
       "</table>\n",
       "</div>"
      ],
      "text/plain": [
       "                                   uuid  \\\n",
       "3007  00_04eaf_TVbYdLiveQeR7NruNvDBNF2Z   \n",
       "3007  00_04eaf_TVbYdLiveQeR7NruNvDBNF2Z   \n",
       "1222  00_05414_gxmt8KnGmNoc2ngfV8goMSwf   \n",
       "1222  00_05414_gxmt8KnGmNoc2ngfV8goMSwf   \n",
       "3277  00_0544f_pzMGTc8daECPZinQkkB1EP6w   \n",
       "3277  00_0544f_pzMGTc8daECPZinQkkB1EP6w   \n",
       "1719  00_05b4e_usebeyzYnoyRwH4MbvarXGyd   \n",
       "1719  00_05b4e_usebeyzYnoyRwH4MbvarXGyd   \n",
       "3769  00_05cb8_CUufbE6EiSvET1F9aQq51Rbo   \n",
       "3769  00_05cb8_CUufbE6EiSvET1F9aQq51Rbo   \n",
       "1332  00_071e5_nEfwQcByNSYTN4QyimBVXUpE   \n",
       "1332  00_071e5_nEfwQcByNSYTN4QyimBVXUpE   \n",
       "1567  00_07251_8KrrUcZ2x5Zb9m8jMXvh2XN7   \n",
       "1567  00_07251_8KrrUcZ2x5Zb9m8jMXvh2XN7   \n",
       "3584  00_073b6_ZxMQavtiXC1H2mBNqsSXuWQ7   \n",
       "3584  00_073b6_ZxMQavtiXC1H2mBNqsSXuWQ7   \n",
       "1300  00_074f8_AAD8zeGs674DRyhgx5HGFafU   \n",
       "1300  00_074f8_AAD8zeGs674DRyhgx5HGFafU   \n",
       "2046     070db_u7ELGKLzm6KFpoKedteEssfF   \n",
       "2046     070db_u7ELGKLzm6KFpoKedteEssfF   \n",
       "\n",
       "                                                                                                                                                                                                                                                                                   description  \\\n",
       "3007                                                                                                                                                                                                                                                             prsa 38cm, délka 55cm, pružný   \n",
       "3007                                                                                                                                                                                                                                                             prsa 38cm, délka 55cm, pružný   \n",
       "1222                                                                                                                                                                                 -  only worn a few times\\n- destress at leg holes \\n- some distress rips\\nAny questions? Just contact me!   \n",
       "1222                                                                                                                                                                                 -  only worn a few times\\n- destress at leg holes \\n- some distress rips\\nAny questions? Just contact me!   \n",
       "3277                                                                                                                                                                                                                                  Never worn,  A-line tie waist dress. Tags not attached.    \n",
       "3277                                                                                                                                                                                                                                  Never worn,  A-line tie waist dress. Tags not attached.    \n",
       "1719  Uzsideta viena karta per naujuju metu svente. Labai tampri medziaga rausva su blizgeliu.  Tarp pazastu laisvumo busenoje 100 cm ir tempiasi gal iki 140 cm,  ilgis nuo peties iki apacios 85 cm.  Medziagele persisviecia, bet maloni prie kuno.  Jei reikia galiu siusti per pastomata.   \n",
       "1719  Uzsideta viena karta per naujuju metu svente. Labai tampri medziaga rausva su blizgeliu.  Tarp pazastu laisvumo busenoje 100 cm ir tempiasi gal iki 140 cm,  ilgis nuo peties iki apacios 85 cm.  Medziagele persisviecia, bet maloni prie kuno.  Jei reikia galiu siusti per pastomata.   \n",
       "3769                                                                                                                                                                                                                                             Great condition\\nSize medium\\nZippers on side   \n",
       "3769                                                                                                                                                                                                                                             Great condition\\nSize medium\\nZippers on side   \n",
       "1332                                                                                                                                                                                                                                                           mid rise\\nonly worn a few times   \n",
       "1332                                                                                                                                                                                                                                                           mid rise\\nonly worn a few times   \n",
       "1567                                                                                                                                                                                                                                                                                Brand new    \n",
       "1567                                                                                                                                                                                                                                                                                Brand new    \n",
       "3584                                                                                                                                                                                                                     Size 16 Summer Dress\\nPink  \\ncrossover bodice\\nTU\\nBelow knee length   \n",
       "3584                                                                                                                                                                                                                     Size 16 Summer Dress\\nPink  \\ncrossover bodice\\nTU\\nBelow knee length   \n",
       "1300                                                                                                                                                                                                                                                         Size Small\\n\\nNever worn before\\n   \n",
       "1300                                                                                                                                                                                                                                                         Size Small\\n\\nNever worn before\\n   \n",
       "2046                                                                                                                                                                                        only wore once.\\ntrue to size.\\nprefect for spring.\\none of my favourite but too small for me now.   \n",
       "2046                                                                                                                                                                                        only wore once.\\ntrue to size.\\nprefect for spring.\\none of my favourite but too small for me now.   \n",
       "\n",
       "           color  price                 cc3  sparkling  floral  striped  \n",
       "3007       BROWN   3.89                None      False   False     True  \n",
       "3007       BROWN   3.89  PULLOVERS_SWEATERS      False   False     True  \n",
       "1222  LIGHT-BLUE   5.32       SHORTS_CAPRIS      False   False    False  \n",
       "1222  LIGHT-BLUE   5.32                None      False   False    False  \n",
       "3277        BODY   7.60                None      False    True    False  \n",
       "3277        BODY   7.60             DRESSES      False    True    False  \n",
       "1719        ROSE   8.00                None       True   False    False  \n",
       "1719        ROSE   8.00             DRESSES       True   False    False  \n",
       "3769       BLACK  11.40                None      False   False     True  \n",
       "3769       BLACK  11.40             DRESSES      False   False     True  \n",
       "1332       BLACK   4.20                None      False   False     True  \n",
       "1332       BLACK   4.20            TROUSERS      False   False     True  \n",
       "1567       BROWN   7.20                None      False    True    False  \n",
       "1567       BROWN   7.20            TROUSERS      False    True    False  \n",
       "3584        PINK   7.20                None      False    True    False  \n",
       "3584        PINK   7.20             DRESSES      False    True    False  \n",
       "1300     VARIOUS   6.00              SKIRTS      False    True    False  \n",
       "1300     VARIOUS   6.00                None      False    True    False  \n",
       "2046       WHITE  10.80             DRESSES      False    True    False  \n",
       "2046       WHITE  10.80                None      False    True    False  "
      ]
     },
     "execution_count": 20,
     "metadata": {},
     "output_type": "execute_result"
    }
   ],
   "source": [
    "dt_train_only_same_uuid = df_train[df_train.duplicated(subset=[\"uuid\"], keep=False)].sort_values(by=\"uuid\")\n",
    "dt_train_only_same_uuid"
   ]
  },
  {
   "cell_type": "markdown",
   "metadata": {},
   "source": [
    "### It looks that only thing that different theme from being completely duplicate is \"cc3\" column with None values"
   ]
  },
  {
   "cell_type": "code",
   "execution_count": 21,
   "metadata": {},
   "outputs": [
    {
     "data": {
      "text/html": [
       "<div>\n",
       "<style scoped>\n",
       "    .dataframe tbody tr th:only-of-type {\n",
       "        vertical-align: middle;\n",
       "    }\n",
       "\n",
       "    .dataframe tbody tr th {\n",
       "        vertical-align: top;\n",
       "    }\n",
       "\n",
       "    .dataframe thead th {\n",
       "        text-align: right;\n",
       "    }\n",
       "</style>\n",
       "<table border=\"1\" class=\"dataframe\">\n",
       "  <thead>\n",
       "    <tr style=\"text-align: right;\">\n",
       "      <th></th>\n",
       "      <th>uuid</th>\n",
       "      <th>description</th>\n",
       "      <th>color</th>\n",
       "      <th>price</th>\n",
       "      <th>cc3</th>\n",
       "      <th>sparkling</th>\n",
       "      <th>floral</th>\n",
       "      <th>striped</th>\n",
       "    </tr>\n",
       "  </thead>\n",
       "  <tbody>\n",
       "    <tr>\n",
       "      <th>3007</th>\n",
       "      <td>00_04eaf_TVbYdLiveQeR7NruNvDBNF2Z</td>\n",
       "      <td>prsa 38cm, délka 55cm, pružný</td>\n",
       "      <td>BROWN</td>\n",
       "      <td>3.89</td>\n",
       "      <td>None</td>\n",
       "      <td>False</td>\n",
       "      <td>False</td>\n",
       "      <td>True</td>\n",
       "    </tr>\n",
       "    <tr>\n",
       "      <th>3007</th>\n",
       "      <td>00_04eaf_TVbYdLiveQeR7NruNvDBNF2Z</td>\n",
       "      <td>prsa 38cm, délka 55cm, pružný</td>\n",
       "      <td>BROWN</td>\n",
       "      <td>3.89</td>\n",
       "      <td>PULLOVERS_SWEATERS</td>\n",
       "      <td>False</td>\n",
       "      <td>False</td>\n",
       "      <td>True</td>\n",
       "    </tr>\n",
       "    <tr>\n",
       "      <th>1222</th>\n",
       "      <td>00_05414_gxmt8KnGmNoc2ngfV8goMSwf</td>\n",
       "      <td>-  only worn a few times\\n- destress at leg holes \\n- some distress rips\\nAny questions? Just contact me!</td>\n",
       "      <td>LIGHT-BLUE</td>\n",
       "      <td>5.32</td>\n",
       "      <td>SHORTS_CAPRIS</td>\n",
       "      <td>False</td>\n",
       "      <td>False</td>\n",
       "      <td>False</td>\n",
       "    </tr>\n",
       "    <tr>\n",
       "      <th>1222</th>\n",
       "      <td>00_05414_gxmt8KnGmNoc2ngfV8goMSwf</td>\n",
       "      <td>-  only worn a few times\\n- destress at leg holes \\n- some distress rips\\nAny questions? Just contact me!</td>\n",
       "      <td>LIGHT-BLUE</td>\n",
       "      <td>5.32</td>\n",
       "      <td>None</td>\n",
       "      <td>False</td>\n",
       "      <td>False</td>\n",
       "      <td>False</td>\n",
       "    </tr>\n",
       "    <tr>\n",
       "      <th>3277</th>\n",
       "      <td>00_0544f_pzMGTc8daECPZinQkkB1EP6w</td>\n",
       "      <td>Never worn,  A-line tie waist dress. Tags not attached.</td>\n",
       "      <td>BODY</td>\n",
       "      <td>7.60</td>\n",
       "      <td>None</td>\n",
       "      <td>False</td>\n",
       "      <td>True</td>\n",
       "      <td>False</td>\n",
       "    </tr>\n",
       "    <tr>\n",
       "      <th>3277</th>\n",
       "      <td>00_0544f_pzMGTc8daECPZinQkkB1EP6w</td>\n",
       "      <td>Never worn,  A-line tie waist dress. Tags not attached.</td>\n",
       "      <td>BODY</td>\n",
       "      <td>7.60</td>\n",
       "      <td>DRESSES</td>\n",
       "      <td>False</td>\n",
       "      <td>True</td>\n",
       "      <td>False</td>\n",
       "    </tr>\n",
       "    <tr>\n",
       "      <th>1719</th>\n",
       "      <td>00_05b4e_usebeyzYnoyRwH4MbvarXGyd</td>\n",
       "      <td>Uzsideta viena karta per naujuju metu svente. Labai tampri medziaga rausva su blizgeliu.  Tarp pazastu laisvumo busenoje 100 cm ir tempiasi gal iki 140 cm,  ilgis nuo peties iki apacios 85 cm.  Medziagele persisviecia, bet maloni prie kuno.  Jei reikia galiu siusti per pastomata.</td>\n",
       "      <td>ROSE</td>\n",
       "      <td>8.00</td>\n",
       "      <td>None</td>\n",
       "      <td>True</td>\n",
       "      <td>False</td>\n",
       "      <td>False</td>\n",
       "    </tr>\n",
       "    <tr>\n",
       "      <th>1719</th>\n",
       "      <td>00_05b4e_usebeyzYnoyRwH4MbvarXGyd</td>\n",
       "      <td>Uzsideta viena karta per naujuju metu svente. Labai tampri medziaga rausva su blizgeliu.  Tarp pazastu laisvumo busenoje 100 cm ir tempiasi gal iki 140 cm,  ilgis nuo peties iki apacios 85 cm.  Medziagele persisviecia, bet maloni prie kuno.  Jei reikia galiu siusti per pastomata.</td>\n",
       "      <td>ROSE</td>\n",
       "      <td>8.00</td>\n",
       "      <td>DRESSES</td>\n",
       "      <td>True</td>\n",
       "      <td>False</td>\n",
       "      <td>False</td>\n",
       "    </tr>\n",
       "    <tr>\n",
       "      <th>3769</th>\n",
       "      <td>00_05cb8_CUufbE6EiSvET1F9aQq51Rbo</td>\n",
       "      <td>Great condition\\nSize medium\\nZippers on side</td>\n",
       "      <td>BLACK</td>\n",
       "      <td>11.40</td>\n",
       "      <td>None</td>\n",
       "      <td>False</td>\n",
       "      <td>False</td>\n",
       "      <td>True</td>\n",
       "    </tr>\n",
       "    <tr>\n",
       "      <th>3769</th>\n",
       "      <td>00_05cb8_CUufbE6EiSvET1F9aQq51Rbo</td>\n",
       "      <td>Great condition\\nSize medium\\nZippers on side</td>\n",
       "      <td>BLACK</td>\n",
       "      <td>11.40</td>\n",
       "      <td>DRESSES</td>\n",
       "      <td>False</td>\n",
       "      <td>False</td>\n",
       "      <td>True</td>\n",
       "    </tr>\n",
       "    <tr>\n",
       "      <th>1332</th>\n",
       "      <td>00_071e5_nEfwQcByNSYTN4QyimBVXUpE</td>\n",
       "      <td>mid rise\\nonly worn a few times</td>\n",
       "      <td>BLACK</td>\n",
       "      <td>4.20</td>\n",
       "      <td>None</td>\n",
       "      <td>False</td>\n",
       "      <td>False</td>\n",
       "      <td>True</td>\n",
       "    </tr>\n",
       "    <tr>\n",
       "      <th>1332</th>\n",
       "      <td>00_071e5_nEfwQcByNSYTN4QyimBVXUpE</td>\n",
       "      <td>mid rise\\nonly worn a few times</td>\n",
       "      <td>BLACK</td>\n",
       "      <td>4.20</td>\n",
       "      <td>TROUSERS</td>\n",
       "      <td>False</td>\n",
       "      <td>False</td>\n",
       "      <td>True</td>\n",
       "    </tr>\n",
       "    <tr>\n",
       "      <th>1567</th>\n",
       "      <td>00_07251_8KrrUcZ2x5Zb9m8jMXvh2XN7</td>\n",
       "      <td>Brand new</td>\n",
       "      <td>BROWN</td>\n",
       "      <td>7.20</td>\n",
       "      <td>None</td>\n",
       "      <td>False</td>\n",
       "      <td>True</td>\n",
       "      <td>False</td>\n",
       "    </tr>\n",
       "    <tr>\n",
       "      <th>1567</th>\n",
       "      <td>00_07251_8KrrUcZ2x5Zb9m8jMXvh2XN7</td>\n",
       "      <td>Brand new</td>\n",
       "      <td>BROWN</td>\n",
       "      <td>7.20</td>\n",
       "      <td>TROUSERS</td>\n",
       "      <td>False</td>\n",
       "      <td>True</td>\n",
       "      <td>False</td>\n",
       "    </tr>\n",
       "    <tr>\n",
       "      <th>3584</th>\n",
       "      <td>00_073b6_ZxMQavtiXC1H2mBNqsSXuWQ7</td>\n",
       "      <td>Size 16 Summer Dress\\nPink  \\ncrossover bodice\\nTU\\nBelow knee length</td>\n",
       "      <td>PINK</td>\n",
       "      <td>7.20</td>\n",
       "      <td>None</td>\n",
       "      <td>False</td>\n",
       "      <td>True</td>\n",
       "      <td>False</td>\n",
       "    </tr>\n",
       "    <tr>\n",
       "      <th>3584</th>\n",
       "      <td>00_073b6_ZxMQavtiXC1H2mBNqsSXuWQ7</td>\n",
       "      <td>Size 16 Summer Dress\\nPink  \\ncrossover bodice\\nTU\\nBelow knee length</td>\n",
       "      <td>PINK</td>\n",
       "      <td>7.20</td>\n",
       "      <td>DRESSES</td>\n",
       "      <td>False</td>\n",
       "      <td>True</td>\n",
       "      <td>False</td>\n",
       "    </tr>\n",
       "    <tr>\n",
       "      <th>1300</th>\n",
       "      <td>00_074f8_AAD8zeGs674DRyhgx5HGFafU</td>\n",
       "      <td>Size Small\\n\\nNever worn before\\n</td>\n",
       "      <td>VARIOUS</td>\n",
       "      <td>6.00</td>\n",
       "      <td>SKIRTS</td>\n",
       "      <td>False</td>\n",
       "      <td>True</td>\n",
       "      <td>False</td>\n",
       "    </tr>\n",
       "    <tr>\n",
       "      <th>1300</th>\n",
       "      <td>00_074f8_AAD8zeGs674DRyhgx5HGFafU</td>\n",
       "      <td>Size Small\\n\\nNever worn before\\n</td>\n",
       "      <td>VARIOUS</td>\n",
       "      <td>6.00</td>\n",
       "      <td>None</td>\n",
       "      <td>False</td>\n",
       "      <td>True</td>\n",
       "      <td>False</td>\n",
       "    </tr>\n",
       "    <tr>\n",
       "      <th>2046</th>\n",
       "      <td>070db_u7ELGKLzm6KFpoKedteEssfF</td>\n",
       "      <td>only wore once.\\ntrue to size.\\nprefect for spring.\\none of my favourite but too small for me now.</td>\n",
       "      <td>WHITE</td>\n",
       "      <td>10.80</td>\n",
       "      <td>DRESSES</td>\n",
       "      <td>False</td>\n",
       "      <td>True</td>\n",
       "      <td>False</td>\n",
       "    </tr>\n",
       "    <tr>\n",
       "      <th>2046</th>\n",
       "      <td>070db_u7ELGKLzm6KFpoKedteEssfF</td>\n",
       "      <td>only wore once.\\ntrue to size.\\nprefect for spring.\\none of my favourite but too small for me now.</td>\n",
       "      <td>WHITE</td>\n",
       "      <td>10.80</td>\n",
       "      <td>None</td>\n",
       "      <td>False</td>\n",
       "      <td>True</td>\n",
       "      <td>False</td>\n",
       "    </tr>\n",
       "  </tbody>\n",
       "</table>\n",
       "</div>"
      ],
      "text/plain": [
       "                                   uuid  \\\n",
       "3007  00_04eaf_TVbYdLiveQeR7NruNvDBNF2Z   \n",
       "3007  00_04eaf_TVbYdLiveQeR7NruNvDBNF2Z   \n",
       "1222  00_05414_gxmt8KnGmNoc2ngfV8goMSwf   \n",
       "1222  00_05414_gxmt8KnGmNoc2ngfV8goMSwf   \n",
       "3277  00_0544f_pzMGTc8daECPZinQkkB1EP6w   \n",
       "3277  00_0544f_pzMGTc8daECPZinQkkB1EP6w   \n",
       "1719  00_05b4e_usebeyzYnoyRwH4MbvarXGyd   \n",
       "1719  00_05b4e_usebeyzYnoyRwH4MbvarXGyd   \n",
       "3769  00_05cb8_CUufbE6EiSvET1F9aQq51Rbo   \n",
       "3769  00_05cb8_CUufbE6EiSvET1F9aQq51Rbo   \n",
       "1332  00_071e5_nEfwQcByNSYTN4QyimBVXUpE   \n",
       "1332  00_071e5_nEfwQcByNSYTN4QyimBVXUpE   \n",
       "1567  00_07251_8KrrUcZ2x5Zb9m8jMXvh2XN7   \n",
       "1567  00_07251_8KrrUcZ2x5Zb9m8jMXvh2XN7   \n",
       "3584  00_073b6_ZxMQavtiXC1H2mBNqsSXuWQ7   \n",
       "3584  00_073b6_ZxMQavtiXC1H2mBNqsSXuWQ7   \n",
       "1300  00_074f8_AAD8zeGs674DRyhgx5HGFafU   \n",
       "1300  00_074f8_AAD8zeGs674DRyhgx5HGFafU   \n",
       "2046     070db_u7ELGKLzm6KFpoKedteEssfF   \n",
       "2046     070db_u7ELGKLzm6KFpoKedteEssfF   \n",
       "\n",
       "                                                                                                                                                                                                                                                                                   description  \\\n",
       "3007                                                                                                                                                                                                                                                             prsa 38cm, délka 55cm, pružný   \n",
       "3007                                                                                                                                                                                                                                                             prsa 38cm, délka 55cm, pružný   \n",
       "1222                                                                                                                                                                                 -  only worn a few times\\n- destress at leg holes \\n- some distress rips\\nAny questions? Just contact me!   \n",
       "1222                                                                                                                                                                                 -  only worn a few times\\n- destress at leg holes \\n- some distress rips\\nAny questions? Just contact me!   \n",
       "3277                                                                                                                                                                                                                                  Never worn,  A-line tie waist dress. Tags not attached.    \n",
       "3277                                                                                                                                                                                                                                  Never worn,  A-line tie waist dress. Tags not attached.    \n",
       "1719  Uzsideta viena karta per naujuju metu svente. Labai tampri medziaga rausva su blizgeliu.  Tarp pazastu laisvumo busenoje 100 cm ir tempiasi gal iki 140 cm,  ilgis nuo peties iki apacios 85 cm.  Medziagele persisviecia, bet maloni prie kuno.  Jei reikia galiu siusti per pastomata.   \n",
       "1719  Uzsideta viena karta per naujuju metu svente. Labai tampri medziaga rausva su blizgeliu.  Tarp pazastu laisvumo busenoje 100 cm ir tempiasi gal iki 140 cm,  ilgis nuo peties iki apacios 85 cm.  Medziagele persisviecia, bet maloni prie kuno.  Jei reikia galiu siusti per pastomata.   \n",
       "3769                                                                                                                                                                                                                                             Great condition\\nSize medium\\nZippers on side   \n",
       "3769                                                                                                                                                                                                                                             Great condition\\nSize medium\\nZippers on side   \n",
       "1332                                                                                                                                                                                                                                                           mid rise\\nonly worn a few times   \n",
       "1332                                                                                                                                                                                                                                                           mid rise\\nonly worn a few times   \n",
       "1567                                                                                                                                                                                                                                                                                Brand new    \n",
       "1567                                                                                                                                                                                                                                                                                Brand new    \n",
       "3584                                                                                                                                                                                                                     Size 16 Summer Dress\\nPink  \\ncrossover bodice\\nTU\\nBelow knee length   \n",
       "3584                                                                                                                                                                                                                     Size 16 Summer Dress\\nPink  \\ncrossover bodice\\nTU\\nBelow knee length   \n",
       "1300                                                                                                                                                                                                                                                         Size Small\\n\\nNever worn before\\n   \n",
       "1300                                                                                                                                                                                                                                                         Size Small\\n\\nNever worn before\\n   \n",
       "2046                                                                                                                                                                                        only wore once.\\ntrue to size.\\nprefect for spring.\\none of my favourite but too small for me now.   \n",
       "2046                                                                                                                                                                                        only wore once.\\ntrue to size.\\nprefect for spring.\\none of my favourite but too small for me now.   \n",
       "\n",
       "           color  price                 cc3  sparkling  floral  striped  \n",
       "3007       BROWN   3.89                None      False   False     True  \n",
       "3007       BROWN   3.89  PULLOVERS_SWEATERS      False   False     True  \n",
       "1222  LIGHT-BLUE   5.32       SHORTS_CAPRIS      False   False    False  \n",
       "1222  LIGHT-BLUE   5.32                None      False   False    False  \n",
       "3277        BODY   7.60                None      False    True    False  \n",
       "3277        BODY   7.60             DRESSES      False    True    False  \n",
       "1719        ROSE   8.00                None       True   False    False  \n",
       "1719        ROSE   8.00             DRESSES       True   False    False  \n",
       "3769       BLACK  11.40                None      False   False     True  \n",
       "3769       BLACK  11.40             DRESSES      False   False     True  \n",
       "1332       BLACK   4.20                None      False   False     True  \n",
       "1332       BLACK   4.20            TROUSERS      False   False     True  \n",
       "1567       BROWN   7.20                None      False    True    False  \n",
       "1567       BROWN   7.20            TROUSERS      False    True    False  \n",
       "3584        PINK   7.20                None      False    True    False  \n",
       "3584        PINK   7.20             DRESSES      False    True    False  \n",
       "1300     VARIOUS   6.00              SKIRTS      False    True    False  \n",
       "1300     VARIOUS   6.00                None      False    True    False  \n",
       "2046       WHITE  10.80             DRESSES      False    True    False  \n",
       "2046       WHITE  10.80                None      False    True    False  "
      ]
     },
     "execution_count": 21,
     "metadata": {},
     "output_type": "execute_result"
    }
   ],
   "source": [
    "df_train_no_cc3_duplic = df_train[df_train.loc[:, df_train.columns != \"cc3\"].duplicated(keep=False)].sort_values(by=\"uuid\")\n",
    "df_train_no_cc3_duplic"
   ]
  },
  {
   "cell_type": "markdown",
   "metadata": {},
   "source": [
    "### It looks the same, lets check it "
   ]
  },
  {
   "cell_type": "code",
   "execution_count": 22,
   "metadata": {},
   "outputs": [
    {
     "data": {
      "text/plain": [
       "True"
      ]
     },
     "execution_count": 22,
     "metadata": {},
     "output_type": "execute_result"
    }
   ],
   "source": [
    "dt_train_only_same_uuid.equals(df_train_no_cc3_duplic)"
   ]
  },
  {
   "cell_type": "markdown",
   "metadata": {},
   "source": [
    "### Remove from df_train rows with duplicated \"uuid\" and \"cc3\" == None"
   ]
  },
  {
   "cell_type": "code",
   "execution_count": 23,
   "metadata": {},
   "outputs": [],
   "source": [
    "duplic_index = list(df_train_no_cc3_duplic[df_train_no_cc3_duplic[\"cc3\"].isna()].index)"
   ]
  },
  {
   "cell_type": "code",
   "execution_count": 24,
   "metadata": {},
   "outputs": [],
   "source": [
    "df_train.drop(duplic_index, inplace=True)"
   ]
  },
  {
   "cell_type": "markdown",
   "metadata": {},
   "source": [
    "### Look again in \"uuid\" duplicates"
   ]
  },
  {
   "cell_type": "code",
   "execution_count": 25,
   "metadata": {},
   "outputs": [
    {
     "data": {
      "text/plain": [
       "0"
      ]
     },
     "execution_count": 25,
     "metadata": {},
     "output_type": "execute_result"
    }
   ],
   "source": [
    "df_train[\"uuid\"].value_counts().ge(2).sum()"
   ]
  },
  {
   "cell_type": "markdown",
   "metadata": {},
   "source": [
    "## If all \"uuid\" from df_train are in \"photos\" folder"
   ]
  },
  {
   "cell_type": "markdown",
   "metadata": {},
   "source": [
    "### Create df of photos names"
   ]
  },
  {
   "cell_type": "code",
   "execution_count": 26,
   "metadata": {},
   "outputs": [],
   "source": [
    "images_names = pd.DataFrame({\"uuid\" : list(os.listdir(os.path.join(data_root, \"photos\")))})"
   ]
  },
  {
   "cell_type": "code",
   "execution_count": 27,
   "metadata": {},
   "outputs": [
    {
     "data": {
      "text/html": [
       "<div>\n",
       "<style scoped>\n",
       "    .dataframe tbody tr th:only-of-type {\n",
       "        vertical-align: middle;\n",
       "    }\n",
       "\n",
       "    .dataframe tbody tr th {\n",
       "        vertical-align: top;\n",
       "    }\n",
       "\n",
       "    .dataframe thead th {\n",
       "        text-align: right;\n",
       "    }\n",
       "</style>\n",
       "<table border=\"1\" class=\"dataframe\">\n",
       "  <thead>\n",
       "    <tr style=\"text-align: right;\">\n",
       "      <th></th>\n",
       "      <th>uuid</th>\n",
       "    </tr>\n",
       "  </thead>\n",
       "  <tbody>\n",
       "    <tr>\n",
       "      <th>0</th>\n",
       "      <td>00_04e25_8szf1Q1etszF4tRDvXwuh8e5.jpeg</td>\n",
       "    </tr>\n",
       "    <tr>\n",
       "      <th>1</th>\n",
       "      <td>00_04e26_DF4FKTRubmxnUj7LTi2aWqz5.jpeg</td>\n",
       "    </tr>\n",
       "    <tr>\n",
       "      <th>2</th>\n",
       "      <td>00_04e27_Fg7gWJD7D3djQAsU2XsZb1F2.jpeg</td>\n",
       "    </tr>\n",
       "    <tr>\n",
       "      <th>3</th>\n",
       "      <td>00_04e27_rYvQm4SdjRZwxgvWezRtmBqK.jpeg</td>\n",
       "    </tr>\n",
       "    <tr>\n",
       "      <th>4</th>\n",
       "      <td>00_04e2a_JdxtpYpFmHNLrieuPSBqEqnM.jpeg</td>\n",
       "    </tr>\n",
       "  </tbody>\n",
       "</table>\n",
       "</div>"
      ],
      "text/plain": [
       "                                     uuid\n",
       "0  00_04e25_8szf1Q1etszF4tRDvXwuh8e5.jpeg\n",
       "1  00_04e26_DF4FKTRubmxnUj7LTi2aWqz5.jpeg\n",
       "2  00_04e27_Fg7gWJD7D3djQAsU2XsZb1F2.jpeg\n",
       "3  00_04e27_rYvQm4SdjRZwxgvWezRtmBqK.jpeg\n",
       "4  00_04e2a_JdxtpYpFmHNLrieuPSBqEqnM.jpeg"
      ]
     },
     "execution_count": 27,
     "metadata": {},
     "output_type": "execute_result"
    }
   ],
   "source": [
    "images_names.head()"
   ]
  },
  {
   "cell_type": "markdown",
   "metadata": {},
   "source": [
    "### Look if all image formats are the same"
   ]
  },
  {
   "cell_type": "code",
   "execution_count": 28,
   "metadata": {},
   "outputs": [],
   "source": [
    "images_names[\"format\"] = images_names[\"uuid\"].str.findall(r\"(?<=\\.).*\")"
   ]
  },
  {
   "cell_type": "code",
   "execution_count": 29,
   "metadata": {},
   "outputs": [
    {
     "data": {
      "text/html": [
       "<div>\n",
       "<style scoped>\n",
       "    .dataframe tbody tr th:only-of-type {\n",
       "        vertical-align: middle;\n",
       "    }\n",
       "\n",
       "    .dataframe tbody tr th {\n",
       "        vertical-align: top;\n",
       "    }\n",
       "\n",
       "    .dataframe thead th {\n",
       "        text-align: right;\n",
       "    }\n",
       "</style>\n",
       "<table border=\"1\" class=\"dataframe\">\n",
       "  <thead>\n",
       "    <tr style=\"text-align: right;\">\n",
       "      <th></th>\n",
       "      <th>uuid</th>\n",
       "      <th>format</th>\n",
       "    </tr>\n",
       "  </thead>\n",
       "  <tbody>\n",
       "    <tr>\n",
       "      <th>0</th>\n",
       "      <td>00_04e25_8szf1Q1etszF4tRDvXwuh8e5.jpeg</td>\n",
       "      <td>[jpeg]</td>\n",
       "    </tr>\n",
       "    <tr>\n",
       "      <th>1</th>\n",
       "      <td>00_04e26_DF4FKTRubmxnUj7LTi2aWqz5.jpeg</td>\n",
       "      <td>[jpeg]</td>\n",
       "    </tr>\n",
       "    <tr>\n",
       "      <th>2</th>\n",
       "      <td>00_04e27_Fg7gWJD7D3djQAsU2XsZb1F2.jpeg</td>\n",
       "      <td>[jpeg]</td>\n",
       "    </tr>\n",
       "    <tr>\n",
       "      <th>3</th>\n",
       "      <td>00_04e27_rYvQm4SdjRZwxgvWezRtmBqK.jpeg</td>\n",
       "      <td>[jpeg]</td>\n",
       "    </tr>\n",
       "    <tr>\n",
       "      <th>4</th>\n",
       "      <td>00_04e2a_JdxtpYpFmHNLrieuPSBqEqnM.jpeg</td>\n",
       "      <td>[jpeg]</td>\n",
       "    </tr>\n",
       "  </tbody>\n",
       "</table>\n",
       "</div>"
      ],
      "text/plain": [
       "                                     uuid  format\n",
       "0  00_04e25_8szf1Q1etszF4tRDvXwuh8e5.jpeg  [jpeg]\n",
       "1  00_04e26_DF4FKTRubmxnUj7LTi2aWqz5.jpeg  [jpeg]\n",
       "2  00_04e27_Fg7gWJD7D3djQAsU2XsZb1F2.jpeg  [jpeg]\n",
       "3  00_04e27_rYvQm4SdjRZwxgvWezRtmBqK.jpeg  [jpeg]\n",
       "4  00_04e2a_JdxtpYpFmHNLrieuPSBqEqnM.jpeg  [jpeg]"
      ]
     },
     "execution_count": 29,
     "metadata": {},
     "output_type": "execute_result"
    }
   ],
   "source": [
    "images_names.head()"
   ]
  },
  {
   "cell_type": "code",
   "execution_count": 30,
   "metadata": {},
   "outputs": [
    {
     "data": {
      "text/plain": [
       "array(['jpeg'], dtype=object)"
      ]
     },
     "execution_count": 30,
     "metadata": {},
     "output_type": "execute_result"
    }
   ],
   "source": [
    "images_names[\"format\"].explode().unique()"
   ]
  },
  {
   "cell_type": "markdown",
   "metadata": {},
   "source": [
    "### Remove format from \"uuid\""
   ]
  },
  {
   "cell_type": "code",
   "execution_count": 31,
   "metadata": {},
   "outputs": [
    {
     "data": {
      "text/html": [
       "<div>\n",
       "<style scoped>\n",
       "    .dataframe tbody tr th:only-of-type {\n",
       "        vertical-align: middle;\n",
       "    }\n",
       "\n",
       "    .dataframe tbody tr th {\n",
       "        vertical-align: top;\n",
       "    }\n",
       "\n",
       "    .dataframe thead th {\n",
       "        text-align: right;\n",
       "    }\n",
       "</style>\n",
       "<table border=\"1\" class=\"dataframe\">\n",
       "  <thead>\n",
       "    <tr style=\"text-align: right;\">\n",
       "      <th></th>\n",
       "      <th>uuid</th>\n",
       "      <th>format</th>\n",
       "    </tr>\n",
       "  </thead>\n",
       "  <tbody>\n",
       "    <tr>\n",
       "      <th>0</th>\n",
       "      <td>00_04e25_8szf1Q1etszF4tRDvXwuh8e5</td>\n",
       "      <td>[jpeg]</td>\n",
       "    </tr>\n",
       "    <tr>\n",
       "      <th>1</th>\n",
       "      <td>00_04e26_DF4FKTRubmxnUj7LTi2aWqz5</td>\n",
       "      <td>[jpeg]</td>\n",
       "    </tr>\n",
       "    <tr>\n",
       "      <th>2</th>\n",
       "      <td>00_04e27_Fg7gWJD7D3djQAsU2XsZb1F2</td>\n",
       "      <td>[jpeg]</td>\n",
       "    </tr>\n",
       "    <tr>\n",
       "      <th>3</th>\n",
       "      <td>00_04e27_rYvQm4SdjRZwxgvWezRtmBqK</td>\n",
       "      <td>[jpeg]</td>\n",
       "    </tr>\n",
       "    <tr>\n",
       "      <th>4</th>\n",
       "      <td>00_04e2a_JdxtpYpFmHNLrieuPSBqEqnM</td>\n",
       "      <td>[jpeg]</td>\n",
       "    </tr>\n",
       "  </tbody>\n",
       "</table>\n",
       "</div>"
      ],
      "text/plain": [
       "                                uuid  format\n",
       "0  00_04e25_8szf1Q1etszF4tRDvXwuh8e5  [jpeg]\n",
       "1  00_04e26_DF4FKTRubmxnUj7LTi2aWqz5  [jpeg]\n",
       "2  00_04e27_Fg7gWJD7D3djQAsU2XsZb1F2  [jpeg]\n",
       "3  00_04e27_rYvQm4SdjRZwxgvWezRtmBqK  [jpeg]\n",
       "4  00_04e2a_JdxtpYpFmHNLrieuPSBqEqnM  [jpeg]"
      ]
     },
     "execution_count": 31,
     "metadata": {},
     "output_type": "execute_result"
    }
   ],
   "source": [
    "images_names[\"uuid\"] = images_names[\"uuid\"].str.replace(r\"\\..*\", \"\")\n",
    "images_names.head()"
   ]
  },
  {
   "cell_type": "markdown",
   "metadata": {},
   "source": [
    "### Check if all df_train \"uuid\" elements are in \"photos\" folder"
   ]
  },
  {
   "cell_type": "code",
   "execution_count": 32,
   "metadata": {},
   "outputs": [
    {
     "data": {
      "text/plain": [
       "True    3775\n",
       "Name: uuid, dtype: int64"
      ]
     },
     "execution_count": 32,
     "metadata": {},
     "output_type": "execute_result"
    }
   ],
   "source": [
    "df_train[\"uuid\"].isin(images_names[\"uuid\"]).value_counts()"
   ]
  },
  {
   "cell_type": "markdown",
   "metadata": {},
   "source": [
    "## Column \"sparkling\", \"floral\" and \"striped\""
   ]
  },
  {
   "cell_type": "markdown",
   "metadata": {},
   "source": [
    "### Looking for NaN values"
   ]
  },
  {
   "cell_type": "code",
   "execution_count": 33,
   "metadata": {},
   "outputs": [
    {
     "data": {
      "text/plain": [
       "False    3357\n",
       "True      418\n",
       "Name: sparkling, dtype: int64"
      ]
     },
     "execution_count": 33,
     "metadata": {},
     "output_type": "execute_result"
    }
   ],
   "source": [
    "df_train[\"sparkling\"].value_counts(dropna=False)"
   ]
  },
  {
   "cell_type": "code",
   "execution_count": 34,
   "metadata": {},
   "outputs": [
    {
     "data": {
      "text/plain": [
       "False    2429\n",
       "True     1346\n",
       "Name: floral, dtype: int64"
      ]
     },
     "execution_count": 34,
     "metadata": {},
     "output_type": "execute_result"
    }
   ],
   "source": [
    "df_train[\"floral\"].value_counts(dropna=False)"
   ]
  },
  {
   "cell_type": "code",
   "execution_count": 35,
   "metadata": {},
   "outputs": [
    {
     "data": {
      "text/plain": [
       "False    2879\n",
       "True      896\n",
       "Name: striped, dtype: int64"
      ]
     },
     "execution_count": 35,
     "metadata": {},
     "output_type": "execute_result"
    }
   ],
   "source": [
    "df_train[\"striped\"].value_counts(dropna=False)"
   ]
  },
  {
   "cell_type": "markdown",
   "metadata": {},
   "source": [
    "## Column \"price\""
   ]
  },
  {
   "cell_type": "code",
   "execution_count": 36,
   "metadata": {},
   "outputs": [
    {
     "data": {
      "text/plain": [
       "count    3775.000000\n",
       "mean       11.071408\n",
       "std        14.936901\n",
       "min         0.038900\n",
       "25%         4.800000\n",
       "50%         7.600000\n",
       "75%        12.160000\n",
       "max       592.800000\n",
       "Name: price, dtype: float64"
      ]
     },
     "execution_count": 36,
     "metadata": {},
     "output_type": "execute_result"
    }
   ],
   "source": [
    "df_train[\"price\"].describe()"
   ]
  },
  {
   "cell_type": "code",
   "execution_count": 37,
   "metadata": {},
   "outputs": [
    {
     "data": {
      "text/plain": [
       "0"
      ]
     },
     "execution_count": 37,
     "metadata": {},
     "output_type": "execute_result"
    }
   ],
   "source": [
    "df_train[\"price\"].isna().sum()"
   ]
  },
  {
   "cell_type": "markdown",
   "metadata": {},
   "source": [
    "# Main this assigment columns \"cc3\" and \"description\""
   ]
  },
  {
   "cell_type": "markdown",
   "metadata": {},
   "source": [
    "## Column \"cc3\""
   ]
  },
  {
   "cell_type": "code",
   "execution_count": 38,
   "metadata": {},
   "outputs": [
    {
     "data": {
      "text/html": [
       "<div>\n",
       "<style scoped>\n",
       "    .dataframe tbody tr th:only-of-type {\n",
       "        vertical-align: middle;\n",
       "    }\n",
       "\n",
       "    .dataframe tbody tr th {\n",
       "        vertical-align: top;\n",
       "    }\n",
       "\n",
       "    .dataframe thead th {\n",
       "        text-align: right;\n",
       "    }\n",
       "</style>\n",
       "<table border=\"1\" class=\"dataframe\">\n",
       "  <thead>\n",
       "    <tr style=\"text-align: right;\">\n",
       "      <th></th>\n",
       "      <th>index</th>\n",
       "      <th>cc3</th>\n",
       "    </tr>\n",
       "  </thead>\n",
       "  <tbody>\n",
       "    <tr>\n",
       "      <th>0</th>\n",
       "      <td>DRESSES</td>\n",
       "      <td>0.440795</td>\n",
       "    </tr>\n",
       "    <tr>\n",
       "      <th>1</th>\n",
       "      <td>TROUSERS</td>\n",
       "      <td>0.135629</td>\n",
       "    </tr>\n",
       "    <tr>\n",
       "      <th>2</th>\n",
       "      <td>SHORTS_CAPRIS</td>\n",
       "      <td>0.125563</td>\n",
       "    </tr>\n",
       "    <tr>\n",
       "      <th>3</th>\n",
       "      <td>SKIRTS</td>\n",
       "      <td>0.116821</td>\n",
       "    </tr>\n",
       "    <tr>\n",
       "      <th>4</th>\n",
       "      <td>MISSING</td>\n",
       "      <td>0.096159</td>\n",
       "    </tr>\n",
       "    <tr>\n",
       "      <th>5</th>\n",
       "      <td>PULLOVERS_SWEATERS</td>\n",
       "      <td>0.085033</td>\n",
       "    </tr>\n",
       "  </tbody>\n",
       "</table>\n",
       "</div>"
      ],
      "text/plain": [
       "                index       cc3\n",
       "0             DRESSES  0.440795\n",
       "1            TROUSERS  0.135629\n",
       "2       SHORTS_CAPRIS  0.125563\n",
       "3              SKIRTS  0.116821\n",
       "4             MISSING  0.096159\n",
       "5  PULLOVERS_SWEATERS  0.085033"
      ]
     },
     "execution_count": 38,
     "metadata": {},
     "output_type": "execute_result"
    }
   ],
   "source": [
    "df_train_cc3 = df_train[\"cc3\"].value_counts(normalize=True, dropna=False).reset_index()\n",
    "df_train_cc3[\"index\"].fillna(\"MISSING\", inplace=True)\n",
    "df_train_cc3"
   ]
  },
  {
   "cell_type": "code",
   "execution_count": 39,
   "metadata": {},
   "outputs": [
    {
     "data": {
      "text/plain": [
       "Text(0, 0.5, 'Category of the item')"
      ]
     },
     "execution_count": 39,
     "metadata": {},
     "output_type": "execute_result"
    },
    {
     "data": {
      "image/png": "[encoded data removed]",
      "text/plain": [
       "<Figure size 432x288 with 1 Axes>"
      ]
     },
     "metadata": {
      "needs_background": "light"
     },
     "output_type": "display_data"
    }
   ],
   "source": [
    "clrs = [\"grey\" if col_name != \"MISSING\" else \"red\" for col_name in df_train_cc3[\"index\"].values]\n",
    "\n",
    "sns.barplot(y=df_train_cc3[\"index\"], x=df_train_cc3[\"cc3\"] * 100, palette=clrs)\n",
    "plt.xlabel(\"%\")\n",
    "plt.ylabel(\"Category of the item\")"
   ]
  },
  {
   "cell_type": "markdown",
   "metadata": {},
   "source": [
    "### Have a lot Missing data, almost the same amount as majority of other categories (except DRESSES)\n",
    "#### For this time we delete all missing values"
   ]
  },
  {
   "cell_type": "code",
   "execution_count": 40,
   "metadata": {},
   "outputs": [],
   "source": [
    "df_train.dropna(subset=[\"cc3\"], inplace=True)"
   ]
  },
  {
   "cell_type": "markdown",
   "metadata": {},
   "source": [
    "### Encode labels"
   ]
  },
  {
   "cell_type": "code",
   "execution_count": 41,
   "metadata": {},
   "outputs": [],
   "source": [
    "le = LabelEncoder()"
   ]
  },
  {
   "cell_type": "code",
   "execution_count": 42,
   "metadata": {},
   "outputs": [],
   "source": [
    "df_train[\"cc3_encoded\"] = le.fit_transform(df_train[\"cc3\"])"
   ]
  },
  {
   "cell_type": "markdown",
   "metadata": {},
   "source": [
    "## Column \"description\""
   ]
  },
  {
   "cell_type": "markdown",
   "metadata": {},
   "source": [
    "### Pre-processing"
   ]
  },
  {
   "cell_type": "code",
   "execution_count": 43,
   "metadata": {},
   "outputs": [],
   "source": [
    "VINTED_LANGUAGES = [\"lithuanian\", \"polish\", \"czech\", \"french\", \"dutch\", \"german\", \"english\", \"spanish\"]"
   ]
  },
  {
   "cell_type": "code",
   "execution_count": 44,
   "metadata": {},
   "outputs": [],
   "source": [
    "def stop_word_generator(languages):\n",
    "    \"\"\"\n",
    "        languages: list of languages\n",
    "        \n",
    "        return: set of stop words\n",
    "    \"\"\"\n",
    "    all_stop_words = []\n",
    "    for language in languages:\n",
    "        try:\n",
    "             stop_words = get_stop_words(language)\n",
    "        except:\n",
    "            pass\n",
    "        else:\n",
    "            all_stop_words += stop_words\n",
    "    return set(all_stop_words)"
   ]
  },
  {
   "cell_type": "code",
   "execution_count": 45,
   "metadata": {},
   "outputs": [],
   "source": [
    "STOPWORDS = stop_word_generator(VINTED_LANGUAGES)"
   ]
  },
  {
   "cell_type": "code",
   "execution_count": 46,
   "metadata": {},
   "outputs": [],
   "source": [
    "def clean_text(text, stop_words):\n",
    "#     global STOPWORDS\n",
    "    \"\"\"\n",
    "        text: a string\n",
    "        \n",
    "        return: modified initial string\n",
    "    \"\"\"\n",
    "    stemmer = snowballstemmer.stemmer('english')\n",
    "    text = text.lower()\n",
    "#     text = re.sub(r\"\\W|\\d|\\b\\w{1,3}\\b\", \" \", text)\n",
    "    text = re.sub(r\"\\d\", \" \", text)\n",
    "    text = re.sub(r\"\\W\", \" \", text)\n",
    "    text = re.sub(r\"\\b\\w{1,3}\\b\", \" \", text)\n",
    "    text = \" \".join(stemmer.stemWords((word for word in text.split() if word not in stop_words)))\n",
    "\n",
    "    return text\n",
    "    "
   ]
  },
  {
   "cell_type": "code",
   "execution_count": 47,
   "metadata": {},
   "outputs": [],
   "source": [
    "df_train[\"description_proc\"] = df_train[\"description\"].apply(clean_text, stop_words=STOPWORDS)"
   ]
  },
  {
   "cell_type": "code",
   "execution_count": null,
   "metadata": {},
   "outputs": [],
   "source": []
  },
  {
   "cell_type": "markdown",
   "metadata": {},
   "source": [
    "### Counting Pre-processed description words"
   ]
  },
  {
   "cell_type": "code",
   "execution_count": 48,
   "metadata": {},
   "outputs": [],
   "source": [
    "df_train[\"escription_proc_len\"] = df_train[\"description_proc\"].str.split().str.len()"
   ]
  },
  {
   "cell_type": "code",
   "execution_count": 62,
   "metadata": {},
   "outputs": [
    {
     "data": {
      "text/plain": [
       "5     217\n",
       "2     214\n",
       "4     214\n",
       "6     214\n",
       "3     205\n",
       "7     194\n",
       "8     178\n",
       "10    160\n",
       "9     157\n",
       "11    130\n",
       "Name: escription_proc_len, dtype: int64"
      ]
     },
     "execution_count": 62,
     "metadata": {},
     "output_type": "execute_result"
    }
   ],
   "source": [
    "df_train[\"escription_proc_len\"].value_counts().head(10)"
   ]
  },
  {
   "cell_type": "markdown",
   "metadata": {},
   "source": [
    "#### Delete rows that don't have any description"
   ]
  },
  {
   "cell_type": "code",
   "execution_count": 50,
   "metadata": {},
   "outputs": [],
   "source": [
    "df_train = df_train[~(df_train['escription_proc_len'] == 0)]"
   ]
  },
  {
   "cell_type": "code",
   "execution_count": 51,
   "metadata": {},
   "outputs": [],
   "source": [
    "df_train.to_csv(os.path.join(data_root, \"train_preproc.csv\"), index=False)"
   ]
  },
  {
   "cell_type": "code",
   "execution_count": null,
   "metadata": {},
   "outputs": [],
   "source": []
  },
  {
   "cell_type": "code",
   "execution_count": 68,
   "metadata": {},
   "outputs": [],
   "source": [
    "df_train_minus2 = df_train[df_train[\"escription_proc_len\"] > 2]"
   ]
  },
  {
   "cell_type": "code",
   "execution_count": 70,
   "metadata": {},
   "outputs": [],
   "source": [
    "df_train_minus2.to_csv(os.path.join(data_root, \"train_preproc_minus2.csv\"), index=False)"
   ]
  },
  {
   "cell_type": "code",
   "execution_count": null,
   "metadata": {},
   "outputs": [],
   "source": []
  },
  {
   "cell_type": "code",
   "execution_count": null,
   "metadata": {},
   "outputs": [],
   "source": []
  },
  {
   "cell_type": "code",
   "execution_count": 49,
   "metadata": {},
   "outputs": [
    {
     "data": {
      "text/html": [
       "<div>\n",
       "<style scoped>\n",
       "    .dataframe tbody tr th:only-of-type {\n",
       "        vertical-align: middle;\n",
       "    }\n",
       "\n",
       "    .dataframe tbody tr th {\n",
       "        vertical-align: top;\n",
       "    }\n",
       "\n",
       "    .dataframe thead th {\n",
       "        text-align: right;\n",
       "    }\n",
       "</style>\n",
       "<table border=\"1\" class=\"dataframe\">\n",
       "  <thead>\n",
       "    <tr style=\"text-align: right;\">\n",
       "      <th></th>\n",
       "      <th>description</th>\n",
       "      <th>description_proc</th>\n",
       "      <th>cc3</th>\n",
       "    </tr>\n",
       "  </thead>\n",
       "  <tbody>\n",
       "    <tr>\n",
       "      <th>8</th>\n",
       "      <td>nové, neunosila jsem</td>\n",
       "      <td>nové neunosila</td>\n",
       "      <td>DRESSES</td>\n",
       "    </tr>\n",
       "    <tr>\n",
       "      <th>9</th>\n",
       "      <td>very good condition</td>\n",
       "      <td>good condit</td>\n",
       "      <td>DRESSES</td>\n",
       "    </tr>\n",
       "    <tr>\n",
       "      <th>11</th>\n",
       "      <td>Neunosim</td>\n",
       "      <td>neunosim</td>\n",
       "      <td>PULLOVERS_SWEATERS</td>\n",
       "    </tr>\n",
       "    <tr>\n",
       "      <th>16</th>\n",
       "      <td>never worn</td>\n",
       "      <td>never worn</td>\n",
       "      <td>DRESSES</td>\n",
       "    </tr>\n",
       "    <tr>\n",
       "      <th>43</th>\n",
       "      <td>worn once</td>\n",
       "      <td>worn</td>\n",
       "      <td>DRESSES</td>\n",
       "    </tr>\n",
       "    <tr>\n",
       "      <th>...</th>\n",
       "      <td>...</td>\n",
       "      <td>...</td>\n",
       "      <td>...</td>\n",
       "    </tr>\n",
       "    <tr>\n",
       "      <th>3704</th>\n",
       "      <td>Dzinsiniai sortai.</td>\n",
       "      <td>dzinsiniai sortai</td>\n",
       "      <td>SHORTS_CAPRIS</td>\n",
       "    </tr>\n",
       "    <tr>\n",
       "      <th>3713</th>\n",
       "      <td>has some fake tan stains</td>\n",
       "      <td>fake stain</td>\n",
       "      <td>TROUSERS</td>\n",
       "    </tr>\n",
       "    <tr>\n",
       "      <th>3716</th>\n",
       "      <td>Never been worn</td>\n",
       "      <td>never worn</td>\n",
       "      <td>SHORTS_CAPRIS</td>\n",
       "    </tr>\n",
       "    <tr>\n",
       "      <th>3717</th>\n",
       "      <td>v dobrem stavu</td>\n",
       "      <td>dobrem stavu</td>\n",
       "      <td>TROUSERS</td>\n",
       "    </tr>\n",
       "    <tr>\n",
       "      <th>3730</th>\n",
       "      <td>skirt</td>\n",
       "      <td>skirt</td>\n",
       "      <td>SKIRTS</td>\n",
       "    </tr>\n",
       "  </tbody>\n",
       "</table>\n",
       "<p>326 rows × 3 columns</p>\n",
       "</div>"
      ],
      "text/plain": [
       "                    description   description_proc                 cc3\n",
       "8          nové, neunosila jsem     nové neunosila             DRESSES\n",
       "9          very good condition         good condit             DRESSES\n",
       "11                    Neunosim            neunosim  PULLOVERS_SWEATERS\n",
       "16                  never worn          never worn             DRESSES\n",
       "43                   worn once                worn             DRESSES\n",
       "...                         ...                ...                 ...\n",
       "3704         Dzinsiniai sortai.  dzinsiniai sortai       SHORTS_CAPRIS\n",
       "3713  has some fake tan stains          fake stain            TROUSERS\n",
       "3716           Never been worn          never worn       SHORTS_CAPRIS\n",
       "3717            v dobrem stavu        dobrem stavu            TROUSERS\n",
       "3730                     skirt               skirt              SKIRTS\n",
       "\n",
       "[326 rows x 3 columns]"
      ]
     },
     "execution_count": 49,
     "metadata": {},
     "output_type": "execute_result"
    }
   ],
   "source": [
    "df_train[ df_train[\"escription_proc_len\"] < 3][[\"description\",\"description_proc\", \"cc3\"]]"
   ]
  },
  {
   "cell_type": "code",
   "execution_count": null,
   "metadata": {},
   "outputs": [],
   "source": []
  },
  {
   "cell_type": "code",
   "execution_count": null,
   "metadata": {},
   "outputs": [],
   "source": []
  },
  {
   "cell_type": "code",
   "execution_count": null,
   "metadata": {},
   "outputs": [],
   "source": []
  },
  {
   "cell_type": "code",
   "execution_count": null,
   "metadata": {},
   "outputs": [],
   "source": []
  },
  {
   "cell_type": "code",
   "execution_count": null,
   "metadata": {},
   "outputs": [],
   "source": []
  },
  {
   "cell_type": "code",
   "execution_count": null,
   "metadata": {},
   "outputs": [],
   "source": []
  },
  {
   "cell_type": "markdown",
   "metadata": {},
   "source": [
    "## Random under and over sampling"
   ]
  },
  {
   "cell_type": "code",
   "execution_count": 52,
   "metadata": {},
   "outputs": [],
   "source": [
    "count_class_0, count_class_1, count_class_2, count_class_3, count_class_4 = df_train[\"cc3\"].value_counts()\n",
    "df_class_0 = df_train[df_train['cc3'] == \"DRESSES\"]\n",
    "df_class_1 = df_train[df_train['cc3'] == \"TROUSERS\"]\n",
    "df_class_2 = df_train[df_train['cc3'] == \"SHORTS_CAPRIS\"]\n",
    "df_class_3 = df_train[df_train['cc3'] == \"SKIRTS\"]\n",
    "df_class_4 = df_train[df_train['cc3'] == \"PULLOVERS_SWEATERS\"]"
   ]
  },
  {
   "cell_type": "markdown",
   "metadata": {},
   "source": [
    "### Random under-sampling"
   ]
  },
  {
   "cell_type": "code",
   "execution_count": 53,
   "metadata": {},
   "outputs": [],
   "source": [
    "df_class_0_under = df_class_0.sample(count_class_1)\n",
    "df_test_under = pd.concat([df_class_0_under, df_class_1, df_class_2, df_class_3, df_class_4], axis=0).sample(frac=1)"
   ]
  },
  {
   "cell_type": "code",
   "execution_count": 54,
   "metadata": {},
   "outputs": [
    {
     "data": {
      "text/plain": [
       "Text(0, 0.5, 'Number of items')"
      ]
     },
     "execution_count": 54,
     "metadata": {},
     "output_type": "execute_result"
    },
    {
     "data": {
      "image/png": "[encoded data removed]",
      "text/plain": [
       "<Figure size 432x288 with 1 Axes>"
      ]
     },
     "metadata": {
      "needs_background": "light"
     },
     "output_type": "display_data"
    }
   ],
   "source": [
    "df_test_under[\"cc3\"].value_counts(dropna=False).plot.bar(rot=0)\n",
    "plt.xticks(rotation=90)\n",
    "plt.xlabel(\"Category\")\n",
    "plt.ylabel(\"Number of items\")"
   ]
  },
  {
   "cell_type": "markdown",
   "metadata": {},
   "source": [
    "#### Save df for Modeling"
   ]
  },
  {
   "cell_type": "code",
   "execution_count": 55,
   "metadata": {},
   "outputs": [],
   "source": [
    "df_test_under.to_csv(os.path.join(data_root, \"train_preproc_under.csv\"), index=False)"
   ]
  },
  {
   "cell_type": "markdown",
   "metadata": {},
   "source": [
    "## Random over-sampling"
   ]
  },
  {
   "cell_type": "code",
   "execution_count": 56,
   "metadata": {},
   "outputs": [],
   "source": [
    "df_class_1_over = df_class_1.sample(count_class_0, replace=True)\n",
    "df_class_2_over = df_class_2.sample(count_class_0, replace=True)\n",
    "df_class_3_over = df_class_3.sample(count_class_0, replace=True)\n",
    "df_class_4_over = df_class_4.sample(count_class_0, replace=True)"
   ]
  },
  {
   "cell_type": "code",
   "execution_count": 57,
   "metadata": {},
   "outputs": [],
   "source": [
    "df_test_over = pd.concat([df_class_0, df_class_1_over, df_class_2_over, df_class_3_over, df_class_4_over], axis=0).sample(frac=1)"
   ]
  },
  {
   "cell_type": "code",
   "execution_count": 58,
   "metadata": {},
   "outputs": [
    {
     "data": {
      "text/plain": [
       "Text(0, 0.5, 'Number of items')"
      ]
     },
     "execution_count": 58,
     "metadata": {},
     "output_type": "execute_result"
    },
    {
     "data": {
      "image/png": "[encoded data removed]",
      "text/plain": [
       "<Figure size 432x288 with 1 Axes>"
      ]
     },
     "metadata": {
      "needs_background": "light"
     },
     "output_type": "display_data"
    }
   ],
   "source": [
    "df_test_over[\"cc3\"].value_counts(dropna=False).plot.bar(rot=0)\n",
    "plt.xticks(rotation=90)\n",
    "plt.xlabel(\"Category\")\n",
    "plt.ylabel(\"Number of items\")"
   ]
  },
  {
   "cell_type": "markdown",
   "metadata": {},
   "source": [
    "#### Save df for Modeling"
   ]
  },
  {
   "cell_type": "code",
   "execution_count": 59,
   "metadata": {},
   "outputs": [],
   "source": [
    "df_test_over.to_csv(os.path.join(data_root, \"train_preproc_over.csv\"), index=False)"
   ]
  }
 ],
 "metadata": {
  "kernelspec": {
   "display_name": "Python 3",
   "language": "python",
   "name": "python3"
  },
  "language_info": {
   "codemirror_mode": {
    "name": "ipython",
    "version": 3
   },
   "file_extension": ".py",
   "mimetype": "text/x-python",
   "name": "python",
   "nbconvert_exporter": "python",
   "pygments_lexer": "ipython3",
   "version": "3.7.7"
  }
 },
 "nbformat": 4,
 "nbformat_minor": 4
}
