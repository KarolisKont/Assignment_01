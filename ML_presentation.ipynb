{
 "cells": [
  {
   "cell_type": "markdown",
   "metadata": {},
   "source": [
    "# Import/install libraries"
   ]
  },
  {
   "cell_type": "code",
   "execution_count": 1,
   "metadata": {
    "jupyter": {
     "source_hidden": true
    }
   },
   "outputs": [],
   "source": [
    "#Other\n",
    "import os\n",
    "import pandas as pd\n",
    "import re\n",
    "import pickle\n",
    "import numpy as np\n",
    "import time\n",
    "\n",
    "#Visualisation\n",
    "import seaborn as sns\n",
    "import matplotlib.pyplot as plt\n",
    "\n",
    "# Text pre-procesing\n",
    "from stop_words import get_stop_words\n",
    "import snowballstemmer\n",
    "\n",
    "\n",
    "#preprocessing\n",
    "from sklearn.feature_extraction.text import CountVectorizer\n",
    "from sklearn.feature_extraction.text import TfidfTransformer\n",
    "from sklearn.pipeline import Pipeline\n",
    "from sklearn.model_selection import train_test_split\n",
    "\n",
    "#Classifiers\n",
    "from sklearn.naive_bayes import MultinomialNB\n",
    "from sklearn.linear_model import SGDClassifier\n",
    "from sklearn.svm import SVC\n",
    "from sklearn.svm import LinearSVC\n",
    "from sklearn.linear_model import LogisticRegression\n",
    "from sklearn.ensemble import RandomForestClassifier\n",
    "from sklearn.ensemble import GradientBoostingClassifier\n",
    "from sklearn.ensemble import AdaBoostClassifier\n",
    "from sklearn.tree import ExtraTreeClassifier\n",
    "\n",
    "#Analysis/Optimization\n",
    "from sklearn.metrics import confusion_matrix\n",
    "from sklearn.metrics import plot_confusion_matrix\n",
    "from sklearn.metrics import classification_report\n",
    "\n",
    "from Modules import *"
   ]
  },
  {
   "cell_type": "code",
   "execution_count": 2,
   "metadata": {},
   "outputs": [],
   "source": [
    "pd.options.display.max_colwidth = 1000"
   ]
  },
  {
   "cell_type": "markdown",
   "metadata": {},
   "source": [
    "# Load data"
   ]
  },
  {
   "cell_type": "code",
   "execution_count": 3,
   "metadata": {
    "jupyter": {
     "source_hidden": true
    }
   },
   "outputs": [],
   "source": [
    "data_root = os.path.join(\"/workspace/academy/assignment1\", \"data\")"
   ]
  },
  {
   "cell_type": "code",
   "execution_count": 4,
   "metadata": {
    "jupyter": {
     "source_hidden": true
    }
   },
   "outputs": [],
   "source": [
    "df_train = pd.read_parquet(os.path.join(data_root, \"train.parquet\"))"
   ]
  },
  {
   "cell_type": "code",
   "execution_count": 5,
   "metadata": {
    "jupyter": {
     "source_hidden": true
    }
   },
   "outputs": [],
   "source": [
    "df_test = pd.read_parquet(os.path.join(data_root, \"test.parquet\"))"
   ]
  },
  {
   "cell_type": "markdown",
   "metadata": {},
   "source": [
    "## Looking at loaded data"
   ]
  },
  {
   "cell_type": "code",
   "execution_count": 6,
   "metadata": {
    "collapsed": true,
    "jupyter": {
     "outputs_hidden": true,
     "source_hidden": true
    }
   },
   "outputs": [
    {
     "data": {
      "text/plain": [
       "(3861, 8)"
      ]
     },
     "execution_count": 6,
     "metadata": {},
     "output_type": "execute_result"
    }
   ],
   "source": [
    "df_train.shape"
   ]
  },
  {
   "cell_type": "code",
   "execution_count": 7,
   "metadata": {
    "collapsed": true,
    "jupyter": {
     "outputs_hidden": true,
     "source_hidden": true
    }
   },
   "outputs": [
    {
     "data": {
      "text/plain": [
       "(946, 4)"
      ]
     },
     "execution_count": 7,
     "metadata": {},
     "output_type": "execute_result"
    }
   ],
   "source": [
    "df_test.shape"
   ]
  },
  {
   "cell_type": "code",
   "execution_count": 8,
   "metadata": {
    "collapsed": true,
    "jupyter": {
     "outputs_hidden": true,
     "source_hidden": true
    }
   },
   "outputs": [
    {
     "data": {
      "text/html": [
       "<div>\n",
       "<style scoped>\n",
       "    .dataframe tbody tr th:only-of-type {\n",
       "        vertical-align: middle;\n",
       "    }\n",
       "\n",
       "    .dataframe tbody tr th {\n",
       "        vertical-align: top;\n",
       "    }\n",
       "\n",
       "    .dataframe thead th {\n",
       "        text-align: right;\n",
       "    }\n",
       "</style>\n",
       "<table border=\"1\" class=\"dataframe\">\n",
       "  <thead>\n",
       "    <tr style=\"text-align: right;\">\n",
       "      <th></th>\n",
       "      <th>uuid</th>\n",
       "      <th>description</th>\n",
       "      <th>color</th>\n",
       "      <th>price</th>\n",
       "      <th>cc3</th>\n",
       "      <th>sparkling</th>\n",
       "      <th>floral</th>\n",
       "      <th>striped</th>\n",
       "    </tr>\n",
       "  </thead>\n",
       "  <tbody>\n",
       "    <tr>\n",
       "      <th>0</th>\n",
       "      <td>00_06db4_f7PKCScjE7iz9RccgKoYU8BG</td>\n",
       "      <td>beautiful summer dress by zara only worn once.\\n\\n#zara #zarawoman #zaradress #summerdress #dress</td>\n",
       "      <td>VARIOUS</td>\n",
       "      <td>8.4</td>\n",
       "      <td>DRESSES</td>\n",
       "      <td>False</td>\n",
       "      <td>True</td>\n",
       "      <td>False</td>\n",
       "    </tr>\n",
       "    <tr>\n",
       "      <th>1</th>\n",
       "      <td>00_074fe_d1wi5P39YxXsM3aYJWdToH2p</td>\n",
       "      <td>Maroon denim colored high rise jean shorts from Charlotte Russe size 2. Fits sizes 25-26 and goes up to right under belly button on a 5”7 tall person. Shorts are in good condition but there is slight wear as pictured in the back</td>\n",
       "      <td>BROWN</td>\n",
       "      <td>3.8</td>\n",
       "      <td>SHORTS_CAPRIS</td>\n",
       "      <td>False</td>\n",
       "      <td>False</td>\n",
       "      <td>False</td>\n",
       "    </tr>\n",
       "    <tr>\n",
       "      <th>2</th>\n",
       "      <td>0746f_viq17Xw4gBvYbmB1qKD5z6Z8</td>\n",
       "      <td>brand-new without tags x</td>\n",
       "      <td>VARIOUS</td>\n",
       "      <td>7.2</td>\n",
       "      <td>SHORTS_CAPRIS</td>\n",
       "      <td>False</td>\n",
       "      <td>True</td>\n",
       "      <td>False</td>\n",
       "    </tr>\n",
       "  </tbody>\n",
       "</table>\n",
       "</div>"
      ],
      "text/plain": [
       "                                uuid  \\\n",
       "0  00_06db4_f7PKCScjE7iz9RccgKoYU8BG   \n",
       "1  00_074fe_d1wi5P39YxXsM3aYJWdToH2p   \n",
       "2     0746f_viq17Xw4gBvYbmB1qKD5z6Z8   \n",
       "\n",
       "                                                                                                                                                                                                                            description  \\\n",
       "0                                                                                                                                    beautiful summer dress by zara only worn once.\\n\\n#zara #zarawoman #zaradress #summerdress #dress    \n",
       "1  Maroon denim colored high rise jean shorts from Charlotte Russe size 2. Fits sizes 25-26 and goes up to right under belly button on a 5”7 tall person. Shorts are in good condition but there is slight wear as pictured in the back   \n",
       "2                                                                                                                                                                                                              brand-new without tags x   \n",
       "\n",
       "     color  price            cc3  sparkling  floral  striped  \n",
       "0  VARIOUS    8.4        DRESSES      False    True    False  \n",
       "1    BROWN    3.8  SHORTS_CAPRIS      False   False    False  \n",
       "2  VARIOUS    7.2  SHORTS_CAPRIS      False    True    False  "
      ]
     },
     "execution_count": 8,
     "metadata": {},
     "output_type": "execute_result"
    }
   ],
   "source": [
    "df_train.head(3)"
   ]
  },
  {
   "cell_type": "markdown",
   "metadata": {},
   "source": [
    "# Analysis of Training data"
   ]
  },
  {
   "cell_type": "markdown",
   "metadata": {},
   "source": [
    "### General info"
   ]
  },
  {
   "cell_type": "code",
   "execution_count": 9,
   "metadata": {},
   "outputs": [
    {
     "name": "stdout",
     "output_type": "stream",
     "text": [
      "<class 'pandas.core.frame.DataFrame'>\n",
      "Int64Index: 3861 entries, 0 to 3277\n",
      "Data columns (total 8 columns):\n",
      " #   Column       Non-Null Count  Dtype  \n",
      "---  ------       --------------  -----  \n",
      " 0   uuid         3861 non-null   object \n",
      " 1   description  3861 non-null   object \n",
      " 2   color        3861 non-null   object \n",
      " 3   price        3861 non-null   float64\n",
      " 4   cc3          3488 non-null   object \n",
      " 5   sparkling    3861 non-null   bool   \n",
      " 6   floral       3861 non-null   bool   \n",
      " 7   striped      3861 non-null   bool   \n",
      "dtypes: bool(3), float64(1), object(4)\n",
      "memory usage: 192.3+ KB\n"
     ]
    }
   ],
   "source": [
    "df_train.info()"
   ]
  },
  {
   "cell_type": "code",
   "execution_count": 10,
   "metadata": {},
   "outputs": [
    {
     "data": {
      "text/plain": [
       "uuid             0\n",
       "description      0\n",
       "color            0\n",
       "price            0\n",
       "cc3            373\n",
       "sparkling        0\n",
       "floral           0\n",
       "striped          0\n",
       "dtype: int64"
      ]
     },
     "execution_count": 10,
     "metadata": {},
     "output_type": "execute_result"
    }
   ],
   "source": [
    "df_train.isna().sum()"
   ]
  },
  {
   "cell_type": "markdown",
   "metadata": {},
   "source": [
    "### Check for duplicate rows"
   ]
  },
  {
   "cell_type": "code",
   "execution_count": 11,
   "metadata": {
    "jupyter": {
     "source_hidden": true
    }
   },
   "outputs": [
    {
     "data": {
      "text/plain": [
       "66"
      ]
     },
     "execution_count": 11,
     "metadata": {},
     "output_type": "execute_result"
    }
   ],
   "source": [
    "df_train.duplicated().sum()"
   ]
  },
  {
   "cell_type": "code",
   "execution_count": 12,
   "metadata": {
    "jupyter": {
     "source_hidden": true
    }
   },
   "outputs": [
    {
     "data": {
      "text/html": [
       "<div>\n",
       "<style scoped>\n",
       "    .dataframe tbody tr th:only-of-type {\n",
       "        vertical-align: middle;\n",
       "    }\n",
       "\n",
       "    .dataframe tbody tr th {\n",
       "        vertical-align: top;\n",
       "    }\n",
       "\n",
       "    .dataframe thead th {\n",
       "        text-align: right;\n",
       "    }\n",
       "</style>\n",
       "<table border=\"1\" class=\"dataframe\">\n",
       "  <thead>\n",
       "    <tr style=\"text-align: right;\">\n",
       "      <th></th>\n",
       "      <th>description</th>\n",
       "      <th>color</th>\n",
       "      <th>price</th>\n",
       "      <th>cc3</th>\n",
       "      <th>sparkling</th>\n",
       "      <th>floral</th>\n",
       "      <th>striped</th>\n",
       "    </tr>\n",
       "    <tr>\n",
       "      <th>uuid</th>\n",
       "      <th></th>\n",
       "      <th></th>\n",
       "      <th></th>\n",
       "      <th></th>\n",
       "      <th></th>\n",
       "      <th></th>\n",
       "      <th></th>\n",
       "    </tr>\n",
       "  </thead>\n",
       "  <tbody>\n",
       "    <tr>\n",
       "      <th>00_04e32_uA8Gveq8Cr43y9A8p6FNWjeR</th>\n",
       "      <td>&gt;&gt; až 15% sleva na sety &lt;&lt;\\n\\nProužkované lesklé šatky s háčkovaným horním okrajem a ramínky, mají spodničku, dobře vypadají s nějakým páskem. Materiál 95% viskoza, 5% kovová vlákna, podšívka polyester.\\nVelikost S odpovídá. Délka 114 cm.\\n\\n&gt;&gt; více info v profilu &lt;&lt;\\n\\n#boho #hippie #mididress # #shimmer #crochet #mustard #spring #summer #autumn #viscose #zara</td>\n",
       "      <td>RED</td>\n",
       "      <td>11.6700</td>\n",
       "      <td>DRESSES</td>\n",
       "      <td>True</td>\n",
       "      <td>False</td>\n",
       "      <td>True</td>\n",
       "    </tr>\n",
       "    <tr>\n",
       "      <th>00_04e32_uA8Gveq8Cr43y9A8p6FNWjeR</th>\n",
       "      <td>&gt;&gt; až 15% sleva na sety &lt;&lt;\\n\\nProužkované lesklé šatky s háčkovaným horním okrajem a ramínky, mají spodničku, dobře vypadají s nějakým páskem. Materiál 95% viskoza, 5% kovová vlákna, podšívka polyester.\\nVelikost S odpovídá. Délka 114 cm.\\n\\n&gt;&gt; více info v profilu &lt;&lt;\\n\\n#boho #hippie #mididress # #shimmer #crochet #mustard #spring #summer #autumn #viscose #zara</td>\n",
       "      <td>RED</td>\n",
       "      <td>11.6700</td>\n",
       "      <td>DRESSES</td>\n",
       "      <td>True</td>\n",
       "      <td>False</td>\n",
       "      <td>True</td>\n",
       "    </tr>\n",
       "    <tr>\n",
       "      <th>00_04ef6_pn2b1ydpsrw2TQLriG1uLm5q</th>\n",
       "      <td>nové:) Da se použit i jako Tunika :) \\n</td>\n",
       "      <td>BLUE</td>\n",
       "      <td>15.5211</td>\n",
       "      <td>DRESSES</td>\n",
       "      <td>False</td>\n",
       "      <td>False</td>\n",
       "      <td>True</td>\n",
       "    </tr>\n",
       "    <tr>\n",
       "      <th>00_04ef6_pn2b1ydpsrw2TQLriG1uLm5q</th>\n",
       "      <td>nové:) Da se použit i jako Tunika :) \\n</td>\n",
       "      <td>BLUE</td>\n",
       "      <td>15.5211</td>\n",
       "      <td>DRESSES</td>\n",
       "      <td>False</td>\n",
       "      <td>False</td>\n",
       "      <td>True</td>\n",
       "    </tr>\n",
       "  </tbody>\n",
       "</table>\n",
       "</div>"
      ],
      "text/plain": [
       "                                                                                                                                                                                                                                                                                                                                                                                                   description  \\\n",
       "uuid                                                                                                                                                                                                                                                                                                                                                                                                             \n",
       "00_04e32_uA8Gveq8Cr43y9A8p6FNWjeR  >> až 15% sleva na sety <<\\n\\nProužkované lesklé šatky s háčkovaným horním okrajem a ramínky, mají spodničku, dobře vypadají s nějakým páskem. Materiál 95% viskoza, 5% kovová vlákna, podšívka polyester.\\nVelikost S odpovídá. Délka 114 cm.\\n\\n>> více info v profilu <<\\n\\n#boho #hippie #mididress # #shimmer #crochet #mustard #spring #summer #autumn #viscose #zara   \n",
       "00_04e32_uA8Gveq8Cr43y9A8p6FNWjeR  >> až 15% sleva na sety <<\\n\\nProužkované lesklé šatky s háčkovaným horním okrajem a ramínky, mají spodničku, dobře vypadají s nějakým páskem. Materiál 95% viskoza, 5% kovová vlákna, podšívka polyester.\\nVelikost S odpovídá. Délka 114 cm.\\n\\n>> více info v profilu <<\\n\\n#boho #hippie #mididress # #shimmer #crochet #mustard #spring #summer #autumn #viscose #zara   \n",
       "00_04ef6_pn2b1ydpsrw2TQLriG1uLm5q                                                                                                                                                                                                                                                                                                                                      nové:) Da se použit i jako Tunika :) \\n   \n",
       "00_04ef6_pn2b1ydpsrw2TQLriG1uLm5q                                                                                                                                                                                                                                                                                                                                      nové:) Da se použit i jako Tunika :) \\n   \n",
       "\n",
       "                                  color    price      cc3  sparkling  floral  \\\n",
       "uuid                                                                           \n",
       "00_04e32_uA8Gveq8Cr43y9A8p6FNWjeR   RED  11.6700  DRESSES       True   False   \n",
       "00_04e32_uA8Gveq8Cr43y9A8p6FNWjeR   RED  11.6700  DRESSES       True   False   \n",
       "00_04ef6_pn2b1ydpsrw2TQLriG1uLm5q  BLUE  15.5211  DRESSES      False   False   \n",
       "00_04ef6_pn2b1ydpsrw2TQLriG1uLm5q  BLUE  15.5211  DRESSES      False   False   \n",
       "\n",
       "                                   striped  \n",
       "uuid                                        \n",
       "00_04e32_uA8Gveq8Cr43y9A8p6FNWjeR     True  \n",
       "00_04e32_uA8Gveq8Cr43y9A8p6FNWjeR     True  \n",
       "00_04ef6_pn2b1ydpsrw2TQLriG1uLm5q     True  \n",
       "00_04ef6_pn2b1ydpsrw2TQLriG1uLm5q     True  "
      ]
     },
     "execution_count": 12,
     "metadata": {},
     "output_type": "execute_result"
    }
   ],
   "source": [
    "df_train[df_train.duplicated(keep=False).values].set_index(\"uuid\").sort_index().head(4)"
   ]
  },
  {
   "cell_type": "markdown",
   "metadata": {},
   "source": [
    "### Delete duplication"
   ]
  },
  {
   "cell_type": "code",
   "execution_count": 13,
   "metadata": {
    "jupyter": {
     "source_hidden": true
    }
   },
   "outputs": [],
   "source": [
    "df_train = df_train[~df_train.duplicated()]"
   ]
  },
  {
   "cell_type": "markdown",
   "metadata": {},
   "source": [
    "## Analyse Column \"uuid\" (unique item ID)"
   ]
  },
  {
   "cell_type": "markdown",
   "metadata": {},
   "source": [
    "### \"uuid\" should be unique"
   ]
  },
  {
   "cell_type": "code",
   "execution_count": 14,
   "metadata": {
    "jupyter": {
     "source_hidden": true
    }
   },
   "outputs": [
    {
     "data": {
      "text/plain": [
       "10"
      ]
     },
     "execution_count": 14,
     "metadata": {},
     "output_type": "execute_result"
    }
   ],
   "source": [
    "df_train[\"uuid\"].value_counts().ge(2).sum()"
   ]
  },
  {
   "cell_type": "markdown",
   "metadata": {},
   "source": [
    "### Have 10 dublicated rows, lets look how they look, becouse they weren't deleted as full row dublicates"
   ]
  },
  {
   "cell_type": "code",
   "execution_count": 15,
   "metadata": {
    "jupyter": {
     "source_hidden": true
    }
   },
   "outputs": [
    {
     "data": {
      "text/html": [
       "<div>\n",
       "<style scoped>\n",
       "    .dataframe tbody tr th:only-of-type {\n",
       "        vertical-align: middle;\n",
       "    }\n",
       "\n",
       "    .dataframe tbody tr th {\n",
       "        vertical-align: top;\n",
       "    }\n",
       "\n",
       "    .dataframe thead th {\n",
       "        text-align: right;\n",
       "    }\n",
       "</style>\n",
       "<table border=\"1\" class=\"dataframe\">\n",
       "  <thead>\n",
       "    <tr style=\"text-align: right;\">\n",
       "      <th></th>\n",
       "      <th>uuid</th>\n",
       "      <th>description</th>\n",
       "      <th>color</th>\n",
       "      <th>price</th>\n",
       "      <th>cc3</th>\n",
       "      <th>sparkling</th>\n",
       "      <th>floral</th>\n",
       "      <th>striped</th>\n",
       "    </tr>\n",
       "  </thead>\n",
       "  <tbody>\n",
       "    <tr>\n",
       "      <th>3007</th>\n",
       "      <td>00_04eaf_TVbYdLiveQeR7NruNvDBNF2Z</td>\n",
       "      <td>prsa 38cm, délka 55cm, pružný</td>\n",
       "      <td>BROWN</td>\n",
       "      <td>3.89</td>\n",
       "      <td>None</td>\n",
       "      <td>False</td>\n",
       "      <td>False</td>\n",
       "      <td>True</td>\n",
       "    </tr>\n",
       "    <tr>\n",
       "      <th>3007</th>\n",
       "      <td>00_04eaf_TVbYdLiveQeR7NruNvDBNF2Z</td>\n",
       "      <td>prsa 38cm, délka 55cm, pružný</td>\n",
       "      <td>BROWN</td>\n",
       "      <td>3.89</td>\n",
       "      <td>PULLOVERS_SWEATERS</td>\n",
       "      <td>False</td>\n",
       "      <td>False</td>\n",
       "      <td>True</td>\n",
       "    </tr>\n",
       "    <tr>\n",
       "      <th>1222</th>\n",
       "      <td>00_05414_gxmt8KnGmNoc2ngfV8goMSwf</td>\n",
       "      <td>-  only worn a few times\\n- destress at leg holes \\n- some distress rips\\nAny questions? Just contact me!</td>\n",
       "      <td>LIGHT-BLUE</td>\n",
       "      <td>5.32</td>\n",
       "      <td>SHORTS_CAPRIS</td>\n",
       "      <td>False</td>\n",
       "      <td>False</td>\n",
       "      <td>False</td>\n",
       "    </tr>\n",
       "    <tr>\n",
       "      <th>1222</th>\n",
       "      <td>00_05414_gxmt8KnGmNoc2ngfV8goMSwf</td>\n",
       "      <td>-  only worn a few times\\n- destress at leg holes \\n- some distress rips\\nAny questions? Just contact me!</td>\n",
       "      <td>LIGHT-BLUE</td>\n",
       "      <td>5.32</td>\n",
       "      <td>None</td>\n",
       "      <td>False</td>\n",
       "      <td>False</td>\n",
       "      <td>False</td>\n",
       "    </tr>\n",
       "  </tbody>\n",
       "</table>\n",
       "</div>"
      ],
      "text/plain": [
       "                                   uuid  \\\n",
       "3007  00_04eaf_TVbYdLiveQeR7NruNvDBNF2Z   \n",
       "3007  00_04eaf_TVbYdLiveQeR7NruNvDBNF2Z   \n",
       "1222  00_05414_gxmt8KnGmNoc2ngfV8goMSwf   \n",
       "1222  00_05414_gxmt8KnGmNoc2ngfV8goMSwf   \n",
       "\n",
       "                                                                                                    description  \\\n",
       "3007                                                                              prsa 38cm, délka 55cm, pružný   \n",
       "3007                                                                              prsa 38cm, délka 55cm, pružný   \n",
       "1222  -  only worn a few times\\n- destress at leg holes \\n- some distress rips\\nAny questions? Just contact me!   \n",
       "1222  -  only worn a few times\\n- destress at leg holes \\n- some distress rips\\nAny questions? Just contact me!   \n",
       "\n",
       "           color  price                 cc3  sparkling  floral  striped  \n",
       "3007       BROWN   3.89                None      False   False     True  \n",
       "3007       BROWN   3.89  PULLOVERS_SWEATERS      False   False     True  \n",
       "1222  LIGHT-BLUE   5.32       SHORTS_CAPRIS      False   False    False  \n",
       "1222  LIGHT-BLUE   5.32                None      False   False    False  "
      ]
     },
     "execution_count": 15,
     "metadata": {},
     "output_type": "execute_result"
    }
   ],
   "source": [
    "dt_train_only_same_uuid = df_train[df_train.duplicated(subset=[\"uuid\"], keep=False)].sort_values(by=\"uuid\")\n",
    "dt_train_only_same_uuid.head(4)"
   ]
  },
  {
   "cell_type": "markdown",
   "metadata": {},
   "source": [
    "### It looks that only thing that different theme from being completely duplicate is \"cc3\" column with None values"
   ]
  },
  {
   "cell_type": "code",
   "execution_count": 16,
   "metadata": {
    "jupyter": {
     "source_hidden": true
    }
   },
   "outputs": [
    {
     "data": {
      "text/html": [
       "<div>\n",
       "<style scoped>\n",
       "    .dataframe tbody tr th:only-of-type {\n",
       "        vertical-align: middle;\n",
       "    }\n",
       "\n",
       "    .dataframe tbody tr th {\n",
       "        vertical-align: top;\n",
       "    }\n",
       "\n",
       "    .dataframe thead th {\n",
       "        text-align: right;\n",
       "    }\n",
       "</style>\n",
       "<table border=\"1\" class=\"dataframe\">\n",
       "  <thead>\n",
       "    <tr style=\"text-align: right;\">\n",
       "      <th></th>\n",
       "      <th>uuid</th>\n",
       "      <th>description</th>\n",
       "      <th>color</th>\n",
       "      <th>price</th>\n",
       "      <th>cc3</th>\n",
       "      <th>sparkling</th>\n",
       "      <th>floral</th>\n",
       "      <th>striped</th>\n",
       "    </tr>\n",
       "  </thead>\n",
       "  <tbody>\n",
       "    <tr>\n",
       "      <th>3007</th>\n",
       "      <td>00_04eaf_TVbYdLiveQeR7NruNvDBNF2Z</td>\n",
       "      <td>prsa 38cm, délka 55cm, pružný</td>\n",
       "      <td>BROWN</td>\n",
       "      <td>3.89</td>\n",
       "      <td>None</td>\n",
       "      <td>False</td>\n",
       "      <td>False</td>\n",
       "      <td>True</td>\n",
       "    </tr>\n",
       "    <tr>\n",
       "      <th>3007</th>\n",
       "      <td>00_04eaf_TVbYdLiveQeR7NruNvDBNF2Z</td>\n",
       "      <td>prsa 38cm, délka 55cm, pružný</td>\n",
       "      <td>BROWN</td>\n",
       "      <td>3.89</td>\n",
       "      <td>PULLOVERS_SWEATERS</td>\n",
       "      <td>False</td>\n",
       "      <td>False</td>\n",
       "      <td>True</td>\n",
       "    </tr>\n",
       "    <tr>\n",
       "      <th>1222</th>\n",
       "      <td>00_05414_gxmt8KnGmNoc2ngfV8goMSwf</td>\n",
       "      <td>-  only worn a few times\\n- destress at leg holes \\n- some distress rips\\nAny questions? Just contact me!</td>\n",
       "      <td>LIGHT-BLUE</td>\n",
       "      <td>5.32</td>\n",
       "      <td>SHORTS_CAPRIS</td>\n",
       "      <td>False</td>\n",
       "      <td>False</td>\n",
       "      <td>False</td>\n",
       "    </tr>\n",
       "    <tr>\n",
       "      <th>1222</th>\n",
       "      <td>00_05414_gxmt8KnGmNoc2ngfV8goMSwf</td>\n",
       "      <td>-  only worn a few times\\n- destress at leg holes \\n- some distress rips\\nAny questions? Just contact me!</td>\n",
       "      <td>LIGHT-BLUE</td>\n",
       "      <td>5.32</td>\n",
       "      <td>None</td>\n",
       "      <td>False</td>\n",
       "      <td>False</td>\n",
       "      <td>False</td>\n",
       "    </tr>\n",
       "  </tbody>\n",
       "</table>\n",
       "</div>"
      ],
      "text/plain": [
       "                                   uuid  \\\n",
       "3007  00_04eaf_TVbYdLiveQeR7NruNvDBNF2Z   \n",
       "3007  00_04eaf_TVbYdLiveQeR7NruNvDBNF2Z   \n",
       "1222  00_05414_gxmt8KnGmNoc2ngfV8goMSwf   \n",
       "1222  00_05414_gxmt8KnGmNoc2ngfV8goMSwf   \n",
       "\n",
       "                                                                                                    description  \\\n",
       "3007                                                                              prsa 38cm, délka 55cm, pružný   \n",
       "3007                                                                              prsa 38cm, délka 55cm, pružný   \n",
       "1222  -  only worn a few times\\n- destress at leg holes \\n- some distress rips\\nAny questions? Just contact me!   \n",
       "1222  -  only worn a few times\\n- destress at leg holes \\n- some distress rips\\nAny questions? Just contact me!   \n",
       "\n",
       "           color  price                 cc3  sparkling  floral  striped  \n",
       "3007       BROWN   3.89                None      False   False     True  \n",
       "3007       BROWN   3.89  PULLOVERS_SWEATERS      False   False     True  \n",
       "1222  LIGHT-BLUE   5.32       SHORTS_CAPRIS      False   False    False  \n",
       "1222  LIGHT-BLUE   5.32                None      False   False    False  "
      ]
     },
     "execution_count": 16,
     "metadata": {},
     "output_type": "execute_result"
    }
   ],
   "source": [
    "df_train_no_cc3_duplic = df_train[df_train.loc[:, df_train.columns != \"cc3\"].duplicated(keep=False)].sort_values(by=\"uuid\")\n",
    "df_train_no_cc3_duplic.head(4)"
   ]
  },
  {
   "cell_type": "markdown",
   "metadata": {},
   "source": [
    "### It looks the same, lets check it "
   ]
  },
  {
   "cell_type": "code",
   "execution_count": 17,
   "metadata": {
    "jupyter": {
     "source_hidden": true
    }
   },
   "outputs": [
    {
     "data": {
      "text/plain": [
       "True"
      ]
     },
     "execution_count": 17,
     "metadata": {},
     "output_type": "execute_result"
    }
   ],
   "source": [
    "dt_train_only_same_uuid.equals(df_train_no_cc3_duplic)"
   ]
  },
  {
   "cell_type": "markdown",
   "metadata": {},
   "source": [
    "### Remove from df_train rows with duplicated \"uuid\" and \"cc3\" == None"
   ]
  },
  {
   "cell_type": "code",
   "execution_count": 18,
   "metadata": {
    "jupyter": {
     "source_hidden": true
    }
   },
   "outputs": [],
   "source": [
    "duplic_index = list(df_train_no_cc3_duplic[df_train_no_cc3_duplic[\"cc3\"].isna()].index)"
   ]
  },
  {
   "cell_type": "code",
   "execution_count": 19,
   "metadata": {
    "jupyter": {
     "source_hidden": true
    }
   },
   "outputs": [],
   "source": [
    "df_train.drop(duplic_index, inplace=True)"
   ]
  },
  {
   "cell_type": "markdown",
   "metadata": {},
   "source": [
    "### Look again in \"uuid\" duplicates"
   ]
  },
  {
   "cell_type": "code",
   "execution_count": 20,
   "metadata": {
    "jupyter": {
     "source_hidden": true
    }
   },
   "outputs": [
    {
     "data": {
      "text/plain": [
       "0"
      ]
     },
     "execution_count": 20,
     "metadata": {},
     "output_type": "execute_result"
    }
   ],
   "source": [
    "df_train[\"uuid\"].value_counts().ge(2).sum()"
   ]
  },
  {
   "cell_type": "markdown",
   "metadata": {},
   "source": [
    "# Main columns for this assigment are \"cc3\" and \"description\""
   ]
  },
  {
   "cell_type": "markdown",
   "metadata": {},
   "source": [
    "## Column \"cc3\""
   ]
  },
  {
   "cell_type": "code",
   "execution_count": 21,
   "metadata": {
    "jupyter": {
     "source_hidden": true
    }
   },
   "outputs": [
    {
     "data": {
      "text/html": [
       "<div>\n",
       "<style scoped>\n",
       "    .dataframe tbody tr th:only-of-type {\n",
       "        vertical-align: middle;\n",
       "    }\n",
       "\n",
       "    .dataframe tbody tr th {\n",
       "        vertical-align: top;\n",
       "    }\n",
       "\n",
       "    .dataframe thead th {\n",
       "        text-align: right;\n",
       "    }\n",
       "</style>\n",
       "<table border=\"1\" class=\"dataframe\">\n",
       "  <thead>\n",
       "    <tr style=\"text-align: right;\">\n",
       "      <th></th>\n",
       "      <th>index</th>\n",
       "      <th>cc3</th>\n",
       "    </tr>\n",
       "  </thead>\n",
       "  <tbody>\n",
       "    <tr>\n",
       "      <th>0</th>\n",
       "      <td>DRESSES</td>\n",
       "      <td>0.440795</td>\n",
       "    </tr>\n",
       "    <tr>\n",
       "      <th>1</th>\n",
       "      <td>TROUSERS</td>\n",
       "      <td>0.135629</td>\n",
       "    </tr>\n",
       "    <tr>\n",
       "      <th>2</th>\n",
       "      <td>SHORTS_CAPRIS</td>\n",
       "      <td>0.125563</td>\n",
       "    </tr>\n",
       "    <tr>\n",
       "      <th>3</th>\n",
       "      <td>SKIRTS</td>\n",
       "      <td>0.116821</td>\n",
       "    </tr>\n",
       "    <tr>\n",
       "      <th>4</th>\n",
       "      <td>MISSING</td>\n",
       "      <td>0.096159</td>\n",
       "    </tr>\n",
       "    <tr>\n",
       "      <th>5</th>\n",
       "      <td>PULLOVERS_SWEATERS</td>\n",
       "      <td>0.085033</td>\n",
       "    </tr>\n",
       "  </tbody>\n",
       "</table>\n",
       "</div>"
      ],
      "text/plain": [
       "                index       cc3\n",
       "0             DRESSES  0.440795\n",
       "1            TROUSERS  0.135629\n",
       "2       SHORTS_CAPRIS  0.125563\n",
       "3              SKIRTS  0.116821\n",
       "4             MISSING  0.096159\n",
       "5  PULLOVERS_SWEATERS  0.085033"
      ]
     },
     "execution_count": 21,
     "metadata": {},
     "output_type": "execute_result"
    }
   ],
   "source": [
    "df_train_cc3 = df_train[\"cc3\"].value_counts(normalize=True, dropna=False).reset_index()\n",
    "df_train_cc3[\"index\"].fillna(\"MISSING\", inplace=True)\n",
    "df_train_cc3"
   ]
  },
  {
   "cell_type": "code",
   "execution_count": 22,
   "metadata": {
    "jupyter": {
     "source_hidden": true
    }
   },
   "outputs": [
    {
     "data": {
      "text/plain": [
       "Text(0, 0.5, 'Category of the item')"
      ]
     },
     "execution_count": 22,
     "metadata": {},
     "output_type": "execute_result"
    },
    {
     "data": {
      "image/png": "[encoded data removed]",
      "text/plain": [
       "<Figure size 432x288 with 1 Axes>"
      ]
     },
     "metadata": {
      "needs_background": "light"
     },
     "output_type": "display_data"
    }
   ],
   "source": [
    "clrs = [\"grey\" if col_name != \"MISSING\" else \"red\" for col_name in df_train_cc3[\"index\"].values]\n",
    "\n",
    "sns.barplot(y=df_train_cc3[\"index\"], x=df_train_cc3[\"cc3\"] * 100, palette=clrs)\n",
    "plt.xlabel(\"%\")\n",
    "plt.ylabel(\"Category of the item\")"
   ]
  },
  {
   "cell_type": "markdown",
   "metadata": {},
   "source": [
    "### Have a lot Missing data, almost the same amount as majority of other categories (except DRESSES)\n",
    "#### For this time we delete all missing values"
   ]
  },
  {
   "cell_type": "code",
   "execution_count": 23,
   "metadata": {
    "jupyter": {
     "source_hidden": true
    }
   },
   "outputs": [],
   "source": [
    "df_train.dropna(subset=[\"cc3\"], inplace=True)"
   ]
  },
  {
   "cell_type": "markdown",
   "metadata": {},
   "source": [
    "## Column \"description\""
   ]
  },
  {
   "cell_type": "markdown",
   "metadata": {},
   "source": [
    "### Pre-processing\n",
    "Deleting stop-words(on, in etc.) and unrelavant characters (as emojis, #, etc.).\n",
    "Reducing words to their word stem (ex. beautiful -> beauti )"
   ]
  },
  {
   "cell_type": "code",
   "execution_count": 24,
   "metadata": {},
   "outputs": [],
   "source": [
    "VINTED_LANGUAGES = [\"lithuanian\", \"polish\", \"czech\", \"french\", \"dutch\", \"german\", \"english\", \"spanish\"]"
   ]
  },
  {
   "cell_type": "code",
   "execution_count": 25,
   "metadata": {
    "jupyter": {
     "source_hidden": true
    }
   },
   "outputs": [],
   "source": [
    "def stop_word_generator(languages):\n",
    "    \"\"\"\n",
    "        languages: list of languages\n",
    "        \n",
    "        return: set of stop words\n",
    "    \"\"\"\n",
    "    all_stop_words = []\n",
    "    for language in languages:\n",
    "        try:\n",
    "             stop_words = get_stop_words(language)\n",
    "        except:\n",
    "            pass\n",
    "        else:\n",
    "            all_stop_words += stop_words\n",
    "    return set(all_stop_words)"
   ]
  },
  {
   "cell_type": "code",
   "execution_count": 26,
   "metadata": {
    "jupyter": {
     "source_hidden": true
    }
   },
   "outputs": [],
   "source": [
    "STOPWORDS = stop_word_generator(VINTED_LANGUAGES)"
   ]
  },
  {
   "cell_type": "code",
   "execution_count": 27,
   "metadata": {
    "jupyter": {
     "source_hidden": true
    }
   },
   "outputs": [],
   "source": [
    "def clean_text(text, stop_words):\n",
    "#     global STOPWORDS\n",
    "    \"\"\"\n",
    "        text: a string\n",
    "        \n",
    "        return: modified initial string\n",
    "    \"\"\"\n",
    "    stemmer = snowballstemmer.stemmer('english')\n",
    "    text = text.lower()\n",
    "    text = re.sub(r\"\\d\", \" \", text)\n",
    "    text = re.sub(r\"\\W\", \" \", text)\n",
    "    text = re.sub(r\"\\b\\w{1,3}\\b\", \" \", text)\n",
    "    text = \" \".join(stemmer.stemWords((word for word in text.split() if word not in stop_words)))\n",
    "\n",
    "    return text\n",
    "    "
   ]
  },
  {
   "cell_type": "code",
   "execution_count": 28,
   "metadata": {
    "jupyter": {
     "source_hidden": true
    }
   },
   "outputs": [],
   "source": [
    "df_train[\"description_proc\"] = df_train[\"description\"].apply(clean_text, stop_words=STOPWORDS)"
   ]
  },
  {
   "cell_type": "code",
   "execution_count": 29,
   "metadata": {
    "jupyter": {
     "source_hidden": true
    }
   },
   "outputs": [
    {
     "data": {
      "text/html": [
       "<div>\n",
       "<style scoped>\n",
       "    .dataframe tbody tr th:only-of-type {\n",
       "        vertical-align: middle;\n",
       "    }\n",
       "\n",
       "    .dataframe tbody tr th {\n",
       "        vertical-align: top;\n",
       "    }\n",
       "\n",
       "    .dataframe thead th {\n",
       "        text-align: right;\n",
       "    }\n",
       "</style>\n",
       "<table border=\"1\" class=\"dataframe\">\n",
       "  <thead>\n",
       "    <tr style=\"text-align: right;\">\n",
       "      <th></th>\n",
       "      <th>description</th>\n",
       "      <th>description_proc</th>\n",
       "    </tr>\n",
       "  </thead>\n",
       "  <tbody>\n",
       "    <tr>\n",
       "      <th>0</th>\n",
       "      <td>beautiful summer dress by zara only worn once.\\n\\n#zara #zarawoman #zaradress #summerdress #dress</td>\n",
       "      <td>beauti summer dress zara worn zara zarawoman zaradress summerdress dress</td>\n",
       "    </tr>\n",
       "    <tr>\n",
       "      <th>1</th>\n",
       "      <td>Maroon denim colored high rise jean shorts from Charlotte Russe size 2. Fits sizes 25-26 and goes up to right under belly button on a 5”7 tall person. Shorts are in good condition but there is slight wear as pictured in the back</td>\n",
       "      <td>maroon denim color high rise jean short charlott russ size fit size goe right belli button tall person short good condit slight wear pictur back</td>\n",
       "    </tr>\n",
       "    <tr>\n",
       "      <th>2</th>\n",
       "      <td>brand-new without tags x</td>\n",
       "      <td>brand without tag</td>\n",
       "    </tr>\n",
       "    <tr>\n",
       "      <th>3</th>\n",
       "      <td>Vasariška trumpa lengva medvilninė suknytė, be defektų.\\nIlgis 83cm, plotis tarp pažastų 37cm.\\n#terranova #suknele #geleta</td>\n",
       "      <td>vasariška trumpa lengva medvilninė suknytė defektų ilgi ploti tarp pažastų terranova suknel geleta</td>\n",
       "    </tr>\n",
       "    <tr>\n",
       "      <th>4</th>\n",
       "      <td>size small, worn; distressed look. one has a pain stain, see pics \\nWILL THROW IN FREE W ANY BUNDLE IF ASKED \\n#jsfcloset</td>\n",
       "      <td>size small worn distress look pain stain pic throw free bundl ask jsfcloset</td>\n",
       "    </tr>\n",
       "  </tbody>\n",
       "</table>\n",
       "</div>"
      ],
      "text/plain": [
       "                                                                                                                                                                                                                            description  \\\n",
       "0                                                                                                                                    beautiful summer dress by zara only worn once.\\n\\n#zara #zarawoman #zaradress #summerdress #dress    \n",
       "1  Maroon denim colored high rise jean shorts from Charlotte Russe size 2. Fits sizes 25-26 and goes up to right under belly button on a 5”7 tall person. Shorts are in good condition but there is slight wear as pictured in the back   \n",
       "2                                                                                                                                                                                                              brand-new without tags x   \n",
       "3                                                                                                          Vasariška trumpa lengva medvilninė suknytė, be defektų.\\nIlgis 83cm, plotis tarp pažastų 37cm.\\n#terranova #suknele #geleta    \n",
       "4                                                                                                            size small, worn; distressed look. one has a pain stain, see pics \\nWILL THROW IN FREE W ANY BUNDLE IF ASKED \\n#jsfcloset    \n",
       "\n",
       "                                                                                                                                   description_proc  \n",
       "0                                                                          beauti summer dress zara worn zara zarawoman zaradress summerdress dress  \n",
       "1  maroon denim color high rise jean short charlott russ size fit size goe right belli button tall person short good condit slight wear pictur back  \n",
       "2                                                                                                                                 brand without tag  \n",
       "3                                                vasariška trumpa lengva medvilninė suknytė defektų ilgi ploti tarp pažastų terranova suknel geleta  \n",
       "4                                                                       size small worn distress look pain stain pic throw free bundl ask jsfcloset  "
      ]
     },
     "execution_count": 29,
     "metadata": {},
     "output_type": "execute_result"
    }
   ],
   "source": [
    "df_train[[\"description\", \"description_proc\"]].head()"
   ]
  },
  {
   "cell_type": "markdown",
   "metadata": {},
   "source": [
    "### Counting Pre-processed description words"
   ]
  },
  {
   "cell_type": "code",
   "execution_count": 30,
   "metadata": {
    "jupyter": {
     "source_hidden": true
    }
   },
   "outputs": [],
   "source": [
    "df_train[\"escription_proc_len\"] = df_train[\"description_proc\"].str.split().str.len()"
   ]
  },
  {
   "cell_type": "code",
   "execution_count": 31,
   "metadata": {
    "collapsed": true,
    "jupyter": {
     "outputs_hidden": true,
     "source_hidden": true
    }
   },
   "outputs": [
    {
     "data": {
      "text/plain": [
       "5     217\n",
       "2     214\n",
       "4     214\n",
       "6     214\n",
       "3     205\n",
       "7     194\n",
       "8     178\n",
       "10    160\n",
       "9     157\n",
       "11    130\n",
       "Name: escription_proc_len, dtype: int64"
      ]
     },
     "execution_count": 31,
     "metadata": {},
     "output_type": "execute_result"
    }
   ],
   "source": [
    "df_train[\"escription_proc_len\"].value_counts().head(10)"
   ]
  },
  {
   "cell_type": "markdown",
   "metadata": {},
   "source": [
    "#### Delete rows that don't have any description"
   ]
  },
  {
   "cell_type": "code",
   "execution_count": 32,
   "metadata": {
    "jupyter": {
     "source_hidden": true
    }
   },
   "outputs": [],
   "source": [
    "df_train = df_train[~(df_train['escription_proc_len'] == 0)]"
   ]
  },
  {
   "cell_type": "code",
   "execution_count": 33,
   "metadata": {
    "jupyter": {
     "source_hidden": true
    }
   },
   "outputs": [],
   "source": [
    "df_train.to_csv(os.path.join(data_root, \"train_preproc.csv\"), index=False)"
   ]
  },
  {
   "cell_type": "markdown",
   "metadata": {},
   "source": [
    "# Clasification model"
   ]
  },
  {
   "cell_type": "markdown",
   "metadata": {},
   "source": [
    "### Split data to train/test"
   ]
  },
  {
   "cell_type": "code",
   "execution_count": 34,
   "metadata": {},
   "outputs": [],
   "source": [
    "X = df_train['description_proc']\n",
    "y = df_train['cc3']\n",
    "X.shape\n",
    "#TO DO proportions\n",
    "X_train, X_test, y_train, y_test = train_test_split(X, y, test_size=0.2, random_state = 42)"
   ]
  },
  {
   "cell_type": "markdown",
   "metadata": {},
   "source": [
    "## Analysing most decents models"
   ]
  },
  {
   "cell_type": "markdown",
   "metadata": {},
   "source": [
    "### Testing models"
   ]
  },
  {
   "cell_type": "code",
   "execution_count": 35,
   "metadata": {
    "jupyter": {
     "source_hidden": true
    }
   },
   "outputs": [],
   "source": [
    "def predict_top2(clf_top2, X_train, y_train, X_test, y_test):\n",
    "    \n",
    "    clf_top2.fit(X_train, y_train)\n",
    "\n",
    "    probs = clf_top2.predict_proba(X_test)\n",
    "\n",
    "    y_pred_top2 = np.argsort(-probs, axis=1)[:,:2]\n",
    "    \n",
    "    y_pred1_2_prob = np.sort(probs,axis=1)[:,-2:]\n",
    "    y_pred1_prob = y_pred1_2_prob[:, 1]\n",
    "    y_pred2_prob = y_pred1_2_prob[:, 0]\n",
    "    \n",
    "    y_pred1 = clf_top2.classes_[y_pred_top2][:,0]\n",
    "    y_pred2 = clf_top2.classes_[y_pred_top2][:,1]\n",
    "    \n",
    "    acc_top2 = (sum(y_pred1 == np.array(y_test)) + sum(y_pred2 == np.array(y_test))) / y_test.shape[0]\n",
    "    \n",
    "    return acc_top2 , y_pred1, y_pred2, y_pred1_prob, y_pred2_prob"
   ]
  },
  {
   "cell_type": "code",
   "execution_count": 36,
   "metadata": {
    "jupyter": {
     "source_hidden": true
    }
   },
   "outputs": [],
   "source": [
    "#Quick Data prediction Pipeline\n",
    "def quick_pipeline(clf, text, X_train, X_test, y_train, y_test, plot=True, return_type = None):\n",
    "    \n",
    "    clf_pipe = Pipeline([\n",
    "            ('vect', CountVectorizer()),\n",
    "            ('tfidf', TfidfTransformer()),\n",
    "             ('clf', clf()),\n",
    "            ])\n",
    "    \n",
    "    clf_pipe.fit(X_train, y_train)\n",
    "    \n",
    "    y_pred = clf_pipe.predict(X_test)\n",
    "    cf_matrix = confusion_matrix(y_test, y_pred)\n",
    "    \n",
    "    acc = np.mean(y_pred == y_test)\n",
    "    \n",
    "    if plot:\n",
    "    \n",
    "        print(text +'\\n')\n",
    "        print( 'accuracy: ' +  str(acc) + '\\n')\n",
    "        \n",
    "        plot_confusion_matrix(clf_pipe, X_test, y_test, normalize=\"true\", xticks_rotation=\"vertical\", cmap=\"Blues\")\n",
    "        plt.grid(False)\n",
    "        plt.show()\n",
    "\n",
    "\n",
    "        print('\\n'*2)\n",
    "        print('-'*60)\n",
    "        print(classification_report(y_test, y_pred, target_names=y_test.unique()))\n",
    "        report = classification_report(y_test, y_pred, target_names=y_test.unique(),output_dict=True)\n",
    "        print('-'*60)\n",
    "        print('\\n')\n",
    "    else:\n",
    "        report = classification_report(y_test, y_pred, target_names=y_test.unique(),output_dict=True)\n",
    "        \n",
    "        \n",
    "    acc_top2 , y_pred1, y_pred2, y_pred1_prob, y_pred2_prob = predict_top2(clf_pipe, X_train, y_train, X_test, y_test)\n",
    "    \n",
    "    \n",
    "    if return_type == 'stats':\n",
    "    \n",
    "        return acc, acc_top2, report['weighted avg']['precision'], report['weighted avg']['recall'], report['weighted avg']['f1-score']\n",
    "    \n",
    "    elif return_type == 'classifier':\n",
    "        \n",
    "        return clf_pipe\n",
    "    \n",
    "    elif return_type == 'predictions':\n",
    "    \n",
    "        return y_pred1, y_pred2, y_pred1_prob, y_pred2_prob\n",
    "    \n",
    "    else:\n",
    "        return None"
   ]
  },
  {
   "cell_type": "code",
   "execution_count": 37,
   "metadata": {
    "jupyter": {
     "source_hidden": true
    }
   },
   "outputs": [],
   "source": [
    "#Define models\n",
    "models_dict = {'MultinomialNB': MultinomialNB,                           # supports .pred_proba() through Pipeline\n",
    "              #'SGDClassifier' : SGDClassifier,                          # supports .pred_proba() if loss = 'hinge'\n",
    "              #'SVC' : SVC,                                              # supports .pred_proba() if probability=True\n",
    "              #'LinearSVC' : LinearSVC,                                  # Does not support\n",
    "              'LogisticRegression' : LogisticRegression,                 # supports .pred_proba()\n",
    "              'RandomForestClassifier' : RandomForestClassifier,         # supports .pred_proba()\n",
    "              'GradientBoostingClassifier' : GradientBoostingClassifier, # supports .pred_proba()\n",
    "              'AdaBoostClassifier' : AdaBoostClassifier,                 # supports .pred_proba()\n",
    "              'ExtraTreeClassifier' : ExtraTreeClassifier                # supports .pred_proba()\n",
    "             }"
   ]
  },
  {
   "cell_type": "code",
   "execution_count": 38,
   "metadata": {
    "jupyter": {
     "source_hidden": true
    }
   },
   "outputs": [
    {
     "name": "stdout",
     "output_type": "stream",
     "text": [
      "MultinomialNB\n",
      "\n",
      "accuracy: 0.5513196480938416\n",
      "\n"
     ]
    },
    {
     "data": {
      "image/png": "[encoded data removed]",
      "text/plain": [
       "<Figure size 432x288 with 2 Axes>"
      ]
     },
     "metadata": {
      "needs_background": "light"
     },
     "output_type": "display_data"
    },
    {
     "name": "stdout",
     "output_type": "stream",
     "text": [
      "\n",
      "\n",
      "\n",
      "------------------------------------------------------------\n",
      "                    precision    recall  f1-score   support\n",
      "\n",
      "           DRESSES       0.53      1.00      0.69       345\n",
      "          TROUSERS       1.00      0.09      0.16        46\n",
      "            SKIRTS       1.00      0.17      0.29        89\n",
      "     SHORTS_CAPRIS       1.00      0.03      0.06       104\n",
      "PULLOVERS_SWEATERS       1.00      0.09      0.17        98\n",
      "\n",
      "          accuracy                           0.55       682\n",
      "         macro avg       0.91      0.28      0.27       682\n",
      "      weighted avg       0.76      0.55      0.43       682\n",
      "\n",
      "------------------------------------------------------------\n",
      "\n",
      "\n",
      "LogisticRegression\n",
      "\n",
      "accuracy: 0.749266862170088\n",
      "\n"
     ]
    },
    {
     "data": {
      "image/png": "[encoded data removed]",
      "text/plain": [
       "<Figure size 432x288 with 2 Axes>"
      ]
     },
     "metadata": {
      "needs_background": "light"
     },
     "output_type": "display_data"
    },
    {
     "name": "stdout",
     "output_type": "stream",
     "text": [
      "\n",
      "\n",
      "\n",
      "------------------------------------------------------------\n",
      "                    precision    recall  f1-score   support\n",
      "\n",
      "           DRESSES       0.71      0.97      0.82       345\n",
      "          TROUSERS       0.77      0.37      0.50        46\n",
      "            SKIRTS       0.87      0.62      0.72        89\n",
      "     SHORTS_CAPRIS       0.96      0.51      0.67       104\n",
      "PULLOVERS_SWEATERS       0.74      0.51      0.60        98\n",
      "\n",
      "          accuracy                           0.75       682\n",
      "         macro avg       0.81      0.60      0.66       682\n",
      "      weighted avg       0.78      0.75      0.73       682\n",
      "\n",
      "------------------------------------------------------------\n",
      "\n",
      "\n",
      "RandomForestClassifier\n",
      "\n",
      "accuracy: 0.7551319648093842\n",
      "\n"
     ]
    },
    {
     "data": {
      "image/png": "[encoded data removed]",
      "text/plain": [
       "<Figure size 432x288 with 2 Axes>"
      ]
     },
     "metadata": {
      "needs_background": "light"
     },
     "output_type": "display_data"
    },
    {
     "name": "stdout",
     "output_type": "stream",
     "text": [
      "\n",
      "\n",
      "\n",
      "------------------------------------------------------------\n",
      "                    precision    recall  f1-score   support\n",
      "\n",
      "           DRESSES       0.76      0.92      0.83       345\n",
      "          TROUSERS       0.92      0.50      0.65        46\n",
      "            SKIRTS       0.76      0.64      0.70        89\n",
      "     SHORTS_CAPRIS       0.86      0.59      0.70       104\n",
      "PULLOVERS_SWEATERS       0.62      0.59      0.61        98\n",
      "\n",
      "          accuracy                           0.76       682\n",
      "         macro avg       0.78      0.65      0.70       682\n",
      "      weighted avg       0.76      0.76      0.75       682\n",
      "\n",
      "------------------------------------------------------------\n",
      "\n",
      "\n",
      "GradientBoostingClassifier\n",
      "\n",
      "accuracy: 0.7712609970674487\n",
      "\n"
     ]
    },
    {
     "data": {
      "image/png": "[encoded data removed]",
      "text/plain": [
       "<Figure size 432x288 with 2 Axes>"
      ]
     },
     "metadata": {
      "needs_background": "light"
     },
     "output_type": "display_data"
    },
    {
     "name": "stdout",
     "output_type": "stream",
     "text": [
      "\n",
      "\n",
      "\n",
      "------------------------------------------------------------\n",
      "                    precision    recall  f1-score   support\n",
      "\n",
      "           DRESSES       0.73      0.96      0.83       345\n",
      "          TROUSERS       0.92      0.50      0.65        46\n",
      "            SKIRTS       0.88      0.58      0.70        89\n",
      "     SHORTS_CAPRIS       0.86      0.57      0.68       104\n",
      "PULLOVERS_SWEATERS       0.81      0.61      0.70        98\n",
      "\n",
      "          accuracy                           0.77       682\n",
      "         macro avg       0.84      0.65      0.71       682\n",
      "      weighted avg       0.79      0.77      0.76       682\n",
      "\n",
      "------------------------------------------------------------\n",
      "\n",
      "\n",
      "AdaBoostClassifier\n",
      "\n",
      "accuracy: 0.7595307917888563\n",
      "\n"
     ]
    },
    {
     "data": {
      "image/png": "[encoded data removed]",
      "text/plain": [
       "<Figure size 432x288 with 2 Axes>"
      ]
     },
     "metadata": {
      "needs_background": "light"
     },
     "output_type": "display_data"
    },
    {
     "name": "stdout",
     "output_type": "stream",
     "text": [
      "\n",
      "\n",
      "\n",
      "------------------------------------------------------------\n",
      "                    precision    recall  f1-score   support\n",
      "\n",
      "           DRESSES       0.73      0.95      0.82       345\n",
      "          TROUSERS       0.72      0.50      0.59        46\n",
      "            SKIRTS       0.78      0.58      0.67        89\n",
      "     SHORTS_CAPRIS       0.91      0.56      0.69       104\n",
      "PULLOVERS_SWEATERS       0.85      0.59      0.70        98\n",
      "\n",
      "          accuracy                           0.76       682\n",
      "         macro avg       0.80      0.64      0.69       682\n",
      "      weighted avg       0.78      0.76      0.75       682\n",
      "\n",
      "------------------------------------------------------------\n",
      "\n",
      "\n",
      "ExtraTreeClassifier\n",
      "\n",
      "accuracy: 0.5982404692082112\n",
      "\n"
     ]
    },
    {
     "data": {
      "image/png": "[encoded data removed]",
      "text/plain": [
       "<Figure size 432x288 with 2 Axes>"
      ]
     },
     "metadata": {
      "needs_background": "light"
     },
     "output_type": "display_data"
    },
    {
     "name": "stdout",
     "output_type": "stream",
     "text": [
      "\n",
      "\n",
      "\n",
      "------------------------------------------------------------\n",
      "                    precision    recall  f1-score   support\n",
      "\n",
      "           DRESSES       0.74      0.75      0.74       345\n",
      "          TROUSERS       0.44      0.37      0.40        46\n",
      "            SKIRTS       0.56      0.54      0.55        89\n",
      "     SHORTS_CAPRIS       0.38      0.37      0.37       104\n",
      "PULLOVERS_SWEATERS       0.44      0.48      0.46        98\n",
      "\n",
      "          accuracy                           0.60       682\n",
      "         macro avg       0.51      0.50      0.50       682\n",
      "      weighted avg       0.60      0.60      0.60       682\n",
      "\n",
      "------------------------------------------------------------\n",
      "\n",
      "\n"
     ]
    }
   ],
   "source": [
    "#Run all models\n",
    "results = pd.DataFrame(columns=['model','acc_top1', 'acc_top2','precission','recall','f1_score'])\n",
    "\n",
    "for name, clf in models_dict.items():\n",
    "    acc, acc_top2, precission, recall, fi_score = quick_pipeline(clf, name, X_train, X_test, y_train, y_test, plot=True, return_type = 'stats')\n",
    "    idx = results.shape[0]\n",
    "    results.loc[idx] = [name, acc, acc_top2, precission, recall, fi_score]"
   ]
  },
  {
   "cell_type": "markdown",
   "metadata": {},
   "source": [
    "## Performaces of the models"
   ]
  },
  {
   "cell_type": "code",
   "execution_count": 39,
   "metadata": {
    "jupyter": {
     "source_hidden": true
    }
   },
   "outputs": [
    {
     "data": {
      "text/html": [
       "<style  type=\"text/css\" >\n",
       "</style><table id=\"T_9383390c_1a1f_11eb_af03_0242ac130002\" ><thead>    <tr>        <th class=\"blank level0\" ></th>        <th class=\"col_heading level0 col0\" >model</th>        <th class=\"col_heading level0 col1\" >acc_top1</th>        <th class=\"col_heading level0 col2\" >acc_top2</th>        <th class=\"col_heading level0 col3\" >precission</th>        <th class=\"col_heading level0 col4\" >recall</th>        <th class=\"col_heading level0 col5\" >f1_score</th>    </tr></thead><tbody>\n",
       "                <tr>\n",
       "                        <th id=\"T_9383390c_1a1f_11eb_af03_0242ac130002level0_row0\" class=\"row_heading level0 row0\" >0</th>\n",
       "                        <td id=\"T_9383390c_1a1f_11eb_af03_0242ac130002row0_col0\" class=\"data row0 col0\" >LogisticRegression</td>\n",
       "                        <td id=\"T_9383390c_1a1f_11eb_af03_0242ac130002row0_col1\" class=\"data row0 col1\" >0.75</td>\n",
       "                        <td id=\"T_9383390c_1a1f_11eb_af03_0242ac130002row0_col2\" class=\"data row0 col2\" >0.87</td>\n",
       "                        <td id=\"T_9383390c_1a1f_11eb_af03_0242ac130002row0_col3\" class=\"data row0 col3\" >0.78</td>\n",
       "                        <td id=\"T_9383390c_1a1f_11eb_af03_0242ac130002row0_col4\" class=\"data row0 col4\" >0.75</td>\n",
       "                        <td id=\"T_9383390c_1a1f_11eb_af03_0242ac130002row0_col5\" class=\"data row0 col5\" >0.73</td>\n",
       "            </tr>\n",
       "            <tr>\n",
       "                        <th id=\"T_9383390c_1a1f_11eb_af03_0242ac130002level0_row1\" class=\"row_heading level0 row1\" >1</th>\n",
       "                        <td id=\"T_9383390c_1a1f_11eb_af03_0242ac130002row1_col0\" class=\"data row1 col0\" >RandomForestClassifier</td>\n",
       "                        <td id=\"T_9383390c_1a1f_11eb_af03_0242ac130002row1_col1\" class=\"data row1 col1\" >0.76</td>\n",
       "                        <td id=\"T_9383390c_1a1f_11eb_af03_0242ac130002row1_col2\" class=\"data row1 col2\" >0.86</td>\n",
       "                        <td id=\"T_9383390c_1a1f_11eb_af03_0242ac130002row1_col3\" class=\"data row1 col3\" >0.76</td>\n",
       "                        <td id=\"T_9383390c_1a1f_11eb_af03_0242ac130002row1_col4\" class=\"data row1 col4\" >0.76</td>\n",
       "                        <td id=\"T_9383390c_1a1f_11eb_af03_0242ac130002row1_col5\" class=\"data row1 col5\" >0.75</td>\n",
       "            </tr>\n",
       "            <tr>\n",
       "                        <th id=\"T_9383390c_1a1f_11eb_af03_0242ac130002level0_row2\" class=\"row_heading level0 row2\" >2</th>\n",
       "                        <td id=\"T_9383390c_1a1f_11eb_af03_0242ac130002row2_col0\" class=\"data row2 col0\" >GradientBoostingClassifier</td>\n",
       "                        <td id=\"T_9383390c_1a1f_11eb_af03_0242ac130002row2_col1\" class=\"data row2 col1\" >0.77</td>\n",
       "                        <td id=\"T_9383390c_1a1f_11eb_af03_0242ac130002row2_col2\" class=\"data row2 col2\" >0.86</td>\n",
       "                        <td id=\"T_9383390c_1a1f_11eb_af03_0242ac130002row2_col3\" class=\"data row2 col3\" >0.79</td>\n",
       "                        <td id=\"T_9383390c_1a1f_11eb_af03_0242ac130002row2_col4\" class=\"data row2 col4\" >0.77</td>\n",
       "                        <td id=\"T_9383390c_1a1f_11eb_af03_0242ac130002row2_col5\" class=\"data row2 col5\" >0.76</td>\n",
       "            </tr>\n",
       "            <tr>\n",
       "                        <th id=\"T_9383390c_1a1f_11eb_af03_0242ac130002level0_row3\" class=\"row_heading level0 row3\" >3</th>\n",
       "                        <td id=\"T_9383390c_1a1f_11eb_af03_0242ac130002row3_col0\" class=\"data row3 col0\" >AdaBoostClassifier</td>\n",
       "                        <td id=\"T_9383390c_1a1f_11eb_af03_0242ac130002row3_col1\" class=\"data row3 col1\" >0.76</td>\n",
       "                        <td id=\"T_9383390c_1a1f_11eb_af03_0242ac130002row3_col2\" class=\"data row3 col2\" >0.85</td>\n",
       "                        <td id=\"T_9383390c_1a1f_11eb_af03_0242ac130002row3_col3\" class=\"data row3 col3\" >0.78</td>\n",
       "                        <td id=\"T_9383390c_1a1f_11eb_af03_0242ac130002row3_col4\" class=\"data row3 col4\" >0.76</td>\n",
       "                        <td id=\"T_9383390c_1a1f_11eb_af03_0242ac130002row3_col5\" class=\"data row3 col5\" >0.75</td>\n",
       "            </tr>\n",
       "            <tr>\n",
       "                        <th id=\"T_9383390c_1a1f_11eb_af03_0242ac130002level0_row4\" class=\"row_heading level0 row4\" >4</th>\n",
       "                        <td id=\"T_9383390c_1a1f_11eb_af03_0242ac130002row4_col0\" class=\"data row4 col0\" >MultinomialNB</td>\n",
       "                        <td id=\"T_9383390c_1a1f_11eb_af03_0242ac130002row4_col1\" class=\"data row4 col1\" >0.55</td>\n",
       "                        <td id=\"T_9383390c_1a1f_11eb_af03_0242ac130002row4_col2\" class=\"data row4 col2\" >0.84</td>\n",
       "                        <td id=\"T_9383390c_1a1f_11eb_af03_0242ac130002row4_col3\" class=\"data row4 col3\" >0.76</td>\n",
       "                        <td id=\"T_9383390c_1a1f_11eb_af03_0242ac130002row4_col4\" class=\"data row4 col4\" >0.55</td>\n",
       "                        <td id=\"T_9383390c_1a1f_11eb_af03_0242ac130002row4_col5\" class=\"data row4 col5\" >0.43</td>\n",
       "            </tr>\n",
       "            <tr>\n",
       "                        <th id=\"T_9383390c_1a1f_11eb_af03_0242ac130002level0_row5\" class=\"row_heading level0 row5\" >5</th>\n",
       "                        <td id=\"T_9383390c_1a1f_11eb_af03_0242ac130002row5_col0\" class=\"data row5 col0\" >ExtraTreeClassifier</td>\n",
       "                        <td id=\"T_9383390c_1a1f_11eb_af03_0242ac130002row5_col1\" class=\"data row5 col1\" >0.60</td>\n",
       "                        <td id=\"T_9383390c_1a1f_11eb_af03_0242ac130002row5_col2\" class=\"data row5 col2\" >0.76</td>\n",
       "                        <td id=\"T_9383390c_1a1f_11eb_af03_0242ac130002row5_col3\" class=\"data row5 col3\" >0.60</td>\n",
       "                        <td id=\"T_9383390c_1a1f_11eb_af03_0242ac130002row5_col4\" class=\"data row5 col4\" >0.60</td>\n",
       "                        <td id=\"T_9383390c_1a1f_11eb_af03_0242ac130002row5_col5\" class=\"data row5 col5\" >0.60</td>\n",
       "            </tr>\n",
       "    </tbody></table>"
      ],
      "text/plain": [
       "<pandas.io.formats.style.Styler at 0x7f1f75c2f590>"
      ]
     },
     "execution_count": 39,
     "metadata": {},
     "output_type": "execute_result"
    }
   ],
   "source": [
    "results_ = results.sort_values(by=['acc_top2','precission'],ascending=False).reset_index(drop=True)\n",
    "results_.style.set_precision(2)"
   ]
  },
  {
   "cell_type": "markdown",
   "metadata": {},
   "source": [
    "### Choosing the best model by top2 accuracy and top1 precission"
   ]
  },
  {
   "cell_type": "code",
   "execution_count": 40,
   "metadata": {
    "jupyter": {
     "source_hidden": true
    }
   },
   "outputs": [],
   "source": [
    "best_model_name = results_['model'][0]\n",
    "best_model = models_dict[best_model_name]"
   ]
  },
  {
   "cell_type": "code",
   "execution_count": 41,
   "metadata": {
    "jupyter": {
     "source_hidden": true
    }
   },
   "outputs": [
    {
     "name": "stdout",
     "output_type": "stream",
     "text": [
      "LogisticRegression\n",
      "\n",
      "accuracy: 0.749266862170088\n",
      "\n"
     ]
    },
    {
     "data": {
      "image/png": "[encoded data removed]",
      "text/plain": [
       "<Figure size 432x288 with 2 Axes>"
      ]
     },
     "metadata": {
      "needs_background": "light"
     },
     "output_type": "display_data"
    },
    {
     "name": "stdout",
     "output_type": "stream",
     "text": [
      "\n",
      "\n",
      "\n",
      "------------------------------------------------------------\n",
      "                    precision    recall  f1-score   support\n",
      "\n",
      "           DRESSES       0.71      0.97      0.82       345\n",
      "          TROUSERS       0.77      0.37      0.50        46\n",
      "            SKIRTS       0.87      0.62      0.72        89\n",
      "     SHORTS_CAPRIS       0.96      0.51      0.67       104\n",
      "PULLOVERS_SWEATERS       0.74      0.51      0.60        98\n",
      "\n",
      "          accuracy                           0.75       682\n",
      "         macro avg       0.81      0.60      0.66       682\n",
      "      weighted avg       0.78      0.75      0.73       682\n",
      "\n",
      "------------------------------------------------------------\n",
      "\n",
      "\n"
     ]
    }
   ],
   "source": [
    "clf_pipe = quick_pipeline(best_model, best_model_name, X_train, X_test, y_train, y_test, plot=True, return_type = 'classifier')"
   ]
  },
  {
   "cell_type": "markdown",
   "metadata": {},
   "source": [
    "### Save Best model with Pickle"
   ]
  },
  {
   "cell_type": "code",
   "execution_count": 42,
   "metadata": {
    "jupyter": {
     "source_hidden": true
    }
   },
   "outputs": [],
   "source": [
    "filename = 'Baseline_model2.pkl'\n",
    "with open(filename, 'wb') as file:\n",
    "    pickle.dump(clf_pipe, file)"
   ]
  },
  {
   "cell_type": "markdown",
   "metadata": {},
   "source": [
    "## Model evaluation"
   ]
  },
  {
   "cell_type": "code",
   "execution_count": 43,
   "metadata": {
    "jupyter": {
     "source_hidden": true
    }
   },
   "outputs": [],
   "source": [
    "df_eval = pd.concat([X_test, y_test], axis=1)\n",
    "(df_eval[\"category1\"], \n",
    "df_eval[\"category2\"], \n",
    "df_eval[\"category1_prob\"],\n",
    "df_eval[\"category2_prob\"]) = (quick_pipeline(best_model,\n",
    "                                              best_model_name, X_train, X_test,\n",
    "                                              y_train, y_test, plot=False,\n",
    "                                              return_type ='predictions')\n",
    "                              )\n",
    "\n",
    "\n",
    "\n"
   ]
  },
  {
   "cell_type": "markdown",
   "metadata": {},
   "source": [
    "### Test data shape"
   ]
  },
  {
   "cell_type": "code",
   "execution_count": 94,
   "metadata": {
    "jupyter": {
     "source_hidden": true
    }
   },
   "outputs": [
    {
     "data": {
      "text/plain": [
       "(682, 6)"
      ]
     },
     "execution_count": 94,
     "metadata": {},
     "output_type": "execute_result"
    }
   ],
   "source": [
    "df_eval.shape"
   ]
  },
  {
   "cell_type": "markdown",
   "metadata": {},
   "source": [
    "### Failed predictions"
   ]
  },
  {
   "cell_type": "code",
   "execution_count": 101,
   "metadata": {
    "jupyter": {
     "source_hidden": true
    }
   },
   "outputs": [],
   "source": [
    "guessed_first = (df_eval[\"cc3\"] != df_eval[\"category1\"])\n",
    "guessed_second = (df_eval[\"cc3\"] != df_eval[\"category2\"])\n",
    "                 \n",
    "df_bad_pred = df_eval[guessed_first & guessed_second].sort_values(by=[\"category1_prob\", \"category2_prob\"], ascending=False)"
   ]
  },
  {
   "cell_type": "code",
   "execution_count": 57,
   "metadata": {},
   "outputs": [
    {
     "data": {
      "text/html": [
       "<div>\n",
       "<style scoped>\n",
       "    .dataframe tbody tr th:only-of-type {\n",
       "        vertical-align: middle;\n",
       "    }\n",
       "\n",
       "    .dataframe tbody tr th {\n",
       "        vertical-align: top;\n",
       "    }\n",
       "\n",
       "    .dataframe thead th {\n",
       "        text-align: right;\n",
       "    }\n",
       "</style>\n",
       "<table border=\"1\" class=\"dataframe\">\n",
       "  <thead>\n",
       "    <tr style=\"text-align: right;\">\n",
       "      <th></th>\n",
       "      <th>description_proc</th>\n",
       "      <th>cc3</th>\n",
       "      <th>category1</th>\n",
       "      <th>category2</th>\n",
       "      <th>category1_prob</th>\n",
       "      <th>category2_prob</th>\n",
       "    </tr>\n",
       "  </thead>\n",
       "  <tbody>\n",
       "    <tr>\n",
       "      <th>2343</th>\n",
       "      <td>pretti crop trouser hard worn</td>\n",
       "      <td>SHORTS_CAPRIS</td>\n",
       "      <td>TROUSERS</td>\n",
       "      <td>DRESSES</td>\n",
       "      <td>0.815500</td>\n",
       "      <td>0.074387</td>\n",
       "    </tr>\n",
       "    <tr>\n",
       "      <th>2632</th>\n",
       "      <td>length</td>\n",
       "      <td>TROUSERS</td>\n",
       "      <td>DRESSES</td>\n",
       "      <td>SKIRTS</td>\n",
       "      <td>0.676106</td>\n",
       "      <td>0.128825</td>\n",
       "    </tr>\n",
       "    <tr>\n",
       "      <th>2303</th>\n",
       "      <td>post royal mail everi friday light perfect summer possibl crop jean size trouser</td>\n",
       "      <td>SHORTS_CAPRIS</td>\n",
       "      <td>TROUSERS</td>\n",
       "      <td>DRESSES</td>\n",
       "      <td>0.674353</td>\n",
       "      <td>0.106392</td>\n",
       "    </tr>\n",
       "    <tr>\n",
       "      <th>2485</th>\n",
       "      <td>perfect jean dress skirt pinafor</td>\n",
       "      <td>PULLOVERS_SWEATERS</td>\n",
       "      <td>DRESSES</td>\n",
       "      <td>SKIRTS</td>\n",
       "      <td>0.610235</td>\n",
       "      <td>0.275727</td>\n",
       "    </tr>\n",
       "    <tr>\n",
       "      <th>3048</th>\n",
       "      <td>look size great condit criss cross side short make offer</td>\n",
       "      <td>SKIRTS</td>\n",
       "      <td>SHORTS_CAPRIS</td>\n",
       "      <td>DRESSES</td>\n",
       "      <td>0.599205</td>\n",
       "      <td>0.195060</td>\n",
       "    </tr>\n",
       "    <tr>\n",
       "      <th>1470</th>\n",
       "      <td>tag blush pink print lacey around outer edg accept reason offer</td>\n",
       "      <td>PULLOVERS_SWEATERS</td>\n",
       "      <td>DRESSES</td>\n",
       "      <td>TROUSERS</td>\n",
       "      <td>0.588626</td>\n",
       "      <td>0.135049</td>\n",
       "    </tr>\n",
       "    <tr>\n",
       "      <th>1435</th>\n",
       "      <td>bought holiday didn chanc wear brand without tag button front</td>\n",
       "      <td>SKIRTS</td>\n",
       "      <td>DRESSES</td>\n",
       "      <td>TROUSERS</td>\n",
       "      <td>0.557061</td>\n",
       "      <td>0.152595</td>\n",
       "    </tr>\n",
       "    <tr>\n",
       "      <th>1216</th>\n",
       "      <td>velikost odpovídá</td>\n",
       "      <td>SKIRTS</td>\n",
       "      <td>DRESSES</td>\n",
       "      <td>TROUSERS</td>\n",
       "      <td>0.547976</td>\n",
       "      <td>0.183001</td>\n",
       "    </tr>\n",
       "    <tr>\n",
       "      <th>2660</th>\n",
       "      <td>without tag</td>\n",
       "      <td>SKIRTS</td>\n",
       "      <td>DRESSES</td>\n",
       "      <td>SHORTS_CAPRIS</td>\n",
       "      <td>0.544808</td>\n",
       "      <td>0.178943</td>\n",
       "    </tr>\n",
       "    <tr>\n",
       "      <th>2083</th>\n",
       "      <td>size immacul condit post hour monday friday free postag order discount bundl shop polici found profil smart casual workwear summer spring autumn winter topshop riverisland zara next newlook whistl hobb primark vintag karenmillen reiss debenham pimki bershka mango aso papaya principl peruna missguid missselfridg georg monsoon veromoda</td>\n",
       "      <td>SKIRTS</td>\n",
       "      <td>DRESSES</td>\n",
       "      <td>TROUSERS</td>\n",
       "      <td>0.520033</td>\n",
       "      <td>0.151167</td>\n",
       "    </tr>\n",
       "    <tr>\n",
       "      <th>484</th>\n",
       "      <td>noth wrong great condit stretchi super comfort small zipper back</td>\n",
       "      <td>SKIRTS</td>\n",
       "      <td>DRESSES</td>\n",
       "      <td>TROUSERS</td>\n",
       "      <td>0.520024</td>\n",
       "      <td>0.159862</td>\n",
       "    </tr>\n",
       "    <tr>\n",
       "      <th>1546</th>\n",
       "      <td>size never worn still label fray bottom brought origin price longer sold retail shop</td>\n",
       "      <td>SKIRTS</td>\n",
       "      <td>DRESSES</td>\n",
       "      <td>TROUSERS</td>\n",
       "      <td>0.516920</td>\n",
       "      <td>0.179810</td>\n",
       "    </tr>\n",
       "    <tr>\n",
       "      <th>3448</th>\n",
       "      <td>tinka dydziam</td>\n",
       "      <td>SHORTS_CAPRIS</td>\n",
       "      <td>DRESSES</td>\n",
       "      <td>TROUSERS</td>\n",
       "      <td>0.513123</td>\n",
       "      <td>0.147996</td>\n",
       "    </tr>\n",
       "    <tr>\n",
       "      <th>848</th>\n",
       "      <td>hard worn</td>\n",
       "      <td>SHORTS_CAPRIS</td>\n",
       "      <td>DRESSES</td>\n",
       "      <td>TROUSERS</td>\n",
       "      <td>0.505036</td>\n",
       "      <td>0.219005</td>\n",
       "    </tr>\n",
       "    <tr>\n",
       "      <th>3613</th>\n",
       "      <td>velikost kašmír angorou teplý</td>\n",
       "      <td>PULLOVERS_SWEATERS</td>\n",
       "      <td>DRESSES</td>\n",
       "      <td>TROUSERS</td>\n",
       "      <td>0.494788</td>\n",
       "      <td>0.203928</td>\n",
       "    </tr>\n",
       "    <tr>\n",
       "      <th>3697</th>\n",
       "      <td>nošené dvakrát odpovídají spíše velikosti vlna polyest původní cena euro slevě</td>\n",
       "      <td>SKIRTS</td>\n",
       "      <td>DRESSES</td>\n",
       "      <td>TROUSERS</td>\n",
       "      <td>0.493026</td>\n",
       "      <td>0.217497</td>\n",
       "    </tr>\n",
       "    <tr>\n",
       "      <th>3186</th>\n",
       "      <td>worn great condit</td>\n",
       "      <td>SKIRTS</td>\n",
       "      <td>DRESSES</td>\n",
       "      <td>SHORTS_CAPRIS</td>\n",
       "      <td>0.490533</td>\n",
       "      <td>0.296445</td>\n",
       "    </tr>\n",
       "    <tr>\n",
       "      <th>1247</th>\n",
       "      <td>worn time henc flatter</td>\n",
       "      <td>TROUSERS</td>\n",
       "      <td>DRESSES</td>\n",
       "      <td>SHORTS_CAPRIS</td>\n",
       "      <td>0.486821</td>\n",
       "      <td>0.198448</td>\n",
       "    </tr>\n",
       "    <tr>\n",
       "      <th>1984</th>\n",
       "      <td>stylová sukynka predu bočními kapsami rozparkem foto stav velikost odpovida</td>\n",
       "      <td>SKIRTS</td>\n",
       "      <td>DRESSES</td>\n",
       "      <td>TROUSERS</td>\n",
       "      <td>0.486222</td>\n",
       "      <td>0.184894</td>\n",
       "    </tr>\n",
       "    <tr>\n",
       "      <th>1987</th>\n",
       "      <td>krásné těle nksilanjsm rada voln</td>\n",
       "      <td>SHORTS_CAPRIS</td>\n",
       "      <td>DRESSES</td>\n",
       "      <td>TROUSERS</td>\n",
       "      <td>0.469735</td>\n",
       "      <td>0.171892</td>\n",
       "    </tr>\n",
       "  </tbody>\n",
       "</table>\n",
       "</div>"
      ],
      "text/plain": [
       "                                                                                                                                                                                                                                                                                                                                     description_proc  \\\n",
       "2343                                                                                                                                                                                                                                                                                                                    pretti crop trouser hard worn   \n",
       "2632                                                                                                                                                                                                                                                                                                                                           length   \n",
       "2303                                                                                                                                                                                                                                                                 post royal mail everi friday light perfect summer possibl crop jean size trouser   \n",
       "2485                                                                                                                                                                                                                                                                                                                 perfect jean dress skirt pinafor   \n",
       "3048                                                                                                                                                                                                                                                                                         look size great condit criss cross side short make offer   \n",
       "1470                                                                                                                                                                                                                                                                                  tag blush pink print lacey around outer edg accept reason offer   \n",
       "1435                                                                                                                                                                                                                                                                                    bought holiday didn chanc wear brand without tag button front   \n",
       "1216                                                                                                                                                                                                                                                                                                                                velikost odpovídá   \n",
       "2660                                                                                                                                                                                                                                                                                                                                      without tag   \n",
       "2083  size immacul condit post hour monday friday free postag order discount bundl shop polici found profil smart casual workwear summer spring autumn winter topshop riverisland zara next newlook whistl hobb primark vintag karenmillen reiss debenham pimki bershka mango aso papaya principl peruna missguid missselfridg georg monsoon veromoda   \n",
       "484                                                                                                                                                                                                                                                                                  noth wrong great condit stretchi super comfort small zipper back   \n",
       "1546                                                                                                                                                                                                                                                             size never worn still label fray bottom brought origin price longer sold retail shop   \n",
       "3448                                                                                                                                                                                                                                                                                                                                    tinka dydziam   \n",
       "848                                                                                                                                                                                                                                                                                                                                         hard worn   \n",
       "3613                                                                                                                                                                                                                                                                                                                    velikost kašmír angorou teplý   \n",
       "3697                                                                                                                                                                                                                                                                   nošené dvakrát odpovídají spíše velikosti vlna polyest původní cena euro slevě   \n",
       "3186                                                                                                                                                                                                                                                                                                                                worn great condit   \n",
       "1247                                                                                                                                                                                                                                                                                                                           worn time henc flatter   \n",
       "1984                                                                                                                                                                                                                                                                      stylová sukynka predu bočními kapsami rozparkem foto stav velikost odpovida   \n",
       "1987                                                                                                                                                                                                                                                                                                                 krásné těle nksilanjsm rada voln   \n",
       "\n",
       "                     cc3      category1      category2  category1_prob  \\\n",
       "2343       SHORTS_CAPRIS       TROUSERS        DRESSES        0.815500   \n",
       "2632            TROUSERS        DRESSES         SKIRTS        0.676106   \n",
       "2303       SHORTS_CAPRIS       TROUSERS        DRESSES        0.674353   \n",
       "2485  PULLOVERS_SWEATERS        DRESSES         SKIRTS        0.610235   \n",
       "3048              SKIRTS  SHORTS_CAPRIS        DRESSES        0.599205   \n",
       "1470  PULLOVERS_SWEATERS        DRESSES       TROUSERS        0.588626   \n",
       "1435              SKIRTS        DRESSES       TROUSERS        0.557061   \n",
       "1216              SKIRTS        DRESSES       TROUSERS        0.547976   \n",
       "2660              SKIRTS        DRESSES  SHORTS_CAPRIS        0.544808   \n",
       "2083              SKIRTS        DRESSES       TROUSERS        0.520033   \n",
       "484               SKIRTS        DRESSES       TROUSERS        0.520024   \n",
       "1546              SKIRTS        DRESSES       TROUSERS        0.516920   \n",
       "3448       SHORTS_CAPRIS        DRESSES       TROUSERS        0.513123   \n",
       "848        SHORTS_CAPRIS        DRESSES       TROUSERS        0.505036   \n",
       "3613  PULLOVERS_SWEATERS        DRESSES       TROUSERS        0.494788   \n",
       "3697              SKIRTS        DRESSES       TROUSERS        0.493026   \n",
       "3186              SKIRTS        DRESSES  SHORTS_CAPRIS        0.490533   \n",
       "1247            TROUSERS        DRESSES  SHORTS_CAPRIS        0.486821   \n",
       "1984              SKIRTS        DRESSES       TROUSERS        0.486222   \n",
       "1987       SHORTS_CAPRIS        DRESSES       TROUSERS        0.469735   \n",
       "\n",
       "      category2_prob  \n",
       "2343        0.074387  \n",
       "2632        0.128825  \n",
       "2303        0.106392  \n",
       "2485        0.275727  \n",
       "3048        0.195060  \n",
       "1470        0.135049  \n",
       "1435        0.152595  \n",
       "1216        0.183001  \n",
       "2660        0.178943  \n",
       "2083        0.151167  \n",
       "484         0.159862  \n",
       "1546        0.179810  \n",
       "3448        0.147996  \n",
       "848         0.219005  \n",
       "3613        0.203928  \n",
       "3697        0.217497  \n",
       "3186        0.296445  \n",
       "1247        0.198448  \n",
       "1984        0.184894  \n",
       "1987        0.171892  "
      ]
     },
     "execution_count": 57,
     "metadata": {},
     "output_type": "execute_result"
    }
   ],
   "source": [
    "df_bad_pred.head(20)"
   ]
  },
  {
   "cell_type": "code",
   "execution_count": 77,
   "metadata": {
    "jupyter": {
     "source_hidden": true
    }
   },
   "outputs": [
    {
     "name": "stderr",
     "output_type": "stream",
     "text": [
      "/opt/conda/lib/python3.7/site-packages/seaborn/_decorators.py:43: FutureWarning: Pass the following variables as keyword args: x, y. From version 0.12, the only valid positional argument will be `data`, and passing other arguments without an explicit keyword will result in an error or misinterpretation.\n",
      "  FutureWarning\n",
      "/opt/conda/lib/python3.7/site-packages/seaborn/_decorators.py:43: FutureWarning: Pass the following variables as keyword args: x, y. From version 0.12, the only valid positional argument will be `data`, and passing other arguments without an explicit keyword will result in an error or misinterpretation.\n",
      "  FutureWarning\n"
     ]
    },
    {
     "data": {
      "text/plain": [
       "(0.0, 90.0)"
      ]
     },
     "execution_count": 77,
     "metadata": {},
     "output_type": "execute_result"
    },
    {
     "data": {
      "image/png": "[encoded data removed]",
      "text/plain": [
       "<Figure size 864x504 with 1 Axes>"
      ]
     },
     "metadata": {
      "needs_background": "light"
     },
     "output_type": "display_data"
    }
   ],
   "source": [
    "plt.figure(figsize=(12,7))\n",
    "sns.lineplot(range(len(df_bad_pred[\"category1\"])), df_bad_pred[\"category1_prob\"] * 100, label=\"Propability 1\")\n",
    "sns.lineplot(range(len(df_bad_pred[\"category2\"])), df_bad_pred[\"category2_prob\"] * 100, label=\"Propability 2\")\n",
    "\n",
    "plt.xlabel(\"Number of probabilities\")\n",
    "plt.ylabel(\"Probability in %\")\n",
    "plt.xlim(0, 90)\n",
    "plt.ylim(0, 90)"
   ]
  },
  {
   "cell_type": "markdown",
   "metadata": {},
   "source": [
    "### Predicted with first guess (DRESSES)"
   ]
  },
  {
   "cell_type": "code",
   "execution_count": 99,
   "metadata": {
    "jupyter": {
     "source_hidden": true
    }
   },
   "outputs": [],
   "source": [
    "df_pred_dress = df_eval[(df_eval[\"cc3\"] == df_eval[\"category1\"]) & (df_eval[\"cc3\"] == \"DRESSES\")].sort_values(by=[\"category1_prob\", \"category2_prob\"], ascending=False)"
   ]
  },
  {
   "cell_type": "code",
   "execution_count": 83,
   "metadata": {
    "jupyter": {
     "source_hidden": true
    }
   },
   "outputs": [
    {
     "data": {
      "text/html": [
       "<div>\n",
       "<style scoped>\n",
       "    .dataframe tbody tr th:only-of-type {\n",
       "        vertical-align: middle;\n",
       "    }\n",
       "\n",
       "    .dataframe tbody tr th {\n",
       "        vertical-align: top;\n",
       "    }\n",
       "\n",
       "    .dataframe thead th {\n",
       "        text-align: right;\n",
       "    }\n",
       "</style>\n",
       "<table border=\"1\" class=\"dataframe\">\n",
       "  <thead>\n",
       "    <tr style=\"text-align: right;\">\n",
       "      <th></th>\n",
       "      <th>description_proc</th>\n",
       "      <th>cc3</th>\n",
       "      <th>category1</th>\n",
       "      <th>category2</th>\n",
       "      <th>category1_prob</th>\n",
       "      <th>category2_prob</th>\n",
       "    </tr>\n",
       "  </thead>\n",
       "  <tbody>\n",
       "    <tr>\n",
       "      <th>1791</th>\n",
       "      <td>summer dress</td>\n",
       "      <td>DRESSES</td>\n",
       "      <td>DRESSES</td>\n",
       "      <td>SHORTS_CAPRIS</td>\n",
       "      <td>0.999637</td>\n",
       "      <td>0.000117</td>\n",
       "    </tr>\n",
       "    <tr>\n",
       "      <th>2653</th>\n",
       "      <td>dress good condit perfect summer dress dress print summerdress size</td>\n",
       "      <td>DRESSES</td>\n",
       "      <td>DRESSES</td>\n",
       "      <td>SHORTS_CAPRIS</td>\n",
       "      <td>0.999234</td>\n",
       "      <td>0.000208</td>\n",
       "    </tr>\n",
       "    <tr>\n",
       "      <th>321</th>\n",
       "      <td>sleev dress</td>\n",
       "      <td>DRESSES</td>\n",
       "      <td>DRESSES</td>\n",
       "      <td>PULLOVERS_SWEATERS</td>\n",
       "      <td>0.998033</td>\n",
       "      <td>0.001704</td>\n",
       "    </tr>\n",
       "    <tr>\n",
       "      <th>3337</th>\n",
       "      <td>summer dress worn size</td>\n",
       "      <td>DRESSES</td>\n",
       "      <td>DRESSES</td>\n",
       "      <td>SHORTS_CAPRIS</td>\n",
       "      <td>0.997872</td>\n",
       "      <td>0.000872</td>\n",
       "    </tr>\n",
       "    <tr>\n",
       "      <th>3476</th>\n",
       "      <td>size small summer dress</td>\n",
       "      <td>DRESSES</td>\n",
       "      <td>DRESSES</td>\n",
       "      <td>SHORTS_CAPRIS</td>\n",
       "      <td>0.995479</td>\n",
       "      <td>0.001375</td>\n",
       "    </tr>\n",
       "  </tbody>\n",
       "</table>\n",
       "</div>"
      ],
      "text/plain": [
       "                                                         description_proc  \\\n",
       "1791                                                         summer dress   \n",
       "2653  dress good condit perfect summer dress dress print summerdress size   \n",
       "321                                                           sleev dress   \n",
       "3337                                               summer dress worn size   \n",
       "3476                                              size small summer dress   \n",
       "\n",
       "          cc3 category1           category2  category1_prob  category2_prob  \n",
       "1791  DRESSES   DRESSES       SHORTS_CAPRIS        0.999637        0.000117  \n",
       "2653  DRESSES   DRESSES       SHORTS_CAPRIS        0.999234        0.000208  \n",
       "321   DRESSES   DRESSES  PULLOVERS_SWEATERS        0.998033        0.001704  \n",
       "3337  DRESSES   DRESSES       SHORTS_CAPRIS        0.997872        0.000872  \n",
       "3476  DRESSES   DRESSES       SHORTS_CAPRIS        0.995479        0.001375  "
      ]
     },
     "execution_count": 83,
     "metadata": {},
     "output_type": "execute_result"
    }
   ],
   "source": [
    "df_pred_dress.head()"
   ]
  },
  {
   "cell_type": "code",
   "execution_count": 87,
   "metadata": {
    "jupyter": {
     "source_hidden": true
    }
   },
   "outputs": [
    {
     "name": "stderr",
     "output_type": "stream",
     "text": [
      "/opt/conda/lib/python3.7/site-packages/seaborn/_decorators.py:43: FutureWarning: Pass the following variables as keyword args: x, y. From version 0.12, the only valid positional argument will be `data`, and passing other arguments without an explicit keyword will result in an error or misinterpretation.\n",
      "  FutureWarning\n",
      "/opt/conda/lib/python3.7/site-packages/seaborn/_decorators.py:43: FutureWarning: Pass the following variables as keyword args: x, y. From version 0.12, the only valid positional argument will be `data`, and passing other arguments without an explicit keyword will result in an error or misinterpretation.\n",
      "  FutureWarning\n"
     ]
    },
    {
     "data": {
      "text/plain": [
       "(0.0, 100.0)"
      ]
     },
     "execution_count": 87,
     "metadata": {},
     "output_type": "execute_result"
    },
    {
     "data": {
      "image/png": "[encoded data removed]",
      "text/plain": [
       "<Figure size 864x504 with 1 Axes>"
      ]
     },
     "metadata": {
      "needs_background": "light"
     },
     "output_type": "display_data"
    }
   ],
   "source": [
    "plt.figure(figsize=(12,7))\n",
    "sns.lineplot(range(len(df_pred_dress[\"category1\"])), df_pred_dress[\"category1_prob\"] * 100, label=\"Propability 1\")\n",
    "sns.lineplot(range(len(df_pred_dress[\"category2\"])), df_pred_dress[\"category2_prob\"] * 100, label=\"Propability 2\")\n",
    "\n",
    "plt.xlabel(\"Number of probabilities\")\n",
    "plt.ylabel(\"Probability in %\")\n",
    "plt.xlim(0, 350)\n",
    "plt.ylim(0, 100)"
   ]
  },
  {
   "cell_type": "markdown",
   "metadata": {},
   "source": [
    "### Predicted with first guess (TROUSERS)"
   ]
  },
  {
   "cell_type": "code",
   "execution_count": 102,
   "metadata": {
    "jupyter": {
     "source_hidden": true
    }
   },
   "outputs": [],
   "source": [
    "df_pred_trous = df_eval[(df_eval[\"cc3\"] == df_eval[\"category1\"]) & (df_eval[\"cc3\"] == \"TROUSERS\")].sort_values(by=[\"category1_prob\", \"category2_prob\"], ascending=False).head()"
   ]
  },
  {
   "cell_type": "code",
   "execution_count": 89,
   "metadata": {
    "jupyter": {
     "source_hidden": true
    }
   },
   "outputs": [
    {
     "data": {
      "text/html": [
       "<div>\n",
       "<style scoped>\n",
       "    .dataframe tbody tr th:only-of-type {\n",
       "        vertical-align: middle;\n",
       "    }\n",
       "\n",
       "    .dataframe tbody tr th {\n",
       "        vertical-align: top;\n",
       "    }\n",
       "\n",
       "    .dataframe thead th {\n",
       "        text-align: right;\n",
       "    }\n",
       "</style>\n",
       "<table border=\"1\" class=\"dataframe\">\n",
       "  <thead>\n",
       "    <tr style=\"text-align: right;\">\n",
       "      <th></th>\n",
       "      <th>description_proc</th>\n",
       "      <th>cc3</th>\n",
       "      <th>category1</th>\n",
       "      <th>category2</th>\n",
       "      <th>category1_prob</th>\n",
       "      <th>category2_prob</th>\n",
       "    </tr>\n",
       "  </thead>\n",
       "  <tbody>\n",
       "    <tr>\n",
       "      <th>2889</th>\n",
       "      <td>trouser comfi</td>\n",
       "      <td>TROUSERS</td>\n",
       "      <td>TROUSERS</td>\n",
       "      <td>DRESSES</td>\n",
       "      <td>0.891964</td>\n",
       "      <td>0.035921</td>\n",
       "    </tr>\n",
       "    <tr>\n",
       "      <th>1344</th>\n",
       "      <td>smart navi white stripe trouser size generous like pleat front side pocket wide leg great summer weight work trouser</td>\n",
       "      <td>TROUSERS</td>\n",
       "      <td>TROUSERS</td>\n",
       "      <td>DRESSES</td>\n",
       "      <td>0.872219</td>\n",
       "      <td>0.046940</td>\n",
       "    </tr>\n",
       "    <tr>\n",
       "      <th>3672</th>\n",
       "      <td>lipsi leather trouser shini trouser metal blue go size brand</td>\n",
       "      <td>TROUSERS</td>\n",
       "      <td>TROUSERS</td>\n",
       "      <td>DRESSES</td>\n",
       "      <td>0.854710</td>\n",
       "      <td>0.063340</td>\n",
       "    </tr>\n",
       "    <tr>\n",
       "      <th>1845</th>\n",
       "      <td>checker trouser worn primark size</td>\n",
       "      <td>TROUSERS</td>\n",
       "      <td>TROUSERS</td>\n",
       "      <td>DRESSES</td>\n",
       "      <td>0.808764</td>\n",
       "      <td>0.070632</td>\n",
       "    </tr>\n",
       "    <tr>\n",
       "      <th>1373</th>\n",
       "      <td>hollist trouser size high waist stretchi waist worn coupl time</td>\n",
       "      <td>TROUSERS</td>\n",
       "      <td>TROUSERS</td>\n",
       "      <td>SHORTS_CAPRIS</td>\n",
       "      <td>0.781398</td>\n",
       "      <td>0.108706</td>\n",
       "    </tr>\n",
       "  </tbody>\n",
       "</table>\n",
       "</div>"
      ],
      "text/plain": [
       "                                                                                                          description_proc  \\\n",
       "2889                                                                                                         trouser comfi   \n",
       "1344  smart navi white stripe trouser size generous like pleat front side pocket wide leg great summer weight work trouser   \n",
       "3672                                                          lipsi leather trouser shini trouser metal blue go size brand   \n",
       "1845                                                                                     checker trouser worn primark size   \n",
       "1373                                                        hollist trouser size high waist stretchi waist worn coupl time   \n",
       "\n",
       "           cc3 category1      category2  category1_prob  category2_prob  \n",
       "2889  TROUSERS  TROUSERS        DRESSES        0.891964        0.035921  \n",
       "1344  TROUSERS  TROUSERS        DRESSES        0.872219        0.046940  \n",
       "3672  TROUSERS  TROUSERS        DRESSES        0.854710        0.063340  \n",
       "1845  TROUSERS  TROUSERS        DRESSES        0.808764        0.070632  \n",
       "1373  TROUSERS  TROUSERS  SHORTS_CAPRIS        0.781398        0.108706  "
      ]
     },
     "execution_count": 89,
     "metadata": {},
     "output_type": "execute_result"
    }
   ],
   "source": [
    "df_pred_trous.head()"
   ]
  },
  {
   "cell_type": "code",
   "execution_count": 93,
   "metadata": {
    "jupyter": {
     "source_hidden": true
    }
   },
   "outputs": [
    {
     "name": "stderr",
     "output_type": "stream",
     "text": [
      "/opt/conda/lib/python3.7/site-packages/seaborn/_decorators.py:43: FutureWarning: Pass the following variables as keyword args: x, y. From version 0.12, the only valid positional argument will be `data`, and passing other arguments without an explicit keyword will result in an error or misinterpretation.\n",
      "  FutureWarning\n",
      "/opt/conda/lib/python3.7/site-packages/seaborn/_decorators.py:43: FutureWarning: Pass the following variables as keyword args: x, y. From version 0.12, the only valid positional argument will be `data`, and passing other arguments without an explicit keyword will result in an error or misinterpretation.\n",
      "  FutureWarning\n"
     ]
    },
    {
     "data": {
      "text/plain": [
       "(0.0, 100.0)"
      ]
     },
     "execution_count": 93,
     "metadata": {},
     "output_type": "execute_result"
    },
    {
     "data": {
      "image/png": "[encoded data removed]",
      "text/plain": [
       "<Figure size 864x504 with 1 Axes>"
      ]
     },
     "metadata": {
      "needs_background": "light"
     },
     "output_type": "display_data"
    }
   ],
   "source": [
    "plt.figure(figsize=(12,7))\n",
    "sns.lineplot(range(len(df_pred_trous[\"category1\"])), df_pred_trous[\"category1_prob\"] * 100, label=\"Propability 1\")\n",
    "sns.lineplot(range(len(df_pred_trous[\"category2\"])), df_pred_trous[\"category2_prob\"] * 100, label=\"Propability 2\")\n",
    "\n",
    "plt.xlabel(\"Number of probabilities\")\n",
    "plt.ylabel(\"Probability in %\")\n",
    "plt.xlim(0, 5)\n",
    "plt.ylim(0, 100)"
   ]
  },
  {
   "cell_type": "markdown",
   "metadata": {},
   "source": [
    "#### TROUSERS bad predictions"
   ]
  },
  {
   "cell_type": "code",
   "execution_count": 112,
   "metadata": {},
   "outputs": [
    {
     "data": {
      "text/html": [
       "<div>\n",
       "<style scoped>\n",
       "    .dataframe tbody tr th:only-of-type {\n",
       "        vertical-align: middle;\n",
       "    }\n",
       "\n",
       "    .dataframe tbody tr th {\n",
       "        vertical-align: top;\n",
       "    }\n",
       "\n",
       "    .dataframe thead th {\n",
       "        text-align: right;\n",
       "    }\n",
       "</style>\n",
       "<table border=\"1\" class=\"dataframe\">\n",
       "  <thead>\n",
       "    <tr style=\"text-align: right;\">\n",
       "      <th></th>\n",
       "      <th>description_proc</th>\n",
       "      <th>cc3</th>\n",
       "      <th>category1</th>\n",
       "      <th>category2</th>\n",
       "      <th>category1_prob</th>\n",
       "      <th>category2_prob</th>\n",
       "    </tr>\n",
       "  </thead>\n",
       "  <tbody>\n",
       "    <tr>\n",
       "      <th>2632</th>\n",
       "      <td>length</td>\n",
       "      <td>TROUSERS</td>\n",
       "      <td>DRESSES</td>\n",
       "      <td>SKIRTS</td>\n",
       "      <td>0.676106</td>\n",
       "      <td>0.128825</td>\n",
       "    </tr>\n",
       "    <tr>\n",
       "      <th>1247</th>\n",
       "      <td>worn time henc flatter</td>\n",
       "      <td>TROUSERS</td>\n",
       "      <td>DRESSES</td>\n",
       "      <td>SHORTS_CAPRIS</td>\n",
       "      <td>0.486821</td>\n",
       "      <td>0.198448</td>\n",
       "    </tr>\n",
       "    <tr>\n",
       "      <th>1865</th>\n",
       "      <td>size good condit stretchi comfi materi flatter</td>\n",
       "      <td>TROUSERS</td>\n",
       "      <td>DRESSES</td>\n",
       "      <td>SHORTS_CAPRIS</td>\n",
       "      <td>0.428715</td>\n",
       "      <td>0.198625</td>\n",
       "    </tr>\n",
       "    <tr>\n",
       "      <th>2206</th>\n",
       "      <td>worn great condit size</td>\n",
       "      <td>TROUSERS</td>\n",
       "      <td>DRESSES</td>\n",
       "      <td>SHORTS_CAPRIS</td>\n",
       "      <td>0.393881</td>\n",
       "      <td>0.363191</td>\n",
       "    </tr>\n",
       "    <tr>\n",
       "      <th>1598</th>\n",
       "      <td>bought alter state worn size small elast waist band cute flatter</td>\n",
       "      <td>TROUSERS</td>\n",
       "      <td>DRESSES</td>\n",
       "      <td>SHORTS_CAPRIS</td>\n",
       "      <td>0.390054</td>\n",
       "      <td>0.266784</td>\n",
       "    </tr>\n",
       "  </tbody>\n",
       "</table>\n",
       "</div>"
      ],
      "text/plain": [
       "                                                      description_proc  \\\n",
       "2632                                                            length   \n",
       "1247                                            worn time henc flatter   \n",
       "1865                    size good condit stretchi comfi materi flatter   \n",
       "2206                                            worn great condit size   \n",
       "1598  bought alter state worn size small elast waist band cute flatter   \n",
       "\n",
       "           cc3 category1      category2  category1_prob  category2_prob  \n",
       "2632  TROUSERS   DRESSES         SKIRTS        0.676106        0.128825  \n",
       "1247  TROUSERS   DRESSES  SHORTS_CAPRIS        0.486821        0.198448  \n",
       "1865  TROUSERS   DRESSES  SHORTS_CAPRIS        0.428715        0.198625  \n",
       "2206  TROUSERS   DRESSES  SHORTS_CAPRIS        0.393881        0.363191  \n",
       "1598  TROUSERS   DRESSES  SHORTS_CAPRIS        0.390054        0.266784  "
      ]
     },
     "execution_count": 112,
     "metadata": {},
     "output_type": "execute_result"
    }
   ],
   "source": [
    "(\n",
    "    df_eval[(df_eval[\"cc3\"] == \"TROUSERS\") & ((df_eval[\"cc3\"] != df_eval[\"category1\"]) & (df_eval[\"cc3\"] != df_eval[\"category2\"]))]\n",
    "             .sort_values(by=[\"category1_prob\", \"category2_prob\"], ascending=False).head()\n",
    ")"
   ]
  },
  {
   "cell_type": "code",
   "execution_count": null,
   "metadata": {},
   "outputs": [],
   "source": [
    "pd.set_option('max_colwidth', 400)\n",
    "df_pred_trous = df_eval[(df_eval[\"cc3\"] == df_eval[\"category1\"]) & (df_eval[\"cc3\"] == \"TROUSERS\")].sort_values(by=[\"category1_prob\", \"category2_prob\"], ascending=False).head()"
   ]
  },
  {
   "cell_type": "markdown",
   "metadata": {},
   "source": [
    "### Predicted with first guess (SKIRTS)"
   ]
  },
  {
   "cell_type": "code",
   "execution_count": 103,
   "metadata": {
    "jupyter": {
     "source_hidden": true
    }
   },
   "outputs": [],
   "source": [
    "df_pred_skirt = df_eval[(df_eval[\"cc3\"] == df_eval[\"category1\"]) & (df_eval[\"cc3\"] == \"SKIRTS\")].sort_values(by=[\"category1_prob\", \"category2_prob\"], ascending=False).head()"
   ]
  },
  {
   "cell_type": "code",
   "execution_count": 97,
   "metadata": {
    "jupyter": {
     "source_hidden": true
    }
   },
   "outputs": [
    {
     "data": {
      "text/html": [
       "<div>\n",
       "<style scoped>\n",
       "    .dataframe tbody tr th:only-of-type {\n",
       "        vertical-align: middle;\n",
       "    }\n",
       "\n",
       "    .dataframe tbody tr th {\n",
       "        vertical-align: top;\n",
       "    }\n",
       "\n",
       "    .dataframe thead th {\n",
       "        text-align: right;\n",
       "    }\n",
       "</style>\n",
       "<table border=\"1\" class=\"dataframe\">\n",
       "  <thead>\n",
       "    <tr style=\"text-align: right;\">\n",
       "      <th></th>\n",
       "      <th>description_proc</th>\n",
       "      <th>cc3</th>\n",
       "      <th>category1</th>\n",
       "      <th>category2</th>\n",
       "      <th>category1_prob</th>\n",
       "      <th>category2_prob</th>\n",
       "    </tr>\n",
       "  </thead>\n",
       "  <tbody>\n",
       "    <tr>\n",
       "      <th>3530</th>\n",
       "      <td>midi denim skirt</td>\n",
       "      <td>SKIRTS</td>\n",
       "      <td>SKIRTS</td>\n",
       "      <td>DRESSES</td>\n",
       "      <td>0.971537</td>\n",
       "      <td>0.016451</td>\n",
       "    </tr>\n",
       "    <tr>\n",
       "      <th>2619</th>\n",
       "      <td>cute skirt leopard skirt high front back black skirt line chiffon materi elast waist great condit forev size small</td>\n",
       "      <td>SKIRTS</td>\n",
       "      <td>SKIRTS</td>\n",
       "      <td>DRESSES</td>\n",
       "      <td>0.964174</td>\n",
       "      <td>0.017509</td>\n",
       "    </tr>\n",
       "    <tr>\n",
       "      <th>733</th>\n",
       "      <td>black white skirt</td>\n",
       "      <td>SKIRTS</td>\n",
       "      <td>SKIRTS</td>\n",
       "      <td>DRESSES</td>\n",
       "      <td>0.961577</td>\n",
       "      <td>0.016492</td>\n",
       "    </tr>\n",
       "    <tr>\n",
       "      <th>3106</th>\n",
       "      <td>comfi denim skirt</td>\n",
       "      <td>SKIRTS</td>\n",
       "      <td>SKIRTS</td>\n",
       "      <td>SHORTS_CAPRIS</td>\n",
       "      <td>0.938938</td>\n",
       "      <td>0.027378</td>\n",
       "    </tr>\n",
       "    <tr>\n",
       "      <th>3283</th>\n",
       "      <td>high waist light blue denim mini skirt condit size</td>\n",
       "      <td>SKIRTS</td>\n",
       "      <td>SKIRTS</td>\n",
       "      <td>SHORTS_CAPRIS</td>\n",
       "      <td>0.884448</td>\n",
       "      <td>0.071581</td>\n",
       "    </tr>\n",
       "  </tbody>\n",
       "</table>\n",
       "</div>"
      ],
      "text/plain": [
       "                                                                                                        description_proc  \\\n",
       "3530                                                                                                    midi denim skirt   \n",
       "2619  cute skirt leopard skirt high front back black skirt line chiffon materi elast waist great condit forev size small   \n",
       "733                                                                                                    black white skirt   \n",
       "3106                                                                                                   comfi denim skirt   \n",
       "3283                                                                  high waist light blue denim mini skirt condit size   \n",
       "\n",
       "         cc3 category1      category2  category1_prob  category2_prob  \n",
       "3530  SKIRTS    SKIRTS        DRESSES        0.971537        0.016451  \n",
       "2619  SKIRTS    SKIRTS        DRESSES        0.964174        0.017509  \n",
       "733   SKIRTS    SKIRTS        DRESSES        0.961577        0.016492  \n",
       "3106  SKIRTS    SKIRTS  SHORTS_CAPRIS        0.938938        0.027378  \n",
       "3283  SKIRTS    SKIRTS  SHORTS_CAPRIS        0.884448        0.071581  "
      ]
     },
     "execution_count": 97,
     "metadata": {},
     "output_type": "execute_result"
    }
   ],
   "source": [
    "df_pred_skirt.head()"
   ]
  },
  {
   "cell_type": "code",
   "execution_count": 113,
   "metadata": {
    "jupyter": {
     "source_hidden": true
    }
   },
   "outputs": [
    {
     "name": "stderr",
     "output_type": "stream",
     "text": [
      "/opt/conda/lib/python3.7/site-packages/seaborn/_decorators.py:43: FutureWarning: Pass the following variables as keyword args: x, y. From version 0.12, the only valid positional argument will be `data`, and passing other arguments without an explicit keyword will result in an error or misinterpretation.\n",
      "  FutureWarning\n",
      "/opt/conda/lib/python3.7/site-packages/seaborn/_decorators.py:43: FutureWarning: Pass the following variables as keyword args: x, y. From version 0.12, the only valid positional argument will be `data`, and passing other arguments without an explicit keyword will result in an error or misinterpretation.\n",
      "  FutureWarning\n"
     ]
    },
    {
     "data": {
      "text/plain": [
       "(0.0, 100.0)"
      ]
     },
     "execution_count": 113,
     "metadata": {},
     "output_type": "execute_result"
    },
    {
     "data": {
      "image/png": "[encoded data removed]",
      "text/plain": [
       "<Figure size 864x504 with 1 Axes>"
      ]
     },
     "metadata": {
      "needs_background": "light"
     },
     "output_type": "display_data"
    }
   ],
   "source": [
    "plt.figure(figsize=(12,7))\n",
    "sns.lineplot(range(len(df_pred_skirt[\"category1\"])), df_pred_skirt[\"category1_prob\"] * 100, label=\"Propability 1\")\n",
    "sns.lineplot(range(len(df_pred_skirt[\"category2\"])), df_pred_skirt[\"category2_prob\"] * 100, label=\"Propability 2\")\n",
    "\n",
    "plt.xlabel(\"Number of probabilities\")\n",
    "plt.ylabel(\"Probability in %\")\n",
    "plt.xlim(0, 5)\n",
    "plt.ylim(0, 100) "
   ]
  },
  {
   "cell_type": "markdown",
   "metadata": {},
   "source": [
    "## Running baseline Model on test data"
   ]
  },
  {
   "cell_type": "code",
   "execution_count": 48,
   "metadata": {},
   "outputs": [
    {
     "data": {
      "text/plain": [
       "(946, 4)"
      ]
     },
     "execution_count": 48,
     "metadata": {},
     "output_type": "execute_result"
    }
   ],
   "source": [
    "dataframe = pd.read_parquet(os.path.join(data_root, \"test.parquet\"))\n",
    "dataframe.shape"
   ]
  },
  {
   "cell_type": "code",
   "execution_count": 49,
   "metadata": {},
   "outputs": [
    {
     "name": "stdout",
     "output_type": "stream",
     "text": [
      "preprocess : 1.120 s\n",
      "inference  : 0.017 s\n",
      "saving     : 0.023 s\n",
      "total time: 1.169 s\n"
     ]
    }
   ],
   "source": [
    "t = time.time()\n",
    "clf = Classifier_pipe(dataframe, 'description', 'Baseline_model2.pkl')\n",
    "clf.predict_top2()\n",
    "print(f'total time: {time.time() - t:.3f} s')"
   ]
  },
  {
   "cell_type": "markdown",
   "metadata": {},
   "source": [
    "### Lets look at predicted labels"
   ]
  },
  {
   "cell_type": "code",
   "execution_count": 53,
   "metadata": {},
   "outputs": [
    {
     "data": {
      "text/html": [
       "<div>\n",
       "<style scoped>\n",
       "    .dataframe tbody tr th:only-of-type {\n",
       "        vertical-align: middle;\n",
       "    }\n",
       "\n",
       "    .dataframe tbody tr th {\n",
       "        vertical-align: top;\n",
       "    }\n",
       "\n",
       "    .dataframe thead th {\n",
       "        text-align: right;\n",
       "    }\n",
       "</style>\n",
       "<table border=\"1\" class=\"dataframe\">\n",
       "  <thead>\n",
       "    <tr style=\"text-align: right;\">\n",
       "      <th></th>\n",
       "      <th>uuid</th>\n",
       "      <th>description</th>\n",
       "      <th>color</th>\n",
       "      <th>price</th>\n",
       "      <th>category1</th>\n",
       "      <th>category2</th>\n",
       "    </tr>\n",
       "  </thead>\n",
       "  <tbody>\n",
       "    <tr>\n",
       "      <th>0</th>\n",
       "      <td>00_04fec_bcBubyJW2q8o6JPFntUn4Q9W</td>\n",
       "      <td>In great condition! No holes, stains or pilling.  \\n\\nSize 26.  \\n\\nStyle is Skinny Toothpick.  \\n\\nMade of 99% cotton, 1% spandex.  \\n\\nSmoke free home.  All sales are final.\\n\\n#jcrew\\n#corduroy\\n#skinnyjeans</td>\n",
       "      <td>GREY</td>\n",
       "      <td>11.4000</td>\n",
       "      <td>TROUSERS</td>\n",
       "      <td>DRESSES</td>\n",
       "    </tr>\n",
       "    <tr>\n",
       "      <th>1</th>\n",
       "      <td>00_050a7_o9o8NLTcXJ7Hqs2t31xEGoG4</td>\n",
       "      <td>šiek tiek praires užtrauktukas ,reiktų šiek tiek\\nsuimt su siūlu . ne auksteniai nei 170cm \\nPrašau neprašykite išmatavimų nuo pažasties iki klyno ir pan. Visi dydžiai yra standartiniai ,jei neparašyta kitaip. Nemainau.</td>\n",
       "      <td>WHITE</td>\n",
       "      <td>5.0000</td>\n",
       "      <td>DRESSES</td>\n",
       "      <td>TROUSERS</td>\n",
       "    </tr>\n",
       "    <tr>\n",
       "      <th>2</th>\n",
       "      <td>00_060f0_zLp2b8moCnfWX614ZAu8HfsS</td>\n",
       "      <td>This square neckline dress is so beautiful! It’s sheer and  printed. It’s a pretty turquoise blue color. The back ties. It’s asymmetrical and ruched at one side. The brand is Cabi. Size small.</td>\n",
       "      <td>BLUE</td>\n",
       "      <td>26.6000</td>\n",
       "      <td>DRESSES</td>\n",
       "      <td>SKIRTS</td>\n",
       "    </tr>\n",
       "    <tr>\n",
       "      <th>3</th>\n",
       "      <td>00_05d49_74iqVSd8yami4Szoy5tBjkGF</td>\n",
       "      <td>Maxi sukně ze zajímavého materiálu, tak trošku mění barvu na světle. Vysoký pas. Super objem, skoro princeznovská:)\\n\\n#dlouhasukne #maxisukne #sukne #zajímavý #zajímavá #zajimavabarva #material #lesklý  #lesklá #extravagantni</td>\n",
       "      <td>PINK</td>\n",
       "      <td>4.6680</td>\n",
       "      <td>SKIRTS</td>\n",
       "      <td>DRESSES</td>\n",
       "    </tr>\n",
       "    <tr>\n",
       "      <th>4</th>\n",
       "      <td>00_06301_twfaovSeAmiJoFPWgAE9b99G</td>\n",
       "      <td>Labai graži suknelė, yra maža dėmelė,kuri tikrak išsiplaus</td>\n",
       "      <td>BLACK</td>\n",
       "      <td>5.0000</td>\n",
       "      <td>DRESSES</td>\n",
       "      <td>SKIRTS</td>\n",
       "    </tr>\n",
       "    <tr>\n",
       "      <th>5</th>\n",
       "      <td>0657b_ekzpmzqL7oBv5oXYEG2k97TM</td>\n",
       "      <td>příjemná pružná viskoza, vhodné na běžné nošení, jako těhotenské, nebo i kojící, délka 100cm hrudník 2x58+ cm\\nZNAČKA: NEXT\\nVELIKOST: 46</td>\n",
       "      <td>WHITE</td>\n",
       "      <td>9.6861</td>\n",
       "      <td>DRESSES</td>\n",
       "      <td>TROUSERS</td>\n",
       "    </tr>\n",
       "    <tr>\n",
       "      <th>6</th>\n",
       "      <td>06a1d_nZKKntEeKSQ8Kv45ymvw4zFB</td>\n",
       "      <td>Purple Papaya Denim Jeggings\\nWorn few times\\nIn great condition</td>\n",
       "      <td>PURPLE</td>\n",
       "      <td>1.8000</td>\n",
       "      <td>SHORTS_CAPRIS</td>\n",
       "      <td>DRESSES</td>\n",
       "    </tr>\n",
       "    <tr>\n",
       "      <th>7</th>\n",
       "      <td>00_04e38_dCq1Da2WcC9pprqP2AzR4pcw</td>\n",
       "      <td>Labai graži, nauja suknelė eu 36 d. Uk 8d. Su blizgučiu. 92% polesteris, 4% elastanas</td>\n",
       "      <td>BODY</td>\n",
       "      <td>12.0000</td>\n",
       "      <td>DRESSES</td>\n",
       "      <td>SKIRTS</td>\n",
       "    </tr>\n",
       "    <tr>\n",
       "      <th>8</th>\n",
       "      <td>00_06664_ZAsYsk3pPhFsKoDFmwNUvACW</td>\n",
       "      <td>Letní teplákové pruhované šaty H&amp;M, velikost XS, velice příjemné s postranními kapsami</td>\n",
       "      <td>GREY</td>\n",
       "      <td>3.8900</td>\n",
       "      <td>DRESSES</td>\n",
       "      <td>TROUSERS</td>\n",
       "    </tr>\n",
       "    <tr>\n",
       "      <th>9</th>\n",
       "      <td>00_0685a_iDRZjgbPPBKhzKr9WHRi5DJk</td>\n",
       "      <td>Krátké pruhované bavlněné šatky, super stav - nošené, ale bez vad. Hodně elastické, délka nad kolena. Neunosím.</td>\n",
       "      <td>BODY</td>\n",
       "      <td>3.8900</td>\n",
       "      <td>DRESSES</td>\n",
       "      <td>TROUSERS</td>\n",
       "    </tr>\n",
       "  </tbody>\n",
       "</table>\n",
       "</div>"
      ],
      "text/plain": [
       "                                uuid  \\\n",
       "0  00_04fec_bcBubyJW2q8o6JPFntUn4Q9W   \n",
       "1  00_050a7_o9o8NLTcXJ7Hqs2t31xEGoG4   \n",
       "2  00_060f0_zLp2b8moCnfWX614ZAu8HfsS   \n",
       "3  00_05d49_74iqVSd8yami4Szoy5tBjkGF   \n",
       "4  00_06301_twfaovSeAmiJoFPWgAE9b99G   \n",
       "5     0657b_ekzpmzqL7oBv5oXYEG2k97TM   \n",
       "6     06a1d_nZKKntEeKSQ8Kv45ymvw4zFB   \n",
       "7  00_04e38_dCq1Da2WcC9pprqP2AzR4pcw   \n",
       "8  00_06664_ZAsYsk3pPhFsKoDFmwNUvACW   \n",
       "9  00_0685a_iDRZjgbPPBKhzKr9WHRi5DJk   \n",
       "\n",
       "                                                                                                                                                                                                                           description  \\\n",
       "0                   In great condition! No holes, stains or pilling.  \\n\\nSize 26.  \\n\\nStyle is Skinny Toothpick.  \\n\\nMade of 99% cotton, 1% spandex.  \\n\\nSmoke free home.  All sales are final.\\n\\n#jcrew\\n#corduroy\\n#skinnyjeans   \n",
       "1         šiek tiek praires užtrauktukas ,reiktų šiek tiek\\nsuimt su siūlu . ne auksteniai nei 170cm \\nPrašau neprašykite išmatavimų nuo pažasties iki klyno ir pan. Visi dydžiai yra standartiniai ,jei neparašyta kitaip. Nemainau.    \n",
       "2                                    This square neckline dress is so beautiful! It’s sheer and  printed. It’s a pretty turquoise blue color. The back ties. It’s asymmetrical and ruched at one side. The brand is Cabi. Size small.    \n",
       "3  Maxi sukně ze zajímavého materiálu, tak trošku mění barvu na světle. Vysoký pas. Super objem, skoro princeznovská:)\\n\\n#dlouhasukne #maxisukne #sukne #zajímavý #zajímavá #zajimavabarva #material #lesklý  #lesklá #extravagantni    \n",
       "4                                                                                                                                                                           Labai graži suknelė, yra maža dėmelė,kuri tikrak išsiplaus   \n",
       "5                                                                                            příjemná pružná viskoza, vhodné na běžné nošení, jako těhotenské, nebo i kojící, délka 100cm hrudník 2x58+ cm\\nZNAČKA: NEXT\\nVELIKOST: 46   \n",
       "6                                                                                                                                                                    Purple Papaya Denim Jeggings\\nWorn few times\\nIn great condition    \n",
       "7                                                                                                                                                Labai graži, nauja suknelė eu 36 d. Uk 8d. Su blizgučiu. 92% polesteris, 4% elastanas   \n",
       "8                                                                                                                                               Letní teplákové pruhované šaty H&M, velikost XS, velice příjemné s postranními kapsami   \n",
       "9                                                                                                                      Krátké pruhované bavlněné šatky, super stav - nošené, ale bez vad. Hodně elastické, délka nad kolena. Neunosím.   \n",
       "\n",
       "    color    price      category1 category2  \n",
       "0    GREY  11.4000       TROUSERS   DRESSES  \n",
       "1   WHITE   5.0000        DRESSES  TROUSERS  \n",
       "2    BLUE  26.6000        DRESSES    SKIRTS  \n",
       "3    PINK   4.6680         SKIRTS   DRESSES  \n",
       "4   BLACK   5.0000        DRESSES    SKIRTS  \n",
       "5   WHITE   9.6861        DRESSES  TROUSERS  \n",
       "6  PURPLE   1.8000  SHORTS_CAPRIS   DRESSES  \n",
       "7    BODY  12.0000        DRESSES    SKIRTS  \n",
       "8    GREY   3.8900        DRESSES  TROUSERS  \n",
       "9    BODY   3.8900        DRESSES  TROUSERS  "
      ]
     },
     "execution_count": 53,
     "metadata": {},
     "output_type": "execute_result"
    }
   ],
   "source": [
    "df_temp = pd.read_parquet('predictions.parquet')\n",
    "df_temp.head(10)"
   ]
  },
  {
   "cell_type": "code",
   "execution_count": null,
   "metadata": {},
   "outputs": [],
   "source": []
  }
 ],
 "metadata": {
  "kernelspec": {
   "display_name": "Python 3",
   "language": "python",
   "name": "python3"
  },
  "language_info": {
   "codemirror_mode": {
    "name": "ipython",
    "version": 3
   },
   "file_extension": ".py",
   "mimetype": "text/x-python",
   "name": "python",
   "nbconvert_exporter": "python",
   "pygments_lexer": "ipython3",
   "version": "3.7.7"
  }
 },
 "nbformat": 4,
 "nbformat_minor": 4
}
